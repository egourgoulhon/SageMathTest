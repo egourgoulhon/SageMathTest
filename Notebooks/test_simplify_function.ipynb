{
 "cells": [
  {
   "cell_type": "markdown",
   "id": "c99a516d",
   "metadata": {},
   "source": [
    "From https://groups.google.com/g/sage-support/c/TuKUUjUDDwI"
   ]
  },
  {
   "cell_type": "code",
   "execution_count": 1,
   "id": "1d6b8653",
   "metadata": {},
   "outputs": [
    {
     "data": {
      "text/plain": [
       "'SageMath version 10.2.rc4, Release Date: 2023-11-17'"
      ]
     },
     "execution_count": 1,
     "metadata": {},
     "output_type": "execute_result"
    }
   ],
   "source": [
    "version()"
   ]
  },
  {
   "cell_type": "code",
   "execution_count": 2,
   "id": "d37bc7e4",
   "metadata": {},
   "outputs": [],
   "source": [
    "%display latex"
   ]
  },
  {
   "cell_type": "code",
   "execution_count": 3,
   "id": "f5b5a793",
   "metadata": {},
   "outputs": [
    {
     "data": {
      "text/html": [
       "<html>\\(\\displaystyle \\left(N,(M, J)\\right)\\)</html>"
      ],
      "text/latex": [
       "$\\displaystyle \\left(N,(M, J)\\right)$"
      ],
      "text/plain": [
       "Chart (N, (M, J))"
      ]
     },
     "execution_count": 3,
     "metadata": {},
     "output_type": "execute_result"
    }
   ],
   "source": [
    "N = Manifold(2,'N')\n",
    "X.<M,J> = N.chart(r'M:(0,oo) J:(-oo,oo)')\n",
    "X "
   ]
  },
  {
   "cell_type": "code",
   "execution_count": 4,
   "id": "995da350",
   "metadata": {},
   "outputs": [
    {
     "data": {
      "text/html": [
       "<html>\\(\\displaystyle M :\\ \\left( 0 , +\\infty \\right) ;\\quad J :\\ \\left( -\\infty, +\\infty \\right)\\)</html>"
      ],
      "text/latex": [
       "$\\displaystyle M :\\ \\left( 0 , +\\infty \\right) ;\\quad J :\\ \\left( -\\infty, +\\infty \\right)$"
      ],
      "text/plain": [
       "M: (0, +oo); J: (-oo, +oo)"
      ]
     },
     "execution_count": 4,
     "metadata": {},
     "output_type": "execute_result"
    }
   ],
   "source": [
    "X.coord_range()"
   ]
  },
  {
   "cell_type": "code",
   "execution_count": 5,
   "id": "5c45e633",
   "metadata": {},
   "outputs": [],
   "source": [
    "#N.set_calculus_method('sympy')"
   ]
  },
  {
   "cell_type": "code",
   "execution_count": 6,
   "id": "7ddda706",
   "metadata": {},
   "outputs": [],
   "source": [
    "from sage.manifolds.utilities import simplify_sqrt_real\n",
    "\n",
    "def simplif(expr):\n",
    "    if expr.number_of_operands() == 0:\n",
    "        return expr\n",
    "    expr = expr.factor()\n",
    "#    expr = expr.simplify_factorial()\n",
    "#    expr = expr.simplify_trig()\n",
    "#    expr = expr.simplify_rational()\n",
    "    expr = simplify_sqrt_real(expr)\n",
    "#    expr = simplify_abs_trig(expr)\n",
    "#    expr = expr.canonicalize_radical()\n",
    "#    expr = expr.simplify_log('one')\n",
    "#    expr = expr.simplify_rational()\n",
    "#    expr = expr.simplify_trig()\n",
    "    expr = expr.factor()\n",
    "    return expr"
   ]
  },
  {
   "cell_type": "code",
   "execution_count": 7,
   "id": "dc8e2552",
   "metadata": {},
   "outputs": [],
   "source": [
    "#N.set_simplify_function(simplif)\n",
    "#N.set_simplify_function(lambda x: x.simplify_full())\n",
    "#N.set_simplify_function(lambda x: x.factor())\n",
    "N.set_simplify_function(factor)  # work well"
   ]
  },
  {
   "cell_type": "code",
   "execution_count": 8,
   "id": "a97cb68f",
   "metadata": {},
   "outputs": [
    {
     "data": {
      "text/html": [
       "<html>\\(\\displaystyle g = -\\frac{4 \\, {\\left(M^{4} - 3 \\, J^{2} + \\frac{{\\left(M^{4} - J^{2}\\right)}^{\\frac{3}{2}}}{M^{2}}\\right)} M^{2}}{{\\left(M^{4} - J^{2}\\right)}^{\\frac{3}{2}}} \\mathrm{d} M\\otimes \\mathrm{d} M -\\frac{4 \\, J M^{3}}{{\\left(M^{4} - J^{2}\\right)}^{\\frac{3}{2}}} \\mathrm{d} M\\otimes \\mathrm{d} J -\\frac{4 \\, J M^{3}}{{\\left(M^{4} - J^{2}\\right)}^{\\frac{3}{2}}} \\mathrm{d} J\\otimes \\mathrm{d} M + \\frac{2 \\, M^{4}}{{\\left(M^{4} - J^{2}\\right)}^{\\frac{3}{2}}} \\mathrm{d} J\\otimes \\mathrm{d} J\\)</html>"
      ],
      "text/latex": [
       "$\\displaystyle g = -\\frac{4 \\, {\\left(M^{4} - 3 \\, J^{2} + \\frac{{\\left(M^{4} - J^{2}\\right)}^{\\frac{3}{2}}}{M^{2}}\\right)} M^{2}}{{\\left(M^{4} - J^{2}\\right)}^{\\frac{3}{2}}} \\mathrm{d} M\\otimes \\mathrm{d} M -\\frac{4 \\, J M^{3}}{{\\left(M^{4} - J^{2}\\right)}^{\\frac{3}{2}}} \\mathrm{d} M\\otimes \\mathrm{d} J -\\frac{4 \\, J M^{3}}{{\\left(M^{4} - J^{2}\\right)}^{\\frac{3}{2}}} \\mathrm{d} J\\otimes \\mathrm{d} M + \\frac{2 \\, M^{4}}{{\\left(M^{4} - J^{2}\\right)}^{\\frac{3}{2}}} \\mathrm{d} J\\otimes \\mathrm{d} J$"
      ],
      "text/plain": [
       "g = -4*(M^4 - 3*J^2 + (M^4 - J^2)^(3/2)/M^2)*M^2/(M^4 - J^2)^(3/2) dM⊗dM - 4*J*M^3/(M^4 - J^2)^(3/2) dM⊗dJ - 4*J*M^3/(M^4 - J^2)^(3/2) dJ⊗dM + 2*M^4/(M^4 - J^2)^(3/2) dJ⊗dJ"
      ]
     },
     "execution_count": 8,
     "metadata": {},
     "output_type": "execute_result"
    }
   ],
   "source": [
    "dM = X.coframe()[0]\n",
    "dJ = X.coframe()[1]\n",
    "g0 = 2/(1-J^2/M^4)^(3/2)*(-2*((1-J^2/M^4)^(3/2) +1-3*J^2/M^4)*dM*dM - 2*J/M^3*dM*dJ - 2*J/M^3*dJ*dM + dJ*dJ/M^2)\n",
    " \n",
    "g = N.metric('g')\n",
    "g[:] = g0[:]\n",
    "g.display()"
   ]
  },
  {
   "cell_type": "code",
   "execution_count": 9,
   "id": "b060c959",
   "metadata": {},
   "outputs": [
    {
     "data": {
      "text/html": [
       "<html>\\(\\displaystyle g^{-1} = \\left( -\\frac{\\sqrt{M^{4} - J^{2}}}{4 \\, {\\left(M^{2} + \\sqrt{M^{4} - J^{2}}\\right)}} \\right) \\frac{\\partial}{\\partial M }\\otimes \\frac{\\partial}{\\partial M } + \\left( -\\frac{\\sqrt{M^{4} - J^{2}} J}{2 \\, {\\left(M^{2} + \\sqrt{M^{4} - J^{2}}\\right)} M} \\right) \\frac{\\partial}{\\partial M }\\otimes \\frac{\\partial}{\\partial J } + \\left( -\\frac{\\sqrt{M^{4} - J^{2}} J}{2 \\, {\\left(M^{2} + \\sqrt{M^{4} - J^{2}}\\right)} M} \\right) \\frac{\\partial}{\\partial J }\\otimes \\frac{\\partial}{\\partial M } + \\left( \\frac{{\\left(M^{6} - 3 \\, J^{2} M^{2} + {\\left(M^{4} - J^{2}\\right)}^{\\frac{3}{2}}\\right)} \\sqrt{M^{4} - J^{2}}}{2 \\, {\\left(M^{2} + \\sqrt{M^{4} - J^{2}}\\right)} M^{4}} \\right) \\frac{\\partial}{\\partial J }\\otimes \\frac{\\partial}{\\partial J }\\)</html>"
      ],
      "text/latex": [
       "$\\displaystyle g^{-1} = \\left( -\\frac{\\sqrt{M^{4} - J^{2}}}{4 \\, {\\left(M^{2} + \\sqrt{M^{4} - J^{2}}\\right)}} \\right) \\frac{\\partial}{\\partial M }\\otimes \\frac{\\partial}{\\partial M } + \\left( -\\frac{\\sqrt{M^{4} - J^{2}} J}{2 \\, {\\left(M^{2} + \\sqrt{M^{4} - J^{2}}\\right)} M} \\right) \\frac{\\partial}{\\partial M }\\otimes \\frac{\\partial}{\\partial J } + \\left( -\\frac{\\sqrt{M^{4} - J^{2}} J}{2 \\, {\\left(M^{2} + \\sqrt{M^{4} - J^{2}}\\right)} M} \\right) \\frac{\\partial}{\\partial J }\\otimes \\frac{\\partial}{\\partial M } + \\left( \\frac{{\\left(M^{6} - 3 \\, J^{2} M^{2} + {\\left(M^{4} - J^{2}\\right)}^{\\frac{3}{2}}\\right)} \\sqrt{M^{4} - J^{2}}}{2 \\, {\\left(M^{2} + \\sqrt{M^{4} - J^{2}}\\right)} M^{4}} \\right) \\frac{\\partial}{\\partial J }\\otimes \\frac{\\partial}{\\partial J }$"
      ],
      "text/plain": [
       "inv_g = -1/4*sqrt(M^4 - J^2)/(M^2 + sqrt(M^4 - J^2)) ∂/∂M⊗∂/∂M - 1/2*sqrt(M^4 - J^2)*J/((M^2 + sqrt(M^4 - J^2))*M) ∂/∂M⊗∂/∂J - 1/2*sqrt(M^4 - J^2)*J/((M^2 + sqrt(M^4 - J^2))*M) ∂/∂J⊗∂/∂M + 1/2*(M^6 - 3*J^2*M^2 + (M^4 - J^2)^(3/2))*sqrt(M^4 - J^2)/((M^2 + sqrt(M^4 - J^2))*M^4) ∂/∂J⊗∂/∂J"
      ]
     },
     "execution_count": 9,
     "metadata": {},
     "output_type": "execute_result"
    }
   ],
   "source": [
    "g.inverse().display()"
   ]
  },
  {
   "cell_type": "code",
   "execution_count": 10,
   "id": "20f0840e",
   "metadata": {},
   "outputs": [
    {
     "data": {
      "text/html": [
       "<html>\\(\\displaystyle \\begin{array}{lcl} \\Gamma_{ \\phantom{\\, M} \\, M \\, J }^{ \\, M \\phantom{\\, M} \\phantom{\\, J} } & = & -\\frac{J M^{2}}{2 \\, {\\left(M^{2} + J\\right)} {\\left(M^{2} - J\\right)} {\\left(M^{2} + \\sqrt{M^{4} - J^{2}}\\right)}} \\\\ \\Gamma_{ \\phantom{\\, M} \\, J \\, J }^{ \\, M \\phantom{\\, J} \\phantom{\\, J} } & = & \\frac{M^{3}}{2 \\, {\\left(M^{2} + J\\right)} {\\left(M^{2} - J\\right)} {\\left(M^{2} + \\sqrt{M^{4} - J^{2}}\\right)}} \\\\ \\Gamma_{ \\phantom{\\, J} \\, M \\, M }^{ \\, J \\phantom{\\, M} \\phantom{\\, M} } & = & \\frac{3 \\, {\\left(M^{4} + J^{2}\\right)} J}{{\\left(M^{2} + J\\right)} {\\left(M^{2} - J\\right)} M^{2}} \\\\ \\Gamma_{ \\phantom{\\, J} \\, M \\, J }^{ \\, J \\phantom{\\, M} \\phantom{\\, J} } & = & -\\frac{M^{6} + \\sqrt{M^{4} - J^{2}} M^{4} + 3 \\, J^{2} M^{2} + 2 \\, \\sqrt{M^{4} - J^{2}} J^{2}}{{\\left(M^{2} + J\\right)} {\\left(M^{2} - J\\right)} {\\left(M^{2} + \\sqrt{M^{4} - J^{2}}\\right)} M} \\\\ \\Gamma_{ \\phantom{\\, J} \\, J \\, J }^{ \\, J \\phantom{\\, J} \\phantom{\\, J} } & = & \\frac{{\\left(5 \\, M^{2} + 3 \\, \\sqrt{M^{4} - J^{2}}\\right)} J}{2 \\, {\\left(M^{2} + J\\right)} {\\left(M^{2} - J\\right)} {\\left(M^{2} + \\sqrt{M^{4} - J^{2}}\\right)}} \\end{array}\\)</html>"
      ],
      "text/latex": [
       "$\\displaystyle \\begin{array}{lcl} \\Gamma_{ \\phantom{\\, M} \\, M \\, J }^{ \\, M \\phantom{\\, M} \\phantom{\\, J} } & = & -\\frac{J M^{2}}{2 \\, {\\left(M^{2} + J\\right)} {\\left(M^{2} - J\\right)} {\\left(M^{2} + \\sqrt{M^{4} - J^{2}}\\right)}} \\\\ \\Gamma_{ \\phantom{\\, M} \\, J \\, J }^{ \\, M \\phantom{\\, J} \\phantom{\\, J} } & = & \\frac{M^{3}}{2 \\, {\\left(M^{2} + J\\right)} {\\left(M^{2} - J\\right)} {\\left(M^{2} + \\sqrt{M^{4} - J^{2}}\\right)}} \\\\ \\Gamma_{ \\phantom{\\, J} \\, M \\, M }^{ \\, J \\phantom{\\, M} \\phantom{\\, M} } & = & \\frac{3 \\, {\\left(M^{4} + J^{2}\\right)} J}{{\\left(M^{2} + J\\right)} {\\left(M^{2} - J\\right)} M^{2}} \\\\ \\Gamma_{ \\phantom{\\, J} \\, M \\, J }^{ \\, J \\phantom{\\, M} \\phantom{\\, J} } & = & -\\frac{M^{6} + \\sqrt{M^{4} - J^{2}} M^{4} + 3 \\, J^{2} M^{2} + 2 \\, \\sqrt{M^{4} - J^{2}} J^{2}}{{\\left(M^{2} + J\\right)} {\\left(M^{2} - J\\right)} {\\left(M^{2} + \\sqrt{M^{4} - J^{2}}\\right)} M} \\\\ \\Gamma_{ \\phantom{\\, J} \\, J \\, J }^{ \\, J \\phantom{\\, J} \\phantom{\\, J} } & = & \\frac{{\\left(5 \\, M^{2} + 3 \\, \\sqrt{M^{4} - J^{2}}\\right)} J}{2 \\, {\\left(M^{2} + J\\right)} {\\left(M^{2} - J\\right)} {\\left(M^{2} + \\sqrt{M^{4} - J^{2}}\\right)}} \\end{array}$"
      ],
      "text/plain": [
       "Gam^M_MJ = -1/2*J*M^2/((M^2 + J)*(M^2 - J)*(M^2 + sqrt(M^4 - J^2))) \n",
       "Gam^M_JJ = 1/2*M^3/((M^2 + J)*(M^2 - J)*(M^2 + sqrt(M^4 - J^2))) \n",
       "Gam^J_MM = 3*(M^4 + J^2)*J/((M^2 + J)*(M^2 - J)*M^2) \n",
       "Gam^J_MJ = -(M^6 + sqrt(M^4 - J^2)*M^4 + 3*J^2*M^2 + 2*sqrt(M^4 - J^2)*J^2)/((M^2 + J)*(M^2 - J)*(M^2 + sqrt(M^4 - J^2))*M) \n",
       "Gam^J_JJ = 1/2*(5*M^2 + 3*sqrt(M^4 - J^2))*J/((M^2 + J)*(M^2 - J)*(M^2 + sqrt(M^4 - J^2))) "
      ]
     },
     "execution_count": 10,
     "metadata": {},
     "output_type": "execute_result"
    }
   ],
   "source": [
    "g.christoffel_symbols_display()"
   ]
  },
  {
   "cell_type": "code",
   "execution_count": 11,
   "id": "aceb3305",
   "metadata": {},
   "outputs": [
    {
     "data": {
      "text/html": [
       "<html>\\(\\displaystyle h = -\\frac{4 \\, {\\left({\\left(-\\frac{J^{2}}{M^{4}} + 1\\right)}^{\\frac{3}{2}} - \\frac{3 \\, J^{2}}{M^{4}} + 1\\right)}}{{\\left(-\\frac{J^{2}}{M^{4}} + 1\\right)}^{\\frac{3}{2}}} \\mathrm{d} M\\otimes \\mathrm{d} M -\\frac{4 \\, J}{M^{3} {\\left(-\\frac{J^{2}}{M^{4}} + 1\\right)}^{\\frac{3}{2}}} \\mathrm{d} M\\otimes \\mathrm{d} J -\\frac{4 \\, J}{M^{3} {\\left(-\\frac{J^{2}}{M^{4}} + 1\\right)}^{\\frac{3}{2}}} \\mathrm{d} J\\otimes \\mathrm{d} M + \\frac{2}{M^{2} {\\left(-\\frac{J^{2}}{M^{4}} + 1\\right)}^{\\frac{3}{2}}} \\mathrm{d} J\\otimes \\mathrm{d} J\\)</html>"
      ],
      "text/latex": [
       "$\\displaystyle h = -\\frac{4 \\, {\\left({\\left(-\\frac{J^{2}}{M^{4}} + 1\\right)}^{\\frac{3}{2}} - \\frac{3 \\, J^{2}}{M^{4}} + 1\\right)}}{{\\left(-\\frac{J^{2}}{M^{4}} + 1\\right)}^{\\frac{3}{2}}} \\mathrm{d} M\\otimes \\mathrm{d} M -\\frac{4 \\, J}{M^{3} {\\left(-\\frac{J^{2}}{M^{4}} + 1\\right)}^{\\frac{3}{2}}} \\mathrm{d} M\\otimes \\mathrm{d} J -\\frac{4 \\, J}{M^{3} {\\left(-\\frac{J^{2}}{M^{4}} + 1\\right)}^{\\frac{3}{2}}} \\mathrm{d} J\\otimes \\mathrm{d} M + \\frac{2}{M^{2} {\\left(-\\frac{J^{2}}{M^{4}} + 1\\right)}^{\\frac{3}{2}}} \\mathrm{d} J\\otimes \\mathrm{d} J$"
      ],
      "text/plain": [
       "h = -4*((-J^2/M^4 + 1)^(3/2) - 3*J^2/M^4 + 1)/(-J^2/M^4 + 1)^(3/2) dM⊗dM - 4*J/(M^3*(-J^2/M^4 + 1)^(3/2)) dM⊗dJ - 4*J/(M^3*(-J^2/M^4 + 1)^(3/2)) dJ⊗dM + 2/(M^2*(-J^2/M^4 + 1)^(3/2)) dJ⊗dJ"
      ]
     },
     "execution_count": 11,
     "metadata": {},
     "output_type": "execute_result"
    }
   ],
   "source": [
    "h = N.metric('h')\n",
    "h[0,0] = 2/(1-J^2/M^4)^(3/2)*(-2*((1-J^2/M^4)^(3/2) +1-3*J^2/M^4))\n",
    "h[0,1] = 2/(1-J^2/M^4)^(3/2)*(-2*J/M^3)\n",
    "h[1,1] = 2/(1-J^2/M^4)^(3/2)*(1/M^2)\n",
    "h.display()"
   ]
  },
  {
   "cell_type": "code",
   "execution_count": 12,
   "id": "5134ea0b",
   "metadata": {},
   "outputs": [
    {
     "data": {
      "text/html": [
       "<html>\\(\\displaystyle \\mathrm{True}\\)</html>"
      ],
      "text/latex": [
       "$\\displaystyle \\mathrm{True}$"
      ],
      "text/plain": [
       "True"
      ]
     },
     "execution_count": 12,
     "metadata": {},
     "output_type": "execute_result"
    }
   ],
   "source": [
    "h == g"
   ]
  },
  {
   "cell_type": "code",
   "execution_count": 13,
   "id": "b74efd10",
   "metadata": {},
   "outputs": [
    {
     "data": {
      "text/html": [
       "<html>\\(\\displaystyle h-g = -\\frac{4 \\, {\\left(\\sqrt{M^{4} - J^{2}} M^{4} - \\sqrt{M^{4} - J^{2}} J^{2} - {\\left(M^{4} - J^{2}\\right)}^{\\frac{3}{2}}\\right)} {\\left(M^{4} - 3 \\, J^{2}\\right)} M^{2}}{{\\left(M^{4} - J^{2}\\right)}^{3}} \\mathrm{d} M\\otimes \\mathrm{d} M -\\frac{4 \\, {\\left(\\sqrt{M^{4} - J^{2}} M^{4} - \\sqrt{M^{4} - J^{2}} J^{2} - {\\left(M^{4} - J^{2}\\right)}^{\\frac{3}{2}}\\right)} J M^{3}}{{\\left(M^{4} - J^{2}\\right)}^{3}} \\mathrm{d} M\\otimes \\mathrm{d} J -\\frac{4 \\, {\\left(\\sqrt{M^{4} - J^{2}} M^{4} - \\sqrt{M^{4} - J^{2}} J^{2} - {\\left(M^{4} - J^{2}\\right)}^{\\frac{3}{2}}\\right)} J M^{3}}{{\\left(M^{4} - J^{2}\\right)}^{3}} \\mathrm{d} J\\otimes \\mathrm{d} M + \\frac{2 \\, {\\left(\\sqrt{M^{4} - J^{2}} M^{4} - \\sqrt{M^{4} - J^{2}} J^{2} - {\\left(M^{4} - J^{2}\\right)}^{\\frac{3}{2}}\\right)} M^{4}}{{\\left(M^{4} - J^{2}\\right)}^{3}} \\mathrm{d} J\\otimes \\mathrm{d} J\\)</html>"
      ],
      "text/latex": [
       "$\\displaystyle h-g = -\\frac{4 \\, {\\left(\\sqrt{M^{4} - J^{2}} M^{4} - \\sqrt{M^{4} - J^{2}} J^{2} - {\\left(M^{4} - J^{2}\\right)}^{\\frac{3}{2}}\\right)} {\\left(M^{4} - 3 \\, J^{2}\\right)} M^{2}}{{\\left(M^{4} - J^{2}\\right)}^{3}} \\mathrm{d} M\\otimes \\mathrm{d} M -\\frac{4 \\, {\\left(\\sqrt{M^{4} - J^{2}} M^{4} - \\sqrt{M^{4} - J^{2}} J^{2} - {\\left(M^{4} - J^{2}\\right)}^{\\frac{3}{2}}\\right)} J M^{3}}{{\\left(M^{4} - J^{2}\\right)}^{3}} \\mathrm{d} M\\otimes \\mathrm{d} J -\\frac{4 \\, {\\left(\\sqrt{M^{4} - J^{2}} M^{4} - \\sqrt{M^{4} - J^{2}} J^{2} - {\\left(M^{4} - J^{2}\\right)}^{\\frac{3}{2}}\\right)} J M^{3}}{{\\left(M^{4} - J^{2}\\right)}^{3}} \\mathrm{d} J\\otimes \\mathrm{d} M + \\frac{2 \\, {\\left(\\sqrt{M^{4} - J^{2}} M^{4} - \\sqrt{M^{4} - J^{2}} J^{2} - {\\left(M^{4} - J^{2}\\right)}^{\\frac{3}{2}}\\right)} M^{4}}{{\\left(M^{4} - J^{2}\\right)}^{3}} \\mathrm{d} J\\otimes \\mathrm{d} J$"
      ],
      "text/plain": [
       "h-g = -4*(sqrt(M^4 - J^2)*M^4 - sqrt(M^4 - J^2)*J^2 - (M^4 - J^2)^(3/2))*(M^4 - 3*J^2)*M^2/(M^4 - J^2)^3 dM⊗dM - 4*(sqrt(M^4 - J^2)*M^4 - sqrt(M^4 - J^2)*J^2 - (M^4 - J^2)^(3/2))*J*M^3/(M^4 - J^2)^3 dM⊗dJ - 4*(sqrt(M^4 - J^2)*M^4 - sqrt(M^4 - J^2)*J^2 - (M^4 - J^2)^(3/2))*J*M^3/(M^4 - J^2)^3 dJ⊗dM + 2*(sqrt(M^4 - J^2)*M^4 - sqrt(M^4 - J^2)*J^2 - (M^4 - J^2)^(3/2))*M^4/(M^4 - J^2)^3 dJ⊗dJ"
      ]
     },
     "execution_count": 13,
     "metadata": {},
     "output_type": "execute_result"
    }
   ],
   "source": [
    "(h - g).display()"
   ]
  },
  {
   "cell_type": "code",
   "execution_count": 14,
   "id": "c944867f",
   "metadata": {},
   "outputs": [
    {
     "data": {
      "text/html": [
       "<html>\\(\\displaystyle h^{-1} = -\\frac{{\\left(M^{4} - J^{2}\\right)}^{\\frac{3}{2}}}{4 \\, {\\left(M^{4} - J^{2} + \\frac{{\\left(M^{4} - J^{2}\\right)}^{\\frac{3}{2}}}{M^{2}}\\right)} M^{2}} \\frac{\\partial}{\\partial M }\\otimes \\frac{\\partial}{\\partial M } -\\frac{{\\left(M^{4} - J^{2}\\right)}^{\\frac{3}{2}} J}{2 \\, {\\left(M^{4} - J^{2} + \\frac{{\\left(M^{4} - J^{2}\\right)}^{\\frac{3}{2}}}{M^{2}}\\right)} M^{3}} \\frac{\\partial}{\\partial M }\\otimes \\frac{\\partial}{\\partial J } -\\frac{{\\left(M^{4} - J^{2}\\right)}^{\\frac{3}{2}} J}{2 \\, {\\left(M^{4} - J^{2} + \\frac{{\\left(M^{4} - J^{2}\\right)}^{\\frac{3}{2}}}{M^{2}}\\right)} M^{3}} \\frac{\\partial}{\\partial J }\\otimes \\frac{\\partial}{\\partial M } + \\frac{{\\left(M^{4} - J^{2}\\right)}^{\\frac{3}{2}} {\\left(M^{4} - 3 \\, J^{2} + \\frac{{\\left(M^{4} - J^{2}\\right)}^{\\frac{3}{2}}}{M^{2}}\\right)}}{2 \\, {\\left(M^{4} - J^{2} + \\frac{{\\left(M^{4} - J^{2}\\right)}^{\\frac{3}{2}}}{M^{2}}\\right)} M^{4}} \\frac{\\partial}{\\partial J }\\otimes \\frac{\\partial}{\\partial J }\\)</html>"
      ],
      "text/latex": [
       "$\\displaystyle h^{-1} = -\\frac{{\\left(M^{4} - J^{2}\\right)}^{\\frac{3}{2}}}{4 \\, {\\left(M^{4} - J^{2} + \\frac{{\\left(M^{4} - J^{2}\\right)}^{\\frac{3}{2}}}{M^{2}}\\right)} M^{2}} \\frac{\\partial}{\\partial M }\\otimes \\frac{\\partial}{\\partial M } -\\frac{{\\left(M^{4} - J^{2}\\right)}^{\\frac{3}{2}} J}{2 \\, {\\left(M^{4} - J^{2} + \\frac{{\\left(M^{4} - J^{2}\\right)}^{\\frac{3}{2}}}{M^{2}}\\right)} M^{3}} \\frac{\\partial}{\\partial M }\\otimes \\frac{\\partial}{\\partial J } -\\frac{{\\left(M^{4} - J^{2}\\right)}^{\\frac{3}{2}} J}{2 \\, {\\left(M^{4} - J^{2} + \\frac{{\\left(M^{4} - J^{2}\\right)}^{\\frac{3}{2}}}{M^{2}}\\right)} M^{3}} \\frac{\\partial}{\\partial J }\\otimes \\frac{\\partial}{\\partial M } + \\frac{{\\left(M^{4} - J^{2}\\right)}^{\\frac{3}{2}} {\\left(M^{4} - 3 \\, J^{2} + \\frac{{\\left(M^{4} - J^{2}\\right)}^{\\frac{3}{2}}}{M^{2}}\\right)}}{2 \\, {\\left(M^{4} - J^{2} + \\frac{{\\left(M^{4} - J^{2}\\right)}^{\\frac{3}{2}}}{M^{2}}\\right)} M^{4}} \\frac{\\partial}{\\partial J }\\otimes \\frac{\\partial}{\\partial J }$"
      ],
      "text/plain": [
       "inv_h = -1/4*(M^4 - J^2)^(3/2)/((M^4 - J^2 + (M^4 - J^2)^(3/2)/M^2)*M^2) ∂/∂M⊗∂/∂M - 1/2*(M^4 - J^2)^(3/2)*J/((M^4 - J^2 + (M^4 - J^2)^(3/2)/M^2)*M^3) ∂/∂M⊗∂/∂J - 1/2*(M^4 - J^2)^(3/2)*J/((M^4 - J^2 + (M^4 - J^2)^(3/2)/M^2)*M^3) ∂/∂J⊗∂/∂M + 1/2*(M^4 - J^2)^(3/2)*(M^4 - 3*J^2 + (M^4 - J^2)^(3/2)/M^2)/((M^4 - J^2 + (M^4 - J^2)^(3/2)/M^2)*M^4) ∂/∂J⊗∂/∂J"
      ]
     },
     "execution_count": 14,
     "metadata": {},
     "output_type": "execute_result"
    }
   ],
   "source": [
    "h.inverse().display()"
   ]
  },
  {
   "cell_type": "code",
   "execution_count": 15,
   "id": "a0923885",
   "metadata": {},
   "outputs": [
    {
     "data": {
      "text/html": [
       "<html>\\(\\displaystyle \\begin{array}{lcl} \\Gamma_{ \\phantom{\\, M} \\, M \\, J }^{ \\, M \\phantom{\\, M} \\phantom{\\, J} } & = & -\\frac{J M^{2}}{2 \\, {\\left(M^{2} + J\\right)} {\\left(M^{2} - J\\right)} {\\left(M^{2} + \\sqrt{M^{4} - J^{2}}\\right)}} \\\\ \\Gamma_{ \\phantom{\\, M} \\, J \\, J }^{ \\, M \\phantom{\\, J} \\phantom{\\, J} } & = & \\frac{M^{3}}{2 \\, {\\left(M^{2} + J\\right)} {\\left(M^{2} - J\\right)} {\\left(M^{2} + \\sqrt{M^{4} - J^{2}}\\right)}} \\\\ \\Gamma_{ \\phantom{\\, J} \\, M \\, M }^{ \\, J \\phantom{\\, M} \\phantom{\\, M} } & = & \\frac{3 \\, {\\left(M^{4} + J^{2}\\right)} J}{{\\left(M^{2} + J\\right)} {\\left(M^{2} - J\\right)} M^{2}} \\\\ \\Gamma_{ \\phantom{\\, J} \\, M \\, J }^{ \\, J \\phantom{\\, M} \\phantom{\\, J} } & = & -\\frac{M^{6} + \\sqrt{M^{4} - J^{2}} M^{4} + 3 \\, J^{2} M^{2} + 2 \\, \\sqrt{M^{4} - J^{2}} J^{2}}{{\\left(M^{2} + J\\right)} {\\left(M^{2} - J\\right)} {\\left(M^{2} + \\sqrt{M^{4} - J^{2}}\\right)} M} \\\\ \\Gamma_{ \\phantom{\\, J} \\, J \\, J }^{ \\, J \\phantom{\\, J} \\phantom{\\, J} } & = & \\frac{{\\left(5 \\, M^{2} + 3 \\, \\sqrt{M^{4} - J^{2}}\\right)} J}{2 \\, {\\left(M^{2} + J\\right)} {\\left(M^{2} - J\\right)} {\\left(M^{2} + \\sqrt{M^{4} - J^{2}}\\right)}} \\end{array}\\)</html>"
      ],
      "text/latex": [
       "$\\displaystyle \\begin{array}{lcl} \\Gamma_{ \\phantom{\\, M} \\, M \\, J }^{ \\, M \\phantom{\\, M} \\phantom{\\, J} } & = & -\\frac{J M^{2}}{2 \\, {\\left(M^{2} + J\\right)} {\\left(M^{2} - J\\right)} {\\left(M^{2} + \\sqrt{M^{4} - J^{2}}\\right)}} \\\\ \\Gamma_{ \\phantom{\\, M} \\, J \\, J }^{ \\, M \\phantom{\\, J} \\phantom{\\, J} } & = & \\frac{M^{3}}{2 \\, {\\left(M^{2} + J\\right)} {\\left(M^{2} - J\\right)} {\\left(M^{2} + \\sqrt{M^{4} - J^{2}}\\right)}} \\\\ \\Gamma_{ \\phantom{\\, J} \\, M \\, M }^{ \\, J \\phantom{\\, M} \\phantom{\\, M} } & = & \\frac{3 \\, {\\left(M^{4} + J^{2}\\right)} J}{{\\left(M^{2} + J\\right)} {\\left(M^{2} - J\\right)} M^{2}} \\\\ \\Gamma_{ \\phantom{\\, J} \\, M \\, J }^{ \\, J \\phantom{\\, M} \\phantom{\\, J} } & = & -\\frac{M^{6} + \\sqrt{M^{4} - J^{2}} M^{4} + 3 \\, J^{2} M^{2} + 2 \\, \\sqrt{M^{4} - J^{2}} J^{2}}{{\\left(M^{2} + J\\right)} {\\left(M^{2} - J\\right)} {\\left(M^{2} + \\sqrt{M^{4} - J^{2}}\\right)} M} \\\\ \\Gamma_{ \\phantom{\\, J} \\, J \\, J }^{ \\, J \\phantom{\\, J} \\phantom{\\, J} } & = & \\frac{{\\left(5 \\, M^{2} + 3 \\, \\sqrt{M^{4} - J^{2}}\\right)} J}{2 \\, {\\left(M^{2} + J\\right)} {\\left(M^{2} - J\\right)} {\\left(M^{2} + \\sqrt{M^{4} - J^{2}}\\right)}} \\end{array}$"
      ],
      "text/plain": [
       "Gam^M_MJ = -1/2*J*M^2/((M^2 + J)*(M^2 - J)*(M^2 + sqrt(M^4 - J^2))) \n",
       "Gam^M_JJ = 1/2*M^3/((M^2 + J)*(M^2 - J)*(M^2 + sqrt(M^4 - J^2))) \n",
       "Gam^J_MM = 3*(M^4 + J^2)*J/((M^2 + J)*(M^2 - J)*M^2) \n",
       "Gam^J_MJ = -(M^6 + sqrt(M^4 - J^2)*M^4 + 3*J^2*M^2 + 2*sqrt(M^4 - J^2)*J^2)/((M^2 + J)*(M^2 - J)*(M^2 + sqrt(M^4 - J^2))*M) \n",
       "Gam^J_JJ = 1/2*(5*M^2 + 3*sqrt(M^4 - J^2))*J/((M^2 + J)*(M^2 - J)*(M^2 + sqrt(M^4 - J^2))) "
      ]
     },
     "execution_count": 15,
     "metadata": {},
     "output_type": "execute_result"
    }
   ],
   "source": [
    "h.christoffel_symbols_display()"
   ]
  },
  {
   "cell_type": "code",
   "execution_count": 16,
   "id": "42ebcf2a",
   "metadata": {},
   "outputs": [
    {
     "data": {
      "text/html": [
       "<html>\\(\\displaystyle -\\frac{4 \\, M^{10} + 4 \\, \\sqrt{M^{4} - J^{2}} M^{8} - 3 \\, J^{2} M^{6} - \\sqrt{M^{4} - J^{2}} J^{2} M^{4} - J^{4} M^{2} - \\sqrt{M^{4} - J^{2}} J^{4}}{4 \\, {\\left(M^{2} + J\\right)} {\\left(M^{2} - J\\right)} {\\left(M^{2} + \\sqrt{M^{4} - J^{2}}\\right)}^{3} M^{2}}\\)</html>"
      ],
      "text/latex": [
       "$\\displaystyle -\\frac{4 \\, M^{10} + 4 \\, \\sqrt{M^{4} - J^{2}} M^{8} - 3 \\, J^{2} M^{6} - \\sqrt{M^{4} - J^{2}} J^{2} M^{4} - J^{4} M^{2} - \\sqrt{M^{4} - J^{2}} J^{4}}{4 \\, {\\left(M^{2} + J\\right)} {\\left(M^{2} - J\\right)} {\\left(M^{2} + \\sqrt{M^{4} - J^{2}}\\right)}^{3} M^{2}}$"
      ],
      "text/plain": [
       "-1/4*(4*M^10 + 4*sqrt(M^4 - J^2)*M^8 - 3*J^2*M^6 - sqrt(M^4 - J^2)*J^2*M^4 - J^4*M^2 - sqrt(M^4 - J^2)*J^4)/((M^2 + J)*(M^2 - J)*(M^2 + sqrt(M^4 - J^2))^3*M^2)"
      ]
     },
     "execution_count": 16,
     "metadata": {},
     "output_type": "execute_result"
    }
   ],
   "source": [
    "rich = h.ricci_scalar()\n",
    "rich.expr()"
   ]
  },
  {
   "cell_type": "code",
   "execution_count": 17,
   "id": "2c907d38",
   "metadata": {},
   "outputs": [
    {
     "data": {
      "text/html": [
       "<html>\\(\\displaystyle -\\frac{4 \\, M^{10} + 4 \\, \\sqrt{M^{4} - J^{2}} M^{8} - 3 \\, J^{2} M^{6} - \\sqrt{M^{4} - J^{2}} J^{2} M^{4} - J^{4} M^{2} - \\sqrt{M^{4} - J^{2}} J^{4}}{4 \\, {\\left(M^{2} + J\\right)} {\\left(M^{2} - J\\right)} {\\left(M^{2} + \\sqrt{M^{4} - J^{2}}\\right)}^{3} M^{2}}\\)</html>"
      ],
      "text/latex": [
       "$\\displaystyle -\\frac{4 \\, M^{10} + 4 \\, \\sqrt{M^{4} - J^{2}} M^{8} - 3 \\, J^{2} M^{6} - \\sqrt{M^{4} - J^{2}} J^{2} M^{4} - J^{4} M^{2} - \\sqrt{M^{4} - J^{2}} J^{4}}{4 \\, {\\left(M^{2} + J\\right)} {\\left(M^{2} - J\\right)} {\\left(M^{2} + \\sqrt{M^{4} - J^{2}}\\right)}^{3} M^{2}}$"
      ],
      "text/plain": [
       "-1/4*(4*M^10 + 4*sqrt(M^4 - J^2)*M^8 - 3*J^2*M^6 - sqrt(M^4 - J^2)*J^2*M^4 - J^4*M^2 - sqrt(M^4 - J^2)*J^4)/((M^2 + J)*(M^2 - J)*(M^2 + sqrt(M^4 - J^2))^3*M^2)"
      ]
     },
     "execution_count": 17,
     "metadata": {},
     "output_type": "execute_result"
    }
   ],
   "source": [
    "ric = g.ricci_scalar()\n",
    "ric.expr()"
   ]
  },
  {
   "cell_type": "code",
   "execution_count": 18,
   "id": "2a724e48",
   "metadata": {},
   "outputs": [
    {
     "data": {
      "text/html": [
       "<html>\\(\\displaystyle -\\frac{4 \\, M^{10} - 3 \\, J^{2} M^{6} - J^{4} M^{2} + {\\left(4 \\, M^{8} - J^{2} M^{4} - J^{4}\\right)} \\sqrt{M^{4} - J^{2}}}{4 \\, {\\left(4 \\, M^{12} - 7 \\, J^{2} M^{8} + 3 \\, J^{4} M^{4} + {\\left(4 \\, M^{10} - 5 \\, J^{2} M^{6} + J^{4} M^{2}\\right)} \\sqrt{M^{4} - J^{2}}\\right)}}\\)</html>"
      ],
      "text/latex": [
       "$\\displaystyle -\\frac{4 \\, M^{10} - 3 \\, J^{2} M^{6} - J^{4} M^{2} + {\\left(4 \\, M^{8} - J^{2} M^{4} - J^{4}\\right)} \\sqrt{M^{4} - J^{2}}}{4 \\, {\\left(4 \\, M^{12} - 7 \\, J^{2} M^{8} + 3 \\, J^{4} M^{4} + {\\left(4 \\, M^{10} - 5 \\, J^{2} M^{6} + J^{4} M^{2}\\right)} \\sqrt{M^{4} - J^{2}}\\right)}}$"
      ],
      "text/plain": [
       "-1/4*(4*M^10 - 3*J^2*M^6 - J^4*M^2 + (4*M^8 - J^2*M^4 - J^4)*sqrt(M^4 - J^2))/(4*M^12 - 7*J^2*M^8 + 3*J^4*M^4 + (4*M^10 - 5*J^2*M^6 + J^4*M^2)*sqrt(M^4 - J^2))"
      ]
     },
     "execution_count": 18,
     "metadata": {},
     "output_type": "execute_result"
    }
   ],
   "source": [
    "ric.expr().simplify_full()"
   ]
  },
  {
   "cell_type": "code",
   "execution_count": 19,
   "id": "a0e07572",
   "metadata": {},
   "outputs": [
    {
     "data": {
      "text/html": [
       "<html>\\(\\displaystyle \\frac{\\sqrt{-\\frac{J^{2}}{M^{4}} + 1} - 2}{4 \\, M^{2} \\sqrt{-\\frac{J^{2}}{M^{4}} + 1}}\\)</html>"
      ],
      "text/latex": [
       "$\\displaystyle \\frac{\\sqrt{-\\frac{J^{2}}{M^{4}} + 1} - 2}{4 \\, M^{2} \\sqrt{-\\frac{J^{2}}{M^{4}} + 1}}$"
      ],
      "text/plain": [
       "1/4*(sqrt(-J^2/M^4 + 1) - 2)/(M^2*sqrt(-J^2/M^4 + 1))"
      ]
     },
     "execution_count": 19,
     "metadata": {},
     "output_type": "execute_result"
    }
   ],
   "source": [
    "R = N.scalar_field(1/(4*M^2)*(sqrt(1-J^2/M^4)-2)/sqrt(1-J^2/M^4),name='R')\n",
    "R.expr()"
   ]
  },
  {
   "cell_type": "code",
   "execution_count": 20,
   "id": "6ac54837",
   "metadata": {},
   "outputs": [
    {
     "data": {
      "text/html": [
       "<html>\\(\\displaystyle \\frac{4 \\, M^{10} - 7 \\, J^{2} M^{6} - 4 \\, {\\left(M^{4} - J^{2}\\right)} M^{6} + 3 \\, J^{4} M^{2} + 3 \\, {\\left(M^{4} - J^{2}\\right)} J^{2} M^{2}}{2 \\, \\sqrt{M^{4} - J^{2}} {\\left(M^{2} + J\\right)} {\\left(M^{2} - J\\right)} {\\left(M^{2} + \\sqrt{M^{4} - J^{2}}\\right)}^{3}}\\)</html>"
      ],
      "text/latex": [
       "$\\displaystyle \\frac{4 \\, M^{10} - 7 \\, J^{2} M^{6} - 4 \\, {\\left(M^{4} - J^{2}\\right)} M^{6} + 3 \\, J^{4} M^{2} + 3 \\, {\\left(M^{4} - J^{2}\\right)} J^{2} M^{2}}{2 \\, \\sqrt{M^{4} - J^{2}} {\\left(M^{2} + J\\right)} {\\left(M^{2} - J\\right)} {\\left(M^{2} + \\sqrt{M^{4} - J^{2}}\\right)}^{3}}$"
      ],
      "text/plain": [
       "1/2*(4*M^10 - 7*J^2*M^6 - 4*(M^4 - J^2)*M^6 + 3*J^4*M^2 + 3*(M^4 - J^2)*J^2*M^2)/(sqrt(M^4 - J^2)*(M^2 + J)*(M^2 - J)*(M^2 + sqrt(M^4 - J^2))^3)"
      ]
     },
     "execution_count": 20,
     "metadata": {},
     "output_type": "execute_result"
    }
   ],
   "source": [
    "delta_R = ric - R\n",
    "delta_R.expr()"
   ]
  },
  {
   "cell_type": "code",
   "execution_count": 21,
   "id": "65ae056e",
   "metadata": {},
   "outputs": [
    {
     "data": {
      "text/html": [
       "<html>\\(\\displaystyle 0\\)</html>"
      ],
      "text/latex": [
       "$\\displaystyle 0$"
      ],
      "text/plain": [
       "0"
      ]
     },
     "execution_count": 21,
     "metadata": {},
     "output_type": "execute_result"
    }
   ],
   "source": [
    "delta_R.expr().simplify_full()"
   ]
  },
  {
   "cell_type": "code",
   "execution_count": 22,
   "id": "fe7aeda5",
   "metadata": {},
   "outputs": [
    {
     "data": {
      "text/html": [
       "<html>\\(\\displaystyle \\mathrm{True}\\)</html>"
      ],
      "text/latex": [
       "$\\displaystyle \\mathrm{True}$"
      ],
      "text/plain": [
       "True"
      ]
     },
     "execution_count": 22,
     "metadata": {},
     "output_type": "execute_result"
    }
   ],
   "source": [
    "delta_R == 0"
   ]
  },
  {
   "cell_type": "code",
   "execution_count": null,
   "id": "155f90f0",
   "metadata": {},
   "outputs": [],
   "source": []
  }
 ],
 "metadata": {
  "kernelspec": {
   "display_name": "SageMath 10.2.rc4",
   "language": "sage",
   "name": "sagemath"
  },
  "language_info": {
   "codemirror_mode": {
    "name": "ipython",
    "version": 3
   },
   "file_extension": ".py",
   "mimetype": "text/x-python",
   "name": "python",
   "nbconvert_exporter": "python",
   "pygments_lexer": "ipython3",
   "version": "3.10.12"
  }
 },
 "nbformat": 4,
 "nbformat_minor": 5
}
