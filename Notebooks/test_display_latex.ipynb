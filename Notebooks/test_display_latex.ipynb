{
 "cells": [
  {
   "cell_type": "code",
   "execution_count": 1,
   "metadata": {},
   "outputs": [
    {
     "data": {
      "text/plain": [
       "'SageMath version 9.6.beta3, Release Date: 2022-02-27'"
      ]
     },
     "execution_count": 1,
     "metadata": {},
     "output_type": "execute_result"
    }
   ],
   "source": [
    "version()"
   ]
  },
  {
   "cell_type": "code",
   "execution_count": 2,
   "metadata": {},
   "outputs": [],
   "source": [
    "%display latex"
   ]
  },
  {
   "cell_type": "code",
   "execution_count": 3,
   "metadata": {},
   "outputs": [
    {
     "data": {
      "text/html": [
       "<html>\\[\\newcommand{\\Bold}[1]{\\mathbf{#1}}\\sin\\left(x^{2}\\right)\\]</html>"
      ],
      "text/latex": [
       "$$\\newcommand{\\Bold}[1]{\\mathbf{#1}}\\sin\\left(x^{2}\\right)$$"
      ],
      "text/plain": [
       "sin(x^2)"
      ]
     },
     "execution_count": 3,
     "metadata": {},
     "output_type": "execute_result"
    }
   ],
   "source": [
    "sin(x^2)"
   ]
  },
  {
   "cell_type": "markdown",
   "metadata": {},
   "source": [
    "## Check the output of type()\n",
    "Check that [#32859](https://trac.sagemath.org/ticket/32859) is fixed:"
   ]
  },
  {
   "cell_type": "code",
   "execution_count": 4,
   "metadata": {},
   "outputs": [
    {
     "data": {
      "text/html": [
       "<html>\\[\\newcommand{\\Bold}[1]{\\mathbf{#1}}\\verb|&lt;class|\\verb| |\\verb|'sage.symbolic.expression.Expression'>|\\]</html>"
      ],
      "text/latex": [
       "$$\\newcommand{\\Bold}[1]{\\mathbf{#1}}\\verb|<class|\\verb| |\\verb|'sage.symbolic.expression.Expression'>|$$"
      ],
      "text/plain": [
       "<class 'sage.symbolic.expression.Expression'>"
      ]
     },
     "execution_count": 4,
     "metadata": {},
     "output_type": "execute_result"
    }
   ],
   "source": [
    "type(x)"
   ]
  },
  {
   "cell_type": "markdown",
   "metadata": {},
   "source": [
    "## Check that [#32208](https://trac.sagemath.org/ticket/32208) is fixed"
   ]
  },
  {
   "cell_type": "code",
   "execution_count": 5,
   "metadata": {},
   "outputs": [
    {
     "data": {
      "text/html": [
       "<html>\\[\\newcommand{\\Bold}[1]{\\mathbf{#1}}\\verb|{1,|\\verb| |\\verb|2}|\\]</html>"
      ],
      "text/latex": [
       "$$\\newcommand{\\Bold}[1]{\\mathbf{#1}}\\verb|{1,|\\verb| |\\verb|2}|$$"
      ],
      "text/plain": [
       "{1, 2}"
      ]
     },
     "execution_count": 5,
     "metadata": {},
     "output_type": "execute_result"
    }
   ],
   "source": [
    "set([1,2])"
   ]
  },
  {
   "cell_type": "code",
   "execution_count": 6,
   "metadata": {},
   "outputs": [
    {
     "data": {
      "text/html": [
       "<html>\\[\\newcommand{\\Bold}[1]{\\mathbf{#1}}\\begin{array}{l}\n",
       "\\verb|             |\\verb|+--------------+|\\\\\n",
       "\\verb\"             \"\\verb\"|\"\\verb\"  \"\\verb\"1\"\\verb\"    \"\\verb\"2\"\\verb\"    \"\\verb\"3\"\\verb\" \"\\verb\"|\"\\\\\n",
       "\\verb\"             \"\\verb\"|\"\\verb\"  \"\\verb\"4\"\\verb\"   \"\\verb\"top\"\\verb\"   \"\\verb\"5\"\\verb\" \"\\verb\"|\"\\\\\n",
       "\\verb\"             \"\\verb\"|\"\\verb\"  \"\\verb\"6\"\\verb\"    \"\\verb\"7\"\\verb\"    \"\\verb\"8\"\\verb\" \"\\verb\"|\"\\\\\n",
       "\\verb|+------------+--------------+-------------+------------+|\\\\\n",
       "\\verb\"|\"\\verb\"  \"\\verb\"9\"\\verb\"  \"\\verb\"10\"\\verb\"  \"\\verb\"11\"\\verb\" \"\\verb\"|\"\\verb\" \"\\verb\"17\"\\verb\"   \"\\verb\"18\"\\verb\"   \"\\verb\"19\"\\verb\" \"\\verb\"|\"\\verb\" \"\\verb\"25\"\\verb\"   \"\\verb\"26\"\\verb\"  \"\\verb\"27\"\\verb\" \"\\verb\"|\"\\verb\" \"\\verb\"33\"\\verb\"  \"\\verb\"34\"\\verb\"  \"\\verb\"35\"\\verb\" \"\\verb\"|\"\\\\\n",
       "\\verb\"|\"\\verb\" \"\\verb\"12\"\\verb\" \"\\verb\"left\"\\verb\" \"\\verb\"13\"\\verb\" \"\\verb\"|\"\\verb\" \"\\verb\"20\"\\verb\"  \"\\verb\"front\"\\verb\" \"\\verb\"21\"\\verb\" \"\\verb\"|\"\\verb\" \"\\verb\"28\"\\verb\" \"\\verb\"right\"\\verb\" \"\\verb\"29\"\\verb\" \"\\verb\"|\"\\verb\" \"\\verb\"36\"\\verb\" \"\\verb\"rear\"\\verb\" \"\\verb\"37\"\\verb\" \"\\verb\"|\"\\\\\n",
       "\\verb\"|\"\\verb\" \"\\verb\"14\"\\verb\"  \"\\verb\"15\"\\verb\"  \"\\verb\"16\"\\verb\" \"\\verb\"|\"\\verb\" \"\\verb\"22\"\\verb\"   \"\\verb\"23\"\\verb\"   \"\\verb\"24\"\\verb\" \"\\verb\"|\"\\verb\" \"\\verb\"30\"\\verb\"   \"\\verb\"31\"\\verb\"  \"\\verb\"32\"\\verb\" \"\\verb\"|\"\\verb\" \"\\verb\"38\"\\verb\"  \"\\verb\"39\"\\verb\"  \"\\verb\"40\"\\verb\" \"\\verb\"|\"\\\\\n",
       "\\verb|+------------+--------------+-------------+------------+|\\\\\n",
       "\\verb\"             \"\\verb\"|\"\\verb\" \"\\verb\"41\"\\verb\"   \"\\verb\"42\"\\verb\"   \"\\verb\"43\"\\verb\" \"\\verb\"|\"\\\\\n",
       "\\verb\"             \"\\verb\"|\"\\verb\" \"\\verb\"44\"\\verb\" \"\\verb\"bottom\"\\verb\" \"\\verb\"45\"\\verb\" \"\\verb\"|\"\\\\\n",
       "\\verb\"             \"\\verb\"|\"\\verb\" \"\\verb\"46\"\\verb\"   \"\\verb\"47\"\\verb\"   \"\\verb\"48\"\\verb\" \"\\verb\"|\"\\\\\n",
       "\\verb|             |\\verb|+--------------+|\\\\\n",
       "\n",
       "\\end{array}\\]</html>"
      ],
      "text/latex": [
       "$$\\newcommand{\\Bold}[1]{\\mathbf{#1}}\\begin{array}{l}\n",
       "\\verb|             |\\verb|+--------------+|\\\\\n",
       "\\verb\"             \"\\verb\"|\"\\verb\"  \"\\verb\"1\"\\verb\"    \"\\verb\"2\"\\verb\"    \"\\verb\"3\"\\verb\" \"\\verb\"|\"\\\\\n",
       "\\verb\"             \"\\verb\"|\"\\verb\"  \"\\verb\"4\"\\verb\"   \"\\verb\"top\"\\verb\"   \"\\verb\"5\"\\verb\" \"\\verb\"|\"\\\\\n",
       "\\verb\"             \"\\verb\"|\"\\verb\"  \"\\verb\"6\"\\verb\"    \"\\verb\"7\"\\verb\"    \"\\verb\"8\"\\verb\" \"\\verb\"|\"\\\\\n",
       "\\verb|+------------+--------------+-------------+------------+|\\\\\n",
       "\\verb\"|\"\\verb\"  \"\\verb\"9\"\\verb\"  \"\\verb\"10\"\\verb\"  \"\\verb\"11\"\\verb\" \"\\verb\"|\"\\verb\" \"\\verb\"17\"\\verb\"   \"\\verb\"18\"\\verb\"   \"\\verb\"19\"\\verb\" \"\\verb\"|\"\\verb\" \"\\verb\"25\"\\verb\"   \"\\verb\"26\"\\verb\"  \"\\verb\"27\"\\verb\" \"\\verb\"|\"\\verb\" \"\\verb\"33\"\\verb\"  \"\\verb\"34\"\\verb\"  \"\\verb\"35\"\\verb\" \"\\verb\"|\"\\\\\n",
       "\\verb\"|\"\\verb\" \"\\verb\"12\"\\verb\" \"\\verb\"left\"\\verb\" \"\\verb\"13\"\\verb\" \"\\verb\"|\"\\verb\" \"\\verb\"20\"\\verb\"  \"\\verb\"front\"\\verb\" \"\\verb\"21\"\\verb\" \"\\verb\"|\"\\verb\" \"\\verb\"28\"\\verb\" \"\\verb\"right\"\\verb\" \"\\verb\"29\"\\verb\" \"\\verb\"|\"\\verb\" \"\\verb\"36\"\\verb\" \"\\verb\"rear\"\\verb\" \"\\verb\"37\"\\verb\" \"\\verb\"|\"\\\\\n",
       "\\verb\"|\"\\verb\" \"\\verb\"14\"\\verb\"  \"\\verb\"15\"\\verb\"  \"\\verb\"16\"\\verb\" \"\\verb\"|\"\\verb\" \"\\verb\"22\"\\verb\"   \"\\verb\"23\"\\verb\"   \"\\verb\"24\"\\verb\" \"\\verb\"|\"\\verb\" \"\\verb\"30\"\\verb\"   \"\\verb\"31\"\\verb\"  \"\\verb\"32\"\\verb\" \"\\verb\"|\"\\verb\" \"\\verb\"38\"\\verb\"  \"\\verb\"39\"\\verb\"  \"\\verb\"40\"\\verb\" \"\\verb\"|\"\\\\\n",
       "\\verb|+------------+--------------+-------------+------------+|\\\\\n",
       "\\verb\"             \"\\verb\"|\"\\verb\" \"\\verb\"41\"\\verb\"   \"\\verb\"42\"\\verb\"   \"\\verb\"43\"\\verb\" \"\\verb\"|\"\\\\\n",
       "\\verb\"             \"\\verb\"|\"\\verb\" \"\\verb\"44\"\\verb\" \"\\verb\"bottom\"\\verb\" \"\\verb\"45\"\\verb\" \"\\verb\"|\"\\\\\n",
       "\\verb\"             \"\\verb\"|\"\\verb\" \"\\verb\"46\"\\verb\"   \"\\verb\"47\"\\verb\"   \"\\verb\"48\"\\verb\" \"\\verb\"|\"\\\\\n",
       "\\verb|             |\\verb|+--------------+|\\\\\n",
       "\n",
       "\\end{array}$$"
      ],
      "text/plain": [
       "             +--------------+\n",
       "             |  1    2    3 |\n",
       "             |  4   top   5 |\n",
       "             |  6    7    8 |\n",
       "+------------+--------------+-------------+------------+\n",
       "|  9  10  11 | 17   18   19 | 25   26  27 | 33  34  35 |\n",
       "| 12 left 13 | 20  front 21 | 28 right 29 | 36 rear 37 |\n",
       "| 14  15  16 | 22   23   24 | 30   31  32 | 38  39  40 |\n",
       "+------------+--------------+-------------+------------+\n",
       "             | 41   42   43 |\n",
       "             | 44 bottom 45 |\n",
       "             | 46   47   48 |\n",
       "             +--------------+\n"
      ]
     },
     "execution_count": 6,
     "metadata": {},
     "output_type": "execute_result"
    }
   ],
   "source": [
    "RubiksCube()"
   ]
  },
  {
   "cell_type": "markdown",
   "metadata": {},
   "source": [
    "## Test of matplotlib.pyplot\n",
    "\n",
    "Check that [#32882](https://trac.sagemath.org/ticket/32882) is fixed:"
   ]
  },
  {
   "cell_type": "code",
   "execution_count": 7,
   "metadata": {},
   "outputs": [
    {
     "data": {
      "image/png": "[encoded data removed]",
      "text/plain": [
       "<Figure size 432x288 with 1 Axes>"
      ]
     },
     "metadata": {
      "needs_background": "light"
     },
     "output_type": "display_data"
    }
   ],
   "source": [
    "import matplotlib.pyplot as plt\n",
    "plt.plot([1, 2, 3, 4])\n",
    "plt.ylabel('some numbers')\n",
    "plt.show()"
   ]
  },
  {
   "cell_type": "code",
   "execution_count": 8,
   "metadata": {},
   "outputs": [
    {
     "data": {
      "image/png": "[encoded data removed]",
      "text/plain": [
       "<Figure size 432x288 with 1 Axes>"
      ]
     },
     "metadata": {
      "needs_background": "light"
     },
     "output_type": "display_data"
    }
   ],
   "source": [
    "%display plain\n",
    "import matplotlib.pyplot as plt\n",
    "plt.plot([1, 2, 3, 4])\n",
    "plt.ylabel('some numbers')\n",
    "plt.show()"
   ]
  },
  {
   "cell_type": "markdown",
   "metadata": {},
   "source": [
    "## Test of Jupyter native LaTeX display via `_repr_latex_`"
   ]
  },
  {
   "cell_type": "code",
   "execution_count": 9,
   "metadata": {},
   "outputs": [],
   "source": [
    "%display plain"
   ]
  },
  {
   "cell_type": "code",
   "execution_count": 10,
   "metadata": {},
   "outputs": [
    {
     "data": {
      "text/plain": [
       "sin(x^2)"
      ]
     },
     "execution_count": 10,
     "metadata": {},
     "output_type": "execute_result"
    }
   ],
   "source": [
    "s = sin(x^2)\n",
    "s"
   ]
  },
  {
   "cell_type": "code",
   "execution_count": 11,
   "metadata": {},
   "outputs": [],
   "source": [
    "view(s)"
   ]
  },
  {
   "cell_type": "code",
   "execution_count": 12,
   "metadata": {},
   "outputs": [
    {
     "data": {
      "text/plain": [
       "'\\\\sin\\\\left(x^{2}\\\\right)'"
      ]
     },
     "execution_count": 12,
     "metadata": {},
     "output_type": "execute_result"
    }
   ],
   "source": [
    "s._latex_()"
   ]
  },
  {
   "cell_type": "code",
   "execution_count": 13,
   "metadata": {},
   "outputs": [
    {
     "data": {
      "text/latex": [
       "$\\sin\\left(x^{2}\\right)$"
      ],
      "text/plain": [
       "<__main__.A object at 0x7f20635c6670>"
      ]
     },
     "execution_count": 13,
     "metadata": {},
     "output_type": "execute_result"
    }
   ],
   "source": [
    "class A(SageObject):\n",
    "\n",
    "    def __init__(self, data):\n",
    "        self._data = data\n",
    "\n",
    "    def _repr_latex_(self):\n",
    "        try:\n",
    "            return '$' + self._data._latex_() + '$'\n",
    "        except (AttributeError, NotImplementedError):  \n",
    "            return None  # if None is returned, plain text is used\n",
    "\n",
    "A(sin(x^2))"
   ]
  },
  {
   "cell_type": "code",
   "execution_count": 14,
   "metadata": {},
   "outputs": [
    {
     "data": {
      "text/latex": [
       "$\\sin\\left(x^{2}\\right)$"
      ],
      "text/plain": [
       "<__main__.A object at 0x7f20635c6c70>"
      ]
     },
     "execution_count": 14,
     "metadata": {},
     "output_type": "execute_result"
    }
   ],
   "source": [
    "s = A(sin(x^2))\n",
    "s"
   ]
  },
  {
   "cell_type": "code",
   "execution_count": 15,
   "metadata": {},
   "outputs": [
    {
     "name": "stdout",
     "output_type": "stream",
     "text": [
      "<__main__.A object at 0x7f20635c6c70>\n"
     ]
    }
   ],
   "source": [
    "print(s)"
   ]
  },
  {
   "cell_type": "code",
   "execution_count": 16,
   "metadata": {},
   "outputs": [
    {
     "data": {
      "text/plain": [
       "[<__main__.A object at 0x7f20635c6c70>,\n",
       " <__main__.A object at 0x7f20635c6c70>,\n",
       " <__main__.A object at 0x7f20635c6c70>]"
      ]
     },
     "execution_count": 16,
     "metadata": {},
     "output_type": "execute_result"
    }
   ],
   "source": [
    "[s, s, s]"
   ]
  },
  {
   "cell_type": "code",
   "execution_count": 17,
   "metadata": {},
   "outputs": [
    {
     "name": "stdout",
     "output_type": "stream",
     "text": [
      "<__main__.A object at 0x7f20635e39a0>\n"
     ]
    }
   ],
   "source": [
    "g = plot(sin(x^2))\n",
    "print(A(g))"
   ]
  },
  {
   "cell_type": "code",
   "execution_count": 18,
   "metadata": {},
   "outputs": [
    {
     "data": {
      "text/plain": [
       "<__main__.A object at 0x7f2062164d90>"
      ]
     },
     "execution_count": 18,
     "metadata": {},
     "output_type": "execute_result"
    }
   ],
   "source": [
    "s0 = A(None)\n",
    "s0"
   ]
  },
  {
   "cell_type": "markdown",
   "metadata": {},
   "source": [
    "## Check that `%matplotlib notebook` and `%matplotlib widget` work in the scope of  `%display latex` "
   ]
  },
  {
   "cell_type": "code",
   "execution_count": 19,
   "metadata": {},
   "outputs": [],
   "source": [
    "%display latex\n",
    "#%display plain"
   ]
  },
  {
   "cell_type": "code",
   "execution_count": 20,
   "metadata": {},
   "outputs": [
    {
     "data": {
      "text/html": [
       "<html>\\[\\newcommand{\\Bold}[1]{\\mathbf{#1}}\\sin\\left(x^{2}\\right)\\]</html>"
      ],
      "text/latex": [
       "$$\\newcommand{\\Bold}[1]{\\mathbf{#1}}\\sin\\left(x^{2}\\right)$$"
      ],
      "text/plain": [
       "sin(x^2)"
      ]
     },
     "execution_count": 20,
     "metadata": {},
     "output_type": "execute_result"
    }
   ],
   "source": [
    "sin(x^2)"
   ]
  },
  {
   "cell_type": "markdown",
   "metadata": {},
   "source": [
    "NB: `%matplotlib notebook` is not supported by **Jupyterlab**; one should use `%matplotlib widget` (which requires the Python package `ipympl`)."
   ]
  },
  {
   "cell_type": "code",
   "execution_count": 21,
   "metadata": {},
   "outputs": [
    {
     "data": {
      "text/html": [
       "<html>\\[\\newcommand{\\Bold}[1]{\\mathbf{#1}}\\verb|Canvas(toolbar=Toolbar(toolitems=[('Home',|\\verb| |\\verb|'Reset|\\verb| |\\verb|original|\\verb| |\\verb|view',|\\verb| |\\verb|'home',|\\verb| |\\verb|'home'),|\\verb| |\\verb|('Back',|\\verb| |\\verb|'Back|\\verb| |\\verb|to|\\verb| |\\verb|previous|\\verb| |\\verb|view',|\\verb| |\\verb|'arrow-left',|\\verb| |\\verb|'back'),|\\verb| |\\verb|('Forward',|\\verb| |\\verb|'Forward|\\verb| |\\verb|to|\\verb| |\\verb|next|\\verb| |\\verb|view',|\\verb| |\\verb|'arrow-right',|\\verb| |\\verb|'forward'),|\\verb| |\\verb|('Pan',|\\verb| |\\verb|'Left|\\verb| |\\verb|button|\\verb| |\\verb|pans,|\\verb| |\\verb|Right|\\verb| |\\verb|button|\\verb| |\\verb|zooms\\nx/y|\\verb| |\\verb|fixes|\\verb| |\\verb|axis,|\\verb| |\\verb|CTRL|\\verb| |\\verb|fixes|\\verb| |\\verb|aspect',|\\verb| |\\verb|'arrows',|\\verb| |\\verb|'pan'),|\\verb| |\\verb|('Zoom',|\\verb| |\\verb|'Zoom|\\verb| |\\verb|to|\\verb| |\\verb|rectangle\\nx/y|\\verb| |\\verb|fixes|\\verb| |\\verb|axis',|\\verb| |\\verb|'square-o',|\\verb| |\\verb|'zoom'),|\\verb| |\\verb|('Download',|\\verb| |\\verb|'Download|\\verb| |\\verb|plot',|\\verb| |\\verb|'floppy-o',|\\verb| |\\verb|'save_figure')]))|\\]</html>"
      ],
      "text/latex": [
       "$$\\newcommand{\\Bold}[1]{\\mathbf{#1}}\\verb|Canvas(toolbar=Toolbar(toolitems=[('Home',|\\verb| |\\verb|'Reset|\\verb| |\\verb|original|\\verb| |\\verb|view',|\\verb| |\\verb|'home',|\\verb| |\\verb|'home'),|\\verb| |\\verb|('Back',|\\verb| |\\verb|'Back|\\verb| |\\verb|to|\\verb| |\\verb|previous|\\verb| |\\verb|view',|\\verb| |\\verb|'arrow-left',|\\verb| |\\verb|'back'),|\\verb| |\\verb|('Forward',|\\verb| |\\verb|'Forward|\\verb| |\\verb|to|\\verb| |\\verb|next|\\verb| |\\verb|view',|\\verb| |\\verb|'arrow-right',|\\verb| |\\verb|'forward'),|\\verb| |\\verb|('Pan',|\\verb| |\\verb|'Left|\\verb| |\\verb|button|\\verb| |\\verb|pans,|\\verb| |\\verb|Right|\\verb| |\\verb|button|\\verb| |\\verb|zooms\\nx/y|\\verb| |\\verb|fixes|\\verb| |\\verb|axis,|\\verb| |\\verb|CTRL|\\verb| |\\verb|fixes|\\verb| |\\verb|aspect',|\\verb| |\\verb|'arrows',|\\verb| |\\verb|'pan'),|\\verb| |\\verb|('Zoom',|\\verb| |\\verb|'Zoom|\\verb| |\\verb|to|\\verb| |\\verb|rectangle\\nx/y|\\verb| |\\verb|fixes|\\verb| |\\verb|axis',|\\verb| |\\verb|'square-o',|\\verb| |\\verb|'zoom'),|\\verb| |\\verb|('Download',|\\verb| |\\verb|'Download|\\verb| |\\verb|plot',|\\verb| |\\verb|'floppy-o',|\\verb| |\\verb|'save_figure')]))|$$"
      ],
      "text/plain": [
       "Canvas(toolbar=Toolbar(toolitems=[('Home', 'Reset original view', 'home', 'home'), ('Back', 'Back to previous view', 'arrow-left', 'back'), ('Forward', 'Forward to next view', 'arrow-right', 'forward'), ('Pan', 'Left button pans, Right button zooms\\nx/y fixes axis, CTRL fixes aspect', 'arrows', 'pan'), ('Zoom', 'Zoom to rectangle\\nx/y fixes axis', 'square-o', 'zoom'), ('Download', 'Download plot', 'floppy-o', 'save_figure')]))"
      ]
     },
     "metadata": {},
     "output_type": "display_data"
    }
   ],
   "source": [
    "#%matplotlib notebook\n",
    "%matplotlib widget\n",
    "import matplotlib.pyplot as plt\n",
    "plt.plot([1, 2, 3, 4])\n",
    "plt.ylabel('some numbers')\n",
    "plt.show()"
   ]
  },
  {
   "cell_type": "markdown",
   "metadata": {},
   "source": [
    "## Test of interact in the scope of `%display latex`"
   ]
  },
  {
   "cell_type": "code",
   "execution_count": 22,
   "metadata": {},
   "outputs": [
    {
     "data": {
      "application/vnd.jupyter.widget-view+json": {
       "model_id": "23076c137a5e4c438d0ba36625ffa750",
       "version_major": 2,
       "version_minor": 0
      },
      "text/plain": [
       "Interactive function <function f at 0x7f2062186820> with 1 widget\n",
       "  n: IntSlider(value=10, description='n', ma…"
      ]
     },
     "metadata": {},
     "output_type": "display_data"
    }
   ],
   "source": [
    "@interact\n",
    "def f(n=10):\n",
    "    print(n)"
   ]
  },
  {
   "cell_type": "code",
   "execution_count": 23,
   "metadata": {},
   "outputs": [
    {
     "data": {
      "text/html": [
       "<html>\\[\\newcommand{\\Bold}[1]{\\mathbf{#1}}\\sin\\left(x^{2}\\right)\\]</html>"
      ],
      "text/latex": [
       "$$\\newcommand{\\Bold}[1]{\\mathbf{#1}}\\sin\\left(x^{2}\\right)$$"
      ],
      "text/plain": [
       "sin(x^2)"
      ]
     },
     "execution_count": 23,
     "metadata": {},
     "output_type": "execute_result"
    }
   ],
   "source": [
    "%display latex\n",
    "sin(x^2)"
   ]
  },
  {
   "cell_type": "code",
   "execution_count": 24,
   "metadata": {},
   "outputs": [
    {
     "data": {
      "application/vnd.jupyter.widget-view+json": {
       "model_id": "c199e2696fb64d4e81c706340da79419",
       "version_major": 2,
       "version_minor": 0
      },
      "text/plain": [
       "Interactive function <function f at 0x7f206211f160> with 1 widget\n",
       "  n: IntSlider(value=10, description='n', ma…"
      ]
     },
     "metadata": {},
     "output_type": "display_data"
    }
   ],
   "source": [
    "@interact\n",
    "def f(n=10):\n",
    "    print(n)"
   ]
  },
  {
   "cell_type": "code",
   "execution_count": null,
   "metadata": {},
   "outputs": [],
   "source": []
  }
 ],
 "metadata": {
  "kernelspec": {
   "display_name": "SageMath 9.6.beta3",
   "language": "sage",
   "name": "sagemath"
  },
  "language_info": {
   "codemirror_mode": {
    "name": "ipython",
    "version": 3
   },
   "file_extension": ".py",
   "mimetype": "text/x-python",
   "name": "python",
   "nbconvert_exporter": "python",
   "pygments_lexer": "ipython3",
   "version": "3.8.10"
  }
 },
 "nbformat": 4,
 "nbformat_minor": 4
}
