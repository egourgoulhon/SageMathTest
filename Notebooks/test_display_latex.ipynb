{
 "cells": [
  {
   "cell_type": "code",
   "execution_count": 1,
   "metadata": {},
   "outputs": [
    {
     "data": {
      "text/plain": [
       "'SageMath version 9.6.beta4, Release Date: 2022-03-08'"
      ]
     },
     "execution_count": 1,
     "metadata": {},
     "output_type": "execute_result"
    }
   ],
   "source": [
    "version()"
   ]
  },
  {
   "cell_type": "code",
   "execution_count": 2,
   "metadata": {},
   "outputs": [],
   "source": [
    "%display latex"
   ]
  },
  {
   "cell_type": "code",
   "execution_count": 3,
   "metadata": {},
   "outputs": [
    {
     "data": {
      "text/html": [
       "<html>\\[\\newcommand{\\Bold}[1]{\\mathbf{#1}}\\sin\\left(x^{2}\\right)\\]</html>"
      ],
      "text/latex": [
       "$$\\newcommand{\\Bold}[1]{\\mathbf{#1}}\\sin\\left(x^{2}\\right)$$"
      ],
      "text/plain": [
       "sin(x^2)"
      ]
     },
     "execution_count": 3,
     "metadata": {},
     "output_type": "execute_result"
    }
   ],
   "source": [
    "sin(x^2)"
   ]
  },
  {
   "cell_type": "markdown",
   "metadata": {},
   "source": [
    "## Check the output of type()\n",
    "Check that [#32859](https://trac.sagemath.org/ticket/32859) is fixed:"
   ]
  },
  {
   "cell_type": "code",
   "execution_count": 4,
   "metadata": {},
   "outputs": [
    {
     "data": {
      "text/html": [
       "<html>\\[\\newcommand{\\Bold}[1]{\\mathbf{#1}}\\verb|&lt;class|\\verb| |\\verb|'sage.symbolic.expression.Expression'>|\\]</html>"
      ],
      "text/latex": [
       "$$\\newcommand{\\Bold}[1]{\\mathbf{#1}}\\verb|<class|\\verb| |\\verb|'sage.symbolic.expression.Expression'>|$$"
      ],
      "text/plain": [
       "<class 'sage.symbolic.expression.Expression'>"
      ]
     },
     "execution_count": 4,
     "metadata": {},
     "output_type": "execute_result"
    }
   ],
   "source": [
    "type(x)"
   ]
  },
  {
   "cell_type": "markdown",
   "metadata": {},
   "source": [
    "## Check that [#32208](https://trac.sagemath.org/ticket/32208) is fixed"
   ]
  },
  {
   "cell_type": "code",
   "execution_count": 5,
   "metadata": {},
   "outputs": [
    {
     "data": {
      "text/html": [
       "<html>\\[\\newcommand{\\Bold}[1]{\\mathbf{#1}}\\verb|{1,|\\verb| |\\verb|2}|\\]</html>"
      ],
      "text/latex": [
       "$$\\newcommand{\\Bold}[1]{\\mathbf{#1}}\\verb|{1,|\\verb| |\\verb|2}|$$"
      ],
      "text/plain": [
       "{1, 2}"
      ]
     },
     "execution_count": 5,
     "metadata": {},
     "output_type": "execute_result"
    }
   ],
   "source": [
    "set([1,2])"
   ]
  },
  {
   "cell_type": "code",
   "execution_count": 6,
   "metadata": {},
   "outputs": [
    {
     "data": {
      "text/html": [
       "<html>\\[\\newcommand{\\Bold}[1]{\\mathbf{#1}}\\begin{array}{l}\n",
       "\\verb|             |\\verb|+--------------+|\\\\\n",
       "\\verb\"             \"\\verb\"|\"\\verb\"  \"\\verb\"1\"\\verb\"    \"\\verb\"2\"\\verb\"    \"\\verb\"3\"\\verb\" \"\\verb\"|\"\\\\\n",
       "\\verb\"             \"\\verb\"|\"\\verb\"  \"\\verb\"4\"\\verb\"   \"\\verb\"top\"\\verb\"   \"\\verb\"5\"\\verb\" \"\\verb\"|\"\\\\\n",
       "\\verb\"             \"\\verb\"|\"\\verb\"  \"\\verb\"6\"\\verb\"    \"\\verb\"7\"\\verb\"    \"\\verb\"8\"\\verb\" \"\\verb\"|\"\\\\\n",
       "\\verb|+------------+--------------+-------------+------------+|\\\\\n",
       "\\verb\"|\"\\verb\"  \"\\verb\"9\"\\verb\"  \"\\verb\"10\"\\verb\"  \"\\verb\"11\"\\verb\" \"\\verb\"|\"\\verb\" \"\\verb\"17\"\\verb\"   \"\\verb\"18\"\\verb\"   \"\\verb\"19\"\\verb\" \"\\verb\"|\"\\verb\" \"\\verb\"25\"\\verb\"   \"\\verb\"26\"\\verb\"  \"\\verb\"27\"\\verb\" \"\\verb\"|\"\\verb\" \"\\verb\"33\"\\verb\"  \"\\verb\"34\"\\verb\"  \"\\verb\"35\"\\verb\" \"\\verb\"|\"\\\\\n",
       "\\verb\"|\"\\verb\" \"\\verb\"12\"\\verb\" \"\\verb\"left\"\\verb\" \"\\verb\"13\"\\verb\" \"\\verb\"|\"\\verb\" \"\\verb\"20\"\\verb\"  \"\\verb\"front\"\\verb\" \"\\verb\"21\"\\verb\" \"\\verb\"|\"\\verb\" \"\\verb\"28\"\\verb\" \"\\verb\"right\"\\verb\" \"\\verb\"29\"\\verb\" \"\\verb\"|\"\\verb\" \"\\verb\"36\"\\verb\" \"\\verb\"rear\"\\verb\" \"\\verb\"37\"\\verb\" \"\\verb\"|\"\\\\\n",
       "\\verb\"|\"\\verb\" \"\\verb\"14\"\\verb\"  \"\\verb\"15\"\\verb\"  \"\\verb\"16\"\\verb\" \"\\verb\"|\"\\verb\" \"\\verb\"22\"\\verb\"   \"\\verb\"23\"\\verb\"   \"\\verb\"24\"\\verb\" \"\\verb\"|\"\\verb\" \"\\verb\"30\"\\verb\"   \"\\verb\"31\"\\verb\"  \"\\verb\"32\"\\verb\" \"\\verb\"|\"\\verb\" \"\\verb\"38\"\\verb\"  \"\\verb\"39\"\\verb\"  \"\\verb\"40\"\\verb\" \"\\verb\"|\"\\\\\n",
       "\\verb|+------------+--------------+-------------+------------+|\\\\\n",
       "\\verb\"             \"\\verb\"|\"\\verb\" \"\\verb\"41\"\\verb\"   \"\\verb\"42\"\\verb\"   \"\\verb\"43\"\\verb\" \"\\verb\"|\"\\\\\n",
       "\\verb\"             \"\\verb\"|\"\\verb\" \"\\verb\"44\"\\verb\" \"\\verb\"bottom\"\\verb\" \"\\verb\"45\"\\verb\" \"\\verb\"|\"\\\\\n",
       "\\verb\"             \"\\verb\"|\"\\verb\" \"\\verb\"46\"\\verb\"   \"\\verb\"47\"\\verb\"   \"\\verb\"48\"\\verb\" \"\\verb\"|\"\\\\\n",
       "\\verb|             |\\verb|+--------------+|\\\\\n",
       "\n",
       "\\end{array}\\]</html>"
      ],
      "text/latex": [
       "$$\\newcommand{\\Bold}[1]{\\mathbf{#1}}\\begin{array}{l}\n",
       "\\verb|             |\\verb|+--------------+|\\\\\n",
       "\\verb\"             \"\\verb\"|\"\\verb\"  \"\\verb\"1\"\\verb\"    \"\\verb\"2\"\\verb\"    \"\\verb\"3\"\\verb\" \"\\verb\"|\"\\\\\n",
       "\\verb\"             \"\\verb\"|\"\\verb\"  \"\\verb\"4\"\\verb\"   \"\\verb\"top\"\\verb\"   \"\\verb\"5\"\\verb\" \"\\verb\"|\"\\\\\n",
       "\\verb\"             \"\\verb\"|\"\\verb\"  \"\\verb\"6\"\\verb\"    \"\\verb\"7\"\\verb\"    \"\\verb\"8\"\\verb\" \"\\verb\"|\"\\\\\n",
       "\\verb|+------------+--------------+-------------+------------+|\\\\\n",
       "\\verb\"|\"\\verb\"  \"\\verb\"9\"\\verb\"  \"\\verb\"10\"\\verb\"  \"\\verb\"11\"\\verb\" \"\\verb\"|\"\\verb\" \"\\verb\"17\"\\verb\"   \"\\verb\"18\"\\verb\"   \"\\verb\"19\"\\verb\" \"\\verb\"|\"\\verb\" \"\\verb\"25\"\\verb\"   \"\\verb\"26\"\\verb\"  \"\\verb\"27\"\\verb\" \"\\verb\"|\"\\verb\" \"\\verb\"33\"\\verb\"  \"\\verb\"34\"\\verb\"  \"\\verb\"35\"\\verb\" \"\\verb\"|\"\\\\\n",
       "\\verb\"|\"\\verb\" \"\\verb\"12\"\\verb\" \"\\verb\"left\"\\verb\" \"\\verb\"13\"\\verb\" \"\\verb\"|\"\\verb\" \"\\verb\"20\"\\verb\"  \"\\verb\"front\"\\verb\" \"\\verb\"21\"\\verb\" \"\\verb\"|\"\\verb\" \"\\verb\"28\"\\verb\" \"\\verb\"right\"\\verb\" \"\\verb\"29\"\\verb\" \"\\verb\"|\"\\verb\" \"\\verb\"36\"\\verb\" \"\\verb\"rear\"\\verb\" \"\\verb\"37\"\\verb\" \"\\verb\"|\"\\\\\n",
       "\\verb\"|\"\\verb\" \"\\verb\"14\"\\verb\"  \"\\verb\"15\"\\verb\"  \"\\verb\"16\"\\verb\" \"\\verb\"|\"\\verb\" \"\\verb\"22\"\\verb\"   \"\\verb\"23\"\\verb\"   \"\\verb\"24\"\\verb\" \"\\verb\"|\"\\verb\" \"\\verb\"30\"\\verb\"   \"\\verb\"31\"\\verb\"  \"\\verb\"32\"\\verb\" \"\\verb\"|\"\\verb\" \"\\verb\"38\"\\verb\"  \"\\verb\"39\"\\verb\"  \"\\verb\"40\"\\verb\" \"\\verb\"|\"\\\\\n",
       "\\verb|+------------+--------------+-------------+------------+|\\\\\n",
       "\\verb\"             \"\\verb\"|\"\\verb\" \"\\verb\"41\"\\verb\"   \"\\verb\"42\"\\verb\"   \"\\verb\"43\"\\verb\" \"\\verb\"|\"\\\\\n",
       "\\verb\"             \"\\verb\"|\"\\verb\" \"\\verb\"44\"\\verb\" \"\\verb\"bottom\"\\verb\" \"\\verb\"45\"\\verb\" \"\\verb\"|\"\\\\\n",
       "\\verb\"             \"\\verb\"|\"\\verb\" \"\\verb\"46\"\\verb\"   \"\\verb\"47\"\\verb\"   \"\\verb\"48\"\\verb\" \"\\verb\"|\"\\\\\n",
       "\\verb|             |\\verb|+--------------+|\\\\\n",
       "\n",
       "\\end{array}$$"
      ],
      "text/plain": [
       "             +--------------+\n",
       "             |  1    2    3 |\n",
       "             |  4   top   5 |\n",
       "             |  6    7    8 |\n",
       "+------------+--------------+-------------+------------+\n",
       "|  9  10  11 | 17   18   19 | 25   26  27 | 33  34  35 |\n",
       "| 12 left 13 | 20  front 21 | 28 right 29 | 36 rear 37 |\n",
       "| 14  15  16 | 22   23   24 | 30   31  32 | 38  39  40 |\n",
       "+------------+--------------+-------------+------------+\n",
       "             | 41   42   43 |\n",
       "             | 44 bottom 45 |\n",
       "             | 46   47   48 |\n",
       "             +--------------+\n"
      ]
     },
     "execution_count": 6,
     "metadata": {},
     "output_type": "execute_result"
    }
   ],
   "source": [
    "RubiksCube()"
   ]
  },
  {
   "cell_type": "markdown",
   "metadata": {},
   "source": [
    "## Test of matplotlib.pyplot\n",
    "\n",
    "Check that [#32882](https://trac.sagemath.org/ticket/32882) is fixed:"
   ]
  },
  {
   "cell_type": "code",
   "execution_count": 7,
   "metadata": {},
   "outputs": [
    {
     "data": {
      "image/png": "[encoded data removed]",
      "text/plain": [
       "<Figure size 432x288 with 1 Axes>"
      ]
     },
     "metadata": {
      "needs_background": "light"
     },
     "output_type": "display_data"
    }
   ],
   "source": [
    "import matplotlib.pyplot as plt\n",
    "plt.plot([1, 2, 3, 4])\n",
    "plt.ylabel('some numbers')\n",
    "plt.show()"
   ]
  },
  {
   "cell_type": "code",
   "execution_count": 8,
   "metadata": {},
   "outputs": [
    {
     "data": {
      "image/png": "[encoded data removed]",
      "text/plain": [
       "<Figure size 432x288 with 1 Axes>"
      ]
     },
     "metadata": {
      "needs_background": "light"
     },
     "output_type": "display_data"
    }
   ],
   "source": [
    "%display plain\n",
    "import matplotlib.pyplot as plt\n",
    "plt.plot([1, 2, 3, 4])\n",
    "plt.ylabel('some numbers')\n",
    "plt.show()"
   ]
  },
  {
   "cell_type": "markdown",
   "metadata": {},
   "source": [
    "## Test of Jupyter native LaTeX display via `_repr_latex_`"
   ]
  },
  {
   "cell_type": "code",
   "execution_count": 9,
   "metadata": {},
   "outputs": [],
   "source": [
    "%display plain"
   ]
  },
  {
   "cell_type": "code",
   "execution_count": 10,
   "metadata": {},
   "outputs": [
    {
     "data": {
      "text/plain": [
       "sin(x^2)"
      ]
     },
     "execution_count": 10,
     "metadata": {},
     "output_type": "execute_result"
    }
   ],
   "source": [
    "s = sin(x^2)\n",
    "s"
   ]
  },
  {
   "cell_type": "code",
   "execution_count": 11,
   "metadata": {},
   "outputs": [],
   "source": [
    "view(s)"
   ]
  },
  {
   "cell_type": "code",
   "execution_count": 12,
   "metadata": {},
   "outputs": [
    {
     "data": {
      "text/plain": [
       "'\\\\sin\\\\left(x^{2}\\\\right)'"
      ]
     },
     "execution_count": 12,
     "metadata": {},
     "output_type": "execute_result"
    }
   ],
   "source": [
    "s._latex_()"
   ]
  },
  {
   "cell_type": "code",
   "execution_count": 13,
   "metadata": {},
   "outputs": [
    {
     "data": {
      "text/latex": [
       "$\\sin\\left(x^{2}\\right)$"
      ],
      "text/plain": [
       "<__main__.A object at 0x7f1f1ceb7400>"
      ]
     },
     "execution_count": 13,
     "metadata": {},
     "output_type": "execute_result"
    }
   ],
   "source": [
    "class A(SageObject):\n",
    "\n",
    "    def __init__(self, data):\n",
    "        self._data = data\n",
    "\n",
    "    def _repr_latex_(self):\n",
    "        try:\n",
    "            return '$' + self._data._latex_() + '$'\n",
    "        except (AttributeError, NotImplementedError):  \n",
    "            return None  # if None is returned, plain text is used\n",
    "\n",
    "A(sin(x^2))"
   ]
  },
  {
   "cell_type": "code",
   "execution_count": 14,
   "metadata": {},
   "outputs": [
    {
     "data": {
      "text/latex": [
       "$\\sin\\left(x^{2}\\right)$"
      ],
      "text/plain": [
       "<__main__.A object at 0x7f1f1cec14c0>"
      ]
     },
     "execution_count": 14,
     "metadata": {},
     "output_type": "execute_result"
    }
   ],
   "source": [
    "s = A(sin(x^2))\n",
    "s"
   ]
  },
  {
   "cell_type": "code",
   "execution_count": 15,
   "metadata": {},
   "outputs": [
    {
     "name": "stdout",
     "output_type": "stream",
     "text": [
      "<__main__.A object at 0x7f1f1cec14c0>\n"
     ]
    }
   ],
   "source": [
    "print(s)"
   ]
  },
  {
   "cell_type": "code",
   "execution_count": 16,
   "metadata": {},
   "outputs": [
    {
     "data": {
      "text/plain": [
       "[<__main__.A object at 0x7f1f1cec14c0>,\n",
       " <__main__.A object at 0x7f1f1cec14c0>,\n",
       " <__main__.A object at 0x7f1f1cec14c0>]"
      ]
     },
     "execution_count": 16,
     "metadata": {},
     "output_type": "execute_result"
    }
   ],
   "source": [
    "[s, s, s]"
   ]
  },
  {
   "cell_type": "code",
   "execution_count": 17,
   "metadata": {},
   "outputs": [
    {
     "name": "stdout",
     "output_type": "stream",
     "text": [
      "<__main__.A object at 0x7f1f1cec1a00>\n"
     ]
    }
   ],
   "source": [
    "g = plot(sin(x^2))\n",
    "print(A(g))"
   ]
  },
  {
   "cell_type": "code",
   "execution_count": 18,
   "metadata": {},
   "outputs": [
    {
     "data": {
      "text/plain": [
       "<__main__.A object at 0x7f1f1baa5430>"
      ]
     },
     "execution_count": 18,
     "metadata": {},
     "output_type": "execute_result"
    }
   ],
   "source": [
    "s0 = A(None)\n",
    "s0"
   ]
  },
  {
   "cell_type": "markdown",
   "metadata": {},
   "source": [
    "## Check that `%matplotlib notebook` and `%matplotlib widget` work in the scope of  `%display latex`  ([#33469](https://trac.sagemath.org/ticket/33469))"
   ]
  },
  {
   "cell_type": "code",
   "execution_count": 19,
   "metadata": {},
   "outputs": [],
   "source": [
    "%display latex\n",
    "#%display plain"
   ]
  },
  {
   "cell_type": "code",
   "execution_count": 20,
   "metadata": {},
   "outputs": [
    {
     "data": {
      "text/html": [
       "<html>\\[\\newcommand{\\Bold}[1]{\\mathbf{#1}}\\sin\\left(x^{2}\\right)\\]</html>"
      ],
      "text/latex": [
       "$$\\newcommand{\\Bold}[1]{\\mathbf{#1}}\\sin\\left(x^{2}\\right)$$"
      ],
      "text/plain": [
       "sin(x^2)"
      ]
     },
     "execution_count": 20,
     "metadata": {},
     "output_type": "execute_result"
    }
   ],
   "source": [
    "sin(x^2)"
   ]
  },
  {
   "cell_type": "markdown",
   "metadata": {},
   "source": [
    "NB: `%matplotlib notebook` is not supported by **Jupyterlab**; one should use `%matplotlib widget` (which requires the Python package `ipympl`)."
   ]
  },
  {
   "cell_type": "markdown",
   "metadata": {},
   "source": [
    "Workaround proposed at [#33469](https://trac.sagemath.org/ticket/33469):"
   ]
  },
  {
   "cell_type": "code",
   "execution_count": 21,
   "metadata": {},
   "outputs": [
    {
     "data": {
      "text/html": [
       "<html>\\[\\newcommand{\\Bold}[1]{\\mathbf{#1}}\\left(\\verb|&lt;class|\\verb| |\\verb|'IPython.core.display.DisplayObject'>|, \\verb|&lt;class|\\verb| |\\verb|'ipywidgets.widgets.interaction.interactive'>|\\right)\\]</html>"
      ],
      "text/latex": [
       "$$\\newcommand{\\Bold}[1]{\\mathbf{#1}}\\left(\\verb|<class|\\verb| |\\verb|'IPython.core.display.DisplayObject'>|, \\verb|<class|\\verb| |\\verb|'ipywidgets.widgets.interaction.interactive'>|\\right)$$"
      ],
      "text/plain": [
       "(<class 'IPython.core.display.DisplayObject'>,\n",
       " <class 'ipywidgets.widgets.interaction.interactive'>)"
      ]
     },
     "execution_count": 21,
     "metadata": {},
     "output_type": "execute_result"
    }
   ],
   "source": [
    "sage.repl.display.formatter.IPYTHON_NATIVE_TYPES"
   ]
  },
  {
   "cell_type": "code",
   "execution_count": 22,
   "metadata": {},
   "outputs": [
    {
     "data": {
      "text/html": [
       "<html>\\[\\newcommand{\\Bold}[1]{\\mathbf{#1}}\\left(\\verb|&lt;class|\\verb| |\\verb|'IPython.core.display.DisplayObject'>|, \\verb|&lt;class|\\verb| |\\verb|'ipywidgets.widgets.interaction.interactive'>|, \\verb|&lt;class|\\verb| |\\verb|'ipywidgets.widgets.widget.Widget'>|\\right)\\]</html>"
      ],
      "text/latex": [
       "$$\\newcommand{\\Bold}[1]{\\mathbf{#1}}\\left(\\verb|<class|\\verb| |\\verb|'IPython.core.display.DisplayObject'>|, \\verb|<class|\\verb| |\\verb|'ipywidgets.widgets.interaction.interactive'>|, \\verb|<class|\\verb| |\\verb|'ipywidgets.widgets.widget.Widget'>|\\right)$$"
      ],
      "text/plain": [
       "(<class 'IPython.core.display.DisplayObject'>,\n",
       " <class 'ipywidgets.widgets.interaction.interactive'>,\n",
       " <class 'ipywidgets.widgets.widget.Widget'>)"
      ]
     },
     "execution_count": 22,
     "metadata": {},
     "output_type": "execute_result"
    }
   ],
   "source": [
    "import ipywidgets\n",
    "sage.repl.display.formatter.IPYTHON_NATIVE_TYPES += (ipywidgets.Widget,)\n",
    "\n",
    "sage.repl.display.formatter.IPYTHON_NATIVE_TYPES"
   ]
  },
  {
   "cell_type": "code",
   "execution_count": 23,
   "metadata": {},
   "outputs": [
    {
     "data": {
      "application/vnd.jupyter.widget-view+json": {
       "model_id": "ff5d4fea469744e8b03d03428fe754b9",
       "version_major": 2,
       "version_minor": 0
      },
      "image/png": "[encoded data removed]",
      "text/html": [
       "\n",
       "            <div style=\"display: inline-block;\">\n",
       "                <div class=\"jupyter-widgets widget-label\" style=\"text-align: center;\">\n",
       "                    Figure\n",
       "                </div>\n",
       "                <img src='data:image/png;base64,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' width=640.0/>\n",
       "            </div>\n",
       "        "
      ],
      "text/plain": [
       "Canvas(toolbar=Toolbar(toolitems=[('Home', 'Reset original view', 'home', 'home'), ('Back', 'Back to previous view', 'arrow-left', 'back'), ('Forward', 'Forward to next view', 'arrow-right', 'forward'), ('Pan', 'Left button pans, Right button zooms\\nx/y fixes axis, CTRL fixes aspect', 'arrows', 'pan'), ('Zoom', 'Zoom to rectangle\\nx/y fixes axis', 'square-o', 'zoom'), ('Download', 'Download plot', 'floppy-o', 'save_figure')]))"
      ]
     },
     "metadata": {},
     "output_type": "display_data"
    }
   ],
   "source": [
    "#%matplotlib notebook\n",
    "%matplotlib widget\n",
    "import matplotlib.pyplot as plt\n",
    "plt.plot([1, 2, 3, 4])\n",
    "plt.ylabel('some numbers')\n",
    "plt.show()"
   ]
  },
  {
   "cell_type": "markdown",
   "metadata": {},
   "source": [
    "## Test of interact in the scope of `%display latex`"
   ]
  },
  {
   "cell_type": "code",
   "execution_count": 24,
   "metadata": {},
   "outputs": [
    {
     "data": {
      "application/vnd.jupyter.widget-view+json": {
       "model_id": "223b8110590343028bac1f72b2c905ab",
       "version_major": 2,
       "version_minor": 0
      },
      "text/plain": [
       "Interactive function <function f at 0x7f1f1ba5c9d0> with 1 widget\n",
       "  n: IntSlider(value=10, description='n', ma…"
      ]
     },
     "metadata": {},
     "output_type": "display_data"
    }
   ],
   "source": [
    "@interact\n",
    "def f(n=10):\n",
    "    print(n)"
   ]
  },
  {
   "cell_type": "code",
   "execution_count": 25,
   "metadata": {},
   "outputs": [
    {
     "data": {
      "text/html": [
       "<html>\\[\\newcommand{\\Bold}[1]{\\mathbf{#1}}\\sin\\left(x^{2}\\right)\\]</html>"
      ],
      "text/latex": [
       "$$\\newcommand{\\Bold}[1]{\\mathbf{#1}}\\sin\\left(x^{2}\\right)$$"
      ],
      "text/plain": [
       "sin(x^2)"
      ]
     },
     "execution_count": 25,
     "metadata": {},
     "output_type": "execute_result"
    }
   ],
   "source": [
    "%display latex\n",
    "sin(x^2)"
   ]
  },
  {
   "cell_type": "code",
   "execution_count": 26,
   "metadata": {},
   "outputs": [
    {
     "data": {
      "application/vnd.jupyter.widget-view+json": {
       "model_id": "384d8379caa64d0ea576f555c9714939",
       "version_major": 2,
       "version_minor": 0
      },
      "text/plain": [
       "Interactive function <function f at 0x7f1f1ba1b040> with 1 widget\n",
       "  n: IntSlider(value=10, description='n', ma…"
      ]
     },
     "metadata": {},
     "output_type": "display_data"
    }
   ],
   "source": [
    "@interact\n",
    "def f(n=10):\n",
    "    print(n)"
   ]
  },
  {
   "cell_type": "code",
   "execution_count": null,
   "metadata": {},
   "outputs": [],
   "source": []
  }
 ],
 "metadata": {
  "kernelspec": {
   "display_name": "SageMath 9.6.beta4",
   "language": "sage",
   "name": "sagemath"
  },
  "language_info": {
   "codemirror_mode": {
    "name": "ipython",
    "version": 3
   },
   "file_extension": ".py",
   "mimetype": "text/x-python",
   "name": "python",
   "nbconvert_exporter": "python",
   "pygments_lexer": "ipython3",
   "version": "3.8.10"
  }
 },
 "nbformat": 4,
 "nbformat_minor": 4
}
