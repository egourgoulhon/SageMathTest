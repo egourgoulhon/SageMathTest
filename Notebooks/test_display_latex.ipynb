{
 "cells": [
  {
   "cell_type": "code",
   "execution_count": 1,
   "metadata": {},
   "outputs": [
    {
     "data": {
      "text/plain": [
       "'SageMath version 9.5.beta6, Release Date: 2021-11-12'"
      ]
     },
     "execution_count": 1,
     "metadata": {},
     "output_type": "execute_result"
    }
   ],
   "source": [
    "version()"
   ]
  },
  {
   "cell_type": "code",
   "execution_count": 2,
   "metadata": {},
   "outputs": [],
   "source": [
    "%display latex"
   ]
  },
  {
   "cell_type": "code",
   "execution_count": 3,
   "metadata": {},
   "outputs": [
    {
     "data": {
      "text/html": [
       "<html>\\[\\newcommand{\\Bold}[1]{\\mathbf{#1}}\\sin\\left(x^{2}\\right)\\]</html>"
      ],
      "text/latex": [
       "$$\\newcommand{\\Bold}[1]{\\mathbf{#1}}\\sin\\left(x^{2}\\right)$$"
      ],
      "text/plain": [
       "sin(x^2)"
      ]
     },
     "execution_count": 3,
     "metadata": {},
     "output_type": "execute_result"
    }
   ],
   "source": [
    "sin(x^2)"
   ]
  },
  {
   "cell_type": "markdown",
   "metadata": {},
   "source": [
    "## Check the output of type()\n",
    "This is fixed by [#32859](https://trac.sagemath.org/ticket/32859)"
   ]
  },
  {
   "cell_type": "code",
   "execution_count": 4,
   "metadata": {},
   "outputs": [
    {
     "data": {
      "text/html": [
       "<html>\\[\\newcommand{\\Bold}[1]{\\mathbf{#1}}\\verb|&lt;class|\\verb| |\\verb|'sage.symbolic.expression.Expression'>|\\]</html>"
      ],
      "text/latex": [
       "$$\\newcommand{\\Bold}[1]{\\mathbf{#1}}\\verb|<class|\\verb| |\\verb|'sage.symbolic.expression.Expression'>|$$"
      ],
      "text/plain": [
       "<class 'sage.symbolic.expression.Expression'>"
      ]
     },
     "execution_count": 4,
     "metadata": {},
     "output_type": "execute_result"
    }
   ],
   "source": [
    "type(x)"
   ]
  },
  {
   "cell_type": "markdown",
   "metadata": {},
   "source": [
    "## Check that [#32208](https://trac.sagemath.org/ticket/32208) is fixed"
   ]
  },
  {
   "cell_type": "code",
   "execution_count": 5,
   "metadata": {},
   "outputs": [
    {
     "data": {
      "text/html": [
       "<html>\\[\\newcommand{\\Bold}[1]{\\mathbf{#1}}\\verb|{1,|\\verb| |\\verb|2}|\\]</html>"
      ],
      "text/latex": [
       "$$\\newcommand{\\Bold}[1]{\\mathbf{#1}}\\verb|{1,|\\verb| |\\verb|2}|$$"
      ],
      "text/plain": [
       "{1, 2}"
      ]
     },
     "execution_count": 5,
     "metadata": {},
     "output_type": "execute_result"
    }
   ],
   "source": [
    "set([1,2])"
   ]
  },
  {
   "cell_type": "code",
   "execution_count": 6,
   "metadata": {},
   "outputs": [
    {
     "data": {
      "text/html": [
       "<html>\\[\\newcommand{\\Bold}[1]{\\mathbf{#1}}\\begin{array}{l}\n",
       "\\verb|             |\\verb|+--------------+|\\\\\n",
       "\\verb\"             \"\\verb\"|\"\\verb\"  \"\\verb\"1\"\\verb\"    \"\\verb\"2\"\\verb\"    \"\\verb\"3\"\\verb\" \"\\verb\"|\"\\\\\n",
       "\\verb\"             \"\\verb\"|\"\\verb\"  \"\\verb\"4\"\\verb\"   \"\\verb\"top\"\\verb\"   \"\\verb\"5\"\\verb\" \"\\verb\"|\"\\\\\n",
       "\\verb\"             \"\\verb\"|\"\\verb\"  \"\\verb\"6\"\\verb\"    \"\\verb\"7\"\\verb\"    \"\\verb\"8\"\\verb\" \"\\verb\"|\"\\\\\n",
       "\\verb|+------------+--------------+-------------+------------+|\\\\\n",
       "\\verb\"|\"\\verb\"  \"\\verb\"9\"\\verb\"  \"\\verb\"10\"\\verb\"  \"\\verb\"11\"\\verb\" \"\\verb\"|\"\\verb\" \"\\verb\"17\"\\verb\"   \"\\verb\"18\"\\verb\"   \"\\verb\"19\"\\verb\" \"\\verb\"|\"\\verb\" \"\\verb\"25\"\\verb\"   \"\\verb\"26\"\\verb\"  \"\\verb\"27\"\\verb\" \"\\verb\"|\"\\verb\" \"\\verb\"33\"\\verb\"  \"\\verb\"34\"\\verb\"  \"\\verb\"35\"\\verb\" \"\\verb\"|\"\\\\\n",
       "\\verb\"|\"\\verb\" \"\\verb\"12\"\\verb\" \"\\verb\"left\"\\verb\" \"\\verb\"13\"\\verb\" \"\\verb\"|\"\\verb\" \"\\verb\"20\"\\verb\"  \"\\verb\"front\"\\verb\" \"\\verb\"21\"\\verb\" \"\\verb\"|\"\\verb\" \"\\verb\"28\"\\verb\" \"\\verb\"right\"\\verb\" \"\\verb\"29\"\\verb\" \"\\verb\"|\"\\verb\" \"\\verb\"36\"\\verb\" \"\\verb\"rear\"\\verb\" \"\\verb\"37\"\\verb\" \"\\verb\"|\"\\\\\n",
       "\\verb\"|\"\\verb\" \"\\verb\"14\"\\verb\"  \"\\verb\"15\"\\verb\"  \"\\verb\"16\"\\verb\" \"\\verb\"|\"\\verb\" \"\\verb\"22\"\\verb\"   \"\\verb\"23\"\\verb\"   \"\\verb\"24\"\\verb\" \"\\verb\"|\"\\verb\" \"\\verb\"30\"\\verb\"   \"\\verb\"31\"\\verb\"  \"\\verb\"32\"\\verb\" \"\\verb\"|\"\\verb\" \"\\verb\"38\"\\verb\"  \"\\verb\"39\"\\verb\"  \"\\verb\"40\"\\verb\" \"\\verb\"|\"\\\\\n",
       "\\verb|+------------+--------------+-------------+------------+|\\\\\n",
       "\\verb\"             \"\\verb\"|\"\\verb\" \"\\verb\"41\"\\verb\"   \"\\verb\"42\"\\verb\"   \"\\verb\"43\"\\verb\" \"\\verb\"|\"\\\\\n",
       "\\verb\"             \"\\verb\"|\"\\verb\" \"\\verb\"44\"\\verb\" \"\\verb\"bottom\"\\verb\" \"\\verb\"45\"\\verb\" \"\\verb\"|\"\\\\\n",
       "\\verb\"             \"\\verb\"|\"\\verb\" \"\\verb\"46\"\\verb\"   \"\\verb\"47\"\\verb\"   \"\\verb\"48\"\\verb\" \"\\verb\"|\"\\\\\n",
       "\\verb|             |\\verb|+--------------+|\\\\\n",
       "\n",
       "\\end{array}\\]</html>"
      ],
      "text/latex": [
       "$$\\newcommand{\\Bold}[1]{\\mathbf{#1}}\\begin{array}{l}\n",
       "\\verb|             |\\verb|+--------------+|\\\\\n",
       "\\verb\"             \"\\verb\"|\"\\verb\"  \"\\verb\"1\"\\verb\"    \"\\verb\"2\"\\verb\"    \"\\verb\"3\"\\verb\" \"\\verb\"|\"\\\\\n",
       "\\verb\"             \"\\verb\"|\"\\verb\"  \"\\verb\"4\"\\verb\"   \"\\verb\"top\"\\verb\"   \"\\verb\"5\"\\verb\" \"\\verb\"|\"\\\\\n",
       "\\verb\"             \"\\verb\"|\"\\verb\"  \"\\verb\"6\"\\verb\"    \"\\verb\"7\"\\verb\"    \"\\verb\"8\"\\verb\" \"\\verb\"|\"\\\\\n",
       "\\verb|+------------+--------------+-------------+------------+|\\\\\n",
       "\\verb\"|\"\\verb\"  \"\\verb\"9\"\\verb\"  \"\\verb\"10\"\\verb\"  \"\\verb\"11\"\\verb\" \"\\verb\"|\"\\verb\" \"\\verb\"17\"\\verb\"   \"\\verb\"18\"\\verb\"   \"\\verb\"19\"\\verb\" \"\\verb\"|\"\\verb\" \"\\verb\"25\"\\verb\"   \"\\verb\"26\"\\verb\"  \"\\verb\"27\"\\verb\" \"\\verb\"|\"\\verb\" \"\\verb\"33\"\\verb\"  \"\\verb\"34\"\\verb\"  \"\\verb\"35\"\\verb\" \"\\verb\"|\"\\\\\n",
       "\\verb\"|\"\\verb\" \"\\verb\"12\"\\verb\" \"\\verb\"left\"\\verb\" \"\\verb\"13\"\\verb\" \"\\verb\"|\"\\verb\" \"\\verb\"20\"\\verb\"  \"\\verb\"front\"\\verb\" \"\\verb\"21\"\\verb\" \"\\verb\"|\"\\verb\" \"\\verb\"28\"\\verb\" \"\\verb\"right\"\\verb\" \"\\verb\"29\"\\verb\" \"\\verb\"|\"\\verb\" \"\\verb\"36\"\\verb\" \"\\verb\"rear\"\\verb\" \"\\verb\"37\"\\verb\" \"\\verb\"|\"\\\\\n",
       "\\verb\"|\"\\verb\" \"\\verb\"14\"\\verb\"  \"\\verb\"15\"\\verb\"  \"\\verb\"16\"\\verb\" \"\\verb\"|\"\\verb\" \"\\verb\"22\"\\verb\"   \"\\verb\"23\"\\verb\"   \"\\verb\"24\"\\verb\" \"\\verb\"|\"\\verb\" \"\\verb\"30\"\\verb\"   \"\\verb\"31\"\\verb\"  \"\\verb\"32\"\\verb\" \"\\verb\"|\"\\verb\" \"\\verb\"38\"\\verb\"  \"\\verb\"39\"\\verb\"  \"\\verb\"40\"\\verb\" \"\\verb\"|\"\\\\\n",
       "\\verb|+------------+--------------+-------------+------------+|\\\\\n",
       "\\verb\"             \"\\verb\"|\"\\verb\" \"\\verb\"41\"\\verb\"   \"\\verb\"42\"\\verb\"   \"\\verb\"43\"\\verb\" \"\\verb\"|\"\\\\\n",
       "\\verb\"             \"\\verb\"|\"\\verb\" \"\\verb\"44\"\\verb\" \"\\verb\"bottom\"\\verb\" \"\\verb\"45\"\\verb\" \"\\verb\"|\"\\\\\n",
       "\\verb\"             \"\\verb\"|\"\\verb\" \"\\verb\"46\"\\verb\"   \"\\verb\"47\"\\verb\"   \"\\verb\"48\"\\verb\" \"\\verb\"|\"\\\\\n",
       "\\verb|             |\\verb|+--------------+|\\\\\n",
       "\n",
       "\\end{array}$$"
      ],
      "text/plain": [
       "             +--------------+\n",
       "             |  1    2    3 |\n",
       "             |  4   top   5 |\n",
       "             |  6    7    8 |\n",
       "+------------+--------------+-------------+------------+\n",
       "|  9  10  11 | 17   18   19 | 25   26  27 | 33  34  35 |\n",
       "| 12 left 13 | 20  front 21 | 28 right 29 | 36 rear 37 |\n",
       "| 14  15  16 | 22   23   24 | 30   31  32 | 38  39  40 |\n",
       "+------------+--------------+-------------+------------+\n",
       "             | 41   42   43 |\n",
       "             | 44 bottom 45 |\n",
       "             | 46   47   48 |\n",
       "             +--------------+\n"
      ]
     },
     "execution_count": 6,
     "metadata": {},
     "output_type": "execute_result"
    }
   ],
   "source": [
    "RubiksCube()"
   ]
  },
  {
   "cell_type": "markdown",
   "metadata": {},
   "source": [
    "## Test of matplotlib.pyplot"
   ]
  },
  {
   "cell_type": "code",
   "execution_count": 7,
   "metadata": {},
   "outputs": [
    {
     "data": {
      "text/html": [
       "<html>\\[\\newcommand{\\Bold}[1]{\\mathbf{#1}}\\verb|Figure(432x288)|\\]</html>"
      ],
      "text/latex": [
       "$$\\newcommand{\\Bold}[1]{\\mathbf{#1}}\\verb|Figure(432x288)|$$"
      ],
      "text/plain": [
       "<Figure size 432x288 with 1 Axes>"
      ]
     },
     "metadata": {
      "needs_background": "light"
     },
     "output_type": "display_data"
    }
   ],
   "source": [
    "import matplotlib.pyplot as plt\n",
    "plt.plot([1, 2, 3, 4])\n",
    "plt.ylabel('some numbers')\n",
    "plt.show()"
   ]
  },
  {
   "cell_type": "code",
   "execution_count": 8,
   "metadata": {
    "scrolled": false
   },
   "outputs": [
    {
     "data": {
      "image/png": "[encoded data removed]",
      "text/plain": [
       "<Figure size 432x288 with 1 Axes>"
      ]
     },
     "metadata": {
      "needs_background": "light"
     },
     "output_type": "display_data"
    }
   ],
   "source": [
    "%display plain\n",
    "import matplotlib.pyplot as plt\n",
    "plt.plot([1, 2, 3, 4])\n",
    "plt.ylabel('some numbers')\n",
    "plt.show()"
   ]
  },
  {
   "cell_type": "code",
   "execution_count": 9,
   "metadata": {},
   "outputs": [
    {
     "data": {
      "text/plain": [
       "sin(x^2)"
      ]
     },
     "execution_count": 9,
     "metadata": {},
     "output_type": "execute_result"
    }
   ],
   "source": [
    "s = sin(x^2)\n",
    "s"
   ]
  },
  {
   "cell_type": "code",
   "execution_count": 10,
   "metadata": {},
   "outputs": [],
   "source": [
    "view(s)"
   ]
  },
  {
   "cell_type": "code",
   "execution_count": 11,
   "metadata": {},
   "outputs": [
    {
     "data": {
      "text/plain": [
       "'\\\\sin\\\\left(x^{2}\\\\right)'"
      ]
     },
     "execution_count": 11,
     "metadata": {},
     "output_type": "execute_result"
    }
   ],
   "source": [
    "s._latex_()"
   ]
  },
  {
   "cell_type": "code",
   "execution_count": 12,
   "metadata": {},
   "outputs": [
    {
     "data": {
      "text/latex": [
       "$\\sin\\left(x^{2}\\right)$"
      ],
      "text/plain": [
       "<__main__.A object at 0x7ff4248f8610>"
      ]
     },
     "execution_count": 12,
     "metadata": {},
     "output_type": "execute_result"
    }
   ],
   "source": [
    "class A(SageObject):\n",
    "\n",
    "    def __init__(self, data):\n",
    "        self._data = data\n",
    "\n",
    "    def _repr_latex_(self):\n",
    "        try:\n",
    "            return '$' + self._data._latex_() + '$'\n",
    "        except (AttributeError, NotImplementedError):  \n",
    "            return None  # if None is returned, plain text is used\n",
    "\n",
    "A(sin(x^2))"
   ]
  },
  {
   "cell_type": "code",
   "execution_count": 13,
   "metadata": {},
   "outputs": [],
   "source": [
    "s = A(sin(x^2))"
   ]
  },
  {
   "cell_type": "code",
   "execution_count": 14,
   "metadata": {},
   "outputs": [
    {
     "data": {
      "text/latex": [
       "$\\sin\\left(x^{2}\\right)$"
      ],
      "text/plain": [
       "<__main__.A object at 0x7ff4248f8430>"
      ]
     },
     "execution_count": 14,
     "metadata": {},
     "output_type": "execute_result"
    }
   ],
   "source": [
    "s"
   ]
  },
  {
   "cell_type": "code",
   "execution_count": 15,
   "metadata": {},
   "outputs": [
    {
     "name": "stdout",
     "output_type": "stream",
     "text": [
      "<__main__.A object at 0x7ff4248f8430>\n"
     ]
    }
   ],
   "source": [
    "print(s)"
   ]
  },
  {
   "cell_type": "code",
   "execution_count": 16,
   "metadata": {},
   "outputs": [
    {
     "data": {
      "text/plain": [
       "[<__main__.A object at 0x7ff4248f8430>,\n",
       " <__main__.A object at 0x7ff4248f8430>,\n",
       " <__main__.A object at 0x7ff4248f8430>]"
      ]
     },
     "execution_count": 16,
     "metadata": {},
     "output_type": "execute_result"
    }
   ],
   "source": [
    "[s, s, s]"
   ]
  },
  {
   "cell_type": "code",
   "execution_count": 17,
   "metadata": {},
   "outputs": [
    {
     "name": "stdout",
     "output_type": "stream",
     "text": [
      "<__main__.A object at 0x7ff4248f8f70>\n"
     ]
    }
   ],
   "source": [
    "g = plot(sin(x^2))\n",
    "print(A(g))"
   ]
  },
  {
   "cell_type": "code",
   "execution_count": 18,
   "metadata": {},
   "outputs": [
    {
     "data": {
      "text/plain": [
       "<__main__.A object at 0x7ff3cdaf3bb0>"
      ]
     },
     "execution_count": 18,
     "metadata": {},
     "output_type": "execute_result"
    }
   ],
   "source": [
    "s0 = A(None)\n",
    "s0"
   ]
  },
  {
   "cell_type": "markdown",
   "metadata": {},
   "source": [
    "## Issue with `%display latex` and `%matplotlib notebook`"
   ]
  },
  {
   "cell_type": "code",
   "execution_count": 19,
   "metadata": {},
   "outputs": [],
   "source": [
    "%display latex\n",
    "#%display plain"
   ]
  },
  {
   "cell_type": "code",
   "execution_count": 20,
   "metadata": {},
   "outputs": [
    {
     "data": {
      "text/html": [
       "<html>\\[\\newcommand{\\Bold}[1]{\\mathbf{#1}}\\sin\\left(x^{2}\\right)\\]</html>"
      ],
      "text/latex": [
       "$$\\newcommand{\\Bold}[1]{\\mathbf{#1}}\\sin\\left(x^{2}\\right)$$"
      ],
      "text/plain": [
       "sin(x^2)"
      ]
     },
     "execution_count": 20,
     "metadata": {},
     "output_type": "execute_result"
    }
   ],
   "source": [
    "sin(x^2)"
   ]
  },
  {
   "cell_type": "code",
   "execution_count": 21,
   "metadata": {},
   "outputs": [
    {
     "data": {
      "application/javascript": [
       "/* Put everything inside the global mpl namespace */\n",
       "/* global mpl */\n",
       "window.mpl = {};\n",
       "\n",
       "mpl.get_websocket_type = function () {\n",
       "    if (typeof WebSocket !== 'undefined') {\n",
       "        return WebSocket;\n",
       "    } else if (typeof MozWebSocket !== 'undefined') {\n",
       "        return MozWebSocket;\n",
       "    } else {\n",
       "        alert(\n",
       "            'Your browser does not have WebSocket support. ' +\n",
       "                'Please try Chrome, Safari or Firefox ≥ 6. ' +\n",
       "                'Firefox 4 and 5 are also supported but you ' +\n",
       "                'have to enable WebSockets in about:config.'\n",
       "        );\n",
       "    }\n",
       "};\n",
       "\n",
       "mpl.figure = function (figure_id, websocket, ondownload, parent_element) {\n",
       "    this.id = figure_id;\n",
       "\n",
       "    this.ws = websocket;\n",
       "\n",
       "    this.supports_binary = this.ws.binaryType !== undefined;\n",
       "\n",
       "    if (!this.supports_binary) {\n",
       "        var warnings = document.getElementById('mpl-warnings');\n",
       "        if (warnings) {\n",
       "            warnings.style.display = 'block';\n",
       "            warnings.textContent =\n",
       "                'This browser does not support binary websocket messages. ' +\n",
       "                'Performance may be slow.';\n",
       "        }\n",
       "    }\n",
       "\n",
       "    this.imageObj = new Image();\n",
       "\n",
       "    this.context = undefined;\n",
       "    this.message = undefined;\n",
       "    this.canvas = undefined;\n",
       "    this.rubberband_canvas = undefined;\n",
       "    this.rubberband_context = undefined;\n",
       "    this.format_dropdown = undefined;\n",
       "\n",
       "    this.image_mode = 'full';\n",
       "\n",
       "    this.root = document.createElement('div');\n",
       "    this.root.setAttribute('style', 'display: inline-block');\n",
       "    this._root_extra_style(this.root);\n",
       "\n",
       "    parent_element.appendChild(this.root);\n",
       "\n",
       "    this._init_header(this);\n",
       "    this._init_canvas(this);\n",
       "    this._init_toolbar(this);\n",
       "\n",
       "    var fig = this;\n",
       "\n",
       "    this.waiting = false;\n",
       "\n",
       "    this.ws.onopen = function () {\n",
       "        fig.send_message('supports_binary', { value: fig.supports_binary });\n",
       "        fig.send_message('send_image_mode', {});\n",
       "        if (fig.ratio !== 1) {\n",
       "            fig.send_message('set_dpi_ratio', { dpi_ratio: fig.ratio });\n",
       "        }\n",
       "        fig.send_message('refresh', {});\n",
       "    };\n",
       "\n",
       "    this.imageObj.onload = function () {\n",
       "        if (fig.image_mode === 'full') {\n",
       "            // Full images could contain transparency (where diff images\n",
       "            // almost always do), so we need to clear the canvas so that\n",
       "            // there is no ghosting.\n",
       "            fig.context.clearRect(0, 0, fig.canvas.width, fig.canvas.height);\n",
       "        }\n",
       "        fig.context.drawImage(fig.imageObj, 0, 0);\n",
       "    };\n",
       "\n",
       "    this.imageObj.onunload = function () {\n",
       "        fig.ws.close();\n",
       "    };\n",
       "\n",
       "    this.ws.onmessage = this._make_on_message_function(this);\n",
       "\n",
       "    this.ondownload = ondownload;\n",
       "};\n",
       "\n",
       "mpl.figure.prototype._init_header = function () {\n",
       "    var titlebar = document.createElement('div');\n",
       "    titlebar.classList =\n",
       "        'ui-dialog-titlebar ui-widget-header ui-corner-all ui-helper-clearfix';\n",
       "    var titletext = document.createElement('div');\n",
       "    titletext.classList = 'ui-dialog-title';\n",
       "    titletext.setAttribute(\n",
       "        'style',\n",
       "        'width: 100%; text-align: center; padding: 3px;'\n",
       "    );\n",
       "    titlebar.appendChild(titletext);\n",
       "    this.root.appendChild(titlebar);\n",
       "    this.header = titletext;\n",
       "};\n",
       "\n",
       "mpl.figure.prototype._canvas_extra_style = function (_canvas_div) {};\n",
       "\n",
       "mpl.figure.prototype._root_extra_style = function (_canvas_div) {};\n",
       "\n",
       "mpl.figure.prototype._init_canvas = function () {\n",
       "    var fig = this;\n",
       "\n",
       "    var canvas_div = (this.canvas_div = document.createElement('div'));\n",
       "    canvas_div.setAttribute(\n",
       "        'style',\n",
       "        'border: 1px solid #ddd;' +\n",
       "            'box-sizing: content-box;' +\n",
       "            'clear: both;' +\n",
       "            'min-height: 1px;' +\n",
       "            'min-width: 1px;' +\n",
       "            'outline: 0;' +\n",
       "            'overflow: hidden;' +\n",
       "            'position: relative;' +\n",
       "            'resize: both;'\n",
       "    );\n",
       "\n",
       "    function on_keyboard_event_closure(name) {\n",
       "        return function (event) {\n",
       "            return fig.key_event(event, name);\n",
       "        };\n",
       "    }\n",
       "\n",
       "    canvas_div.addEventListener(\n",
       "        'keydown',\n",
       "        on_keyboard_event_closure('key_press')\n",
       "    );\n",
       "    canvas_div.addEventListener(\n",
       "        'keyup',\n",
       "        on_keyboard_event_closure('key_release')\n",
       "    );\n",
       "\n",
       "    this._canvas_extra_style(canvas_div);\n",
       "    this.root.appendChild(canvas_div);\n",
       "\n",
       "    var canvas = (this.canvas = document.createElement('canvas'));\n",
       "    canvas.classList.add('mpl-canvas');\n",
       "    canvas.setAttribute('style', 'box-sizing: content-box;');\n",
       "\n",
       "    this.context = canvas.getContext('2d');\n",
       "\n",
       "    var backingStore =\n",
       "        this.context.backingStorePixelRatio ||\n",
       "        this.context.webkitBackingStorePixelRatio ||\n",
       "        this.context.mozBackingStorePixelRatio ||\n",
       "        this.context.msBackingStorePixelRatio ||\n",
       "        this.context.oBackingStorePixelRatio ||\n",
       "        this.context.backingStorePixelRatio ||\n",
       "        1;\n",
       "\n",
       "    this.ratio = (window.devicePixelRatio || 1) / backingStore;\n",
       "\n",
       "    var rubberband_canvas = (this.rubberband_canvas = document.createElement(\n",
       "        'canvas'\n",
       "    ));\n",
       "    rubberband_canvas.setAttribute(\n",
       "        'style',\n",
       "        'box-sizing: content-box; position: absolute; left: 0; top: 0; z-index: 1;'\n",
       "    );\n",
       "\n",
       "    // Apply a ponyfill if ResizeObserver is not implemented by browser.\n",
       "    if (this.ResizeObserver === undefined) {\n",
       "        if (window.ResizeObserver !== undefined) {\n",
       "            this.ResizeObserver = window.ResizeObserver;\n",
       "        } else {\n",
       "            var obs = _JSXTOOLS_RESIZE_OBSERVER({});\n",
       "            this.ResizeObserver = obs.ResizeObserver;\n",
       "        }\n",
       "    }\n",
       "\n",
       "    this.resizeObserverInstance = new this.ResizeObserver(function (entries) {\n",
       "        var nentries = entries.length;\n",
       "        for (var i = 0; i < nentries; i++) {\n",
       "            var entry = entries[i];\n",
       "            var width, height;\n",
       "            if (entry.contentBoxSize) {\n",
       "                if (entry.contentBoxSize instanceof Array) {\n",
       "                    // Chrome 84 implements new version of spec.\n",
       "                    width = entry.contentBoxSize[0].inlineSize;\n",
       "                    height = entry.contentBoxSize[0].blockSize;\n",
       "                } else {\n",
       "                    // Firefox implements old version of spec.\n",
       "                    width = entry.contentBoxSize.inlineSize;\n",
       "                    height = entry.contentBoxSize.blockSize;\n",
       "                }\n",
       "            } else {\n",
       "                // Chrome <84 implements even older version of spec.\n",
       "                width = entry.contentRect.width;\n",
       "                height = entry.contentRect.height;\n",
       "            }\n",
       "\n",
       "            // Keep the size of the canvas and rubber band canvas in sync with\n",
       "            // the canvas container.\n",
       "            if (entry.devicePixelContentBoxSize) {\n",
       "                // Chrome 84 implements new version of spec.\n",
       "                canvas.setAttribute(\n",
       "                    'width',\n",
       "                    entry.devicePixelContentBoxSize[0].inlineSize\n",
       "                );\n",
       "                canvas.setAttribute(\n",
       "                    'height',\n",
       "                    entry.devicePixelContentBoxSize[0].blockSize\n",
       "                );\n",
       "            } else {\n",
       "                canvas.setAttribute('width', width * fig.ratio);\n",
       "                canvas.setAttribute('height', height * fig.ratio);\n",
       "            }\n",
       "            canvas.setAttribute(\n",
       "                'style',\n",
       "                'width: ' + width + 'px; height: ' + height + 'px;'\n",
       "            );\n",
       "\n",
       "            rubberband_canvas.setAttribute('width', width);\n",
       "            rubberband_canvas.setAttribute('height', height);\n",
       "\n",
       "            // And update the size in Python. We ignore the initial 0/0 size\n",
       "            // that occurs as the element is placed into the DOM, which should\n",
       "            // otherwise not happen due to the minimum size styling.\n",
       "            if (fig.ws.readyState == 1 && width != 0 && height != 0) {\n",
       "                fig.request_resize(width, height);\n",
       "            }\n",
       "        }\n",
       "    });\n",
       "    this.resizeObserverInstance.observe(canvas_div);\n",
       "\n",
       "    function on_mouse_event_closure(name) {\n",
       "        return function (event) {\n",
       "            return fig.mouse_event(event, name);\n",
       "        };\n",
       "    }\n",
       "\n",
       "    rubberband_canvas.addEventListener(\n",
       "        'mousedown',\n",
       "        on_mouse_event_closure('button_press')\n",
       "    );\n",
       "    rubberband_canvas.addEventListener(\n",
       "        'mouseup',\n",
       "        on_mouse_event_closure('button_release')\n",
       "    );\n",
       "    // Throttle sequential mouse events to 1 every 20ms.\n",
       "    rubberband_canvas.addEventListener(\n",
       "        'mousemove',\n",
       "        on_mouse_event_closure('motion_notify')\n",
       "    );\n",
       "\n",
       "    rubberband_canvas.addEventListener(\n",
       "        'mouseenter',\n",
       "        on_mouse_event_closure('figure_enter')\n",
       "    );\n",
       "    rubberband_canvas.addEventListener(\n",
       "        'mouseleave',\n",
       "        on_mouse_event_closure('figure_leave')\n",
       "    );\n",
       "\n",
       "    canvas_div.addEventListener('wheel', function (event) {\n",
       "        if (event.deltaY < 0) {\n",
       "            event.step = 1;\n",
       "        } else {\n",
       "            event.step = -1;\n",
       "        }\n",
       "        on_mouse_event_closure('scroll')(event);\n",
       "    });\n",
       "\n",
       "    canvas_div.appendChild(canvas);\n",
       "    canvas_div.appendChild(rubberband_canvas);\n",
       "\n",
       "    this.rubberband_context = rubberband_canvas.getContext('2d');\n",
       "    this.rubberband_context.strokeStyle = '#000000';\n",
       "\n",
       "    this._resize_canvas = function (width, height, forward) {\n",
       "        if (forward) {\n",
       "            canvas_div.style.width = width + 'px';\n",
       "            canvas_div.style.height = height + 'px';\n",
       "        }\n",
       "    };\n",
       "\n",
       "    // Disable right mouse context menu.\n",
       "    this.rubberband_canvas.addEventListener('contextmenu', function (_e) {\n",
       "        event.preventDefault();\n",
       "        return false;\n",
       "    });\n",
       "\n",
       "    function set_focus() {\n",
       "        canvas.focus();\n",
       "        canvas_div.focus();\n",
       "    }\n",
       "\n",
       "    window.setTimeout(set_focus, 100);\n",
       "};\n",
       "\n",
       "mpl.figure.prototype._init_toolbar = function () {\n",
       "    var fig = this;\n",
       "\n",
       "    var toolbar = document.createElement('div');\n",
       "    toolbar.classList = 'mpl-toolbar';\n",
       "    this.root.appendChild(toolbar);\n",
       "\n",
       "    function on_click_closure(name) {\n",
       "        return function (_event) {\n",
       "            return fig.toolbar_button_onclick(name);\n",
       "        };\n",
       "    }\n",
       "\n",
       "    function on_mouseover_closure(tooltip) {\n",
       "        return function (event) {\n",
       "            if (!event.currentTarget.disabled) {\n",
       "                return fig.toolbar_button_onmouseover(tooltip);\n",
       "            }\n",
       "        };\n",
       "    }\n",
       "\n",
       "    fig.buttons = {};\n",
       "    var buttonGroup = document.createElement('div');\n",
       "    buttonGroup.classList = 'mpl-button-group';\n",
       "    for (var toolbar_ind in mpl.toolbar_items) {\n",
       "        var name = mpl.toolbar_items[toolbar_ind][0];\n",
       "        var tooltip = mpl.toolbar_items[toolbar_ind][1];\n",
       "        var image = mpl.toolbar_items[toolbar_ind][2];\n",
       "        var method_name = mpl.toolbar_items[toolbar_ind][3];\n",
       "\n",
       "        if (!name) {\n",
       "            /* Instead of a spacer, we start a new button group. */\n",
       "            if (buttonGroup.hasChildNodes()) {\n",
       "                toolbar.appendChild(buttonGroup);\n",
       "            }\n",
       "            buttonGroup = document.createElement('div');\n",
       "            buttonGroup.classList = 'mpl-button-group';\n",
       "            continue;\n",
       "        }\n",
       "\n",
       "        var button = (fig.buttons[name] = document.createElement('button'));\n",
       "        button.classList = 'mpl-widget';\n",
       "        button.setAttribute('role', 'button');\n",
       "        button.setAttribute('aria-disabled', 'false');\n",
       "        button.addEventListener('click', on_click_closure(method_name));\n",
       "        button.addEventListener('mouseover', on_mouseover_closure(tooltip));\n",
       "\n",
       "        var icon_img = document.createElement('img');\n",
       "        icon_img.src = '_images/' + image + '.png';\n",
       "        icon_img.srcset = '_images/' + image + '_large.png 2x';\n",
       "        icon_img.alt = tooltip;\n",
       "        button.appendChild(icon_img);\n",
       "\n",
       "        buttonGroup.appendChild(button);\n",
       "    }\n",
       "\n",
       "    if (buttonGroup.hasChildNodes()) {\n",
       "        toolbar.appendChild(buttonGroup);\n",
       "    }\n",
       "\n",
       "    var fmt_picker = document.createElement('select');\n",
       "    fmt_picker.classList = 'mpl-widget';\n",
       "    toolbar.appendChild(fmt_picker);\n",
       "    this.format_dropdown = fmt_picker;\n",
       "\n",
       "    for (var ind in mpl.extensions) {\n",
       "        var fmt = mpl.extensions[ind];\n",
       "        var option = document.createElement('option');\n",
       "        option.selected = fmt === mpl.default_extension;\n",
       "        option.innerHTML = fmt;\n",
       "        fmt_picker.appendChild(option);\n",
       "    }\n",
       "\n",
       "    var status_bar = document.createElement('span');\n",
       "    status_bar.classList = 'mpl-message';\n",
       "    toolbar.appendChild(status_bar);\n",
       "    this.message = status_bar;\n",
       "};\n",
       "\n",
       "mpl.figure.prototype.request_resize = function (x_pixels, y_pixels) {\n",
       "    // Request matplotlib to resize the figure. Matplotlib will then trigger a resize in the client,\n",
       "    // which will in turn request a refresh of the image.\n",
       "    this.send_message('resize', { width: x_pixels, height: y_pixels });\n",
       "};\n",
       "\n",
       "mpl.figure.prototype.send_message = function (type, properties) {\n",
       "    properties['type'] = type;\n",
       "    properties['figure_id'] = this.id;\n",
       "    this.ws.send(JSON.stringify(properties));\n",
       "};\n",
       "\n",
       "mpl.figure.prototype.send_draw_message = function () {\n",
       "    if (!this.waiting) {\n",
       "        this.waiting = true;\n",
       "        this.ws.send(JSON.stringify({ type: 'draw', figure_id: this.id }));\n",
       "    }\n",
       "};\n",
       "\n",
       "mpl.figure.prototype.handle_save = function (fig, _msg) {\n",
       "    var format_dropdown = fig.format_dropdown;\n",
       "    var format = format_dropdown.options[format_dropdown.selectedIndex].value;\n",
       "    fig.ondownload(fig, format);\n",
       "};\n",
       "\n",
       "mpl.figure.prototype.handle_resize = function (fig, msg) {\n",
       "    var size = msg['size'];\n",
       "    if (size[0] !== fig.canvas.width || size[1] !== fig.canvas.height) {\n",
       "        fig._resize_canvas(size[0], size[1], msg['forward']);\n",
       "        fig.send_message('refresh', {});\n",
       "    }\n",
       "};\n",
       "\n",
       "mpl.figure.prototype.handle_rubberband = function (fig, msg) {\n",
       "    var x0 = msg['x0'] / fig.ratio;\n",
       "    var y0 = (fig.canvas.height - msg['y0']) / fig.ratio;\n",
       "    var x1 = msg['x1'] / fig.ratio;\n",
       "    var y1 = (fig.canvas.height - msg['y1']) / fig.ratio;\n",
       "    x0 = Math.floor(x0) + 0.5;\n",
       "    y0 = Math.floor(y0) + 0.5;\n",
       "    x1 = Math.floor(x1) + 0.5;\n",
       "    y1 = Math.floor(y1) + 0.5;\n",
       "    var min_x = Math.min(x0, x1);\n",
       "    var min_y = Math.min(y0, y1);\n",
       "    var width = Math.abs(x1 - x0);\n",
       "    var height = Math.abs(y1 - y0);\n",
       "\n",
       "    fig.rubberband_context.clearRect(\n",
       "        0,\n",
       "        0,\n",
       "        fig.canvas.width / fig.ratio,\n",
       "        fig.canvas.height / fig.ratio\n",
       "    );\n",
       "\n",
       "    fig.rubberband_context.strokeRect(min_x, min_y, width, height);\n",
       "};\n",
       "\n",
       "mpl.figure.prototype.handle_figure_label = function (fig, msg) {\n",
       "    // Updates the figure title.\n",
       "    fig.header.textContent = msg['label'];\n",
       "};\n",
       "\n",
       "mpl.figure.prototype.handle_cursor = function (fig, msg) {\n",
       "    var cursor = msg['cursor'];\n",
       "    switch (cursor) {\n",
       "        case 0:\n",
       "            cursor = 'pointer';\n",
       "            break;\n",
       "        case 1:\n",
       "            cursor = 'default';\n",
       "            break;\n",
       "        case 2:\n",
       "            cursor = 'crosshair';\n",
       "            break;\n",
       "        case 3:\n",
       "            cursor = 'move';\n",
       "            break;\n",
       "    }\n",
       "    fig.rubberband_canvas.style.cursor = cursor;\n",
       "};\n",
       "\n",
       "mpl.figure.prototype.handle_message = function (fig, msg) {\n",
       "    fig.message.textContent = msg['message'];\n",
       "};\n",
       "\n",
       "mpl.figure.prototype.handle_draw = function (fig, _msg) {\n",
       "    // Request the server to send over a new figure.\n",
       "    fig.send_draw_message();\n",
       "};\n",
       "\n",
       "mpl.figure.prototype.handle_image_mode = function (fig, msg) {\n",
       "    fig.image_mode = msg['mode'];\n",
       "};\n",
       "\n",
       "mpl.figure.prototype.handle_history_buttons = function (fig, msg) {\n",
       "    for (var key in msg) {\n",
       "        if (!(key in fig.buttons)) {\n",
       "            continue;\n",
       "        }\n",
       "        fig.buttons[key].disabled = !msg[key];\n",
       "        fig.buttons[key].setAttribute('aria-disabled', !msg[key]);\n",
       "    }\n",
       "};\n",
       "\n",
       "mpl.figure.prototype.handle_navigate_mode = function (fig, msg) {\n",
       "    if (msg['mode'] === 'PAN') {\n",
       "        fig.buttons['Pan'].classList.add('active');\n",
       "        fig.buttons['Zoom'].classList.remove('active');\n",
       "    } else if (msg['mode'] === 'ZOOM') {\n",
       "        fig.buttons['Pan'].classList.remove('active');\n",
       "        fig.buttons['Zoom'].classList.add('active');\n",
       "    } else {\n",
       "        fig.buttons['Pan'].classList.remove('active');\n",
       "        fig.buttons['Zoom'].classList.remove('active');\n",
       "    }\n",
       "};\n",
       "\n",
       "mpl.figure.prototype.updated_canvas_event = function () {\n",
       "    // Called whenever the canvas gets updated.\n",
       "    this.send_message('ack', {});\n",
       "};\n",
       "\n",
       "// A function to construct a web socket function for onmessage handling.\n",
       "// Called in the figure constructor.\n",
       "mpl.figure.prototype._make_on_message_function = function (fig) {\n",
       "    return function socket_on_message(evt) {\n",
       "        if (evt.data instanceof Blob) {\n",
       "            /* FIXME: We get \"Resource interpreted as Image but\n",
       "             * transferred with MIME type text/plain:\" errors on\n",
       "             * Chrome.  But how to set the MIME type?  It doesn't seem\n",
       "             * to be part of the websocket stream */\n",
       "            evt.data.type = 'image/png';\n",
       "\n",
       "            /* Free the memory for the previous frames */\n",
       "            if (fig.imageObj.src) {\n",
       "                (window.URL || window.webkitURL).revokeObjectURL(\n",
       "                    fig.imageObj.src\n",
       "                );\n",
       "            }\n",
       "\n",
       "            fig.imageObj.src = (window.URL || window.webkitURL).createObjectURL(\n",
       "                evt.data\n",
       "            );\n",
       "            fig.updated_canvas_event();\n",
       "            fig.waiting = false;\n",
       "            return;\n",
       "        } else if (\n",
       "            typeof evt.data === 'string' &&\n",
       "            evt.data.slice(0, 21) === 'data:image/png;base64'\n",
       "        ) {\n",
       "            fig.imageObj.src = evt.data;\n",
       "            fig.updated_canvas_event();\n",
       "            fig.waiting = false;\n",
       "            return;\n",
       "        }\n",
       "\n",
       "        var msg = JSON.parse(evt.data);\n",
       "        var msg_type = msg['type'];\n",
       "\n",
       "        // Call the  \"handle_{type}\" callback, which takes\n",
       "        // the figure and JSON message as its only arguments.\n",
       "        try {\n",
       "            var callback = fig['handle_' + msg_type];\n",
       "        } catch (e) {\n",
       "            console.log(\n",
       "                \"No handler for the '\" + msg_type + \"' message type: \",\n",
       "                msg\n",
       "            );\n",
       "            return;\n",
       "        }\n",
       "\n",
       "        if (callback) {\n",
       "            try {\n",
       "                // console.log(\"Handling '\" + msg_type + \"' message: \", msg);\n",
       "                callback(fig, msg);\n",
       "            } catch (e) {\n",
       "                console.log(\n",
       "                    \"Exception inside the 'handler_\" + msg_type + \"' callback:\",\n",
       "                    e,\n",
       "                    e.stack,\n",
       "                    msg\n",
       "                );\n",
       "            }\n",
       "        }\n",
       "    };\n",
       "};\n",
       "\n",
       "// from http://stackoverflow.com/questions/1114465/getting-mouse-location-in-canvas\n",
       "mpl.findpos = function (e) {\n",
       "    //this section is from http://www.quirksmode.org/js/events_properties.html\n",
       "    var targ;\n",
       "    if (!e) {\n",
       "        e = window.event;\n",
       "    }\n",
       "    if (e.target) {\n",
       "        targ = e.target;\n",
       "    } else if (e.srcElement) {\n",
       "        targ = e.srcElement;\n",
       "    }\n",
       "    if (targ.nodeType === 3) {\n",
       "        // defeat Safari bug\n",
       "        targ = targ.parentNode;\n",
       "    }\n",
       "\n",
       "    // pageX,Y are the mouse positions relative to the document\n",
       "    var boundingRect = targ.getBoundingClientRect();\n",
       "    var x = e.pageX - (boundingRect.left + document.body.scrollLeft);\n",
       "    var y = e.pageY - (boundingRect.top + document.body.scrollTop);\n",
       "\n",
       "    return { x: x, y: y };\n",
       "};\n",
       "\n",
       "/*\n",
       " * return a copy of an object with only non-object keys\n",
       " * we need this to avoid circular references\n",
       " * http://stackoverflow.com/a/24161582/3208463\n",
       " */\n",
       "function simpleKeys(original) {\n",
       "    return Object.keys(original).reduce(function (obj, key) {\n",
       "        if (typeof original[key] !== 'object') {\n",
       "            obj[key] = original[key];\n",
       "        }\n",
       "        return obj;\n",
       "    }, {});\n",
       "}\n",
       "\n",
       "mpl.figure.prototype.mouse_event = function (event, name) {\n",
       "    var canvas_pos = mpl.findpos(event);\n",
       "\n",
       "    if (name === 'button_press') {\n",
       "        this.canvas.focus();\n",
       "        this.canvas_div.focus();\n",
       "    }\n",
       "\n",
       "    var x = canvas_pos.x * this.ratio;\n",
       "    var y = canvas_pos.y * this.ratio;\n",
       "\n",
       "    this.send_message(name, {\n",
       "        x: x,\n",
       "        y: y,\n",
       "        button: event.button,\n",
       "        step: event.step,\n",
       "        guiEvent: simpleKeys(event),\n",
       "    });\n",
       "\n",
       "    /* This prevents the web browser from automatically changing to\n",
       "     * the text insertion cursor when the button is pressed.  We want\n",
       "     * to control all of the cursor setting manually through the\n",
       "     * 'cursor' event from matplotlib */\n",
       "    event.preventDefault();\n",
       "    return false;\n",
       "};\n",
       "\n",
       "mpl.figure.prototype._key_event_extra = function (_event, _name) {\n",
       "    // Handle any extra behaviour associated with a key event\n",
       "};\n",
       "\n",
       "mpl.figure.prototype.key_event = function (event, name) {\n",
       "    // Prevent repeat events\n",
       "    if (name === 'key_press') {\n",
       "        if (event.which === this._key) {\n",
       "            return;\n",
       "        } else {\n",
       "            this._key = event.which;\n",
       "        }\n",
       "    }\n",
       "    if (name === 'key_release') {\n",
       "        this._key = null;\n",
       "    }\n",
       "\n",
       "    var value = '';\n",
       "    if (event.ctrlKey && event.which !== 17) {\n",
       "        value += 'ctrl+';\n",
       "    }\n",
       "    if (event.altKey && event.which !== 18) {\n",
       "        value += 'alt+';\n",
       "    }\n",
       "    if (event.shiftKey && event.which !== 16) {\n",
       "        value += 'shift+';\n",
       "    }\n",
       "\n",
       "    value += 'k';\n",
       "    value += event.which.toString();\n",
       "\n",
       "    this._key_event_extra(event, name);\n",
       "\n",
       "    this.send_message(name, { key: value, guiEvent: simpleKeys(event) });\n",
       "    return false;\n",
       "};\n",
       "\n",
       "mpl.figure.prototype.toolbar_button_onclick = function (name) {\n",
       "    if (name === 'download') {\n",
       "        this.handle_save(this, null);\n",
       "    } else {\n",
       "        this.send_message('toolbar_button', { name: name });\n",
       "    }\n",
       "};\n",
       "\n",
       "mpl.figure.prototype.toolbar_button_onmouseover = function (tooltip) {\n",
       "    this.message.textContent = tooltip;\n",
       "};\n",
       "\n",
       "///////////////// REMAINING CONTENT GENERATED BY embed_js.py /////////////////\n",
       "// prettier-ignore\n",
       "var _JSXTOOLS_RESIZE_OBSERVER=function(A){var t,i=new WeakMap,n=new WeakMap,a=new WeakMap,r=new WeakMap,o=new Set;function s(e){if(!(this instanceof s))throw new TypeError(\"Constructor requires 'new' operator\");i.set(this,e)}function h(){throw new TypeError(\"Function is not a constructor\")}function c(e,t,i,n){e=0 in arguments?Number(arguments[0]):0,t=1 in arguments?Number(arguments[1]):0,i=2 in arguments?Number(arguments[2]):0,n=3 in arguments?Number(arguments[3]):0,this.right=(this.x=this.left=e)+(this.width=i),this.bottom=(this.y=this.top=t)+(this.height=n),Object.freeze(this)}function d(){t=requestAnimationFrame(d);var s=new WeakMap,p=new Set;o.forEach((function(t){r.get(t).forEach((function(i){var r=t instanceof window.SVGElement,o=a.get(t),d=r?0:parseFloat(o.paddingTop),f=r?0:parseFloat(o.paddingRight),l=r?0:parseFloat(o.paddingBottom),u=r?0:parseFloat(o.paddingLeft),g=r?0:parseFloat(o.borderTopWidth),m=r?0:parseFloat(o.borderRightWidth),w=r?0:parseFloat(o.borderBottomWidth),b=u+f,F=d+l,v=(r?0:parseFloat(o.borderLeftWidth))+m,W=g+w,y=r?0:t.offsetHeight-W-t.clientHeight,E=r?0:t.offsetWidth-v-t.clientWidth,R=b+v,z=F+W,M=r?t.width:parseFloat(o.width)-R-E,O=r?t.height:parseFloat(o.height)-z-y;if(n.has(t)){var k=n.get(t);if(k[0]===M&&k[1]===O)return}n.set(t,[M,O]);var S=Object.create(h.prototype);S.target=t,S.contentRect=new c(u,d,M,O),s.has(i)||(s.set(i,[]),p.add(i)),s.get(i).push(S)}))})),p.forEach((function(e){i.get(e).call(e,s.get(e),e)}))}return s.prototype.observe=function(i){if(i instanceof window.Element){r.has(i)||(r.set(i,new Set),o.add(i),a.set(i,window.getComputedStyle(i)));var n=r.get(i);n.has(this)||n.add(this),cancelAnimationFrame(t),t=requestAnimationFrame(d)}},s.prototype.unobserve=function(i){if(i instanceof window.Element&&r.has(i)){var n=r.get(i);n.has(this)&&(n.delete(this),n.size||(r.delete(i),o.delete(i))),n.size||r.delete(i),o.size||cancelAnimationFrame(t)}},A.DOMRectReadOnly=c,A.ResizeObserver=s,A.ResizeObserverEntry=h,A}; // eslint-disable-line\n",
       "mpl.toolbar_items = [[\"Home\", \"Reset original view\", \"fa fa-home icon-home\", \"home\"], [\"Back\", \"Back to previous view\", \"fa fa-arrow-left icon-arrow-left\", \"back\"], [\"Forward\", \"Forward to next view\", \"fa fa-arrow-right icon-arrow-right\", \"forward\"], [\"\", \"\", \"\", \"\"], [\"Pan\", \"Left button pans, Right button zooms\\nx/y fixes axis, CTRL fixes aspect\", \"fa fa-arrows icon-move\", \"pan\"], [\"Zoom\", \"Zoom to rectangle\\nx/y fixes axis, CTRL fixes aspect\", \"fa fa-square-o icon-check-empty\", \"zoom\"], [\"\", \"\", \"\", \"\"], [\"Download\", \"Download plot\", \"fa fa-floppy-o icon-save\", \"download\"]];\n",
       "\n",
       "mpl.extensions = [\"eps\", \"jpeg\", \"pdf\", \"png\", \"ps\", \"raw\", \"svg\", \"tif\"];\n",
       "\n",
       "mpl.default_extension = \"png\";/* global mpl */\n",
       "\n",
       "var comm_websocket_adapter = function (comm) {\n",
       "    // Create a \"websocket\"-like object which calls the given IPython comm\n",
       "    // object with the appropriate methods. Currently this is a non binary\n",
       "    // socket, so there is still some room for performance tuning.\n",
       "    var ws = {};\n",
       "\n",
       "    ws.close = function () {\n",
       "        comm.close();\n",
       "    };\n",
       "    ws.send = function (m) {\n",
       "        //console.log('sending', m);\n",
       "        comm.send(m);\n",
       "    };\n",
       "    // Register the callback with on_msg.\n",
       "    comm.on_msg(function (msg) {\n",
       "        //console.log('receiving', msg['content']['data'], msg);\n",
       "        // Pass the mpl event to the overridden (by mpl) onmessage function.\n",
       "        ws.onmessage(msg['content']['data']);\n",
       "    });\n",
       "    return ws;\n",
       "};\n",
       "\n",
       "mpl.mpl_figure_comm = function (comm, msg) {\n",
       "    // This is the function which gets called when the mpl process\n",
       "    // starts-up an IPython Comm through the \"matplotlib\" channel.\n",
       "\n",
       "    var id = msg.content.data.id;\n",
       "    // Get hold of the div created by the display call when the Comm\n",
       "    // socket was opened in Python.\n",
       "    var element = document.getElementById(id);\n",
       "    var ws_proxy = comm_websocket_adapter(comm);\n",
       "\n",
       "    function ondownload(figure, _format) {\n",
       "        window.open(figure.canvas.toDataURL());\n",
       "    }\n",
       "\n",
       "    var fig = new mpl.figure(id, ws_proxy, ondownload, element);\n",
       "\n",
       "    // Call onopen now - mpl needs it, as it is assuming we've passed it a real\n",
       "    // web socket which is closed, not our websocket->open comm proxy.\n",
       "    ws_proxy.onopen();\n",
       "\n",
       "    fig.parent_element = element;\n",
       "    fig.cell_info = mpl.find_output_cell(\"<div id='\" + id + \"'></div>\");\n",
       "    if (!fig.cell_info) {\n",
       "        console.error('Failed to find cell for figure', id, fig);\n",
       "        return;\n",
       "    }\n",
       "    fig.cell_info[0].output_area.element.on(\n",
       "        'cleared',\n",
       "        { fig: fig },\n",
       "        fig._remove_fig_handler\n",
       "    );\n",
       "};\n",
       "\n",
       "mpl.figure.prototype.handle_close = function (fig, msg) {\n",
       "    var width = fig.canvas.width / fig.ratio;\n",
       "    fig.cell_info[0].output_area.element.off(\n",
       "        'cleared',\n",
       "        fig._remove_fig_handler\n",
       "    );\n",
       "    fig.resizeObserverInstance.unobserve(fig.canvas_div);\n",
       "\n",
       "    // Update the output cell to use the data from the current canvas.\n",
       "    fig.push_to_output();\n",
       "    var dataURL = fig.canvas.toDataURL();\n",
       "    // Re-enable the keyboard manager in IPython - without this line, in FF,\n",
       "    // the notebook keyboard shortcuts fail.\n",
       "    IPython.keyboard_manager.enable();\n",
       "    fig.parent_element.innerHTML =\n",
       "        '<img src=\"' + dataURL + '\" width=\"' + width + '\">';\n",
       "    fig.close_ws(fig, msg);\n",
       "};\n",
       "\n",
       "mpl.figure.prototype.close_ws = function (fig, msg) {\n",
       "    fig.send_message('closing', msg);\n",
       "    // fig.ws.close()\n",
       "};\n",
       "\n",
       "mpl.figure.prototype.push_to_output = function (_remove_interactive) {\n",
       "    // Turn the data on the canvas into data in the output cell.\n",
       "    var width = this.canvas.width / this.ratio;\n",
       "    var dataURL = this.canvas.toDataURL();\n",
       "    this.cell_info[1]['text/html'] =\n",
       "        '<img src=\"' + dataURL + '\" width=\"' + width + '\">';\n",
       "};\n",
       "\n",
       "mpl.figure.prototype.updated_canvas_event = function () {\n",
       "    // Tell IPython that the notebook contents must change.\n",
       "    IPython.notebook.set_dirty(true);\n",
       "    this.send_message('ack', {});\n",
       "    var fig = this;\n",
       "    // Wait a second, then push the new image to the DOM so\n",
       "    // that it is saved nicely (might be nice to debounce this).\n",
       "    setTimeout(function () {\n",
       "        fig.push_to_output();\n",
       "    }, 1000);\n",
       "};\n",
       "\n",
       "mpl.figure.prototype._init_toolbar = function () {\n",
       "    var fig = this;\n",
       "\n",
       "    var toolbar = document.createElement('div');\n",
       "    toolbar.classList = 'btn-toolbar';\n",
       "    this.root.appendChild(toolbar);\n",
       "\n",
       "    function on_click_closure(name) {\n",
       "        return function (_event) {\n",
       "            return fig.toolbar_button_onclick(name);\n",
       "        };\n",
       "    }\n",
       "\n",
       "    function on_mouseover_closure(tooltip) {\n",
       "        return function (event) {\n",
       "            if (!event.currentTarget.disabled) {\n",
       "                return fig.toolbar_button_onmouseover(tooltip);\n",
       "            }\n",
       "        };\n",
       "    }\n",
       "\n",
       "    fig.buttons = {};\n",
       "    var buttonGroup = document.createElement('div');\n",
       "    buttonGroup.classList = 'btn-group';\n",
       "    var button;\n",
       "    for (var toolbar_ind in mpl.toolbar_items) {\n",
       "        var name = mpl.toolbar_items[toolbar_ind][0];\n",
       "        var tooltip = mpl.toolbar_items[toolbar_ind][1];\n",
       "        var image = mpl.toolbar_items[toolbar_ind][2];\n",
       "        var method_name = mpl.toolbar_items[toolbar_ind][3];\n",
       "\n",
       "        if (!name) {\n",
       "            /* Instead of a spacer, we start a new button group. */\n",
       "            if (buttonGroup.hasChildNodes()) {\n",
       "                toolbar.appendChild(buttonGroup);\n",
       "            }\n",
       "            buttonGroup = document.createElement('div');\n",
       "            buttonGroup.classList = 'btn-group';\n",
       "            continue;\n",
       "        }\n",
       "\n",
       "        button = fig.buttons[name] = document.createElement('button');\n",
       "        button.classList = 'btn btn-default';\n",
       "        button.href = '#';\n",
       "        button.title = name;\n",
       "        button.innerHTML = '<i class=\"fa ' + image + ' fa-lg\"></i>';\n",
       "        button.addEventListener('click', on_click_closure(method_name));\n",
       "        button.addEventListener('mouseover', on_mouseover_closure(tooltip));\n",
       "        buttonGroup.appendChild(button);\n",
       "    }\n",
       "\n",
       "    if (buttonGroup.hasChildNodes()) {\n",
       "        toolbar.appendChild(buttonGroup);\n",
       "    }\n",
       "\n",
       "    // Add the status bar.\n",
       "    var status_bar = document.createElement('span');\n",
       "    status_bar.classList = 'mpl-message pull-right';\n",
       "    toolbar.appendChild(status_bar);\n",
       "    this.message = status_bar;\n",
       "\n",
       "    // Add the close button to the window.\n",
       "    var buttongrp = document.createElement('div');\n",
       "    buttongrp.classList = 'btn-group inline pull-right';\n",
       "    button = document.createElement('button');\n",
       "    button.classList = 'btn btn-mini btn-primary';\n",
       "    button.href = '#';\n",
       "    button.title = 'Stop Interaction';\n",
       "    button.innerHTML = '<i class=\"fa fa-power-off icon-remove icon-large\"></i>';\n",
       "    button.addEventListener('click', function (_evt) {\n",
       "        fig.handle_close(fig, {});\n",
       "    });\n",
       "    button.addEventListener(\n",
       "        'mouseover',\n",
       "        on_mouseover_closure('Stop Interaction')\n",
       "    );\n",
       "    buttongrp.appendChild(button);\n",
       "    var titlebar = this.root.querySelector('.ui-dialog-titlebar');\n",
       "    titlebar.insertBefore(buttongrp, titlebar.firstChild);\n",
       "};\n",
       "\n",
       "mpl.figure.prototype._remove_fig_handler = function (event) {\n",
       "    var fig = event.data.fig;\n",
       "    if (event.target !== this) {\n",
       "        // Ignore bubbled events from children.\n",
       "        return;\n",
       "    }\n",
       "    fig.close_ws(fig, {});\n",
       "};\n",
       "\n",
       "mpl.figure.prototype._root_extra_style = function (el) {\n",
       "    el.style.boxSizing = 'content-box'; // override notebook setting of border-box.\n",
       "};\n",
       "\n",
       "mpl.figure.prototype._canvas_extra_style = function (el) {\n",
       "    // this is important to make the div 'focusable\n",
       "    el.setAttribute('tabindex', 0);\n",
       "    // reach out to IPython and tell the keyboard manager to turn it's self\n",
       "    // off when our div gets focus\n",
       "\n",
       "    // location in version 3\n",
       "    if (IPython.notebook.keyboard_manager) {\n",
       "        IPython.notebook.keyboard_manager.register_events(el);\n",
       "    } else {\n",
       "        // location in version 2\n",
       "        IPython.keyboard_manager.register_events(el);\n",
       "    }\n",
       "};\n",
       "\n",
       "mpl.figure.prototype._key_event_extra = function (event, _name) {\n",
       "    var manager = IPython.notebook.keyboard_manager;\n",
       "    if (!manager) {\n",
       "        manager = IPython.keyboard_manager;\n",
       "    }\n",
       "\n",
       "    // Check for shift+enter\n",
       "    if (event.shiftKey && event.which === 13) {\n",
       "        this.canvas_div.blur();\n",
       "        // select the cell after this one\n",
       "        var index = IPython.notebook.find_cell_index(this.cell_info[0]);\n",
       "        IPython.notebook.select(index + 1);\n",
       "    }\n",
       "};\n",
       "\n",
       "mpl.figure.prototype.handle_save = function (fig, _msg) {\n",
       "    fig.ondownload(fig, null);\n",
       "};\n",
       "\n",
       "mpl.find_output_cell = function (html_output) {\n",
       "    // Return the cell and output element which can be found *uniquely* in the notebook.\n",
       "    // Note - this is a bit hacky, but it is done because the \"notebook_saving.Notebook\"\n",
       "    // IPython event is triggered only after the cells have been serialised, which for\n",
       "    // our purposes (turning an active figure into a static one), is too late.\n",
       "    var cells = IPython.notebook.get_cells();\n",
       "    var ncells = cells.length;\n",
       "    for (var i = 0; i < ncells; i++) {\n",
       "        var cell = cells[i];\n",
       "        if (cell.cell_type === 'code') {\n",
       "            for (var j = 0; j < cell.output_area.outputs.length; j++) {\n",
       "                var data = cell.output_area.outputs[j];\n",
       "                if (data.data) {\n",
       "                    // IPython >= 3 moved mimebundle to data attribute of output\n",
       "                    data = data.data;\n",
       "                }\n",
       "                if (data['text/html'] === html_output) {\n",
       "                    return [cell, data, j];\n",
       "                }\n",
       "            }\n",
       "        }\n",
       "    }\n",
       "};\n",
       "\n",
       "// Register the function which deals with the matplotlib target/channel.\n",
       "// The kernel may be null if the page has been refreshed.\n",
       "if (IPython.notebook.kernel !== null) {\n",
       "    IPython.notebook.kernel.comm_manager.register_target(\n",
       "        'matplotlib',\n",
       "        mpl.mpl_figure_comm\n",
       "    );\n",
       "}\n"
      ],
      "text/plain": [
       "<IPython.core.display.Javascript object>"
      ]
     },
     "metadata": {},
     "output_type": "display_data"
    },
    {
     "data": {
      "text/html": [
       "<img src=\"data:image/png;base64,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\" width=\"640\">"
      ],
      "text/plain": [
       "<IPython.core.display.HTML object>"
      ]
     },
     "metadata": {},
     "output_type": "display_data"
    }
   ],
   "source": [
    "%matplotlib notebook\n",
    "import matplotlib.pyplot as plt\n",
    "plt.plot([1, 2, 3, 4])\n",
    "plt.ylabel('some numbers')\n",
    "plt.show()"
   ]
  },
  {
   "cell_type": "markdown",
   "metadata": {},
   "source": [
    "## Test of interact in %display latex mode"
   ]
  },
  {
   "cell_type": "code",
   "execution_count": 22,
   "metadata": {},
   "outputs": [
    {
     "data": {
      "application/vnd.jupyter.widget-view+json": {
       "model_id": "1b41663f7be8498196d7a65629a54d09",
       "version_major": 2,
       "version_minor": 0
      },
      "text/plain": [
       "Interactive function <function f at 0x7ff3cdac39d0> with 1 widget\n",
       "  n: IntSlider(value=10, description='n', ma…"
      ]
     },
     "metadata": {},
     "output_type": "display_data"
    }
   ],
   "source": [
    "@interact\n",
    "def f(n=10):\n",
    "    print(n)"
   ]
  },
  {
   "cell_type": "code",
   "execution_count": 23,
   "metadata": {},
   "outputs": [
    {
     "data": {
      "text/html": [
       "<html>\\[\\newcommand{\\Bold}[1]{\\mathbf{#1}}\\sin\\left(x^{2}\\right)\\]</html>"
      ],
      "text/latex": [
       "$$\\newcommand{\\Bold}[1]{\\mathbf{#1}}\\sin\\left(x^{2}\\right)$$"
      ],
      "text/plain": [
       "sin(x^2)"
      ]
     },
     "execution_count": 23,
     "metadata": {},
     "output_type": "execute_result"
    }
   ],
   "source": [
    "%display latex\n",
    "sin(x^2)"
   ]
  },
  {
   "cell_type": "code",
   "execution_count": 24,
   "metadata": {},
   "outputs": [
    {
     "data": {
      "application/vnd.jupyter.widget-view+json": {
       "model_id": "9b6bbd63fe58499e8bce5e40d83ae009",
       "version_major": 2,
       "version_minor": 0
      },
      "text/plain": [
       "Interactive function <function f at 0x7ff3cdad7160> with 1 widget\n",
       "  n: IntSlider(value=10, description='n', ma…"
      ]
     },
     "metadata": {},
     "output_type": "display_data"
    }
   ],
   "source": [
    "@interact\n",
    "def f(n=10):\n",
    "    print(n)"
   ]
  },
  {
   "cell_type": "code",
   "execution_count": null,
   "metadata": {},
   "outputs": [],
   "source": []
  }
 ],
 "metadata": {
  "kernelspec": {
   "display_name": "SageMath 9.5.beta6",
   "language": "sage",
   "name": "sagemath"
  },
  "language_info": {
   "codemirror_mode": {
    "name": "ipython",
    "version": 3
   },
   "file_extension": ".py",
   "mimetype": "text/x-python",
   "name": "python",
   "nbconvert_exporter": "python",
   "pygments_lexer": "ipython3",
   "version": "3.8.10"
  }
 },
 "nbformat": 4,
 "nbformat_minor": 4
}
