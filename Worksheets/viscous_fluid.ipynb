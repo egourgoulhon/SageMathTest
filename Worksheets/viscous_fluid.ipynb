{
 "cells": [
  {
   "cell_type": "code",
   "execution_count": 1,
   "metadata": {},
   "outputs": [],
   "source": [
    "%display latex"
   ]
  },
  {
   "cell_type": "code",
   "execution_count": 2,
   "metadata": {},
   "outputs": [],
   "source": [
    "E.<x,y,z> = EuclideanSpace()"
   ]
  },
  {
   "cell_type": "code",
   "execution_count": 3,
   "metadata": {},
   "outputs": [
    {
     "data": {
      "text/html": [
       "<html><script type=\"math/tex; mode=display\">\\newcommand{\\Bold}[1]{\\mathbf{#1}}v = v_{x}\\left(x, y, z\\right) e_{ x } + v_{y}\\left(x, y, z\\right) e_{ y } + v_{z}\\left(x, y, z\\right) e_{ z }</script></html>"
      ],
      "text/plain": [
       "v = v_x(x, y, z) e_x + v_y(x, y, z) e_y + v_z(x, y, z) e_z"
      ]
     },
     "execution_count": 3,
     "metadata": {},
     "output_type": "execute_result"
    }
   ],
   "source": [
    "v_x = E.scalar_field(function('v_x')(x,y,z), name='v_x')\n",
    "v_y = E.scalar_field(function('v_y')(x,y,z), name='v_y')\n",
    "v_z = E.scalar_field(function('v_z')(x,y,z), name='v_z')\n",
    "v = E.vector_field(v_x,v_y,v_z,name='v')              \n",
    "v.display()"
   ]
  },
  {
   "cell_type": "code",
   "execution_count": 4,
   "metadata": {},
   "outputs": [
    {
     "data": {
      "text/html": [
       "<html><script type=\"math/tex; mode=display\">\\newcommand{\\Bold}[1]{\\mathbf{#1}}\\begin{array}{llcl} p:& \\mathbb{E}^{3} & \\longrightarrow & \\mathbb{R} \\\\ & \\left(x, y, z\\right) & \\longmapsto & p\\left(x, y, z\\right) \\end{array}</script></html>"
      ],
      "text/plain": [
       "p: E^3 --> R\n",
       "   (x, y, z) |--> p(x, y, z)"
      ]
     },
     "execution_count": 4,
     "metadata": {},
     "output_type": "execute_result"
    }
   ],
   "source": [
    "p = E.scalar_field(function('p')(x,y,z), name='p')\n",
    "p.display()"
   ]
  },
  {
   "cell_type": "code",
   "execution_count": 5,
   "metadata": {},
   "outputs": [
    {
     "data": {
      "text/html": [
       "<html><script type=\"math/tex; mode=display\">\\newcommand{\\Bold}[1]{\\mathbf{#1}}\\eta</script></html>"
      ],
      "text/plain": [
       "eta"
      ]
     },
     "execution_count": 5,
     "metadata": {},
     "output_type": "execute_result"
    }
   ],
   "source": [
    "eta = var('eta', domain='real')\n",
    "eta"
   ]
  },
  {
   "cell_type": "code",
   "execution_count": 6,
   "metadata": {},
   "outputs": [],
   "source": [
    "from sage.manifolds.operators import *"
   ]
  },
  {
   "cell_type": "code",
   "execution_count": 7,
   "metadata": {},
   "outputs": [
    {
     "data": {
      "text/html": [
       "<html><script type=\"math/tex; mode=display\">\\newcommand{\\Bold}[1]{\\mathbf{#1}}\\mbox{Vector field on the Euclidean space E^3}</script></html>"
      ],
      "text/plain": [
       "Vector field on the Euclidean space E^3"
      ]
     },
     "execution_count": 7,
     "metadata": {},
     "output_type": "execute_result"
    }
   ],
   "source": [
    "eom = eta*laplacian(v) - grad(p)\n",
    "eom"
   ]
  },
  {
   "cell_type": "code",
   "execution_count": 8,
   "metadata": {},
   "outputs": [
    {
     "data": {
      "text/html": [
       "<html><script type=\"math/tex; mode=display\">\\newcommand{\\Bold}[1]{\\mathbf{#1}}\\left( \\eta \\frac{\\partial^2\\,v_{x}}{\\partial x ^ 2} + \\eta \\frac{\\partial^2\\,v_{x}}{\\partial y ^ 2} + \\eta \\frac{\\partial^2\\,v_{x}}{\\partial z ^ 2} - \\frac{\\partial\\,p}{\\partial x} \\right) e_{ x } + \\left( \\eta \\frac{\\partial^2\\,v_{y}}{\\partial x ^ 2} + \\eta \\frac{\\partial^2\\,v_{y}}{\\partial y ^ 2} + \\eta \\frac{\\partial^2\\,v_{y}}{\\partial z ^ 2} - \\frac{\\partial\\,p}{\\partial y} \\right) e_{ y } + \\left( \\eta \\frac{\\partial^2\\,v_{z}}{\\partial x ^ 2} + \\eta \\frac{\\partial^2\\,v_{z}}{\\partial y ^ 2} + \\eta \\frac{\\partial^2\\,v_{z}}{\\partial z ^ 2} - \\frac{\\partial\\,p}{\\partial z} \\right) e_{ z }</script></html>"
      ],
      "text/plain": [
       "(eta*d^2(v_x)/dx^2 + eta*d^2(v_x)/dy^2 + eta*d^2(v_x)/dz^2 - d(p)/dx) e_x + (eta*d^2(v_y)/dx^2 + eta*d^2(v_y)/dy^2 + eta*d^2(v_y)/dz^2 - d(p)/dy) e_y + (eta*d^2(v_z)/dx^2 + eta*d^2(v_z)/dy^2 + eta*d^2(v_z)/dz^2 - d(p)/dz) e_z"
      ]
     },
     "execution_count": 8,
     "metadata": {},
     "output_type": "execute_result"
    }
   ],
   "source": [
    "eom.display()"
   ]
  },
  {
   "cell_type": "code",
   "execution_count": 9,
   "metadata": {},
   "outputs": [
    {
     "data": {
      "text/html": [
       "<html><script type=\"math/tex; mode=display\">\\newcommand{\\Bold}[1]{\\mathbf{#1}}\\begin{array}{lcl} X_{\\phantom{\\, x}}^{ \\, x } & = & \\eta \\frac{\\partial^2\\,v_{x}}{\\partial x ^ 2} + \\eta \\frac{\\partial^2\\,v_{x}}{\\partial y ^ 2} + \\eta \\frac{\\partial^2\\,v_{x}}{\\partial z ^ 2} - \\frac{\\partial\\,p}{\\partial x} \\\\ X_{\\phantom{\\, y}}^{ \\, y } & = & \\eta \\frac{\\partial^2\\,v_{y}}{\\partial x ^ 2} + \\eta \\frac{\\partial^2\\,v_{y}}{\\partial y ^ 2} + \\eta \\frac{\\partial^2\\,v_{y}}{\\partial z ^ 2} - \\frac{\\partial\\,p}{\\partial y} \\\\ X_{\\phantom{\\, z}}^{ \\, z } & = & \\eta \\frac{\\partial^2\\,v_{z}}{\\partial x ^ 2} + \\eta \\frac{\\partial^2\\,v_{z}}{\\partial y ^ 2} + \\eta \\frac{\\partial^2\\,v_{z}}{\\partial z ^ 2} - \\frac{\\partial\\,p}{\\partial z} \\end{array}</script></html>"
      ],
      "text/plain": [
       "X^x = eta*d^2(v_x)/dx^2 + eta*d^2(v_x)/dy^2 + eta*d^2(v_x)/dz^2 - d(p)/dx \n",
       "X^y = eta*d^2(v_y)/dx^2 + eta*d^2(v_y)/dy^2 + eta*d^2(v_y)/dz^2 - d(p)/dy \n",
       "X^z = eta*d^2(v_z)/dx^2 + eta*d^2(v_z)/dy^2 + eta*d^2(v_z)/dz^2 - d(p)/dz "
      ]
     },
     "execution_count": 9,
     "metadata": {},
     "output_type": "execute_result"
    }
   ],
   "source": [
    "eom.display_comp()"
   ]
  },
  {
   "cell_type": "code",
   "execution_count": 10,
   "metadata": {},
   "outputs": [
    {
     "data": {
      "text/html": [
       "<html><script type=\"math/tex; mode=display\">\\newcommand{\\Bold}[1]{\\mathbf{#1}}\\left[\\eta \\frac{\\partial^{2}}{(\\partial x)^{2}}v_{x}\\left(x, y, z\\right) + \\eta \\frac{\\partial^{2}}{(\\partial y)^{2}}v_{x}\\left(x, y, z\\right) + \\eta \\frac{\\partial^{2}}{(\\partial z)^{2}}v_{x}\\left(x, y, z\\right) - \\frac{\\partial}{\\partial x}p\\left(x, y, z\\right) = 0, \\eta \\frac{\\partial^{2}}{(\\partial x)^{2}}v_{y}\\left(x, y, z\\right) + \\eta \\frac{\\partial^{2}}{(\\partial y)^{2}}v_{y}\\left(x, y, z\\right) + \\eta \\frac{\\partial^{2}}{(\\partial z)^{2}}v_{y}\\left(x, y, z\\right) - \\frac{\\partial}{\\partial y}p\\left(x, y, z\\right) = 0, \\eta \\frac{\\partial^{2}}{(\\partial x)^{2}}v_{z}\\left(x, y, z\\right) + \\eta \\frac{\\partial^{2}}{(\\partial y)^{2}}v_{z}\\left(x, y, z\\right) + \\eta \\frac{\\partial^{2}}{(\\partial z)^{2}}v_{z}\\left(x, y, z\\right) - \\frac{\\partial}{\\partial z}p\\left(x, y, z\\right) = 0\\right]</script></html>"
      ],
      "text/plain": [
       "[eta*diff(v_x(x, y, z), x, x) + eta*diff(v_x(x, y, z), y, y) + eta*diff(v_x(x, y, z), z, z) - diff(p(x, y, z), x) == 0,\n",
       " eta*diff(v_y(x, y, z), x, x) + eta*diff(v_y(x, y, z), y, y) + eta*diff(v_y(x, y, z), z, z) - diff(p(x, y, z), y) == 0,\n",
       " eta*diff(v_z(x, y, z), x, x) + eta*diff(v_z(x, y, z), y, y) + eta*diff(v_z(x, y, z), z, z) - diff(p(x, y, z), z) == 0]"
      ]
     },
     "execution_count": 10,
     "metadata": {},
     "output_type": "execute_result"
    }
   ],
   "source": [
    "equations = [eom[i].expr() == 0 for i in E.irange()]\n",
    "equations"
   ]
  },
  {
   "cell_type": "code",
   "execution_count": null,
   "metadata": {},
   "outputs": [],
   "source": []
  }
 ],
 "metadata": {
  "kernelspec": {
   "display_name": "SageMath 8.4",
   "language": "",
   "name": "sagemath"
  },
  "language_info": {
   "codemirror_mode": {
    "name": "ipython",
    "version": 2
   },
   "file_extension": ".py",
   "mimetype": "text/x-python",
   "name": "python",
   "nbconvert_exporter": "python",
   "pygments_lexer": "ipython2",
   "version": "2.7.15"
  }
 },
 "nbformat": 4,
 "nbformat_minor": 2
}
