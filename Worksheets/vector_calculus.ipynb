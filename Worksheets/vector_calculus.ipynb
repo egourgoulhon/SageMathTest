{
 "cells": [
  {
   "cell_type": "markdown",
   "metadata": {},
   "source": [
    "# Vector calculus with SageMath\n",
    "\n",
    "This worksheet illustrates the operators regarding scalar and vector fields on pseudo-Riemannian manifolds introduced in Trac ticket [#24622](https://trac.sagemath.org/ticket/24622)."
   ]
  },
  {
   "cell_type": "code",
   "execution_count": 1,
   "metadata": {},
   "outputs": [],
   "source": [
    "%display latex"
   ]
  },
  {
   "cell_type": "markdown",
   "metadata": {},
   "source": [
    "### The Euclidean space as a 3-dimensional Riemannian manifold"
   ]
  },
  {
   "cell_type": "code",
   "execution_count": 2,
   "metadata": {},
   "outputs": [],
   "source": [
    "M = Manifold(3, 'M', structure='Riemannian', start_index=1)\n",
    "X.<x,y,z> = M.chart()"
   ]
  },
  {
   "cell_type": "code",
   "execution_count": 3,
   "metadata": {},
   "outputs": [
    {
     "data": {
      "text/html": [
       "<html><script type=\"math/tex; mode=display\">\\newcommand{\\Bold}[1]{\\mathbf{#1}}g = \\mathrm{d} x\\otimes \\mathrm{d} x+\\mathrm{d} y\\otimes \\mathrm{d} y+\\mathrm{d} z\\otimes \\mathrm{d} z</script></html>"
      ],
      "text/plain": [
       "g = dx*dx + dy*dy + dz*dz"
      ]
     },
     "execution_count": 3,
     "metadata": {},
     "output_type": "execute_result"
    }
   ],
   "source": [
    "g = M.metric()\n",
    "g[1,1], g[2,2], g[3,3] = 1, 1, 1\n",
    "g.display()"
   ]
  },
  {
   "cell_type": "markdown",
   "metadata": {},
   "source": [
    "### Gradient of a scalar field"
   ]
  },
  {
   "cell_type": "code",
   "execution_count": 4,
   "metadata": {},
   "outputs": [
    {
     "data": {
      "text/html": [
       "<html><script type=\"math/tex; mode=display\">\\newcommand{\\Bold}[1]{\\mathbf{#1}}\\begin{array}{llcl} F:& M & \\longrightarrow & \\mathbb{R} \\\\ & \\left(x, y, z\\right) & \\longmapsto & f\\left(x, y, z\\right) \\end{array}</script></html>"
      ],
      "text/plain": [
       "F: M --> R\n",
       "   (x, y, z) |--> f(x, y, z)"
      ]
     },
     "execution_count": 4,
     "metadata": {},
     "output_type": "execute_result"
    }
   ],
   "source": [
    "F = M.scalar_field(function('f')(x,y,z), name='F')\n",
    "F.display()"
   ]
  },
  {
   "cell_type": "code",
   "execution_count": 5,
   "metadata": {},
   "outputs": [
    {
     "data": {
      "text/html": [
       "<html><script type=\"math/tex; mode=display\">\\newcommand{\\Bold}[1]{\\mathbf{#1}}\\mathrm{grad}\\left(F\\right) = \\frac{\\partial\\,f}{\\partial x} \\frac{\\partial}{\\partial x } + \\frac{\\partial\\,f}{\\partial y} \\frac{\\partial}{\\partial y } + \\frac{\\partial\\,f}{\\partial z} \\frac{\\partial}{\\partial z }</script></html>"
      ],
      "text/plain": [
       "grad(F) = d(f)/dx d/dx + d(f)/dy d/dy + d(f)/dz d/dz"
      ]
     },
     "execution_count": 5,
     "metadata": {},
     "output_type": "execute_result"
    }
   ],
   "source": [
    "grad(F).display()"
   ]
  },
  {
   "cell_type": "code",
   "execution_count": 6,
   "metadata": {},
   "outputs": [
    {
     "data": {
      "text/html": [
       "<html><script type=\"math/tex; mode=display\">\\newcommand{\\Bold}[1]{\\mathbf{#1}}\\mathrm{curl}\\left(\\mathrm{grad}\\left(F\\right)\\right) = 0</script></html>"
      ],
      "text/plain": [
       "curl(grad(F)) = 0"
      ]
     },
     "execution_count": 6,
     "metadata": {},
     "output_type": "execute_result"
    }
   ],
   "source": [
    "curl(grad(F)).display()"
   ]
  },
  {
   "cell_type": "code",
   "execution_count": 7,
   "metadata": {},
   "outputs": [
    {
     "data": {
      "text/html": [
       "<html><script type=\"math/tex; mode=display\">\\newcommand{\\Bold}[1]{\\mathbf{#1}}\\begin{array}{llcl} \\left\\|\\mathrm{grad}\\left(F\\right)\\right\\|:& M & \\longrightarrow & \\mathbb{R} \\\\ & \\left(x, y, z\\right) & \\longmapsto & \\sqrt{\\left(\\frac{\\partial\\,f}{\\partial x}\\right)^{2} + \\left(\\frac{\\partial\\,f}{\\partial y}\\right)^{2} + \\left(\\frac{\\partial\\,f}{\\partial z}\\right)^{2}} \\end{array}</script></html>"
      ],
      "text/plain": [
       "|grad(F)|: M --> R\n",
       "   (x, y, z) |--> sqrt((d(f)/dx)^2 + (d(f)/dy)^2 + (d(f)/dz)^2)"
      ]
     },
     "execution_count": 7,
     "metadata": {},
     "output_type": "execute_result"
    }
   ],
   "source": [
    "norm(grad(F)).display()"
   ]
  },
  {
   "cell_type": "markdown",
   "metadata": {},
   "source": [
    "### Laplacien of a scalar field"
   ]
  },
  {
   "cell_type": "code",
   "execution_count": 8,
   "metadata": {},
   "outputs": [
    {
     "data": {
      "text/html": [
       "<html><script type=\"math/tex; mode=display\">\\newcommand{\\Bold}[1]{\\mathbf{#1}}\\begin{array}{llcl} \\Delta\\left(F\\right):& M & \\longrightarrow & \\mathbb{R} \\\\ & \\left(x, y, z\\right) & \\longmapsto & \\frac{\\partial^2\\,f}{\\partial x ^ 2} + \\frac{\\partial^2\\,f}{\\partial y ^ 2} + \\frac{\\partial^2\\,f}{\\partial z ^ 2} \\end{array}</script></html>"
      ],
      "text/plain": [
       "Delta(F): M --> R\n",
       "   (x, y, z) |--> d^2(f)/dx^2 + d^2(f)/dy^2 + d^2(f)/dz^2"
      ]
     },
     "execution_count": 8,
     "metadata": {},
     "output_type": "execute_result"
    }
   ],
   "source": [
    "laplacian(F).display()"
   ]
  },
  {
   "cell_type": "code",
   "execution_count": 9,
   "metadata": {},
   "outputs": [
    {
     "data": {
      "text/html": [
       "<html><script type=\"math/tex; mode=display\">\\newcommand{\\Bold}[1]{\\mathbf{#1}}\\mathrm{True}</script></html>"
      ],
      "text/plain": [
       "True"
      ]
     },
     "execution_count": 9,
     "metadata": {},
     "output_type": "execute_result"
    }
   ],
   "source": [
    "laplacian(F) == div(grad(F))"
   ]
  },
  {
   "cell_type": "markdown",
   "metadata": {},
   "source": [
    "### Vector field"
   ]
  },
  {
   "cell_type": "code",
   "execution_count": 10,
   "metadata": {},
   "outputs": [
    {
     "data": {
      "text/html": [
       "<html><script type=\"math/tex; mode=display\">\\newcommand{\\Bold}[1]{\\mathbf{#1}}v = v_{x}\\left(x, y, z\\right) \\frac{\\partial}{\\partial x } + v_{y}\\left(x, y, z\\right) \\frac{\\partial}{\\partial y } + v_{z}\\left(x, y, z\\right) \\frac{\\partial}{\\partial z }</script></html>"
      ],
      "text/plain": [
       "v = v_x(x, y, z) d/dx + v_y(x, y, z) d/dy + v_z(x, y, z) d/dz"
      ]
     },
     "execution_count": 10,
     "metadata": {},
     "output_type": "execute_result"
    }
   ],
   "source": [
    "v = M.vector_field(name='v')\n",
    "v[1] = function('v_x')(x,y,z)\n",
    "v[2] = function('v_y')(x,y,z)\n",
    "v[3] = function('v_z')(x,y,z)\n",
    "v.display()"
   ]
  },
  {
   "cell_type": "markdown",
   "metadata": {},
   "source": [
    "In order not to clutter the outputs, we omit the coordinate arguments in the display of chart functions:"
   ]
  },
  {
   "cell_type": "code",
   "execution_count": 11,
   "metadata": {},
   "outputs": [],
   "source": [
    "M.options.omit_function_arguments=True"
   ]
  },
  {
   "cell_type": "code",
   "execution_count": 12,
   "metadata": {},
   "outputs": [
    {
     "data": {
      "text/html": [
       "<html><script type=\"math/tex; mode=display\">\\newcommand{\\Bold}[1]{\\mathbf{#1}}v = v_{x} \\frac{\\partial}{\\partial x } + v_{y} \\frac{\\partial}{\\partial y } + v_{z} \\frac{\\partial}{\\partial z }</script></html>"
      ],
      "text/plain": [
       "v = v_x d/dx + v_y d/dy + v_z d/dz"
      ]
     },
     "execution_count": 12,
     "metadata": {},
     "output_type": "execute_result"
    }
   ],
   "source": [
    "v.display()"
   ]
  },
  {
   "cell_type": "markdown",
   "metadata": {},
   "source": [
    "Norm of a vector field:"
   ]
  },
  {
   "cell_type": "code",
   "execution_count": 13,
   "metadata": {},
   "outputs": [
    {
     "name": "stdout",
     "output_type": "stream",
     "text": [
      "Scalar field |v| on the 3-dimensional Riemannian manifold M\n"
     ]
    }
   ],
   "source": [
    "s = norm(v)\n",
    "print(s)"
   ]
  },
  {
   "cell_type": "code",
   "execution_count": 14,
   "metadata": {},
   "outputs": [
    {
     "data": {
      "text/html": [
       "<html><script type=\"math/tex; mode=display\">\\newcommand{\\Bold}[1]{\\mathbf{#1}}\\begin{array}{llcl} \\left\\|v\\right\\|:& M & \\longrightarrow & \\mathbb{R} \\\\ & \\left(x, y, z\\right) & \\longmapsto & \\sqrt{v_{x}^{2} + v_{y}^{2} + v_{z}^{2}} \\end{array}</script></html>"
      ],
      "text/plain": [
       "|v|: M --> R\n",
       "   (x, y, z) |--> sqrt(v_x^2 + v_y^2 + v_z^2)"
      ]
     },
     "execution_count": 14,
     "metadata": {},
     "output_type": "execute_result"
    }
   ],
   "source": [
    "s.display()"
   ]
  },
  {
   "cell_type": "markdown",
   "metadata": {},
   "source": [
    "Scalar product of two vector fields:"
   ]
  },
  {
   "cell_type": "code",
   "execution_count": 15,
   "metadata": {},
   "outputs": [
    {
     "data": {
      "text/html": [
       "<html><script type=\"math/tex; mode=display\">\\newcommand{\\Bold}[1]{\\mathbf{#1}}\\begin{array}{llcl} {v}\\cdot{\\mathrm{grad}\\left(F\\right)}:& M & \\longrightarrow & \\mathbb{R} \\\\ & \\left(x, y, z\\right) & \\longmapsto & v_{x} \\frac{\\partial\\,f}{\\partial x} + v_{y} \\frac{\\partial\\,f}{\\partial y} + v_{z} \\frac{\\partial\\,f}{\\partial z} \\end{array}</script></html>"
      ],
      "text/plain": [
       "v.grad(F): M --> R\n",
       "   (x, y, z) |--> v_x*d(f)/dx + v_y*d(f)/dy + v_z*d(f)/dz"
      ]
     },
     "execution_count": 15,
     "metadata": {},
     "output_type": "execute_result"
    }
   ],
   "source": [
    "v.dot(grad(F)).display()"
   ]
  },
  {
   "cell_type": "markdown",
   "metadata": {},
   "source": [
    "Cross product of two vector fields:"
   ]
  },
  {
   "cell_type": "code",
   "execution_count": 16,
   "metadata": {},
   "outputs": [
    {
     "data": {
      "text/html": [
       "<html><script type=\"math/tex; mode=display\">\\newcommand{\\Bold}[1]{\\mathbf{#1}}{v}\\times{\\mathrm{grad}\\left(F\\right)} = \\left( -v_{z} \\frac{\\partial\\,f}{\\partial y} + v_{y} \\frac{\\partial\\,f}{\\partial z} \\right) \\frac{\\partial}{\\partial x } + \\left( v_{z} \\frac{\\partial\\,f}{\\partial x} - v_{x} \\frac{\\partial\\,f}{\\partial z} \\right) \\frac{\\partial}{\\partial y } + \\left( -v_{y} \\frac{\\partial\\,f}{\\partial x} + v_{x} \\frac{\\partial\\,f}{\\partial y} \\right) \\frac{\\partial}{\\partial z }</script></html>"
      ],
      "text/plain": [
       "v x grad(F) = (-v_z*d(f)/dy + v_y*d(f)/dz) d/dx + (v_z*d(f)/dx - v_x*d(f)/dz) d/dy + (-v_y*d(f)/dx + v_x*d(f)/dy) d/dz"
      ]
     },
     "execution_count": 16,
     "metadata": {},
     "output_type": "execute_result"
    }
   ],
   "source": [
    "v.cross(grad(F)).display()"
   ]
  },
  {
   "cell_type": "markdown",
   "metadata": {},
   "source": [
    "Divergence :"
   ]
  },
  {
   "cell_type": "code",
   "execution_count": 17,
   "metadata": {},
   "outputs": [
    {
     "data": {
      "text/html": [
       "<html><script type=\"math/tex; mode=display\">\\newcommand{\\Bold}[1]{\\mathbf{#1}}\\begin{array}{llcl} \\mathrm{div}\\left(v\\right):& M & \\longrightarrow & \\mathbb{R} \\\\ & \\left(x, y, z\\right) & \\longmapsto & \\frac{\\partial\\,v_{x}}{\\partial x} + \\frac{\\partial\\,v_{y}}{\\partial y} + \\frac{\\partial\\,v_{z}}{\\partial z} \\end{array}</script></html>"
      ],
      "text/plain": [
       "div(v): M --> R\n",
       "   (x, y, z) |--> d(v_x)/dx + d(v_y)/dy + d(v_z)/dz"
      ]
     },
     "execution_count": 17,
     "metadata": {},
     "output_type": "execute_result"
    }
   ],
   "source": [
    "s = div(v)\n",
    "s.display()"
   ]
  },
  {
   "cell_type": "markdown",
   "metadata": {},
   "source": [
    "Curl:"
   ]
  },
  {
   "cell_type": "code",
   "execution_count": 18,
   "metadata": {},
   "outputs": [
    {
     "name": "stdout",
     "output_type": "stream",
     "text": [
      "Vector field curl(v) on the 3-dimensional Riemannian manifold M\n"
     ]
    }
   ],
   "source": [
    "w = curl(v)\n",
    "print(w)"
   ]
  },
  {
   "cell_type": "code",
   "execution_count": 19,
   "metadata": {},
   "outputs": [
    {
     "data": {
      "text/html": [
       "<html><script type=\"math/tex; mode=display\">\\newcommand{\\Bold}[1]{\\mathbf{#1}}\\mathrm{curl}\\left(v\\right) = \\left( -\\frac{\\partial\\,v_{y}}{\\partial z} + \\frac{\\partial\\,v_{z}}{\\partial y} \\right) \\frac{\\partial}{\\partial x } + \\left( \\frac{\\partial\\,v_{x}}{\\partial z} - \\frac{\\partial\\,v_{z}}{\\partial x} \\right) \\frac{\\partial}{\\partial y } + \\left( -\\frac{\\partial\\,v_{x}}{\\partial y} + \\frac{\\partial\\,v_{y}}{\\partial x} \\right) \\frac{\\partial}{\\partial z }</script></html>"
      ],
      "text/plain": [
       "curl(v) = (-d(v_y)/dz + d(v_z)/dy) d/dx + (d(v_x)/dz - d(v_z)/dx) d/dy + (-d(v_x)/dy + d(v_y)/dx) d/dz"
      ]
     },
     "execution_count": 19,
     "metadata": {},
     "output_type": "execute_result"
    }
   ],
   "source": [
    "w.display()"
   ]
  },
  {
   "cell_type": "markdown",
   "metadata": {},
   "source": [
    "The notation `rot` can be used instead of  `curl`:"
   ]
  },
  {
   "cell_type": "code",
   "execution_count": 20,
   "metadata": {},
   "outputs": [
    {
     "data": {
      "text/html": [
       "<html><script type=\"math/tex; mode=display\">\\newcommand{\\Bold}[1]{\\mathbf{#1}}\\mathrm{curl}\\left(v\\right) = \\left( -\\frac{\\partial\\,v_{y}}{\\partial z} + \\frac{\\partial\\,v_{z}}{\\partial y} \\right) \\frac{\\partial}{\\partial x } + \\left( \\frac{\\partial\\,v_{x}}{\\partial z} - \\frac{\\partial\\,v_{z}}{\\partial x} \\right) \\frac{\\partial}{\\partial y } + \\left( -\\frac{\\partial\\,v_{x}}{\\partial y} + \\frac{\\partial\\,v_{y}}{\\partial x} \\right) \\frac{\\partial}{\\partial z }</script></html>"
      ],
      "text/plain": [
       "curl(v) = (-d(v_y)/dz + d(v_z)/dy) d/dx + (d(v_x)/dz - d(v_z)/dx) d/dy + (-d(v_x)/dy + d(v_y)/dx) d/dz"
      ]
     },
     "execution_count": 20,
     "metadata": {},
     "output_type": "execute_result"
    }
   ],
   "source": [
    "rot(v).display()"
   ]
  },
  {
   "cell_type": "code",
   "execution_count": 21,
   "metadata": {},
   "outputs": [
    {
     "data": {
      "text/html": [
       "<html><script type=\"math/tex; mode=display\">\\newcommand{\\Bold}[1]{\\mathbf{#1}}\\mathrm{True}</script></html>"
      ],
      "text/plain": [
       "True"
      ]
     },
     "execution_count": 21,
     "metadata": {},
     "output_type": "execute_result"
    }
   ],
   "source": [
    "rot(v) == curl(v)"
   ]
  },
  {
   "cell_type": "markdown",
   "metadata": {},
   "source": [
    "The divergence of a curl is always zero:"
   ]
  },
  {
   "cell_type": "code",
   "execution_count": 22,
   "metadata": {},
   "outputs": [
    {
     "data": {
      "text/html": [
       "<html><script type=\"math/tex; mode=display\">\\newcommand{\\Bold}[1]{\\mathbf{#1}}\\begin{array}{llcl} \\mathrm{div}\\left(\\mathrm{curl}\\left(v\\right)\\right):& M & \\longrightarrow & \\mathbb{R} \\\\ & \\left(x, y, z\\right) & \\longmapsto & 0 \\end{array}</script></html>"
      ],
      "text/plain": [
       "div(curl(v)): M --> R\n",
       "   (x, y, z) |--> 0"
      ]
     },
     "execution_count": 22,
     "metadata": {},
     "output_type": "execute_result"
    }
   ],
   "source": [
    "div(curl(v)).display()"
   ]
  },
  {
   "cell_type": "markdown",
   "metadata": {},
   "source": [
    "Laplacian of a vector field:"
   ]
  },
  {
   "cell_type": "code",
   "execution_count": 23,
   "metadata": {},
   "outputs": [
    {
     "data": {
      "text/html": [
       "<html><script type=\"math/tex; mode=display\">\\newcommand{\\Bold}[1]{\\mathbf{#1}}\\Delta\\left(v\\right) = \\left( \\frac{\\partial^2\\,v_{x}}{\\partial x ^ 2} + \\frac{\\partial^2\\,v_{x}}{\\partial y ^ 2} + \\frac{\\partial^2\\,v_{x}}{\\partial z ^ 2} \\right) \\frac{\\partial}{\\partial x } + \\left( \\frac{\\partial^2\\,v_{y}}{\\partial x ^ 2} + \\frac{\\partial^2\\,v_{y}}{\\partial y ^ 2} + \\frac{\\partial^2\\,v_{y}}{\\partial z ^ 2} \\right) \\frac{\\partial}{\\partial y } + \\left( \\frac{\\partial^2\\,v_{z}}{\\partial x ^ 2} + \\frac{\\partial^2\\,v_{z}}{\\partial y ^ 2} + \\frac{\\partial^2\\,v_{z}}{\\partial z ^ 2} \\right) \\frac{\\partial}{\\partial z }</script></html>"
      ],
      "text/plain": [
       "Delta(v) = (d^2(v_x)/dx^2 + d^2(v_x)/dy^2 + d^2(v_x)/dz^2) d/dx + (d^2(v_y)/dx^2 + d^2(v_y)/dy^2 + d^2(v_y)/dz^2) d/dy + (d^2(v_z)/dx^2 + d^2(v_z)/dy^2 + d^2(v_z)/dz^2) d/dz"
      ]
     },
     "execution_count": 23,
     "metadata": {},
     "output_type": "execute_result"
    }
   ],
   "source": [
    "laplacian(v).display()"
   ]
  },
  {
   "cell_type": "code",
   "execution_count": 24,
   "metadata": {},
   "outputs": [
    {
     "data": {
      "text/html": [
       "<html><script type=\"math/tex; mode=display\">\\newcommand{\\Bold}[1]{\\mathbf{#1}}\\mathrm{curl}\\left(\\mathrm{curl}\\left(v\\right)\\right) = \\left( -\\frac{\\partial^2\\,v_{x}}{\\partial y ^ 2} - \\frac{\\partial^2\\,v_{x}}{\\partial z ^ 2} + \\frac{\\partial^2\\,v_{y}}{\\partial x\\partial y} + \\frac{\\partial^2\\,v_{z}}{\\partial x\\partial z} \\right) \\frac{\\partial}{\\partial x } + \\left( \\frac{\\partial^2\\,v_{x}}{\\partial x\\partial y} - \\frac{\\partial^2\\,v_{y}}{\\partial x ^ 2} - \\frac{\\partial^2\\,v_{y}}{\\partial z ^ 2} + \\frac{\\partial^2\\,v_{z}}{\\partial y\\partial z} \\right) \\frac{\\partial}{\\partial y } + \\left( \\frac{\\partial^2\\,v_{x}}{\\partial x\\partial z} + \\frac{\\partial^2\\,v_{y}}{\\partial y\\partial z} - \\frac{\\partial^2\\,v_{z}}{\\partial x ^ 2} - \\frac{\\partial^2\\,v_{z}}{\\partial y ^ 2} \\right) \\frac{\\partial}{\\partial z }</script></html>"
      ],
      "text/plain": [
       "curl(curl(v)) = (-d^2(v_x)/dy^2 - d^2(v_x)/dz^2 + d^2(v_y)/dxdy + d^2(v_z)/dxdz) d/dx + (d^2(v_x)/dxdy - d^2(v_y)/dx^2 - d^2(v_y)/dz^2 + d^2(v_z)/dydz) d/dy + (d^2(v_x)/dxdz + d^2(v_y)/dydz - d^2(v_z)/dx^2 - d^2(v_z)/dy^2) d/dz"
      ]
     },
     "execution_count": 24,
     "metadata": {},
     "output_type": "execute_result"
    }
   ],
   "source": [
    "curl(curl(v)).display()"
   ]
  },
  {
   "cell_type": "code",
   "execution_count": 25,
   "metadata": {},
   "outputs": [
    {
     "data": {
      "text/html": [
       "<html><script type=\"math/tex; mode=display\">\\newcommand{\\Bold}[1]{\\mathbf{#1}}\\mathrm{grad}\\left(\\mathrm{div}\\left(v\\right)\\right) = \\left( \\frac{\\partial^2\\,v_{x}}{\\partial x ^ 2} + \\frac{\\partial^2\\,v_{y}}{\\partial x\\partial y} + \\frac{\\partial^2\\,v_{z}}{\\partial x\\partial z} \\right) \\frac{\\partial}{\\partial x } + \\left( \\frac{\\partial^2\\,v_{x}}{\\partial x\\partial y} + \\frac{\\partial^2\\,v_{y}}{\\partial y ^ 2} + \\frac{\\partial^2\\,v_{z}}{\\partial y\\partial z} \\right) \\frac{\\partial}{\\partial y } + \\left( \\frac{\\partial^2\\,v_{x}}{\\partial x\\partial z} + \\frac{\\partial^2\\,v_{y}}{\\partial y\\partial z} + \\frac{\\partial^2\\,v_{z}}{\\partial z ^ 2} \\right) \\frac{\\partial}{\\partial z }</script></html>"
      ],
      "text/plain": [
       "grad(div(v)) = (d^2(v_x)/dx^2 + d^2(v_y)/dxdy + d^2(v_z)/dxdz) d/dx + (d^2(v_x)/dxdy + d^2(v_y)/dy^2 + d^2(v_z)/dydz) d/dy + (d^2(v_x)/dxdz + d^2(v_y)/dydz + d^2(v_z)/dz^2) d/dz"
      ]
     },
     "execution_count": 25,
     "metadata": {},
     "output_type": "execute_result"
    }
   ],
   "source": [
    "grad(div(v)).display()"
   ]
  },
  {
   "cell_type": "markdown",
   "metadata": {},
   "source": [
    "Check of a standard identity:"
   ]
  },
  {
   "cell_type": "code",
   "execution_count": 26,
   "metadata": {},
   "outputs": [
    {
     "data": {
      "text/html": [
       "<html><script type=\"math/tex; mode=display\">\\newcommand{\\Bold}[1]{\\mathbf{#1}}\\mathrm{True}</script></html>"
      ],
      "text/plain": [
       "True"
      ]
     },
     "execution_count": 26,
     "metadata": {},
     "output_type": "execute_result"
    }
   ],
   "source": [
    "curl(curl(v)) == grad(div(v)) - laplacian(v)"
   ]
  },
  {
   "cell_type": "markdown",
   "metadata": {},
   "source": [
    "Two other identities regarding any scalar field `F` and any vector field `v`:"
   ]
  },
  {
   "cell_type": "code",
   "execution_count": 27,
   "metadata": {},
   "outputs": [
    {
     "data": {
      "text/html": [
       "<html><script type=\"math/tex; mode=display\">\\newcommand{\\Bold}[1]{\\mathbf{#1}}\\mathrm{True}</script></html>"
      ],
      "text/plain": [
       "True"
      ]
     },
     "execution_count": 27,
     "metadata": {},
     "output_type": "execute_result"
    }
   ],
   "source": [
    "div(F*v) == F*div(v) + v.dot(grad(F))"
   ]
  },
  {
   "cell_type": "code",
   "execution_count": 28,
   "metadata": {},
   "outputs": [
    {
     "data": {
      "text/html": [
       "<html><script type=\"math/tex; mode=display\">\\newcommand{\\Bold}[1]{\\mathbf{#1}}\\mathrm{True}</script></html>"
      ],
      "text/plain": [
       "True"
      ]
     },
     "execution_count": 28,
     "metadata": {},
     "output_type": "execute_result"
    }
   ],
   "source": [
    "curl(F*v) == grad(F).cross(v) + F*curl(v)"
   ]
  },
  {
   "cell_type": "markdown",
   "metadata": {},
   "source": [
    "The left-hand side is"
   ]
  },
  {
   "cell_type": "code",
   "execution_count": 29,
   "metadata": {},
   "outputs": [
    {
     "data": {
      "text/html": [
       "<html><script type=\"math/tex; mode=display\">\\newcommand{\\Bold}[1]{\\mathbf{#1}}\\left( v_{z} \\frac{\\partial\\,f}{\\partial y} - v_{y} \\frac{\\partial\\,f}{\\partial z} - f \\frac{\\partial\\,v_{y}}{\\partial z} + f \\frac{\\partial\\,v_{z}}{\\partial y} \\right) \\frac{\\partial}{\\partial x } + \\left( -v_{z} \\frac{\\partial\\,f}{\\partial x} + v_{x} \\frac{\\partial\\,f}{\\partial z} + f \\frac{\\partial\\,v_{x}}{\\partial z} - f \\frac{\\partial\\,v_{z}}{\\partial x} \\right) \\frac{\\partial}{\\partial y } + \\left( v_{y} \\frac{\\partial\\,f}{\\partial x} - v_{x} \\frac{\\partial\\,f}{\\partial y} - f \\frac{\\partial\\,v_{x}}{\\partial y} + f \\frac{\\partial\\,v_{y}}{\\partial x} \\right) \\frac{\\partial}{\\partial z }</script></html>"
      ],
      "text/plain": [
       "(v_z*d(f)/dy - v_y*d(f)/dz - f*d(v_y)/dz + f*d(v_z)/dy) d/dx + (-v_z*d(f)/dx + v_x*d(f)/dz + f*d(v_x)/dz - f*d(v_z)/dx) d/dy + (v_y*d(f)/dx - v_x*d(f)/dy - f*d(v_x)/dy + f*d(v_y)/dx) d/dz"
      ]
     },
     "execution_count": 29,
     "metadata": {},
     "output_type": "execute_result"
    }
   ],
   "source": [
    "curl(F*v).display()"
   ]
  },
  {
   "cell_type": "code",
   "execution_count": null,
   "metadata": {},
   "outputs": [],
   "source": []
  }
 ],
 "metadata": {
  "kernelspec": {
   "display_name": "SageMath 8.2.beta4",
   "language": "",
   "name": "sagemath"
  },
  "language_info": {
   "codemirror_mode": {
    "name": "ipython",
    "version": 2
   },
   "file_extension": ".py",
   "mimetype": "text/x-python",
   "name": "python",
   "nbconvert_exporter": "python",
   "pygments_lexer": "ipython2",
   "version": "2.7.14"
  }
 },
 "nbformat": 4,
 "nbformat_minor": 2
}
