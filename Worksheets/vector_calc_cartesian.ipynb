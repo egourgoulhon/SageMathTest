{
 "cells": [
  {
   "cell_type": "markdown",
   "metadata": {},
   "source": [
    "# Vector calculus with SageMath\n",
    "\n",
    "## 1. Using Cartesian coordinates\n",
    "\n",
    "This notebook illustrates operations on vector fields on Euclidean spaces, as introduced in Trac ticket [#24623](https://trac.sagemath.org/ticket/24623)."
   ]
  },
  {
   "cell_type": "code",
   "execution_count": 1,
   "metadata": {},
   "outputs": [
    {
     "data": {
      "text/plain": [
       "'SageMath version 8.2.beta6, Release Date: 2018-02-18'"
      ]
     },
     "execution_count": 1,
     "metadata": {},
     "output_type": "execute_result"
    }
   ],
   "source": [
    "version()"
   ]
  },
  {
   "cell_type": "code",
   "execution_count": 2,
   "metadata": {},
   "outputs": [],
   "source": [
    "%display latex"
   ]
  },
  {
   "cell_type": "code",
   "execution_count": 3,
   "metadata": {},
   "outputs": [],
   "source": [
    "from sage.manifolds.operators import *   # to get the operators grad, div, curl, etc."
   ]
  },
  {
   "cell_type": "markdown",
   "metadata": {},
   "source": [
    "## The 3-dimensional Euclidean space\n",
    "\n",
    "We start by declaring the 3-dimensional Euclidean space $\\mathbb{E}^3$, with $(x,y,z)$ as Cartesian coordinates:"
   ]
  },
  {
   "cell_type": "code",
   "execution_count": 4,
   "metadata": {},
   "outputs": [
    {
     "name": "stdout",
     "output_type": "stream",
     "text": [
      "Euclidean space E^3\n"
     ]
    },
    {
     "data": {
      "text/html": [
       "<html><script type=\"math/tex; mode=display\">\\newcommand{\\Bold}[1]{\\mathbf{#1}}\\mathbb{E}^{3}</script></html>"
      ],
      "text/plain": [
       "Euclidean space E^3"
      ]
     },
     "execution_count": 4,
     "metadata": {},
     "output_type": "execute_result"
    }
   ],
   "source": [
    "E.<x,y,z> = EuclideanSpace(3)\n",
    "print(E)\n",
    "E"
   ]
  },
  {
   "cell_type": "markdown",
   "metadata": {},
   "source": [
    "$\\mathbb{E}^3$ is endowed with the chart of Cartesian coordinates:"
   ]
  },
  {
   "cell_type": "code",
   "execution_count": 5,
   "metadata": {},
   "outputs": [
    {
     "data": {
      "text/html": [
       "<html><script type=\"math/tex; mode=display\">\\newcommand{\\Bold}[1]{\\mathbf{#1}}\\left[\\left(\\mathbb{E}^{3},(x, y, z)\\right)\\right]</script></html>"
      ],
      "text/plain": [
       "[Chart (E^3, (x, y, z))]"
      ]
     },
     "execution_count": 5,
     "metadata": {},
     "output_type": "execute_result"
    }
   ],
   "source": [
    "E.atlas()"
   ]
  },
  {
   "cell_type": "markdown",
   "metadata": {},
   "source": [
    "as well as with the associated orthonormal vector frame:"
   ]
  },
  {
   "cell_type": "code",
   "execution_count": 6,
   "metadata": {},
   "outputs": [
    {
     "data": {
      "text/html": [
       "<html><script type=\"math/tex; mode=display\">\\newcommand{\\Bold}[1]{\\mathbf{#1}}\\left[\\left(\\mathbb{E}^{3}, \\left(e_{ x },e_{ y },e_{ z }\\right)\\right)\\right]</script></html>"
      ],
      "text/plain": [
       "[Coordinate frame (E^3, (e_x,e_y,e_z))]"
      ]
     },
     "execution_count": 6,
     "metadata": {},
     "output_type": "execute_result"
    }
   ],
   "source": [
    "E.frames()"
   ]
  },
  {
   "cell_type": "markdown",
   "metadata": {},
   "source": [
    "## Vector fields"
   ]
  },
  {
   "cell_type": "markdown",
   "metadata": {},
   "source": [
    "We define a vector field on $\\mathbb{E}^3$ from its components in the vector frame $(e_x,e_y,e_z)$:"
   ]
  },
  {
   "cell_type": "code",
   "execution_count": 7,
   "metadata": {},
   "outputs": [
    {
     "data": {
      "text/html": [
       "<html><script type=\"math/tex; mode=display\">\\newcommand{\\Bold}[1]{\\mathbf{#1}}v = -y e_{ x } + x e_{ y } + \\sin\\left(x y z\\right) e_{ z }</script></html>"
      ],
      "text/plain": [
       "v = -y e_x + x e_y + sin(x*y*z) e_z"
      ]
     },
     "execution_count": 7,
     "metadata": {},
     "output_type": "execute_result"
    }
   ],
   "source": [
    "v = E.vector_field(-y, x, sin(x*y*z), name='v')\n",
    "v.display()"
   ]
  },
  {
   "cell_type": "markdown",
   "metadata": {},
   "source": [
    "We can access to the components of $v$ via the square bracket operator:"
   ]
  },
  {
   "cell_type": "code",
   "execution_count": 8,
   "metadata": {},
   "outputs": [
    {
     "data": {
      "text/html": [
       "<html><script type=\"math/tex; mode=display\">\\newcommand{\\Bold}[1]{\\mathbf{#1}}-y</script></html>"
      ],
      "text/plain": [
       "-y"
      ]
     },
     "execution_count": 8,
     "metadata": {},
     "output_type": "execute_result"
    }
   ],
   "source": [
    "v[1]"
   ]
  },
  {
   "cell_type": "code",
   "execution_count": 9,
   "metadata": {},
   "outputs": [
    {
     "data": {
      "text/html": [
       "<html><script type=\"math/tex; mode=display\">\\newcommand{\\Bold}[1]{\\mathbf{#1}}\\left[-y, x, \\sin\\left(x y z\\right)\\right]</script></html>"
      ],
      "text/plain": [
       "[-y, x, sin(x*y*z)]"
      ]
     },
     "execution_count": 9,
     "metadata": {},
     "output_type": "execute_result"
    }
   ],
   "source": [
    "v[:]"
   ]
  },
  {
   "cell_type": "markdown",
   "metadata": {},
   "source": [
    "A vector field can evaluated at any point of $\\mathbb{E}^3$:"
   ]
  },
  {
   "cell_type": "code",
   "execution_count": 10,
   "metadata": {},
   "outputs": [
    {
     "name": "stdout",
     "output_type": "stream",
     "text": [
      "Point p on the Euclidean space E^3\n"
     ]
    }
   ],
   "source": [
    "p = E((3,-2,1), name='p')\n",
    "print(p)"
   ]
  },
  {
   "cell_type": "code",
   "execution_count": 11,
   "metadata": {},
   "outputs": [
    {
     "data": {
      "text/html": [
       "<html><script type=\"math/tex; mode=display\">\\newcommand{\\Bold}[1]{\\mathbf{#1}}\\left(3, -2, 1\\right)</script></html>"
      ],
      "text/plain": [
       "(3, -2, 1)"
      ]
     },
     "execution_count": 11,
     "metadata": {},
     "output_type": "execute_result"
    }
   ],
   "source": [
    "p.coordinates()"
   ]
  },
  {
   "cell_type": "code",
   "execution_count": 12,
   "metadata": {},
   "outputs": [
    {
     "name": "stdout",
     "output_type": "stream",
     "text": [
      "Vector v at Point p on the Euclidean space E^3\n"
     ]
    }
   ],
   "source": [
    "vp = v.at(p)\n",
    "print(vp)"
   ]
  },
  {
   "cell_type": "code",
   "execution_count": 13,
   "metadata": {},
   "outputs": [
    {
     "data": {
      "text/html": [
       "<html><script type=\"math/tex; mode=display\">\\newcommand{\\Bold}[1]{\\mathbf{#1}}v = 2 e_{ x } + 3 e_{ y } -\\sin\\left(6\\right) e_{ z }</script></html>"
      ],
      "text/plain": [
       "v = 2 e_x + 3 e_y - sin(6) e_z"
      ]
     },
     "execution_count": 13,
     "metadata": {},
     "output_type": "execute_result"
    }
   ],
   "source": [
    "vp.display()"
   ]
  },
  {
   "cell_type": "markdown",
   "metadata": {},
   "source": [
    "Vector fields can be plotted (see the [list of options](http://doc.sagemath.org/html/en/reference/manifolds/sage/manifolds/differentiable/vectorfield.html#sage.manifolds.differentiable.vectorfield.VectorField.plot) for customizing the plot)"
   ]
  },
  {
   "cell_type": "code",
   "execution_count": 14,
   "metadata": {},
   "outputs": [
    {
     "data": {
      "text/html": [
       "\n",
       "<iframe srcdoc=\"<!DOCTYPE html>\n",
       "<html>\n",
       "<head>\n",
       "<title></title>\n",
       "<meta charset=&quot;utf-8&quot;>\n",
       "<meta name=viewport content=&quot;width=device-width, user-scalable=no, minimum-scale=1.0, maximum-scale=1.0&quot;>\n",
       "<style>\n",
       "\n",
       "    body { margin: 0px; overflow: hidden; }\n",
       "  \n",
       "</style>\n",
       "</head>\n",
       "\n",
       "<body>\n",
       "\n",
       "<script src=&quot;/nbextensions/threejs/three.min.js&quot;></script>\n",
       "<script src=&quot;/nbextensions/threejs/OrbitControls.js&quot;></script>\n",
       "<script>\n",
       "  if ( !window.THREE ) document.write('\n",
       "<script src=&quot;https://cdn.rawgit.com/mrdoob/three.js/r80/build/three.min.js&quot;><\\/script>\n",
       "<script src=&quot;https://cdn.rawgit.com/mrdoob/three.js/r80/examples/js/controls/OrbitControls.js&quot;><\\/script>\n",
       "            ');\n",
       "</script>\n",
       "        \n",
       "<script>\n",
       "\n",
       "    var scene = new THREE.Scene();\n",
       "\n",
       "    var renderer = new THREE.WebGLRenderer( { antialias: true } );\n",
       "    renderer.setSize( window.innerWidth, window.innerHeight );\n",
       "    renderer.setClearColor( 0xffffff, 1 );\n",
       "    document.body.appendChild( renderer.domElement );\n",
       "\n",
       "    var options = {&quot;aspect_ratio&quot;: [1.0, 1.0, 1.0], &quot;decimals&quot;: 2, &quot;frame&quot;: true, &quot;axes&quot;: false, &quot;axes_labels&quot;: [&quot;x&quot;, &quot;y&quot;, &quot;z&quot;]};\n",
       "\n",
       "    // When animations are supported by the viewer, the value 'false'\n",
       "    // will be replaced with an option set in Python by the user\n",
       "    var animate = false; // options.animate;\n",
       "\n",
       "    var b = [{&quot;x&quot;:-2.53984245884, &quot;y&quot;:-2.53529721714, &quot;z&quot;:-2.27120532538}, {&quot;x&quot;:2.53529721714, &quot;y&quot;:2.30915429175, &quot;z&quot;:2.06473211399}]; // bounds\n",
       "\n",
       "    if ( b[0].x === b[1].x ) {\n",
       "        b[0].x -= 1;\n",
       "        b[1].x += 1;\n",
       "    }\n",
       "    if ( b[0].y === b[1].y ) {\n",
       "        b[0].y -= 1;\n",
       "        b[1].y += 1;\n",
       "    }\n",
       "    if ( b[0].z === b[1].z ) {\n",
       "        b[0].z -= 1;\n",
       "        b[1].z += 1;\n",
       "    }\n",
       "\n",
       "    var rRange = Math.sqrt( Math.pow( b[1].x - b[0].x, 2 )\n",
       "                            + Math.pow( b[1].x - b[0].x, 2 ) );\n",
       "    var xRange = b[1].x - b[0].x;\n",
       "    var yRange = b[1].y - b[0].y;\n",
       "    var zRange = b[1].z - b[0].z;\n",
       "\n",
       "    var ar = options.aspect_ratio;\n",
       "    var a = [ ar[0], ar[1], ar[2] ]; // aspect multipliers\n",
       "    var autoAspect = 2.5;\n",
       "    if ( zRange > autoAspect * rRange && a[2] === 1 ) a[2] = autoAspect * rRange / zRange;\n",
       "\n",
       "    var xMid = ( b[0].x + b[1].x ) / 2;\n",
       "    var yMid = ( b[0].y + b[1].y ) / 2;\n",
       "    var zMid = ( b[0].z + b[1].z ) / 2;\n",
       "\n",
       "    var box = new THREE.Geometry();\n",
       "    box.vertices.push( new THREE.Vector3( a[0]*b[0].x, a[1]*b[0].y, a[2]*b[0].z ) );\n",
       "    box.vertices.push( new THREE.Vector3( a[0]*b[1].x, a[1]*b[1].y, a[2]*b[1].z ) );\n",
       "    var boxMesh = new THREE.LineSegments( box );\n",
       "    if ( options.frame ) scene.add( new THREE.BoxHelper( boxMesh, 'black' ) );\n",
       "\n",
       "    if ( options.axes_labels ) {\n",
       "        var d = options.decimals; // decimals\n",
       "        var offsetRatio = 0.1;\n",
       "        var al = options.axes_labels;\n",
       "\n",
       "        var offset = offsetRatio * a[1]*( b[1].y - b[0].y );\n",
       "        var xm = xMid.toFixed(d);\n",
       "        if ( /^-0.?0*$/.test(xm) ) xm = xm.substr(1);\n",
       "        addLabel( al[0] + '=' + xm, a[0]*xMid, a[1]*b[1].y+offset, a[2]*b[0].z );\n",
       "        addLabel( ( b[0].x ).toFixed(d), a[0]*b[0].x, a[1]*b[1].y+offset, a[2]*b[0].z );\n",
       "        addLabel( ( b[1].x ).toFixed(d), a[0]*b[1].x, a[1]*b[1].y+offset, a[2]*b[0].z );\n",
       "\n",
       "        var offset = offsetRatio * a[0]*( b[1].x - b[0].x );\n",
       "        var ym = yMid.toFixed(d);\n",
       "        if ( /^-0.?0*$/.test(ym) ) ym = ym.substr(1);\n",
       "        addLabel( al[1] + '=' + ym, a[0]*b[1].x+offset, a[1]*yMid, a[2]*b[0].z );\n",
       "        addLabel( ( b[0].y ).toFixed(d), a[0]*b[1].x+offset, a[1]*b[0].y, a[2]*b[0].z );\n",
       "        addLabel( ( b[1].y ).toFixed(d), a[0]*b[1].x+offset, a[1]*b[1].y, a[2]*b[0].z );\n",
       "\n",
       "        var offset = offsetRatio * a[1]*( b[1].y - b[0].y );\n",
       "        var zm = zMid.toFixed(d);\n",
       "        if ( /^-0.?0*$/.test(zm) ) zm = zm.substr(1);\n",
       "        addLabel( al[2] + '=' + zm, a[0]*b[1].x, a[1]*b[0].y-offset, a[2]*zMid );\n",
       "        addLabel( ( b[0].z ).toFixed(d), a[0]*b[1].x, a[1]*b[0].y-offset, a[2]*b[0].z );\n",
       "        addLabel( ( b[1].z ).toFixed(d), a[0]*b[1].x, a[1]*b[0].y-offset, a[2]*b[1].z );\n",
       "    }\n",
       "\n",
       "    function addLabel( text, x, y, z ) {\n",
       "        var fontsize = 14;\n",
       "\n",
       "        var canvas = document.createElement( 'canvas' );\n",
       "        canvas.width = 128;\n",
       "        canvas.height = 32; // powers of two\n",
       "\n",
       "        var context = canvas.getContext( '2d' );\n",
       "        context.fillStyle = 'black';\n",
       "        context.font = fontsize + 'px monospace';\n",
       "        context.textAlign = 'center';\n",
       "        context.textBaseline = 'middle';\n",
       "        context.fillText( text, .5*canvas.width, .5*canvas.height );\n",
       "\n",
       "        var texture = new THREE.Texture( canvas );\n",
       "        texture.needsUpdate = true;\n",
       "\n",
       "        var sprite = new THREE.Sprite( new THREE.SpriteMaterial( { map: texture } ) );\n",
       "        sprite.position.set( x, y, z );\n",
       "        sprite.scale.set( 1, .25 ); // ratio of width to height\n",
       "        scene.add( sprite );\n",
       "    }\n",
       "\n",
       "    if ( options.axes ) scene.add( new THREE.AxisHelper( Math.min( a[0]*b[1].x, a[1]*b[1].y, a[2]*b[1].z ) ) );\n",
       "\n",
       "    var camera = new THREE.PerspectiveCamera( 45, window.innerWidth / window.innerHeight, 0.1, 1000 );\n",
       "    camera.up.set( 0, 0, 1 );\n",
       "    camera.position.set( a[0]*(xMid+xRange), a[1]*(yMid+yRange), a[2]*(zMid+zRange) );\n",
       "\n",
       "    var lights = [{&quot;x&quot;:-5, &quot;y&quot;:3, &quot;z&quot;:0, &quot;color&quot;:&quot;#7f7f7f&quot;, &quot;parent&quot;:&quot;camera&quot;}];\n",
       "    for ( var i=0 ; i < lights.length ; i++ ) {\n",
       "        var light = new THREE.DirectionalLight( lights[i].color, 1 );\n",
       "        light.position.set( a[0]*lights[i].x, a[1]*lights[i].y, a[2]*lights[i].z );\n",
       "        if ( lights[i].parent === 'camera' ) {\n",
       "            light.target.position.set( a[0]*xMid, a[1]*yMid, a[2]*zMid );\n",
       "            scene.add( light.target );\n",
       "            camera.add( light );\n",
       "        } else scene.add( light );\n",
       "    }\n",
       "    scene.add( camera );\n",
       "\n",
       "    var ambient = {&quot;color&quot;:&quot;#7f7f7f&quot;};\n",
       "    scene.add( new THREE.AmbientLight( ambient.color, 1 ) );\n",
       "\n",
       "    var controls = new THREE.OrbitControls( camera, renderer.domElement );\n",
       "    controls.target.set( a[0]*xMid, a[1]*yMid, a[2]*zMid );\n",
       "    controls.addEventListener( 'change', function() { if ( !animate ) render(); } );\n",
       "\n",
       "    window.addEventListener( 'resize', function() {\n",
       "        \n",
       "        renderer.setSize( window.innerWidth, window.innerHeight );\n",
       "        camera.aspect = window.innerWidth / window.innerHeight;\n",
       "        camera.updateProjectionMatrix();\n",
       "        if ( !animate ) render();\n",
       "        \n",
       "    } );\n",
       "\n",
       "    var texts = [{&quot;text&quot;:&quot;  x&quot;, &quot;x&quot;:-0.0022726208515, &quot;y&quot;:-2.53529721714, &quot;z&quot;:-2.27120532538},{&quot;text&quot;:&quot;  y&quot;, &quot;x&quot;:2.53529721714, &quot;y&quot;:0.0022726208515, &quot;z&quot;:-2.27120532538},{&quot;text&quot;:&quot;  z&quot;, &quot;x&quot;:-2.53984245884, &quot;y&quot;:-2.53529721714, &quot;z&quot;:0.0}];\n",
       "    for ( var i=0 ; i < texts.length ; i++ )\n",
       "        addLabel( texts[i].text, a[0]*texts[i].x, a[1]*texts[i].y, a[2]*texts[i].z );\n",
       "\n",
       "    var points = [];\n",
       "    for ( var i=0 ; i < points.length ; i++ ) addPoint( points[i] );\n",
       "\n",
       "    function addPoint( json ) {\n",
       "        var geometry = new THREE.Geometry();\n",
       "        var v = json.point;\n",
       "        geometry.vertices.push( new THREE.Vector3( a[0]*v[0], a[1]*v[1], a[2]*v[2] ) );\n",
       "\n",
       "        var canvas = document.createElement( 'canvas' );\n",
       "        canvas.width = 128;\n",
       "        canvas.height = 128;\n",
       "\n",
       "        var context = canvas.getContext( '2d' );\n",
       "        context.arc( 64, 64, 64, 0, 2 * Math.PI );\n",
       "        context.fillStyle = json.color;\n",
       "        context.fill();\n",
       "\n",
       "        var texture = new THREE.Texture( canvas );\n",
       "        texture.needsUpdate = true;\n",
       "\n",
       "        var transparent = json.opacity < 1 ? true : false;\n",
       "        var material = new THREE.PointsMaterial( { size: json.size/100, map: texture,\n",
       "                                                   transparent: transparent, opacity: json.opacity,\n",
       "                                                   alphaTest: .1 } );\n",
       "\n",
       "        var c = geometry.center().multiplyScalar( -1 );\n",
       "        var mesh = new THREE.Points( geometry, material );\n",
       "        mesh.position.set( c.x, c.y, c.z );\n",
       "        scene.add( mesh );\n",
       "    }\n",
       "\n",
       "    var lines = [];\n",
       "    for ( var i=0 ; i < lines.length ; i++ ) addLine( lines[i] );\n",
       "\n",
       "    function addLine( json ) {\n",
       "        var geometry = new THREE.Geometry();\n",
       "        for ( var i=0 ; i < json.points.length - 1 ; i++ ) {\n",
       "            var v = json.points[i];\n",
       "            geometry.vertices.push( new THREE.Vector3( a[0]*v[0], a[1]*v[1], a[2]*v[2] ) );\n",
       "            var v = json.points[i+1];\n",
       "            geometry.vertices.push( new THREE.Vector3( a[0]*v[0], a[1]*v[1], a[2]*v[2] ) );\n",
       "        }\n",
       "\n",
       "        var transparent = json.opacity < 1 ? true : false;\n",
       "        var material = new THREE.LineBasicMaterial( { color: json.color, linewidth: json.linewidth,\n",
       "                                                      transparent: transparent, opacity: json.opacity } );\n",
       "\n",
       "        var c = geometry.center().multiplyScalar( -1 );\n",
       "        var mesh = new THREE.LineSegments( geometry, material );\n",
       "        mesh.position.set( c.x, c.y, c.z );\n",
       "        scene.add( mesh );\n",
       "    }\n",
       "\n",
       "    var surfaces = [{&quot;vertices&quot;:[{&quot;x&quot;:-0.876529,&quot;y&quot;:-2.12347,&quot;z&quot;:-1.40386},{&quot;x&quot;:-0.867613,&quot;y&quot;:-2.11239,&quot;z&quot;:-1.3898},{&quot;x&quot;:-0.863233,&quot;y&quot;:-2.11157,&quot;z&quot;:-1.41289},{&quot;x&quot;:-0.877228,&quot;y&quot;:-2.1272,&quot;z&quot;:-1.4235},{&quot;x&quot;:-0.890258,&quot;y&quot;:-2.13768,&quot;z&quot;:-1.40697},{&quot;x&quot;:-0.884316,&quot;y&quot;:-2.12853,&quot;z&quot;:-1.38615},{&quot;x&quot;:-1.49108,&quot;y&quot;:-1.48892,&quot;z&quot;:-1.48594},{&quot;x&quot;:-1.4867,&quot;y&quot;:-1.4881,&quot;z&quot;:-1.50903},{&quot;x&quot;:-1.5007,&quot;y&quot;:-1.50373,&quot;z&quot;:-1.51964},{&quot;x&quot;:-1.51373,&quot;y&quot;:-1.51421,&quot;z&quot;:-1.50311},{&quot;x&quot;:-1.50779,&quot;y&quot;:-1.50505,&quot;z&quot;:-1.48228},{&quot;x&quot;:-1.5,&quot;y&quot;:-1.5,&quot;z&quot;:-1.5}], &quot;faces&quot;:[[0,2,1],[0,3,2],[0,4,3],[0,5,4],[0,1,5],[1,2,7,6],[2,3,8,7],[3,4,9,8],[4,5,10,9],[5,1,6,10],[6,7,11],[7,8,11],[8,9,11],[9,10,11],[10,6,11]], &quot;color&quot;:&quot;#0000ff&quot;, &quot;opacity&quot;:1},{&quot;vertices&quot;:[{&quot;x&quot;:-0.75,&quot;y&quot;:-2.25,&quot;z&quot;:-1.38435},{&quot;x&quot;:-0.849781,&quot;y&quot;:-2.09022,&quot;z&quot;:-1.36169},{&quot;x&quot;:-0.836639,&quot;y&quot;:-2.08776,&quot;z&quot;:-1.43094},{&quot;x&quot;:-0.878624,&quot;y&quot;:-2.13465,&quot;z&quot;:-1.46278},{&quot;x&quot;:-0.917714,&quot;y&quot;:-2.16609,&quot;z&quot;:-1.41319},{&quot;x&quot;:-0.899888,&quot;y&quot;:-2.13863,&quot;z&quot;:-1.35072},{&quot;x&quot;:-0.876529,&quot;y&quot;:-2.12347,&quot;z&quot;:-1.40386}], &quot;faces&quot;:[[0,2,1],[0,3,2],[0,4,3],[0,5,4],[0,1,5],[1,2,6],[2,3,6],[3,4,6],[4,5,6],[5,1,6]], &quot;color&quot;:&quot;#0000ff&quot;, &quot;opacity&quot;:1},{&quot;vertices&quot;:[{&quot;x&quot;:-0.865271,&quot;y&quot;:-2.13473,&quot;z&quot;:-1.17027},{&quot;x&quot;:-0.85103,&quot;y&quot;:-2.12897,&quot;z&quot;:-1.15747},{&quot;x&quot;:-0.855392,&quot;y&quot;:-2.11941,&quot;z&quot;:-1.1785},{&quot;x&quot;:-0.873406,&quot;y&quot;:-2.13102,&quot;z&quot;:-1.18816},{&quot;x&quot;:-0.880177,&quot;y&quot;:-2.14776,&quot;z&quot;:-1.17311},{&quot;x&quot;:-0.866348,&quot;y&quot;:-2.14649,&quot;z&quot;:-1.15414},{&quot;x&quot;:-1.48576,&quot;y&quot;:-1.49424,&quot;z&quot;:-0.737192},{&quot;x&quot;:-1.49012,&quot;y&quot;:-1.48468,&quot;z&quot;:-0.758223},{&quot;x&quot;:-1.50814,&quot;y&quot;:-1.49629,&quot;z&quot;:-0.76789},{&quot;x&quot;:-1.51491,&quot;y&quot;:-1.51303,&quot;z&quot;:-0.752834},{&quot;x&quot;:-1.50108,&quot;y&quot;:-1.51176,&quot;z&quot;:-0.733861},{&quot;x&quot;:-1.5,&quot;y&quot;:-1.5,&quot;z&quot;:-0.75}], &quot;faces&quot;:[[0,2,1],[0,3,2],[0,4,3],[0,5,4],[0,1,5],[1,2,7,6],[2,3,8,7],[3,4,9,8],[4,5,10,9],[5,1,6,10],[6,7,11],[7,8,11],[8,9,11],[9,10,11],[10,6,11]], &quot;color&quot;:&quot;#0000ff&quot;, &quot;opacity&quot;:1},{&quot;vertices&quot;:[{&quot;x&quot;:-0.75,&quot;y&quot;:-2.25,&quot;z&quot;:-1.2466},{&quot;x&quot;:-0.82255,&quot;y&quot;:-2.11745,&quot;z&quot;:-1.13185},{&quot;x&quot;:-0.835636,&quot;y&quot;:-2.08876,&quot;z&quot;:-1.19494},{&quot;x&quot;:-0.889676,&quot;y&quot;:-2.1236,&quot;z&quot;:-1.22394},{&quot;x&quot;:-0.909989,&quot;y&quot;:-2.17382,&quot;z&quot;:-1.17878},{&quot;x&quot;:-0.868503,&quot;y&quot;:-2.17002,&quot;z&quot;:-1.12186},{&quot;x&quot;:-0.865271,&quot;y&quot;:-2.13473,&quot;z&quot;:-1.17027}], &quot;faces&quot;:[[0,2,1],[0,3,2],[0,4,3],[0,5,4],[0,1,5],[1,2,6],[2,3,6],[3,4,6],[4,5,6],[5,1,6]], &quot;color&quot;:&quot;#0000ff&quot;, &quot;opacity&quot;:1},{&quot;vertices&quot;:[{&quot;x&quot;:-0.877279,&quot;y&quot;:-2.12272,&quot;z&quot;:5.39249e-17},{&quot;x&quot;:-0.867279,&quot;y&quot;:-2.11272,&quot;z&quot;:0.0141421},{&quot;x&quot;:-0.864678,&quot;y&quot;:-2.11012,&quot;z&quot;:-0.00907981},{&quot;x&quot;:-0.879492,&quot;y&quot;:-2.12493,&quot;z&quot;:-0.0197538},{&quot;x&quot;:-0.891247,&quot;y&quot;:-2.13669,&quot;z&quot;:-0.00312869},{&quot;x&quot;:-0.8837,&quot;y&quot;:-2.12914,&quot;z&quot;:0.0178201},{&quot;x&quot;:-1.49,&quot;y&quot;:-1.49,&quot;z&quot;:0.0141421},{&quot;x&quot;:-1.4874,&quot;y&quot;:-1.4874,&quot;z&quot;:-0.00907981},{&quot;x&quot;:-1.50221,&quot;y&quot;:-1.50221,&quot;z&quot;:-0.0197538},{&quot;x&quot;:-1.51397,&quot;y&quot;:-1.51397,&quot;z&quot;:-0.00312869},{&quot;x&quot;:-1.50642,&quot;y&quot;:-1.50642,&quot;z&quot;:0.0178201},{&quot;x&quot;:-1.5,&quot;y&quot;:-1.5,&quot;z&quot;:0}], &quot;faces&quot;:[[0,2,1],[0,3,2],[0,4,3],[0,5,4],[0,1,5],[1,2,7,6],[2,3,8,7],[3,4,9,8],[4,5,10,9],[5,1,6,10],[6,7,11],[7,8,11],[8,9,11],[9,10,11],[10,6,11]], &quot;color&quot;:&quot;#0000ff&quot;, &quot;opacity&quot;:1},{&quot;vertices&quot;:[{&quot;x&quot;:-0.75,&quot;y&quot;:-2.25,&quot;z&quot;:6.49467e-17},{&quot;x&quot;:-0.847279,&quot;y&quot;:-2.09272,&quot;z&quot;:0.0424264},{&quot;x&quot;:-0.839477,&quot;y&quot;:-2.08492,&quot;z&quot;:-0.0272394},{&quot;x&quot;:-0.883916,&quot;y&quot;:-2.12936,&quot;z&quot;:-0.0592613},{&quot;x&quot;:-0.919183,&quot;y&quot;:-2.16462,&quot;z&quot;:-0.00938607},{&quot;x&quot;:-0.89654,&quot;y&quot;:-2.14198,&quot;z&quot;:0.0534604},{&quot;x&quot;:-0.877279,&quot;y&quot;:-2.12272,&quot;z&quot;:5.39249e-17}], &quot;faces&quot;:[[0,2,1],[0,3,2],[0,4,3],[0,5,4],[0,1,5],[1,2,6],[2,3,6],[3,4,6],[4,5,6],[5,1,6]], &quot;color&quot;:&quot;#0000ff&quot;, &quot;opacity&quot;:1},{&quot;vertices&quot;:[{&quot;x&quot;:-0.865271,&quot;y&quot;:-2.13473,&quot;z&quot;:1.17027},{&quot;x&quot;:-0.859511,&quot;y&quot;:-2.12049,&quot;z&quot;:1.18308},{&quot;x&quot;:-0.849947,&quot;y&quot;:-2.12485,&quot;z&quot;:1.16205},{&quot;x&quot;:-0.86156,&quot;y&quot;:-2.14286,&quot;z&quot;:1.15238},{&quot;x&quot;:-0.8783,&quot;y&quot;:-2.14964,&quot;z&quot;:1.16744},{&quot;x&quot;:-0.877034,&quot;y&quot;:-2.13581,&quot;z&quot;:1.18641},{&quot;x&quot;:-1.49424,&quot;y&quot;:-1.48576,&quot;z&quot;:0.762808},{&quot;x&quot;:-1.48468,&quot;y&quot;:-1.49012,&quot;z&quot;:0.741777},{&quot;x&quot;:-1.49629,&quot;y&quot;:-1.50814,&quot;z&quot;:0.73211},{&quot;x&quot;:-1.51303,&quot;y&quot;:-1.51491,&quot;z&quot;:0.747166},{&quot;x&quot;:-1.51176,&quot;y&quot;:-1.50108,&quot;z&quot;:0.766139},{&quot;x&quot;:-1.5,&quot;y&quot;:-1.5,&quot;z&quot;:0.75}], &quot;faces&quot;:[[0,2,1],[0,3,2],[0,4,3],[0,5,4],[0,1,5],[1,2,7,6],[2,3,8,7],[3,4,9,8],[4,5,10,9],[5,1,6,10],[6,7,11],[7,8,11],[8,9,11],[9,10,11],[10,6,11]], &quot;color&quot;:&quot;#0000ff&quot;, &quot;opacity&quot;:1},{&quot;vertices&quot;:[{&quot;x&quot;:-0.75,&quot;y&quot;:-2.25,&quot;z&quot;:1.2466},{&quot;x&quot;:-0.847991,&quot;y&quot;:-2.09201,&quot;z&quot;:1.2087},{&quot;x&quot;:-0.819301,&quot;y&quot;:-2.10509,&quot;z&quot;:1.14561},{&quot;x&quot;:-0.854139,&quot;y&quot;:-2.15913,&quot;z&quot;:1.1166},{&quot;x&quot;:-0.90436,&quot;y&quot;:-2.17945,&quot;z&quot;:1.16177},{&quot;x&quot;:-0.900561,&quot;y&quot;:-2.13796,&quot;z&quot;:1.21869},{&quot;x&quot;:-0.865271,&quot;y&quot;:-2.13473,&quot;z&quot;:1.17027}], &quot;faces&quot;:[[0,2,1],[0,3,2],[0,4,3],[0,5,4],[0,1,5],[1,2,6],[2,3,6],[3,4,6],[4,5,6],[5,1,6]], &quot;color&quot;:&quot;#0000ff&quot;, &quot;opacity&quot;:1},{&quot;vertices&quot;:[{&quot;x&quot;:-0.876529,&quot;y&quot;:-2.12347,&quot;z&quot;:1.40386},{&quot;x&quot;:-0.865445,&quot;y&quot;:-2.11455,&quot;z&quot;:1.41792},{&quot;x&quot;:-0.864625,&quot;y&quot;:-2.11017,&quot;z&quot;:1.39484},{&quot;x&quot;:-0.880256,&quot;y&quot;:-2.12417,&quot;z&quot;:1.38423},{&quot;x&quot;:-0.890737,&quot;y&quot;:-2.1372,&quot;z&quot;:1.40075},{&quot;x&quot;:-0.881584,&quot;y&quot;:-2.13126,&quot;z&quot;:1.42158},{&quot;x&quot;:-1.48892,&quot;y&quot;:-1.49108,&quot;z&quot;:1.51406},{&quot;x&quot;:-1.4881,&quot;y&quot;:-1.4867,&quot;z&quot;:1.49097},{&quot;x&quot;:-1.50373,&quot;y&quot;:-1.5007,&quot;z&quot;:1.48036},{&quot;x&quot;:-1.51421,&quot;y&quot;:-1.51373,&quot;z&quot;:1.49689},{&quot;x&quot;:-1.50505,&quot;y&quot;:-1.50779,&quot;z&quot;:1.51772},{&quot;x&quot;:-1.5,&quot;y&quot;:-1.5,&quot;z&quot;:1.5}], &quot;faces&quot;:[[0,2,1],[0,3,2],[0,4,3],[0,5,4],[0,1,5],[1,2,7,6],[2,3,8,7],[3,4,9,8],[4,5,10,9],[5,1,6,10],[6,7,11],[7,8,11],[8,9,11],[9,10,11],[10,6,11]], &quot;color&quot;:&quot;#0000ff&quot;, &quot;opacity&quot;:1},{&quot;vertices&quot;:[{&quot;x&quot;:-0.75,&quot;y&quot;:-2.25,&quot;z&quot;:1.38435},{&quot;x&quot;:-0.843278,&quot;y&quot;:-2.09672,&quot;z&quot;:1.44604},{&quot;x&quot;:-0.840815,&quot;y&quot;:-2.08358,&quot;z&quot;:1.37678},{&quot;x&quot;:-0.887708,&quot;y&quot;:-2.12557,&quot;z&quot;:1.34495},{&quot;x&quot;:-0.919153,&quot;y&quot;:-2.16466,&quot;z&quot;:1.39453},{&quot;x&quot;:-0.891693,&quot;y&quot;:-2.14683,&quot;z&quot;:1.45701},{&quot;x&quot;:-0.876529,&quot;y&quot;:-2.12347,&quot;z&quot;:1.40386}], &quot;faces&quot;:[[0,2,1],[0,3,2],[0,4,3],[0,5,4],[0,1,5],[1,2,6],[2,3,6],[3,4,6],[4,5,6],[5,1,6]], &quot;color&quot;:&quot;#0000ff&quot;, &quot;opacity&quot;:1},{&quot;vertices&quot;:[{&quot;x&quot;:-1.19426,&quot;y&quot;:-1.36147,&quot;z&quot;:-1.90488},{&quot;x&quot;:-1.18219,&quot;y&quot;:-1.36563,&quot;z&quot;:-1.88948},{&quot;x&quot;:-1.17725,&quot;y&quot;:-1.35127,&quot;z&quot;:-1.90744},{&quot;x&quot;:-1.19583,&quot;y&quot;:-1.35102,&quot;z&quot;:-1.92185},{&quot;x&quot;:-1.21224,&quot;y&quot;:-1.36521,&quot;z&quot;:-1.9128},{&quot;x&quot;:-1.20381,&quot;y&quot;:-1.37424,&quot;z&quot;:-1.8928},{&quot;x&quot;:-1.48792,&quot;y&quot;:-0.754153,&quot;z&quot;:-1.48461},{&quot;x&quot;:-1.48299,&quot;y&quot;:-0.739798,&quot;z&quot;:-1.50256},{&quot;x&quot;:-1.50156,&quot;y&quot;:-0.739542,&quot;z&quot;:-1.51698},{&quot;x&quot;:-1.51798,&quot;y&quot;:-0.753738,&quot;z&quot;:-1.50793},{&quot;x&quot;:-1.50955,&quot;y&quot;:-0.762769,&quot;z&quot;:-1.48792},{&quot;x&quot;:-1.5,&quot;y&quot;:-0.75,&quot;z&quot;:-1.5}], &quot;faces&quot;:[[0,2,1],[0,3,2],[0,4,3],[0,5,4],[0,1,5],[1,2,7,6],[2,3,8,7],[3,4,9,8],[4,5,10,9],[5,1,6,10],[6,7,11],[7,8,11],[8,9,11],[9,10,11],[10,6,11]], &quot;color&quot;:&quot;#0000ff&quot;, &quot;opacity&quot;:1},{&quot;vertices&quot;:[{&quot;x&quot;:-1.125,&quot;y&quot;:-1.5,&quot;z&quot;:-1.9966},{&quot;x&quot;:-1.15803,&quot;y&quot;:-1.37393,&quot;z&quot;:-1.8587},{&quot;x&quot;:-1.14323,&quot;y&quot;:-1.33087,&quot;z&quot;:-1.91256},{&quot;x&quot;:-1.19895,&quot;y&quot;:-1.3301,&quot;z&quot;:-1.9558},{&quot;x&quot;:-1.24819,&quot;y&quot;:-1.37269,&quot;z&quot;:-1.92866},{&quot;x&quot;:-1.2229,&quot;y&quot;:-1.39978,&quot;z&quot;:-1.86865},{&quot;x&quot;:-1.19426,&quot;y&quot;:-1.36147,&quot;z&quot;:-1.90488}], &quot;faces&quot;:[[0,2,1],[0,3,2],[0,4,3],[0,5,4],[0,1,5],[1,2,6],[2,3,6],[3,4,6],[4,5,6],[5,1,6]], &quot;color&quot;:&quot;#0000ff&quot;, &quot;opacity&quot;:1},{&quot;vertices&quot;:[{&quot;x&quot;:-1.19853,&quot;y&quot;:-1.35294,&quot;z&quot;:-1.05032},{&quot;x&quot;:-1.18728,&quot;y&quot;:-1.35545,&quot;z&quot;:-1.03398},{&quot;x&quot;:-1.18138,&quot;y&quot;:-1.34301,&quot;z&quot;:-1.05304},{&quot;x&quot;:-1.19919,&quot;y&quot;:-1.34429,&quot;z&quot;:-1.06834},{&quot;x&quot;:-1.21609,&quot;y&quot;:-1.35752,&quot;z&quot;:-1.05874},{&quot;x&quot;:-1.20872,&quot;y&quot;:-1.36442,&quot;z&quot;:-1.0375},{&quot;x&quot;:-1.48874,&quot;y&quot;:-0.752511,&quot;z&quot;:-0.73366},{&quot;x&quot;:-1.48285,&quot;y&quot;:-0.740071,&quot;z&quot;:-0.752721},{&quot;x&quot;:-1.50066,&quot;y&quot;:-0.741353,&quot;z&quot;:-0.768022},{&quot;x&quot;:-1.51755,&quot;y&quot;:-0.754584,&quot;z&quot;:-0.758417},{&quot;x&quot;:-1.51019,&quot;y&quot;:-0.761481,&quot;z&quot;:-0.73718},{&quot;x&quot;:-1.5,&quot;y&quot;:-0.75,&quot;z&quot;:-0.75}], &quot;faces&quot;:[[0,2,1],[0,3,2],[0,4,3],[0,5,4],[0,1,5],[1,2,7,6],[2,3,8,7],[3,4,9,8],[4,5,10,9],[5,1,6,10],[6,7,11],[7,8,11],[8,9,11],[9,10,11],[10,6,11]], &quot;color&quot;:&quot;#0000ff&quot;, &quot;opacity&quot;:1},{&quot;vertices&quot;:[{&quot;x&quot;:-1.125,&quot;y&quot;:-1.5,&quot;z&quot;:-1.12357},{&quot;x&quot;:-1.16476,&quot;y&quot;:-1.36047,&quot;z&quot;:-1.0013},{&quot;x&quot;:-1.14709,&quot;y&quot;:-1.32315,&quot;z&quot;:-1.05848},{&quot;x&quot;:-1.20051,&quot;y&quot;:-1.32699,&quot;z&quot;:-1.10439},{&quot;x&quot;:-1.25119,&quot;y&quot;:-1.36669,&quot;z&quot;:-1.07557},{&quot;x&quot;:-1.2291,&quot;y&quot;:-1.38738,&quot;z&quot;:-1.01186},{&quot;x&quot;:-1.19853,&quot;y&quot;:-1.35294,&quot;z&quot;:-1.05032}], &quot;faces&quot;:[[0,2,1],[0,3,2],[0,4,3],[0,5,4],[0,1,5],[1,2,6],[2,3,6],[3,4,6],[4,5,6],[5,1,6]], &quot;color&quot;:&quot;#0000ff&quot;, &quot;opacity&quot;:1},{&quot;vertices&quot;:[{&quot;x&quot;:-1.2055,&quot;y&quot;:-1.339,&quot;z&quot;:4.03231e-17},{&quot;x&quot;:-1.1975,&quot;y&quot;:-1.335,&quot;z&quot;:0.0178885},{&quot;x&quot;:-1.18781,&quot;y&quot;:-1.33016,&quot;z&quot;:-0.00297864},{&quot;x&quot;:-1.20257,&quot;y&quot;:-1.33754,&quot;z&quot;:-0.0197294},{&quot;x&quot;:-1.22138,&quot;y&quot;:-1.34694,&quot;z&quot;:-0.00921482},{&quot;x&quot;:-1.21824,&quot;y&quot;:-1.34538,&quot;z&quot;:0.0140344},{&quot;x&quot;:-1.492,&quot;y&quot;:-0.746,&quot;z&quot;:0.0178885},{&quot;x&quot;:-1.48231,&quot;y&quot;:-0.741155,&quot;z&quot;:-0.00297864},{&quot;x&quot;:-1.49707,&quot;y&quot;:-0.748534,&quot;z&quot;:-0.0197294},{&quot;x&quot;:-1.51588,&quot;y&quot;:-0.757938,&quot;z&quot;:-0.00921482},{&quot;x&quot;:-1.51274,&quot;y&quot;:-0.756372,&quot;z&quot;:0.0140344},{&quot;x&quot;:-1.5,&quot;y&quot;:-0.75,&quot;z&quot;:0}], &quot;faces&quot;:[[0,2,1],[0,3,2],[0,4,3],[0,5,4],[0,1,5],[1,2,7,6],[2,3,8,7],[3,4,9,8],[4,5,10,9],[5,1,6,10],[6,7,11],[7,8,11],[8,9,11],[9,10,11],[10,6,11]], &quot;color&quot;:&quot;#0000ff&quot;, &quot;opacity&quot;:1},{&quot;vertices&quot;:[{&quot;x&quot;:-1.125,&quot;y&quot;:-1.5,&quot;z&quot;:5.13449e-17},{&quot;x&quot;:-1.1815,&quot;y&quot;:-1.327,&quot;z&quot;:0.0536656},{&quot;x&quot;:-1.15243,&quot;y&quot;:-1.31247,&quot;z&quot;:-0.00893593},{&quot;x&quot;:-1.1967,&quot;y&quot;:-1.3346,&quot;z&quot;:-0.0591883},{&quot;x&quot;:-1.25313,&quot;y&quot;:-1.36282,&quot;z&quot;:-0.0276445},{&quot;x&quot;:-1.24373,&quot;y&quot;:-1.35812,&quot;z&quot;:0.0421031},{&quot;x&quot;:-1.2055,&quot;y&quot;:-1.339,&quot;z&quot;:4.03231e-17}], &quot;faces&quot;:[[0,2,1],[0,3,2],[0,4,3],[0,5,4],[0,1,5],[1,2,6],[2,3,6],[3,4,6],[4,5,6],[5,1,6]], &quot;color&quot;:&quot;#0000ff&quot;, &quot;opacity&quot;:1},{&quot;vertices&quot;:[{&quot;x&quot;:-1.19853,&quot;y&quot;:-1.35294,&quot;z&quot;:1.05032},{&quot;x&quot;:-1.19379,&quot;y&quot;:-1.34243,&quot;z&quot;:1.06666},{&quot;x&quot;:-1.1803,&quot;y&quot;:-1.34518,&quot;z&quot;:1.0476},{&quot;x&quot;:-1.19201,&quot;y&quot;:-1.35865,&quot;z&quot;:1.0323},{&quot;x&quot;:-1.21273,&quot;y&quot;:-1.36423,&quot;z&quot;:1.0419},{&quot;x&quot;:-1.21383,&quot;y&quot;:-1.3542,&quot;z&quot;:1.06314},{&quot;x&quot;:-1.49526,&quot;y&quot;:-0.739489,&quot;z&quot;:0.76634},{&quot;x&quot;:-1.48177,&quot;y&quot;:-0.74224,&quot;z&quot;:0.747279},{&quot;x&quot;:-1.49348,&quot;y&quot;:-0.755715,&quot;z&quot;:0.731978},{&quot;x&quot;:-1.5142,&quot;y&quot;:-0.761292,&quot;z&quot;:0.741583},{&quot;x&quot;:-1.5153,&quot;y&quot;:-0.751264,&quot;z&quot;:0.76282},{&quot;x&quot;:-1.5,&quot;y&quot;:-0.75,&quot;z&quot;:0.75}], &quot;faces&quot;:[[0,2,1],[0,3,2],[0,4,3],[0,5,4],[0,1,5],[1,2,7,6],[2,3,8,7],[3,4,9,8],[4,5,10,9],[5,1,6,10],[6,7,11],[7,8,11],[8,9,11],[9,10,11],[10,6,11]], &quot;color&quot;:&quot;#0000ff&quot;, &quot;opacity&quot;:1},{&quot;vertices&quot;:[{&quot;x&quot;:-1.125,&quot;y&quot;:-1.5,&quot;z&quot;:1.12357},{&quot;x&quot;:-1.1843,&quot;y&quot;:-1.3214,&quot;z&quot;:1.09934},{&quot;x&quot;:-1.14384,&quot;y&quot;:-1.32966,&quot;z&quot;:1.04216},{&quot;x&quot;:-1.17896,&quot;y&quot;:-1.37008,&quot;z&quot;:0.996254},{&quot;x&quot;:-1.24113,&quot;y&quot;:-1.38681,&quot;z&quot;:1.02507},{&quot;x&quot;:-1.24443,&quot;y&quot;:-1.35673,&quot;z&quot;:1.08878},{&quot;x&quot;:-1.19853,&quot;y&quot;:-1.35294,&quot;z&quot;:1.05032}], &quot;faces&quot;:[[0,2,1],[0,3,2],[0,4,3],[0,5,4],[0,1,5],[1,2,6],[2,3,6],[3,4,6],[4,5,6],[5,1,6]], &quot;color&quot;:&quot;#0000ff&quot;, &quot;opacity&quot;:1},{&quot;vertices&quot;:[{&quot;x&quot;:-1.19426,&quot;y&quot;:-1.36147,&quot;z&quot;:1.90488},{&quot;x&quot;:-1.19034,&quot;y&quot;:-1.34932,&quot;z&quot;:1.92027},{&quot;x&quot;:-1.1759,&quot;y&quot;:-1.35399,&quot;z&quot;:1.90231},{&quot;x&quot;:-1.18683,&quot;y&quot;:-1.369,&quot;z&quot;:1.8879},{&quot;x&quot;:-1.20804,&quot;y&quot;:-1.37361,&quot;z&quot;:1.89695},{&quot;x&quot;:-1.21021,&quot;y&quot;:-1.36145,&quot;z&quot;:1.91695},{&quot;x&quot;:-1.49608,&quot;y&quot;:-0.737847,&quot;z&quot;:1.51539},{&quot;x&quot;:-1.48163,&quot;y&quot;:-0.742513,&quot;z&quot;:1.49744},{&quot;x&quot;:-1.49257,&quot;y&quot;:-0.757526,&quot;z&quot;:1.48302},{&quot;x&quot;:-1.51378,&quot;y&quot;:-0.762138,&quot;z&quot;:1.49207},{&quot;x&quot;:-1.51594,&quot;y&quot;:-0.749976,&quot;z&quot;:1.51208},{&quot;x&quot;:-1.5,&quot;y&quot;:-0.75,&quot;z&quot;:1.5}], &quot;faces&quot;:[[0,2,1],[0,3,2],[0,4,3],[0,5,4],[0,1,5],[1,2,7,6],[2,3,8,7],[3,4,9,8],[4,5,10,9],[5,1,6,10],[6,7,11],[7,8,11],[8,9,11],[9,10,11],[10,6,11]], &quot;color&quot;:&quot;#0000ff&quot;, &quot;opacity&quot;:1},{&quot;vertices&quot;:[{&quot;x&quot;:-1.125,&quot;y&quot;:-1.5,&quot;z&quot;:1.9966},{&quot;x&quot;:-1.18249,&quot;y&quot;:-1.32501,&quot;z&quot;:1.95105},{&quot;x&quot;:-1.13916,&quot;y&quot;:-1.33901,&quot;z&quot;:1.89719},{&quot;x&quot;:-1.17198,&quot;y&quot;:-1.38405,&quot;z&quot;:1.85395},{&quot;x&quot;:-1.23559,&quot;y&quot;:-1.39789,&quot;z&quot;:1.88109},{&quot;x&quot;:-1.24209,&quot;y&quot;:-1.3614,&quot;z&quot;:1.9411},{&quot;x&quot;:-1.19426,&quot;y&quot;:-1.36147,&quot;z&quot;:1.90488}], &quot;faces&quot;:[[0,2,1],[0,3,2],[0,4,3],[0,5,4],[0,1,5],[1,2,6],[2,3,6],[3,4,6],[4,5,6],[5,1,6]], &quot;color&quot;:&quot;#0000ff&quot;, &quot;opacity&quot;:1},{&quot;vertices&quot;:[{&quot;x&quot;:-1.5,&quot;y&quot;:-0.57,&quot;z&quot;:-1.5},{&quot;x&quot;:-1.5,&quot;y&quot;:-0.57,&quot;z&quot;:-1.48},{&quot;x&quot;:-1.48098,&quot;y&quot;:-0.57,&quot;z&quot;:-1.49382},{&quot;x&quot;:-1.48824,&quot;y&quot;:-0.57,&quot;z&quot;:-1.51618},{&quot;x&quot;:-1.51176,&quot;y&quot;:-0.57,&quot;z&quot;:-1.51618},{&quot;x&quot;:-1.51902,&quot;y&quot;:-0.57,&quot;z&quot;:-1.49382},{&quot;x&quot;:-1.5,&quot;y&quot;:1.22465e-18,&quot;z&quot;:-1.48},{&quot;x&quot;:-1.48098,&quot;y&quot;:3.78437e-19,&quot;z&quot;:-1.49382},{&quot;x&quot;:-1.48824,&quot;y&quot;:-9.9076e-19,&quot;z&quot;:-1.51618},{&quot;x&quot;:-1.51176,&quot;y&quot;:-9.9076e-19,&quot;z&quot;:-1.51618},{&quot;x&quot;:-1.51902,&quot;y&quot;:3.78437e-19,&quot;z&quot;:-1.49382},{&quot;x&quot;:-1.5,&quot;y&quot;:0,&quot;z&quot;:-1.5}], &quot;faces&quot;:[[0,2,1],[0,3,2],[0,4,3],[0,5,4],[0,1,5],[1,2,7,6],[2,3,8,7],[3,4,9,8],[4,5,10,9],[5,1,6,10],[6,7,11],[7,8,11],[8,9,11],[9,10,11],[10,6,11]], &quot;color&quot;:&quot;#0000ff&quot;, &quot;opacity&quot;:1},{&quot;vertices&quot;:[{&quot;x&quot;:-1.5,&quot;y&quot;:-0.75,&quot;z&quot;:-1.5},{&quot;x&quot;:-1.5,&quot;y&quot;:-0.57,&quot;z&quot;:-1.44},{&quot;x&quot;:-1.44294,&quot;y&quot;:-0.57,&quot;z&quot;:-1.48146},{&quot;x&quot;:-1.46473,&quot;y&quot;:-0.57,&quot;z&quot;:-1.54854},{&quot;x&quot;:-1.53527,&quot;y&quot;:-0.57,&quot;z&quot;:-1.54854},{&quot;x&quot;:-1.55706,&quot;y&quot;:-0.57,&quot;z&quot;:-1.48146},{&quot;x&quot;:-1.5,&quot;y&quot;:-0.57,&quot;z&quot;:-1.5}], &quot;faces&quot;:[[0,2,1],[0,3,2],[0,4,3],[0,5,4],[0,1,5],[1,2,6],[2,3,6],[3,4,6],[4,5,6],[5,1,6]], &quot;color&quot;:&quot;#0000ff&quot;, &quot;opacity&quot;:1},{&quot;vertices&quot;:[{&quot;x&quot;:-1.5,&quot;y&quot;:-0.57,&quot;z&quot;:-0.75},{&quot;x&quot;:-1.5,&quot;y&quot;:-0.57,&quot;z&quot;:-0.73},{&quot;x&quot;:-1.48098,&quot;y&quot;:-0.57,&quot;z&quot;:-0.74382},{&quot;x&quot;:-1.48824,&quot;y&quot;:-0.57,&quot;z&quot;:-0.76618},{&quot;x&quot;:-1.51176,&quot;y&quot;:-0.57,&quot;z&quot;:-0.76618},{&quot;x&quot;:-1.51902,&quot;y&quot;:-0.57,&quot;z&quot;:-0.74382},{&quot;x&quot;:-1.5,&quot;y&quot;:1.22465e-18,&quot;z&quot;:-0.73},{&quot;x&quot;:-1.48098,&quot;y&quot;:3.78437e-19,&quot;z&quot;:-0.74382},{&quot;x&quot;:-1.48824,&quot;y&quot;:-9.9076e-19,&quot;z&quot;:-0.76618},{&quot;x&quot;:-1.51176,&quot;y&quot;:-9.9076e-19,&quot;z&quot;:-0.76618},{&quot;x&quot;:-1.51902,&quot;y&quot;:3.78437e-19,&quot;z&quot;:-0.74382},{&quot;x&quot;:-1.5,&quot;y&quot;:0,&quot;z&quot;:-0.75}], &quot;faces&quot;:[[0,2,1],[0,3,2],[0,4,3],[0,5,4],[0,1,5],[1,2,7,6],[2,3,8,7],[3,4,9,8],[4,5,10,9],[5,1,6,10],[6,7,11],[7,8,11],[8,9,11],[9,10,11],[10,6,11]], &quot;color&quot;:&quot;#0000ff&quot;, &quot;opacity&quot;:1},{&quot;vertices&quot;:[{&quot;x&quot;:-1.5,&quot;y&quot;:-0.75,&quot;z&quot;:-0.75},{&quot;x&quot;:-1.5,&quot;y&quot;:-0.57,&quot;z&quot;:-0.69},{&quot;x&quot;:-1.44294,&quot;y&quot;:-0.57,&quot;z&quot;:-0.731459},{&quot;x&quot;:-1.46473,&quot;y&quot;:-0.57,&quot;z&quot;:-0.798541},{&quot;x&quot;:-1.53527,&quot;y&quot;:-0.57,&quot;z&quot;:-0.798541},{&quot;x&quot;:-1.55706,&quot;y&quot;:-0.57,&quot;z&quot;:-0.731459},{&quot;x&quot;:-1.5,&quot;y&quot;:-0.57,&quot;z&quot;:-0.75}], &quot;faces&quot;:[[0,2,1],[0,3,2],[0,4,3],[0,5,4],[0,1,5],[1,2,6],[2,3,6],[3,4,6],[4,5,6],[5,1,6]], &quot;color&quot;:&quot;#0000ff&quot;, &quot;opacity&quot;:1},{&quot;vertices&quot;:[{&quot;x&quot;:-1.5,&quot;y&quot;:-0.57,&quot;z&quot;:3.49024e-17},{&quot;x&quot;:-1.5,&quot;y&quot;:-0.57,&quot;z&quot;:0.02},{&quot;x&quot;:-1.48098,&quot;y&quot;:-0.57,&quot;z&quot;:0.00618034},{&quot;x&quot;:-1.48824,&quot;y&quot;:-0.57,&quot;z&quot;:-0.0161803},{&quot;x&quot;:-1.51176,&quot;y&quot;:-0.57,&quot;z&quot;:-0.0161803},{&quot;x&quot;:-1.51902,&quot;y&quot;:-0.57,&quot;z&quot;:0.00618034},{&quot;x&quot;:-1.5,&quot;y&quot;:1.22465e-18,&quot;z&quot;:0.02},{&quot;x&quot;:-1.48098,&quot;y&quot;:3.78437e-19,&quot;z&quot;:0.00618034},{&quot;x&quot;:-1.48824,&quot;y&quot;:-9.9076e-19,&quot;z&quot;:-0.0161803},{&quot;x&quot;:-1.51176,&quot;y&quot;:-9.9076e-19,&quot;z&quot;:-0.0161803},{&quot;x&quot;:-1.51902,&quot;y&quot;:3.78437e-19,&quot;z&quot;:0.00618034},{&quot;x&quot;:-1.5,&quot;y&quot;:0,&quot;z&quot;:0}], &quot;faces&quot;:[[0,2,1],[0,3,2],[0,4,3],[0,5,4],[0,1,5],[1,2,7,6],[2,3,8,7],[3,4,9,8],[4,5,10,9],[5,1,6,10],[6,7,11],[7,8,11],[8,9,11],[9,10,11],[10,6,11]], &quot;color&quot;:&quot;#0000ff&quot;, &quot;opacity&quot;:1},{&quot;vertices&quot;:[{&quot;x&quot;:-1.5,&quot;y&quot;:-0.75,&quot;z&quot;:4.59243e-17},{&quot;x&quot;:-1.5,&quot;y&quot;:-0.57,&quot;z&quot;:0.06},{&quot;x&quot;:-1.44294,&quot;y&quot;:-0.57,&quot;z&quot;:0.018541},{&quot;x&quot;:-1.46473,&quot;y&quot;:-0.57,&quot;z&quot;:-0.048541},{&quot;x&quot;:-1.53527,&quot;y&quot;:-0.57,&quot;z&quot;:-0.048541},{&quot;x&quot;:-1.55706,&quot;y&quot;:-0.57,&quot;z&quot;:0.018541},{&quot;x&quot;:-1.5,&quot;y&quot;:-0.57,&quot;z&quot;:3.49024e-17}], &quot;faces&quot;:[[0,2,1],[0,3,2],[0,4,3],[0,5,4],[0,1,5],[1,2,6],[2,3,6],[3,4,6],[4,5,6],[5,1,6]], &quot;color&quot;:&quot;#0000ff&quot;, &quot;opacity&quot;:1},{&quot;vertices&quot;:[{&quot;x&quot;:-1.5,&quot;y&quot;:-0.57,&quot;z&quot;:0.75},{&quot;x&quot;:-1.5,&quot;y&quot;:-0.57,&quot;z&quot;:0.77},{&quot;x&quot;:-1.48098,&quot;y&quot;:-0.57,&quot;z&quot;:0.75618},{&quot;x&quot;:-1.48824,&quot;y&quot;:-0.57,&quot;z&quot;:0.73382},{&quot;x&quot;:-1.51176,&quot;y&quot;:-0.57,&quot;z&quot;:0.73382},{&quot;x&quot;:-1.51902,&quot;y&quot;:-0.57,&quot;z&quot;:0.75618},{&quot;x&quot;:-1.5,&quot;y&quot;:1.22465e-18,&quot;z&quot;:0.77},{&quot;x&quot;:-1.48098,&quot;y&quot;:3.78437e-19,&quot;z&quot;:0.75618},{&quot;x&quot;:-1.48824,&quot;y&quot;:-9.9076e-19,&quot;z&quot;:0.73382},{&quot;x&quot;:-1.51176,&quot;y&quot;:-9.9076e-19,&quot;z&quot;:0.73382},{&quot;x&quot;:-1.51902,&quot;y&quot;:3.78437e-19,&quot;z&quot;:0.75618},{&quot;x&quot;:-1.5,&quot;y&quot;:0,&quot;z&quot;:0.75}], &quot;faces&quot;:[[0,2,1],[0,3,2],[0,4,3],[0,5,4],[0,1,5],[1,2,7,6],[2,3,8,7],[3,4,9,8],[4,5,10,9],[5,1,6,10],[6,7,11],[7,8,11],[8,9,11],[9,10,11],[10,6,11]], &quot;color&quot;:&quot;#0000ff&quot;, &quot;opacity&quot;:1},{&quot;vertices&quot;:[{&quot;x&quot;:-1.5,&quot;y&quot;:-0.75,&quot;z&quot;:0.75},{&quot;x&quot;:-1.5,&quot;y&quot;:-0.57,&quot;z&quot;:0.81},{&quot;x&quot;:-1.44294,&quot;y&quot;:-0.57,&quot;z&quot;:0.768541},{&quot;x&quot;:-1.46473,&quot;y&quot;:-0.57,&quot;z&quot;:0.701459},{&quot;x&quot;:-1.53527,&quot;y&quot;:-0.57,&quot;z&quot;:0.701459},{&quot;x&quot;:-1.55706,&quot;y&quot;:-0.57,&quot;z&quot;:0.768541},{&quot;x&quot;:-1.5,&quot;y&quot;:-0.57,&quot;z&quot;:0.75}], &quot;faces&quot;:[[0,2,1],[0,3,2],[0,4,3],[0,5,4],[0,1,5],[1,2,6],[2,3,6],[3,4,6],[4,5,6],[5,1,6]], &quot;color&quot;:&quot;#0000ff&quot;, &quot;opacity&quot;:1},{&quot;vertices&quot;:[{&quot;x&quot;:-1.5,&quot;y&quot;:-0.57,&quot;z&quot;:1.5},{&quot;x&quot;:-1.5,&quot;y&quot;:-0.57,&quot;z&quot;:1.52},{&quot;x&quot;:-1.48098,&quot;y&quot;:-0.57,&quot;z&quot;:1.50618},{&quot;x&quot;:-1.48824,&quot;y&quot;:-0.57,&quot;z&quot;:1.48382},{&quot;x&quot;:-1.51176,&quot;y&quot;:-0.57,&quot;z&quot;:1.48382},{&quot;x&quot;:-1.51902,&quot;y&quot;:-0.57,&quot;z&quot;:1.50618},{&quot;x&quot;:-1.5,&quot;y&quot;:1.22465e-18,&quot;z&quot;:1.52},{&quot;x&quot;:-1.48098,&quot;y&quot;:3.78437e-19,&quot;z&quot;:1.50618},{&quot;x&quot;:-1.48824,&quot;y&quot;:-9.9076e-19,&quot;z&quot;:1.48382},{&quot;x&quot;:-1.51176,&quot;y&quot;:-9.9076e-19,&quot;z&quot;:1.48382},{&quot;x&quot;:-1.51902,&quot;y&quot;:3.78437e-19,&quot;z&quot;:1.50618},{&quot;x&quot;:-1.5,&quot;y&quot;:0,&quot;z&quot;:1.5}], &quot;faces&quot;:[[0,2,1],[0,3,2],[0,4,3],[0,5,4],[0,1,5],[1,2,7,6],[2,3,8,7],[3,4,9,8],[4,5,10,9],[5,1,6,10],[6,7,11],[7,8,11],[8,9,11],[9,10,11],[10,6,11]], &quot;color&quot;:&quot;#0000ff&quot;, &quot;opacity&quot;:1},{&quot;vertices&quot;:[{&quot;x&quot;:-1.5,&quot;y&quot;:-0.75,&quot;z&quot;:1.5},{&quot;x&quot;:-1.5,&quot;y&quot;:-0.57,&quot;z&quot;:1.56},{&quot;x&quot;:-1.44294,&quot;y&quot;:-0.57,&quot;z&quot;:1.51854},{&quot;x&quot;:-1.46473,&quot;y&quot;:-0.57,&quot;z&quot;:1.45146},{&quot;x&quot;:-1.53527,&quot;y&quot;:-0.57,&quot;z&quot;:1.45146},{&quot;x&quot;:-1.55706,&quot;y&quot;:-0.57,&quot;z&quot;:1.51854},{&quot;x&quot;:-1.5,&quot;y&quot;:-0.57,&quot;z&quot;:1.5}], &quot;faces&quot;:[[0,2,1],[0,3,2],[0,4,3],[0,5,4],[0,1,5],[1,2,6],[2,3,6],[3,4,6],[4,5,6],[5,1,6]], &quot;color&quot;:&quot;#0000ff&quot;, &quot;opacity&quot;:1},{&quot;vertices&quot;:[{&quot;x&quot;:-1.80574,&quot;y&quot;:0.138526,&quot;z&quot;:-1.09512},{&quot;x&quot;:-1.80966,&quot;y&quot;:0.150679,&quot;z&quot;:-1.07973},{&quot;x&quot;:-1.78979,&quot;y&quot;:0.13855,&quot;z&quot;:-1.08305},{&quot;x&quot;:-1.79196,&quot;y&quot;:0.126388,&quot;z&quot;:-1.10305},{&quot;x&quot;:-1.81317,&quot;y&quot;:0.131,&quot;z&quot;:-1.1121},{&quot;x&quot;:-1.8241,&quot;y&quot;:0.146013,&quot;z&quot;:-1.09769},{&quot;x&quot;:-1.50392,&quot;y&quot;:0.762153,&quot;z&quot;:-1.48461},{&quot;x&quot;:-1.48406,&quot;y&quot;:0.750024,&quot;z&quot;:-1.48792},{&quot;x&quot;:-1.48622,&quot;y&quot;:0.737862,&quot;z&quot;:-1.50793},{&quot;x&quot;:-1.50743,&quot;y&quot;:0.742474,&quot;z&quot;:-1.51698},{&quot;x&quot;:-1.51837,&quot;y&quot;:0.757487,&quot;z&quot;:-1.50256},{&quot;x&quot;:-1.5,&quot;y&quot;:0.75,&quot;z&quot;:-1.5}], &quot;faces&quot;:[[0,2,1],[0,3,2],[0,4,3],[0,5,4],[0,1,5],[1,2,7,6],[2,3,8,7],[3,4,9,8],[4,5,10,9],[5,1,6,10],[6,7,11],[7,8,11],[8,9,11],[9,10,11],[10,6,11]], &quot;color&quot;:&quot;#0000ff&quot;, &quot;opacity&quot;:1},{&quot;vertices&quot;:[{&quot;x&quot;:-1.875,&quot;y&quot;:1.11022e-16,&quot;z&quot;:-1.0034},{&quot;x&quot;:-1.81751,&quot;y&quot;:0.174986,&quot;z&quot;:-1.04895},{&quot;x&quot;:-1.75791,&quot;y&quot;:0.138599,&quot;z&quot;:-1.0589},{&quot;x&quot;:-1.76441,&quot;y&quot;:0.102112,&quot;z&quot;:-1.11891},{&quot;x&quot;:-1.82802,&quot;y&quot;:0.115949,&quot;z&quot;:-1.14605},{&quot;x&quot;:-1.86084,&quot;y&quot;:0.160987,&quot;z&quot;:-1.10281},{&quot;x&quot;:-1.80574,&quot;y&quot;:0.138526,&quot;z&quot;:-1.09512}], &quot;faces&quot;:[[0,2,1],[0,3,2],[0,4,3],[0,5,4],[0,1,5],[1,2,6],[2,3,6],[3,4,6],[4,5,6],[5,1,6]], &quot;color&quot;:&quot;#0000ff&quot;, &quot;opacity&quot;:1},{&quot;vertices&quot;:[{&quot;x&quot;:-1.80147,&quot;y&quot;:0.147063,&quot;z&quot;:-0.449681},{&quot;x&quot;:-1.80621,&quot;y&quot;:0.157574,&quot;z&quot;:-0.43334},{&quot;x&quot;:-1.78617,&quot;y&quot;:0.145799,&quot;z&quot;:-0.436861},{&quot;x&quot;:-1.78727,&quot;y&quot;:0.13577,&quot;z&quot;:-0.458098},{&quot;x&quot;:-1.80799,&quot;y&quot;:0.141348,&quot;z&quot;:-0.467702},{&quot;x&quot;:-1.8197,&quot;y&quot;:0.154823,&quot;z&quot;:-0.452401},{&quot;x&quot;:-1.50474,&quot;y&quot;:0.760511,&quot;z&quot;:-0.73366},{&quot;x&quot;:-1.4847,&quot;y&quot;:0.748736,&quot;z&quot;:-0.73718},{&quot;x&quot;:-1.4858,&quot;y&quot;:0.738708,&quot;z&quot;:-0.758417},{&quot;x&quot;:-1.50652,&quot;y&quot;:0.744285,&quot;z&quot;:-0.768022},{&quot;x&quot;:-1.51823,&quot;y&quot;:0.75776,&quot;z&quot;:-0.752721},{&quot;x&quot;:-1.5,&quot;y&quot;:0.75,&quot;z&quot;:-0.75}], &quot;faces&quot;:[[0,2,1],[0,3,2],[0,4,3],[0,5,4],[0,1,5],[1,2,7,6],[2,3,8,7],[3,4,9,8],[4,5,10,9],[5,1,6,10],[6,7,11],[7,8,11],[8,9,11],[9,10,11],[10,6,11]], &quot;color&quot;:&quot;#0000ff&quot;, &quot;opacity&quot;:1},{&quot;vertices&quot;:[{&quot;x&quot;:-1.875,&quot;y&quot;:2.77556e-17,&quot;z&quot;:-0.37643},{&quot;x&quot;:-1.8157,&quot;y&quot;:0.178596,&quot;z&quot;:-0.40066},{&quot;x&quot;:-1.75557,&quot;y&quot;:0.143271,&quot;z&quot;:-0.411221},{&quot;x&quot;:-1.75887,&quot;y&quot;:0.113185,&quot;z&quot;:-0.474932},{&quot;x&quot;:-1.82104,&quot;y&quot;:0.129918,&quot;z&quot;:-0.503746},{&quot;x&quot;:-1.85616,&quot;y&quot;:0.170344,&quot;z&quot;:-0.457843},{&quot;x&quot;:-1.80147,&quot;y&quot;:0.147063,&quot;z&quot;:-0.449681}], &quot;faces&quot;:[[0,2,1],[0,3,2],[0,4,3],[0,5,4],[0,1,5],[1,2,6],[2,3,6],[3,4,6],[4,5,6],[5,1,6]], &quot;color&quot;:&quot;#0000ff&quot;, &quot;opacity&quot;:1},{&quot;vertices&quot;:[{&quot;x&quot;:-1.7945,&quot;y&quot;:0.160997,&quot;z&quot;:4.03231e-17},{&quot;x&quot;:-1.8025,&quot;y&quot;:0.164997,&quot;z&quot;:0.0178885},{&quot;x&quot;:-1.78176,&quot;y&quot;:0.154625,&quot;z&quot;:0.0140344},{&quot;x&quot;:-1.77862,&quot;y&quot;:0.153059,&quot;z&quot;:-0.00921482},{&quot;x&quot;:-1.79743,&quot;y&quot;:0.162463,&quot;z&quot;:-0.0197294},{&quot;x&quot;:-1.81219,&quot;y&quot;:0.169841,&quot;z&quot;:-0.00297864},{&quot;x&quot;:-1.508,&quot;y&quot;:0.754,&quot;z&quot;:0.0178885},{&quot;x&quot;:-1.48726,&quot;y&quot;:0.743628,&quot;z&quot;:0.0140344},{&quot;x&quot;:-1.48412,&quot;y&quot;:0.742062,&quot;z&quot;:-0.00921482},{&quot;x&quot;:-1.50293,&quot;y&quot;:0.751466,&quot;z&quot;:-0.0197294},{&quot;x&quot;:-1.51769,&quot;y&quot;:0.758845,&quot;z&quot;:-0.00297864},{&quot;x&quot;:-1.5,&quot;y&quot;:0.75,&quot;z&quot;:0}], &quot;faces&quot;:[[0,2,1],[0,3,2],[0,4,3],[0,5,4],[0,1,5],[1,2,7,6],[2,3,8,7],[3,4,9,8],[4,5,10,9],[5,1,6,10],[6,7,11],[7,8,11],[8,9,11],[9,10,11],[10,6,11]], &quot;color&quot;:&quot;#0000ff&quot;, &quot;opacity&quot;:1},{&quot;vertices&quot;:[{&quot;x&quot;:-1.875,&quot;y&quot;:-8.32667e-17,&quot;z&quot;:5.13449e-17},{&quot;x&quot;:-1.8185,&quot;y&quot;:0.172997,&quot;z&quot;:0.0536656},{&quot;x&quot;:-1.75627,&quot;y&quot;:0.14188,&quot;z&quot;:0.0421031},{&quot;x&quot;:-1.74687,&quot;y&quot;:0.137182,&quot;z&quot;:-0.0276445},{&quot;x&quot;:-1.8033,&quot;y&quot;:0.165396,&quot;z&quot;:-0.0591883},{&quot;x&quot;:-1.84757,&quot;y&quot;:0.18753,&quot;z&quot;:-0.00893593},{&quot;x&quot;:-1.7945,&quot;y&quot;:0.160997,&quot;z&quot;:4.03231e-17}], &quot;faces&quot;:[[0,2,1],[0,3,2],[0,4,3],[0,5,4],[0,1,5],[1,2,6],[2,3,6],[3,4,6],[4,5,6],[5,1,6]], &quot;color&quot;:&quot;#0000ff&quot;, &quot;opacity&quot;:1},{&quot;vertices&quot;:[{&quot;x&quot;:-1.80147,&quot;y&quot;:0.147063,&quot;z&quot;:0.449681},{&quot;x&quot;:-1.81272,&quot;y&quot;:0.144551,&quot;z&quot;:0.466021},{&quot;x&quot;:-1.79128,&quot;y&quot;:0.135582,&quot;z&quot;:0.4625},{&quot;x&quot;:-1.78391,&quot;y&quot;:0.142478,&quot;z&quot;:0.441263},{&quot;x&quot;:-1.80081,&quot;y&quot;:0.15571,&quot;z&quot;:0.431659},{&quot;x&quot;:-1.81862,&quot;y&quot;:0.156991,&quot;z&quot;:0.44696},{&quot;x&quot;:-1.51126,&quot;y&quot;:0.747489,&quot;z&quot;:0.76634},{&quot;x&quot;:-1.48981,&quot;y&quot;:0.738519,&quot;z&quot;:0.76282},{&quot;x&quot;:-1.48245,&quot;y&quot;:0.745416,&quot;z&quot;:0.741583},{&quot;x&quot;:-1.49934,&quot;y&quot;:0.758647,&quot;z&quot;:0.731978},{&quot;x&quot;:-1.51715,&quot;y&quot;:0.759929,&quot;z&quot;:0.747279},{&quot;x&quot;:-1.5,&quot;y&quot;:0.75,&quot;z&quot;:0.75}], &quot;faces&quot;:[[0,2,1],[0,3,2],[0,4,3],[0,5,4],[0,1,5],[1,2,7,6],[2,3,8,7],[3,4,9,8],[4,5,10,9],[5,1,6,10],[6,7,11],[7,8,11],[8,9,11],[9,10,11],[10,6,11]], &quot;color&quot;:&quot;#0000ff&quot;, &quot;opacity&quot;:1},{&quot;vertices&quot;:[{&quot;x&quot;:-1.875,&quot;y&quot;:-8.32667e-17,&quot;z&quot;:0.37643},{&quot;x&quot;:-1.83524,&quot;y&quot;:0.139529,&quot;z&quot;:0.498701},{&quot;x&quot;:-1.7709,&quot;y&quot;:0.112621,&quot;z&quot;:0.48814},{&quot;x&quot;:-1.74881,&quot;y&quot;:0.13331,&quot;z&quot;:0.424429},{&quot;x&quot;:-1.79949,&quot;y&quot;:0.173005,&quot;z&quot;:0.395615},{&quot;x&quot;:-1.85291,&quot;y&quot;:0.176849,&quot;z&quot;:0.441518},{&quot;x&quot;:-1.80147,&quot;y&quot;:0.147063,&quot;z&quot;:0.449681}], &quot;faces&quot;:[[0,2,1],[0,3,2],[0,4,3],[0,5,4],[0,1,5],[1,2,6],[2,3,6],[3,4,6],[4,5,6],[5,1,6]], &quot;color&quot;:&quot;#0000ff&quot;, &quot;opacity&quot;:1},{&quot;vertices&quot;:[{&quot;x&quot;:-1.80574,&quot;y&quot;:0.138526,&quot;z&quot;:1.09512},{&quot;x&quot;:-1.81781,&quot;y&quot;:0.134373,&quot;z&quot;:1.11052},{&quot;x&quot;:-1.79619,&quot;y&quot;:0.125757,&quot;z&quot;:1.1072},{&quot;x&quot;:-1.78776,&quot;y&quot;:0.134788,&quot;z&quot;:1.0872},{&quot;x&quot;:-1.80417,&quot;y&quot;:0.148985,&quot;z&quot;:1.07815},{&quot;x&quot;:-1.82275,&quot;y&quot;:0.148728,&quot;z&quot;:1.09256},{&quot;x&quot;:-1.51208,&quot;y&quot;:0.745847,&quot;z&quot;:1.51539},{&quot;x&quot;:-1.49045,&quot;y&quot;:0.737231,&quot;z&quot;:1.51208},{&quot;x&quot;:-1.48202,&quot;y&quot;:0.746262,&quot;z&quot;:1.49207},{&quot;x&quot;:-1.49844,&quot;y&quot;:0.760458,&quot;z&quot;:1.48302},{&quot;x&quot;:-1.51701,&quot;y&quot;:0.760202,&quot;z&quot;:1.49744},{&quot;x&quot;:-1.5,&quot;y&quot;:0.75,&quot;z&quot;:1.5}], &quot;faces&quot;:[[0,2,1],[0,3,2],[0,4,3],[0,5,4],[0,1,5],[1,2,7,6],[2,3,8,7],[3,4,9,8],[4,5,10,9],[5,1,6,10],[6,7,11],[7,8,11],[8,9,11],[9,10,11],[10,6,11]], &quot;color&quot;:&quot;#0000ff&quot;, &quot;opacity&quot;:1},{&quot;vertices&quot;:[{&quot;x&quot;:-1.875,&quot;y&quot;:1.11022e-16,&quot;z&quot;:1.0034},{&quot;x&quot;:-1.84197,&quot;y&quot;:0.126067,&quot;z&quot;:1.1413},{&quot;x&quot;:-1.7771,&quot;y&quot;:0.10022,&quot;z&quot;:1.13135},{&quot;x&quot;:-1.75181,&quot;y&quot;:0.127311,&quot;z&quot;:1.07134},{&quot;x&quot;:-1.80105,&quot;y&quot;:0.169902,&quot;z&quot;:1.0442},{&quot;x&quot;:-1.85677,&quot;y&quot;:0.169133,&quot;z&quot;:1.08744},{&quot;x&quot;:-1.80574,&quot;y&quot;:0.138526,&quot;z&quot;:1.09512}], &quot;faces&quot;:[[0,2,1],[0,3,2],[0,4,3],[0,5,4],[0,1,5],[1,2,6],[2,3,6],[3,4,6],[4,5,6],[5,1,6]], &quot;color&quot;:&quot;#0000ff&quot;, &quot;opacity&quot;:1},{&quot;vertices&quot;:[{&quot;x&quot;:-2.12347,&quot;y&quot;:0.876529,&quot;z&quot;:-1.59614},{&quot;x&quot;:-2.13455,&quot;y&quot;:0.885445,&quot;z&quot;:-1.58208},{&quot;x&quot;:-2.11842,&quot;y&quot;:0.868743,&quot;z&quot;:-1.57842},{&quot;x&quot;:-2.10926,&quot;y&quot;:0.862801,&quot;z&quot;:-1.59925},{&quot;x&quot;:-2.11974,&quot;y&quot;:0.875831,&quot;z&quot;:-1.61577},{&quot;x&quot;:-2.13538,&quot;y&quot;:0.889826,&quot;z&quot;:-1.60516},{&quot;x&quot;:-1.51108,&quot;y&quot;:1.50892,&quot;z&quot;:-1.48594},{&quot;x&quot;:-1.49495,&quot;y&quot;:1.49221,&quot;z&quot;:-1.48228},{&quot;x&quot;:-1.48579,&quot;y&quot;:1.48627,&quot;z&quot;:-1.50311},{&quot;x&quot;:-1.49627,&quot;y&quot;:1.4993,&quot;z&quot;:-1.51964},{&quot;x&quot;:-1.5119,&quot;y&quot;:1.5133,&quot;z&quot;:-1.50903},{&quot;x&quot;:-1.5,&quot;y&quot;:1.5,&quot;z&quot;:-1.5}], &quot;faces&quot;:[[0,2,1],[0,3,2],[0,4,3],[0,5,4],[0,1,5],[1,2,7,6],[2,3,8,7],[3,4,9,8],[4,5,10,9],[5,1,6,10],[6,7,11],[7,8,11],[8,9,11],[9,10,11],[10,6,11]], &quot;color&quot;:&quot;#0000ff&quot;, &quot;opacity&quot;:1},{&quot;vertices&quot;:[{&quot;x&quot;:-2.25,&quot;y&quot;:0.75,&quot;z&quot;:-1.61565},{&quot;x&quot;:-2.15672,&quot;y&quot;:0.903278,&quot;z&quot;:-1.55396},{&quot;x&quot;:-2.10831,&quot;y&quot;:0.853171,&quot;z&quot;:-1.54299},{&quot;x&quot;:-2.08085,&quot;y&quot;:0.835345,&quot;z&quot;:-1.60547},{&quot;x&quot;:-2.11229,&quot;y&quot;:0.874434,&quot;z&quot;:-1.65505},{&quot;x&quot;:-2.15919,&quot;y&quot;:0.916419,&quot;z&quot;:-1.62322},{&quot;x&quot;:-2.12347,&quot;y&quot;:0.876529,&quot;z&quot;:-1.59614}], &quot;faces&quot;:[[0,2,1],[0,3,2],[0,4,3],[0,5,4],[0,1,5],[1,2,6],[2,3,6],[3,4,6],[4,5,6],[5,1,6]], &quot;color&quot;:&quot;#0000ff&quot;, &quot;opacity&quot;:1},{&quot;vertices&quot;:[{&quot;x&quot;:-2.13473,&quot;y&quot;:0.865271,&quot;z&quot;:-0.329725},{&quot;x&quot;:-2.14049,&quot;y&quot;:0.879511,&quot;z&quot;:-0.316918},{&quot;x&quot;:-2.12297,&quot;y&quot;:0.864193,&quot;z&quot;:-0.313587},{&quot;x&quot;:-2.1217,&quot;y&quot;:0.850364,&quot;z&quot;:-0.332559},{&quot;x&quot;:-2.13844,&quot;y&quot;:0.857135,&quot;z&quot;:-0.347615},{&quot;x&quot;:-2.15005,&quot;y&quot;:0.875149,&quot;z&quot;:-0.337949},{&quot;x&quot;:-1.50576,&quot;y&quot;:1.51424,&quot;z&quot;:-0.737192},{&quot;x&quot;:-1.48824,&quot;y&quot;:1.49892,&quot;z&quot;:-0.733861},{&quot;x&quot;:-1.48697,&quot;y&quot;:1.48509,&quot;z&quot;:-0.752834},{&quot;x&quot;:-1.50371,&quot;y&quot;:1.49186,&quot;z&quot;:-0.76789},{&quot;x&quot;:-1.51532,&quot;y&quot;:1.50988,&quot;z&quot;:-0.758223},{&quot;x&quot;:-1.5,&quot;y&quot;:1.5,&quot;z&quot;:-0.75}], &quot;faces&quot;:[[0,2,1],[0,3,2],[0,4,3],[0,5,4],[0,1,5],[1,2,7,6],[2,3,8,7],[3,4,9,8],[4,5,10,9],[5,1,6,10],[6,7,11],[7,8,11],[8,9,11],[9,10,11],[10,6,11]], &quot;color&quot;:&quot;#0000ff&quot;, &quot;opacity&quot;:1},{&quot;vertices&quot;:[{&quot;x&quot;:-2.25,&quot;y&quot;:0.75,&quot;z&quot;:-0.253401},{&quot;x&quot;:-2.15201,&quot;y&quot;:0.907991,&quot;z&quot;:-0.291302},{&quot;x&quot;:-2.09944,&quot;y&quot;:0.862038,&quot;z&quot;:-0.281309},{&quot;x&quot;:-2.09564,&quot;y&quot;:0.820552,&quot;z&quot;:-0.338226},{&quot;x&quot;:-2.14586,&quot;y&quot;:0.840865,&quot;z&quot;:-0.383395},{&quot;x&quot;:-2.1807,&quot;y&quot;:0.894906,&quot;z&quot;:-0.354395},{&quot;x&quot;:-2.13473,&quot;y&quot;:0.865271,&quot;z&quot;:-0.329725}], &quot;faces&quot;:[[0,2,1],[0,3,2],[0,4,3],[0,5,4],[0,1,5],[1,2,6],[2,3,6],[3,4,6],[4,5,6],[5,1,6]], &quot;color&quot;:&quot;#0000ff&quot;, &quot;opacity&quot;:1},{&quot;vertices&quot;:[{&quot;x&quot;:-2.12272,&quot;y&quot;:0.877279,&quot;z&quot;:5.39249e-17},{&quot;x&quot;:-2.13272,&quot;y&quot;:0.887279,&quot;z&quot;:0.0141421},{&quot;x&quot;:-2.1163,&quot;y&quot;:0.870859,&quot;z&quot;:0.0178201},{&quot;x&quot;:-2.10875,&quot;y&quot;:0.863311,&quot;z&quot;:-0.00312869},{&quot;x&quot;:-2.12051,&quot;y&quot;:0.875067,&quot;z&quot;:-0.0197538},{&quot;x&quot;:-2.13532,&quot;y&quot;:0.88988,&quot;z&quot;:-0.00907981},{&quot;x&quot;:-1.51,&quot;y&quot;:1.51,&quot;z&quot;:0.0141421},{&quot;x&quot;:-1.49358,&quot;y&quot;:1.49358,&quot;z&quot;:0.0178201},{&quot;x&quot;:-1.48603,&quot;y&quot;:1.48603,&quot;z&quot;:-0.00312869},{&quot;x&quot;:-1.49779,&quot;y&quot;:1.49779,&quot;z&quot;:-0.0197538},{&quot;x&quot;:-1.5126,&quot;y&quot;:1.5126,&quot;z&quot;:-0.00907981},{&quot;x&quot;:-1.5,&quot;y&quot;:1.5,&quot;z&quot;:0}], &quot;faces&quot;:[[0,2,1],[0,3,2],[0,4,3],[0,5,4],[0,1,5],[1,2,7,6],[2,3,8,7],[3,4,9,8],[4,5,10,9],[5,1,6,10],[6,7,11],[7,8,11],[8,9,11],[9,10,11],[10,6,11]], &quot;color&quot;:&quot;#0000ff&quot;, &quot;opacity&quot;:1},{&quot;vertices&quot;:[{&quot;x&quot;:-2.25,&quot;y&quot;:0.75,&quot;z&quot;:6.49467e-17},{&quot;x&quot;:-2.15272,&quot;y&quot;:0.907279,&quot;z&quot;:0.0424264},{&quot;x&quot;:-2.10346,&quot;y&quot;:0.858018,&quot;z&quot;:0.0534604},{&quot;x&quot;:-2.08082,&quot;y&quot;:0.835375,&quot;z&quot;:-0.00938607},{&quot;x&quot;:-2.11608,&quot;y&quot;:0.870642,&quot;z&quot;:-0.0592613},{&quot;x&quot;:-2.16052,&quot;y&quot;:0.915081,&quot;z&quot;:-0.0272394},{&quot;x&quot;:-2.12272,&quot;y&quot;:0.877279,&quot;z&quot;:5.39249e-17}], &quot;faces&quot;:[[0,2,1],[0,3,2],[0,4,3],[0,5,4],[0,1,5],[1,2,6],[2,3,6],[3,4,6],[4,5,6],[5,1,6]], &quot;color&quot;:&quot;#0000ff&quot;, &quot;opacity&quot;:1},{&quot;vertices&quot;:[{&quot;x&quot;:-2.13473,&quot;y&quot;:0.865271,&quot;z&quot;:0.329725},{&quot;x&quot;:-2.14897,&quot;y&quot;:0.87103,&quot;z&quot;:0.342533},{&quot;x&quot;:-2.13365,&quot;y&quot;:0.853507,&quot;z&quot;:0.345864},{&quot;x&quot;:-2.11982,&quot;y&quot;:0.852241,&quot;z&quot;:0.326892},{&quot;x&quot;:-2.12659,&quot;y&quot;:0.868981,&quot;z&quot;:0.311835},{&quot;x&quot;:-2.14461,&quot;y&quot;:0.880594,&quot;z&quot;:0.321502},{&quot;x&quot;:-1.51424,&quot;y&quot;:1.50576,&quot;z&quot;:0.762808},{&quot;x&quot;:-1.49892,&quot;y&quot;:1.48824,&quot;z&quot;:0.766139},{&quot;x&quot;:-1.48509,&quot;y&quot;:1.48697,&quot;z&quot;:0.747166},{&quot;x&quot;:-1.49186,&quot;y&quot;:1.50371,&quot;z&quot;:0.73211},{&quot;x&quot;:-1.50988,&quot;y&quot;:1.51532,&quot;z&quot;:0.741777},{&quot;x&quot;:-1.5,&quot;y&quot;:1.5,&quot;z&quot;:0.75}], &quot;faces&quot;:[[0,2,1],[0,3,2],[0,4,3],[0,5,4],[0,1,5],[1,2,7,6],[2,3,8,7],[3,4,9,8],[4,5,10,9],[5,1,6,10],[6,7,11],[7,8,11],[8,9,11],[9,10,11],[10,6,11]], &quot;color&quot;:&quot;#0000ff&quot;, &quot;opacity&quot;:1},{&quot;vertices&quot;:[{&quot;x&quot;:-2.25,&quot;y&quot;:0.75,&quot;z&quot;:0.253401},{&quot;x&quot;:-2.17745,&quot;y&quot;:0.88255,&quot;z&quot;:0.368149},{&quot;x&quot;:-2.1315,&quot;y&quot;:0.82998,&quot;z&quot;:0.378142},{&quot;x&quot;:-2.09001,&quot;y&quot;:0.826181,&quot;z&quot;:0.321225},{&quot;x&quot;:-2.11032,&quot;y&quot;:0.876402,&quot;z&quot;:0.276055},{&quot;x&quot;:-2.16436,&quot;y&quot;:0.91124,&quot;z&quot;:0.305056},{&quot;x&quot;:-2.13473,&quot;y&quot;:0.865271,&quot;z&quot;:0.329725}], &quot;faces&quot;:[[0,2,1],[0,3,2],[0,4,3],[0,5,4],[0,1,5],[1,2,6],[2,3,6],[3,4,6],[4,5,6],[5,1,6]], &quot;color&quot;:&quot;#0000ff&quot;, &quot;opacity&quot;:1},{&quot;vertices&quot;:[{&quot;x&quot;:-2.12347,&quot;y&quot;:0.876529,&quot;z&quot;:1.59614},{&quot;x&quot;:-2.13239,&quot;y&quot;:0.887613,&quot;z&quot;:1.6102},{&quot;x&quot;:-2.11568,&quot;y&quot;:0.871475,&quot;z&quot;:1.61385},{&quot;x&quot;:-2.10974,&quot;y&quot;:0.862322,&quot;z&quot;:1.59303},{&quot;x&quot;:-2.12277,&quot;y&quot;:0.872803,&quot;z&quot;:1.5765},{&quot;x&quot;:-2.13677,&quot;y&quot;:0.888434,&quot;z&quot;:1.58711},{&quot;x&quot;:-1.50892,&quot;y&quot;:1.51108,&quot;z&quot;:1.51406},{&quot;x&quot;:-1.49221,&quot;y&quot;:1.49495,&quot;z&quot;:1.51772},{&quot;x&quot;:-1.48627,&quot;y&quot;:1.48579,&quot;z&quot;:1.49689},{&quot;x&quot;:-1.4993,&quot;y&quot;:1.49627,&quot;z&quot;:1.48036},{&quot;x&quot;:-1.5133,&quot;y&quot;:1.5119,&quot;z&quot;:1.49097},{&quot;x&quot;:-1.5,&quot;y&quot;:1.5,&quot;z&quot;:1.5}], &quot;faces&quot;:[[0,2,1],[0,3,2],[0,4,3],[0,5,4],[0,1,5],[1,2,7,6],[2,3,8,7],[3,4,9,8],[4,5,10,9],[5,1,6,10],[6,7,11],[7,8,11],[8,9,11],[9,10,11],[10,6,11]], &quot;color&quot;:&quot;#0000ff&quot;, &quot;opacity&quot;:1},{&quot;vertices&quot;:[{&quot;x&quot;:-2.25,&quot;y&quot;:0.75,&quot;z&quot;:1.61565},{&quot;x&quot;:-2.15022,&quot;y&quot;:0.909781,&quot;z&quot;:1.63831},{&quot;x&quot;:-2.10011,&quot;y&quot;:0.861366,&quot;z&quot;:1.64928},{&quot;x&quot;:-2.08229,&quot;y&quot;:0.833906,&quot;z&quot;:1.58681},{&quot;x&quot;:-2.12138,&quot;y&quot;:0.86535,&quot;z&quot;:1.53722},{&quot;x&quot;:-2.16336,&quot;y&quot;:0.912244,&quot;z&quot;:1.56906},{&quot;x&quot;:-2.12347,&quot;y&quot;:0.876529,&quot;z&quot;:1.59614}], &quot;faces&quot;:[[0,2,1],[0,3,2],[0,4,3],[0,5,4],[0,1,5],[1,2,6],[2,3,6],[3,4,6],[4,5,6],[5,1,6]], &quot;color&quot;:&quot;#0000ff&quot;, &quot;opacity&quot;:1},{&quot;vertices&quot;:[{&quot;x&quot;:-0.138526,&quot;y&quot;:-1.80574,&quot;z&quot;:-1.90488},{&quot;x&quot;:-0.12645,&quot;y&quot;:-1.79178,&quot;z&quot;:-1.89718},{&quot;x&quot;:-0.138744,&quot;y&quot;:-1.78994,&quot;z&quot;:-1.91714},{&quot;x&quot;:-0.150738,&quot;y&quot;:-1.80993,&quot;z&quot;:-1.92015},{&quot;x&quot;:-0.145855,&quot;y&quot;:-1.82413,&quot;z&quot;:-1.90206},{&quot;x&quot;:-0.130845,&quot;y&quot;:-1.81291,&quot;z&quot;:-1.88786},{&quot;x&quot;:-0.737923,&quot;y&quot;:-1.48604,&quot;z&quot;:-1.4923},{&quot;x&quot;:-0.750218,&quot;y&quot;:-1.4842,&quot;z&quot;:-1.51226},{&quot;x&quot;:-0.762211,&quot;y&quot;:-1.5042,&quot;z&quot;:-1.51527},{&quot;x&quot;:-0.757329,&quot;y&quot;:-1.51839,&quot;z&quot;:-1.49718},{&quot;x&quot;:-0.742318,&quot;y&quot;:-1.50717,&quot;z&quot;:-1.48298},{&quot;x&quot;:-0.75,&quot;y&quot;:-1.5,&quot;z&quot;:-1.5}], &quot;faces&quot;:[[0,2,1],[0,3,2],[0,4,3],[0,5,4],[0,1,5],[1,2,7,6],[2,3,8,7],[3,4,9,8],[4,5,10,9],[5,1,6,10],[6,7,11],[7,8,11],[8,9,11],[9,10,11],[10,6,11]], &quot;color&quot;:&quot;#0000ff&quot;, &quot;opacity&quot;:1},{&quot;vertices&quot;:[{&quot;x&quot;:-1.11022e-16,&quot;y&quot;:-1.875,&quot;z&quot;:-1.9966},{&quot;x&quot;:-0.102297,&quot;y&quot;:-1.76385,&quot;z&quot;:-1.88179},{&quot;x&quot;:-0.13918,&quot;y&quot;:-1.75834,&quot;z&quot;:-1.94166},{&quot;x&quot;:-0.17516,&quot;y&quot;:-1.81833,&quot;z&quot;:-1.9507},{&quot;x&quot;:-0.160513,&quot;y&quot;:-1.86092,&quot;z&quot;:-1.89641},{&quot;x&quot;:-0.115481,&quot;y&quot;:-1.82725,&quot;z&quot;:-1.85383},{&quot;x&quot;:-0.138526,&quot;y&quot;:-1.80574,&quot;z&quot;:-1.90488}], &quot;faces&quot;:[[0,2,1],[0,3,2],[0,4,3],[0,5,4],[0,1,5],[1,2,6],[2,3,6],[3,4,6],[4,5,6],[5,1,6]], &quot;color&quot;:&quot;#0000ff&quot;, &quot;opacity&quot;:1},{&quot;vertices&quot;:[{&quot;x&quot;:-0.147063,&quot;y&quot;:-1.80147,&quot;z&quot;:-1.05032},{&quot;x&quot;:-0.135807,&quot;y&quot;:-1.7871,&quot;z&quot;:-1.04215},{&quot;x&quot;:-0.145973,&quot;y&quot;:-1.78632,&quot;z&quot;:-1.06334},{&quot;x&quot;:-0.157645,&quot;y&quot;:-1.80648,&quot;z&quot;:-1.06653},{&quot;x&quot;:-0.154693,&quot;y&quot;:-1.81971,&quot;z&quot;:-1.04732},{&quot;x&quot;:-0.141196,&quot;y&quot;:-1.80773,&quot;z&quot;:-1.03225},{&quot;x&quot;:-0.738744,&quot;y&quot;:-1.48563,&quot;z&quot;:-0.74183},{&quot;x&quot;:-0.74891,&quot;y&quot;:-1.48485,&quot;z&quot;:-0.763016},{&quot;x&quot;:-0.760582,&quot;y&quot;:-1.50501,&quot;z&quot;:-0.766214},{&quot;x&quot;:-0.75763,&quot;y&quot;:-1.51824,&quot;z&quot;:-0.747005},{&quot;x&quot;:-0.744134,&quot;y&quot;:-1.50626,&quot;z&quot;:-0.731935},{&quot;x&quot;:-0.75,&quot;y&quot;:-1.5,&quot;z&quot;:-0.75}], &quot;faces&quot;:[[0,2,1],[0,3,2],[0,4,3],[0,5,4],[0,1,5],[1,2,7,6],[2,3,8,7],[3,4,9,8],[4,5,10,9],[5,1,6,10],[6,7,11],[7,8,11],[8,9,11],[9,10,11],[10,6,11]], &quot;color&quot;:&quot;#0000ff&quot;, &quot;opacity&quot;:1},{&quot;vertices&quot;:[{&quot;x&quot;:-2.77556e-17,&quot;y&quot;:-1.875,&quot;z&quot;:-1.12357},{&quot;x&quot;:-0.113296,&quot;y&quot;:-1.75835,&quot;z&quot;:-1.02581},{&quot;x&quot;:-0.143793,&quot;y&quot;:-1.75603,&quot;z&quot;:-1.08937},{&quot;x&quot;:-0.178809,&quot;y&quot;:-1.8165,&quot;z&quot;:-1.09896},{&quot;x&quot;:-0.169952,&quot;y&quot;:-1.8562,&quot;z&quot;:-1.04134},{&quot;x&quot;:-0.129463,&quot;y&quot;:-1.82026,&quot;z&quot;:-0.996124},{&quot;x&quot;:-0.147063,&quot;y&quot;:-1.80147,&quot;z&quot;:-1.05032}], &quot;faces&quot;:[[0,2,1],[0,3,2],[0,4,3],[0,5,4],[0,1,5],[1,2,6],[2,3,6],[3,4,6],[4,5,6],[5,1,6]], &quot;color&quot;:&quot;#0000ff&quot;, &quot;opacity&quot;:1},{&quot;vertices&quot;:[{&quot;x&quot;:-0.160997,&quot;y&quot;:-1.7945,&quot;z&quot;:4.03231e-17},{&quot;x&quot;:-0.152997,&quot;y&quot;:-1.7785,&quot;z&quot;:0.00894427},{&quot;x&quot;:-0.154721,&quot;y&quot;:-1.78195,&quot;z&quot;:-0.0142491},{&quot;x&quot;:-0.165118,&quot;y&quot;:-1.80274,&quot;z&quot;:-0.0177507},{&quot;x&quot;:-0.16982,&quot;y&quot;:-1.81215,&quot;z&quot;:0.00327855},{&quot;x&quot;:-0.162329,&quot;y&quot;:-1.79717,&quot;z&quot;:0.0197769},{&quot;x&quot;:-0.742,&quot;y&quot;:-1.484,&quot;z&quot;:0.00894427},{&quot;x&quot;:-0.743724,&quot;y&quot;:-1.48745,&quot;z&quot;:-0.0142491},{&quot;x&quot;:-0.754121,&quot;y&quot;:-1.50824,&quot;z&quot;:-0.0177507},{&quot;x&quot;:-0.758823,&quot;y&quot;:-1.51765,&quot;z&quot;:0.00327855},{&quot;x&quot;:-0.751332,&quot;y&quot;:-1.50266,&quot;z&quot;:0.0197769},{&quot;x&quot;:-0.75,&quot;y&quot;:-1.5,&quot;z&quot;:0}], &quot;faces&quot;:[[0,2,1],[0,3,2],[0,4,3],[0,5,4],[0,1,5],[1,2,7,6],[2,3,8,7],[3,4,9,8],[4,5,10,9],[5,1,6,10],[6,7,11],[7,8,11],[8,9,11],[9,10,11],[10,6,11]], &quot;color&quot;:&quot;#0000ff&quot;, &quot;opacity&quot;:1},{&quot;vertices&quot;:[{&quot;x&quot;:8.32667e-17,&quot;y&quot;:-1.875,&quot;z&quot;:5.13449e-17},{&quot;x&quot;:-0.136997,&quot;y&quot;:-1.7465,&quot;z&quot;:0.0268328},{&quot;x&quot;:-0.142168,&quot;y&quot;:-1.75684,&quot;z&quot;:-0.0427473},{&quot;x&quot;:-0.17336,&quot;y&quot;:-1.81923,&quot;z&quot;:-0.0532521},{&quot;x&quot;:-0.187467,&quot;y&quot;:-1.84744,&quot;z&quot;:0.00983566},{&quot;x&quot;:-0.164993,&quot;y&quot;:-1.80249,&quot;z&quot;:0.0593308},{&quot;x&quot;:-0.160997,&quot;y&quot;:-1.7945,&quot;z&quot;:4.03231e-17}], &quot;faces&quot;:[[0,2,1],[0,3,2],[0,4,3],[0,5,4],[0,1,5],[1,2,6],[2,3,6],[3,4,6],[4,5,6],[5,1,6]], &quot;color&quot;:&quot;#0000ff&quot;, &quot;opacity&quot;:1},{&quot;vertices&quot;:[{&quot;x&quot;:-0.147063,&quot;y&quot;:-1.80147,&quot;z&quot;:1.05032},{&quot;x&quot;:-0.142318,&quot;y&quot;:-1.78384,&quot;z&quot;:1.05849},{&quot;x&quot;:-0.1356,&quot;y&quot;:-1.79151,&quot;z&quot;:1.0373},{&quot;x&quot;:-0.144723,&quot;y&quot;:-1.81294,&quot;z&quot;:1.03411},{&quot;x&quot;:-0.157079,&quot;y&quot;:-1.81852,&quot;z&quot;:1.05331},{&quot;x&quot;:-0.155593,&quot;y&quot;:-1.80053,&quot;z&quot;:1.06838},{&quot;x&quot;:-0.745256,&quot;y&quot;:-1.48237,&quot;z&quot;:0.75817},{&quot;x&quot;:-0.738537,&quot;y&quot;:-1.49004,&quot;z&quot;:0.736984},{&quot;x&quot;:-0.74766,&quot;y&quot;:-1.51147,&quot;z&quot;:0.733786},{&quot;x&quot;:-0.760017,&quot;y&quot;:-1.51705,&quot;z&quot;:0.752995},{&quot;x&quot;:-0.758531,&quot;y&quot;:-1.49906,&quot;z&quot;:0.768065},{&quot;x&quot;:-0.75,&quot;y&quot;:-1.5,&quot;z&quot;:0.75}], &quot;faces&quot;:[[0,2,1],[0,3,2],[0,4,3],[0,5,4],[0,1,5],[1,2,7,6],[2,3,8,7],[3,4,9,8],[4,5,10,9],[5,1,6,10],[6,7,11],[7,8,11],[8,9,11],[9,10,11],[10,6,11]], &quot;color&quot;:&quot;#0000ff&quot;, &quot;opacity&quot;:1},{&quot;vertices&quot;:[{&quot;x&quot;:-1.38778e-16,&quot;y&quot;:-1.875,&quot;z&quot;:1.12357},{&quot;x&quot;:-0.132829,&quot;y&quot;:-1.74859,&quot;z&quot;:1.07483},{&quot;x&quot;:-0.112674,&quot;y&quot;:-1.77159,&quot;z&quot;:1.01127},{&quot;x&quot;:-0.140043,&quot;y&quot;:-1.83589,&quot;z&quot;:1.00168},{&quot;x&quot;:-0.177113,&quot;y&quot;:-1.85262,&quot;z&quot;:1.0593},{&quot;x&quot;:-0.172655,&quot;y&quot;:-1.79866,&quot;z&quot;:1.10452},{&quot;x&quot;:-0.147063,&quot;y&quot;:-1.80147,&quot;z&quot;:1.05032}], &quot;faces&quot;:[[0,2,1],[0,3,2],[0,4,3],[0,5,4],[0,1,5],[1,2,6],[2,3,6],[3,4,6],[4,5,6],[5,1,6]], &quot;color&quot;:&quot;#0000ff&quot;, &quot;opacity&quot;:1},{&quot;vertices&quot;:[{&quot;x&quot;:-0.138526,&quot;y&quot;:-1.80574,&quot;z&quot;:1.90488},{&quot;x&quot;:-0.134603,&quot;y&quot;:-1.7877,&quot;z&quot;:1.91257},{&quot;x&quot;:-0.125756,&quot;y&quot;:-1.79643,&quot;z&quot;:1.89262},{&quot;x&quot;:-0.134557,&quot;y&quot;:-1.81802,&quot;z&quot;:1.8896},{&quot;x&quot;:-0.148844,&quot;y&quot;:-1.82264,&quot;z&quot;:1.9077},{&quot;x&quot;:-0.148872,&quot;y&quot;:-1.80389,&quot;z&quot;:1.92189},{&quot;x&quot;:-0.746077,&quot;y&quot;:-1.48196,&quot;z&quot;:1.5077},{&quot;x&quot;:-0.737229,&quot;y&quot;:-1.49069,&quot;z&quot;:1.48774},{&quot;x&quot;:-0.746031,&quot;y&quot;:-1.51229,&quot;z&quot;:1.48473},{&quot;x&quot;:-0.760318,&quot;y&quot;:-1.5169,&quot;z&quot;:1.50282},{&quot;x&quot;:-0.760346,&quot;y&quot;:-1.49816,&quot;z&quot;:1.51702},{&quot;x&quot;:-0.75,&quot;y&quot;:-1.5,&quot;z&quot;:1.5}], &quot;faces&quot;:[[0,2,1],[0,3,2],[0,4,3],[0,5,4],[0,1,5],[1,2,7,6],[2,3,8,7],[3,4,9,8],[4,5,10,9],[5,1,6,10],[6,7,11],[7,8,11],[8,9,11],[9,10,11],[10,6,11]], &quot;color&quot;:&quot;#0000ff&quot;, &quot;opacity&quot;:1},{&quot;vertices&quot;:[{&quot;x&quot;:-1.11022e-16,&quot;y&quot;:-1.875,&quot;z&quot;:1.9966},{&quot;x&quot;:-0.126756,&quot;y&quot;:-1.75162,&quot;z&quot;:1.92796},{&quot;x&quot;:-0.100214,&quot;y&quot;:-1.77782,&quot;z&quot;:1.8681},{&quot;x&quot;:-0.126618,&quot;y&quot;:-1.8426,&quot;z&quot;:1.85906},{&quot;x&quot;:-0.169479,&quot;y&quot;:-1.85644,&quot;z&quot;:1.91334},{&quot;x&quot;:-0.169564,&quot;y&quot;:-1.80021,&quot;z&quot;:1.95593},{&quot;x&quot;:-0.138526,&quot;y&quot;:-1.80574,&quot;z&quot;:1.90488}], &quot;faces&quot;:[[0,2,1],[0,3,2],[0,4,3],[0,5,4],[0,1,5],[1,2,6],[2,3,6],[3,4,6],[4,5,6],[5,1,6]], &quot;color&quot;:&quot;#0000ff&quot;, &quot;opacity&quot;:1},{&quot;vertices&quot;:[{&quot;x&quot;:-0.479055,&quot;y&quot;:-1.02094,&quot;z&quot;:-1.76991},{&quot;x&quot;:-0.463296,&quot;y&quot;:-1.0167,&quot;z&quot;:-1.75835},{&quot;x&quot;:-0.470152,&quot;y&quot;:-1.00465,&quot;z&quot;:-1.77734},{&quot;x&quot;:-0.489311,&quot;y&quot;:-1.01511,&quot;z&quot;:-1.78606},{&quot;x&quot;:-0.494297,&quot;y&quot;:-1.03364,&quot;z&quot;:-1.77247},{&quot;x&quot;:-0.478219,&quot;y&quot;:-1.03462,&quot;z&quot;:-1.75534},{&quot;x&quot;:-0.734241,&quot;y&quot;:-0.745759,&quot;z&quot;:-1.48844},{&quot;x&quot;:-0.741097,&quot;y&quot;:-0.733702,&quot;z&quot;:-1.50742},{&quot;x&quot;:-0.760256,&quot;y&quot;:-0.744168,&quot;z&quot;:-1.51615},{&quot;x&quot;:-0.765242,&quot;y&quot;:-0.762694,&quot;z&quot;:-1.50256},{&quot;x&quot;:-0.749164,&quot;y&quot;:-0.763677,&quot;z&quot;:-1.48543},{&quot;x&quot;:-0.75,&quot;y&quot;:-0.75,&quot;z&quot;:-1.5}], &quot;faces&quot;:[[0,2,1],[0,3,2],[0,4,3],[0,5,4],[0,1,5],[1,2,7,6],[2,3,8,7],[3,4,9,8],[4,5,10,9],[5,1,6,10],[6,7,11],[7,8,11],[8,9,11],[9,10,11],[10,6,11]], &quot;color&quot;:&quot;#0000ff&quot;, &quot;opacity&quot;:1},{&quot;vertices&quot;:[{&quot;x&quot;:-0.375,&quot;y&quot;:-1.125,&quot;z&quot;:-1.87357},{&quot;x&quot;:-0.431779,&quot;y&quot;:-1.00822,&quot;z&quot;:-1.73523},{&quot;x&quot;:-0.452345,&quot;y&quot;:-0.972051,&quot;z&quot;:-1.79218},{&quot;x&quot;:-0.509824,&quot;y&quot;:-1.00345,&quot;z&quot;:-1.81836},{&quot;x&quot;:-0.524781,&quot;y&quot;:-1.05903,&quot;z&quot;:-1.77759},{&quot;x&quot;:-0.476547,&quot;y&quot;:-1.06198,&quot;z&quot;:-1.72621},{&quot;x&quot;:-0.479055,&quot;y&quot;:-1.02094,&quot;z&quot;:-1.76991}], &quot;faces&quot;:[[0,2,1],[0,3,2],[0,4,3],[0,5,4],[0,1,5],[1,2,6],[2,3,6],[3,4,6],[4,5,6],[5,1,6]], &quot;color&quot;:&quot;#0000ff&quot;, &quot;opacity&quot;:1},{&quot;vertices&quot;:[{&quot;x&quot;:-0.493738,&quot;y&quot;:-1.00626,&quot;z&quot;:-0.889909},{&quot;x&quot;:-0.480137,&quot;y&quot;:-0.999863,&quot;z&quot;:-0.876716},{&quot;x&quot;:-0.48345,&quot;y&quot;:-0.991349,&quot;z&quot;:-0.89838},{&quot;x&quot;:-0.500981,&quot;y&quot;:-1.00344,&quot;z&quot;:-0.908338},{&quot;x&quot;:-0.508503,&quot;y&quot;:-1.01943,&quot;z&quot;:-0.892828},{&quot;x&quot;:-0.49562,&quot;y&quot;:-1.01722,&quot;z&quot;:-0.873285},{&quot;x&quot;:-0.736399,&quot;y&quot;:-0.743601,&quot;z&quot;:-0.736807},{&quot;x&quot;:-0.739712,&quot;y&quot;:-0.735087,&quot;z&quot;:-0.758471},{&quot;x&quot;:-0.757243,&quot;y&quot;:-0.747182,&quot;z&quot;:-0.768428},{&quot;x&quot;:-0.764765,&quot;y&quot;:-0.763171,&quot;z&quot;:-0.752919},{&quot;x&quot;:-0.751882,&quot;y&quot;:-0.760959,&quot;z&quot;:-0.733376},{&quot;x&quot;:-0.75,&quot;y&quot;:-0.75,&quot;z&quot;:-0.75}], &quot;faces&quot;:[[0,2,1],[0,3,2],[0,4,3],[0,5,4],[0,1,5],[1,2,7,6],[2,3,8,7],[3,4,9,8],[4,5,10,9],[5,1,6,10],[6,7,11],[7,8,11],[8,9,11],[9,10,11],[10,6,11]], &quot;color&quot;:&quot;#0000ff&quot;, &quot;opacity&quot;:1},{&quot;vertices&quot;:[{&quot;x&quot;:-0.375,&quot;y&quot;:-1.125,&quot;z&quot;:-0.954736},{&quot;x&quot;:-0.452934,&quot;y&quot;:-0.987066,&quot;z&quot;:-0.85033},{&quot;x&quot;:-0.462873,&quot;y&quot;:-0.961523,&quot;z&quot;:-0.915321},{&quot;x&quot;:-0.515467,&quot;y&quot;:-0.997807,&quot;z&quot;:-0.945194},{&quot;x&quot;:-0.538033,&quot;y&quot;:-1.04578,&quot;z&quot;:-0.898666},{&quot;x&quot;:-0.499385,&quot;y&quot;:-1.03914,&quot;z&quot;:-0.840036},{&quot;x&quot;:-0.493738,&quot;y&quot;:-1.00626,&quot;z&quot;:-0.889909}], &quot;faces&quot;:[[0,2,1],[0,3,2],[0,4,3],[0,5,4],[0,1,5],[1,2,6],[2,3,6],[3,4,6],[4,5,6],[5,1,6]], &quot;color&quot;:&quot;#0000ff&quot;, &quot;opacity&quot;:1},{&quot;vertices&quot;:[{&quot;x&quot;:-0.502279,&quot;y&quot;:-0.997721,&quot;z&quot;:2.14515e-17},{&quot;x&quot;:-0.492279,&quot;y&quot;:-0.987721,&quot;z&quot;:0.0141421},{&quot;x&quot;:-0.489678,&quot;y&quot;:-0.98512,&quot;z&quot;:-0.00907981},{&quot;x&quot;:-0.504492,&quot;y&quot;:-0.999933,&quot;z&quot;:-0.0197538},{&quot;x&quot;:-0.516247,&quot;y&quot;:-1.01169,&quot;z&quot;:-0.00312869},{&quot;x&quot;:-0.5087,&quot;y&quot;:-1.00414,&quot;z&quot;:0.0178201},{&quot;x&quot;:-0.74,&quot;y&quot;:-0.74,&quot;z&quot;:0.0141421},{&quot;x&quot;:-0.737399,&quot;y&quot;:-0.737399,&quot;z&quot;:-0.00907981},{&quot;x&quot;:-0.752212,&quot;y&quot;:-0.752212,&quot;z&quot;:-0.0197538},{&quot;x&quot;:-0.763968,&quot;y&quot;:-0.763968,&quot;z&quot;:-0.00312869},{&quot;x&quot;:-0.75642,&quot;y&quot;:-0.75642,&quot;z&quot;:0.0178201},{&quot;x&quot;:-0.75,&quot;y&quot;:-0.75,&quot;z&quot;:0}], &quot;faces&quot;:[[0,2,1],[0,3,2],[0,4,3],[0,5,4],[0,1,5],[1,2,7,6],[2,3,8,7],[3,4,9,8],[4,5,10,9],[5,1,6,10],[6,7,11],[7,8,11],[8,9,11],[9,10,11],[10,6,11]], &quot;color&quot;:&quot;#0000ff&quot;, &quot;opacity&quot;:1},{&quot;vertices&quot;:[{&quot;x&quot;:-0.375,&quot;y&quot;:-1.125,&quot;z&quot;:3.24734e-17},{&quot;x&quot;:-0.472279,&quot;y&quot;:-0.967721,&quot;z&quot;:0.0424264},{&quot;x&quot;:-0.464477,&quot;y&quot;:-0.959919,&quot;z&quot;:-0.0272394},{&quot;x&quot;:-0.508916,&quot;y&quot;:-1.00436,&quot;z&quot;:-0.0592613},{&quot;x&quot;:-0.544183,&quot;y&quot;:-1.03962,&quot;z&quot;:-0.00938607},{&quot;x&quot;:-0.52154,&quot;y&quot;:-1.01698,&quot;z&quot;:0.0534604},{&quot;x&quot;:-0.502279,&quot;y&quot;:-0.997721,&quot;z&quot;:2.14515e-17}], &quot;faces&quot;:[[0,2,1],[0,3,2],[0,4,3],[0,5,4],[0,1,5],[1,2,6],[2,3,6],[3,4,6],[4,5,6],[5,1,6]], &quot;color&quot;:&quot;#0000ff&quot;, &quot;opacity&quot;:1},{&quot;vertices&quot;:[{&quot;x&quot;:-0.493738,&quot;y&quot;:-1.00626,&quot;z&quot;:0.889909},{&quot;x&quot;:-0.48734,&quot;y&quot;:-0.99266,&quot;z&quot;:0.903102},{&quot;x&quot;:-0.478825,&quot;y&quot;:-0.995973,&quot;z&quot;:0.881439},{&quot;x&quot;:-0.49092,&quot;y&quot;:-1.0135,&quot;z&quot;:0.871481},{&quot;x&quot;:-0.506909,&quot;y&quot;:-1.02103,&quot;z&quot;:0.886991},{&quot;x&quot;:-0.504697,&quot;y&quot;:-1.00814,&quot;z&quot;:0.906534},{&quot;x&quot;:-0.743601,&quot;y&quot;:-0.736399,&quot;z&quot;:0.763193},{&quot;x&quot;:-0.735087,&quot;y&quot;:-0.739712,&quot;z&quot;:0.741529},{&quot;x&quot;:-0.747182,&quot;y&quot;:-0.757243,&quot;z&quot;:0.731572},{&quot;x&quot;:-0.763171,&quot;y&quot;:-0.764765,&quot;z&quot;:0.747081},{&quot;x&quot;:-0.760959,&quot;y&quot;:-0.751882,&quot;z&quot;:0.766624},{&quot;x&quot;:-0.75,&quot;y&quot;:-0.75,&quot;z&quot;:0.75}], &quot;faces&quot;:[[0,2,1],[0,3,2],[0,4,3],[0,5,4],[0,1,5],[1,2,7,6],[2,3,8,7],[3,4,9,8],[4,5,10,9],[5,1,6,10],[6,7,11],[7,8,11],[8,9,11],[9,10,11],[10,6,11]], &quot;color&quot;:&quot;#0000ff&quot;, &quot;opacity&quot;:1},{&quot;vertices&quot;:[{&quot;x&quot;:-0.375,&quot;y&quot;:-1.125,&quot;z&quot;:0.954736},{&quot;x&quot;:-0.474543,&quot;y&quot;:-0.965457,&quot;z&quot;:0.929489},{&quot;x&quot;:-0.448999,&quot;y&quot;:-0.975396,&quot;z&quot;:0.864498},{&quot;x&quot;:-0.485283,&quot;y&quot;:-1.02799,&quot;z&quot;:0.834625},{&quot;x&quot;:-0.533252,&quot;y&quot;:-1.05056,&quot;z&quot;:0.881153},{&quot;x&quot;:-0.526614,&quot;y&quot;:-1.01191,&quot;z&quot;:0.939782},{&quot;x&quot;:-0.493738,&quot;y&quot;:-1.00626,&quot;z&quot;:0.889909}], &quot;faces&quot;:[[0,2,1],[0,3,2],[0,4,3],[0,5,4],[0,1,5],[1,2,6],[2,3,6],[3,4,6],[4,5,6],[5,1,6]], &quot;color&quot;:&quot;#0000ff&quot;, &quot;opacity&quot;:1},{&quot;vertices&quot;:[{&quot;x&quot;:-0.479055,&quot;y&quot;:-1.02094,&quot;z&quot;:1.76991},{&quot;x&quot;:-0.474814,&quot;y&quot;:-1.00519,&quot;z&quot;:1.78147},{&quot;x&quot;:-0.462757,&quot;y&quot;:-1.01204,&quot;z&quot;:1.76249},{&quot;x&quot;:-0.473224,&quot;y&quot;:-1.0312,&quot;z&quot;:1.75376},{&quot;x&quot;:-0.491749,&quot;y&quot;:-1.03619,&quot;z&quot;:1.76735},{&quot;x&quot;:-0.492732,&quot;y&quot;:-1.02011,&quot;z&quot;:1.78448},{&quot;x&quot;:-0.745759,&quot;y&quot;:-0.734241,&quot;z&quot;:1.51156},{&quot;x&quot;:-0.733702,&quot;y&quot;:-0.741097,&quot;z&quot;:1.49258},{&quot;x&quot;:-0.744168,&quot;y&quot;:-0.760256,&quot;z&quot;:1.48385},{&quot;x&quot;:-0.762694,&quot;y&quot;:-0.765242,&quot;z&quot;:1.49744},{&quot;x&quot;:-0.763677,&quot;y&quot;:-0.749164,&quot;z&quot;:1.51457},{&quot;x&quot;:-0.75,&quot;y&quot;:-0.75,&quot;z&quot;:1.5}], &quot;faces&quot;:[[0,2,1],[0,3,2],[0,4,3],[0,5,4],[0,1,5],[1,2,7,6],[2,3,8,7],[3,4,9,8],[4,5,10,9],[5,1,6,10],[6,7,11],[7,8,11],[8,9,11],[9,10,11],[10,6,11]], &quot;color&quot;:&quot;#0000ff&quot;, &quot;opacity&quot;:1},{&quot;vertices&quot;:[{&quot;x&quot;:-0.375,&quot;y&quot;:-1.125,&quot;z&quot;:1.87357},{&quot;x&quot;:-0.466332,&quot;y&quot;:-0.973668,&quot;z&quot;:1.8046},{&quot;x&quot;:-0.430161,&quot;y&quot;:-0.994235,&quot;z&quot;:1.74764},{&quot;x&quot;:-0.46156,&quot;y&quot;:-1.05171,&quot;z&quot;:1.72146},{&quot;x&quot;:-0.517137,&quot;y&quot;:-1.06667,&quot;z&quot;:1.76224},{&quot;x&quot;:-0.520086,&quot;y&quot;:-1.01844,&quot;z&quot;:1.81362},{&quot;x&quot;:-0.479055,&quot;y&quot;:-1.02094,&quot;z&quot;:1.76991}], &quot;faces&quot;:[[0,2,1],[0,3,2],[0,4,3],[0,5,4],[0,1,5],[1,2,6],[2,3,6],[3,4,6],[4,5,6],[5,1,6]], &quot;color&quot;:&quot;#0000ff&quot;, &quot;opacity&quot;:1},{&quot;vertices&quot;:[{&quot;x&quot;:-0.75,&quot;y&quot;:-0.195,&quot;z&quot;:-1.5},{&quot;x&quot;:-0.75,&quot;y&quot;:-0.195,&quot;z&quot;:-1.48},{&quot;x&quot;:-0.730979,&quot;y&quot;:-0.195,&quot;z&quot;:-1.49382},{&quot;x&quot;:-0.738244,&quot;y&quot;:-0.195,&quot;z&quot;:-1.51618},{&quot;x&quot;:-0.761756,&quot;y&quot;:-0.195,&quot;z&quot;:-1.51618},{&quot;x&quot;:-0.769021,&quot;y&quot;:-0.195,&quot;z&quot;:-1.49382},{&quot;x&quot;:-0.75,&quot;y&quot;:1.22465e-18,&quot;z&quot;:-1.48},{&quot;x&quot;:-0.730979,&quot;y&quot;:3.78437e-19,&quot;z&quot;:-1.49382},{&quot;x&quot;:-0.738244,&quot;y&quot;:-9.9076e-19,&quot;z&quot;:-1.51618},{&quot;x&quot;:-0.761756,&quot;y&quot;:-9.9076e-19,&quot;z&quot;:-1.51618},{&quot;x&quot;:-0.769021,&quot;y&quot;:3.78437e-19,&quot;z&quot;:-1.49382},{&quot;x&quot;:-0.75,&quot;y&quot;:0,&quot;z&quot;:-1.5}], &quot;faces&quot;:[[0,2,1],[0,3,2],[0,4,3],[0,5,4],[0,1,5],[1,2,7,6],[2,3,8,7],[3,4,9,8],[4,5,10,9],[5,1,6,10],[6,7,11],[7,8,11],[8,9,11],[9,10,11],[10,6,11]], &quot;color&quot;:&quot;#0000ff&quot;, &quot;opacity&quot;:1},{&quot;vertices&quot;:[{&quot;x&quot;:-0.75,&quot;y&quot;:-0.375,&quot;z&quot;:-1.5},{&quot;x&quot;:-0.75,&quot;y&quot;:-0.195,&quot;z&quot;:-1.44},{&quot;x&quot;:-0.692937,&quot;y&quot;:-0.195,&quot;z&quot;:-1.48146},{&quot;x&quot;:-0.714733,&quot;y&quot;:-0.195,&quot;z&quot;:-1.54854},{&quot;x&quot;:-0.785267,&quot;y&quot;:-0.195,&quot;z&quot;:-1.54854},{&quot;x&quot;:-0.807063,&quot;y&quot;:-0.195,&quot;z&quot;:-1.48146},{&quot;x&quot;:-0.75,&quot;y&quot;:-0.195,&quot;z&quot;:-1.5}], &quot;faces&quot;:[[0,2,1],[0,3,2],[0,4,3],[0,5,4],[0,1,5],[1,2,6],[2,3,6],[3,4,6],[4,5,6],[5,1,6]], &quot;color&quot;:&quot;#0000ff&quot;, &quot;opacity&quot;:1},{&quot;vertices&quot;:[{&quot;x&quot;:-0.75,&quot;y&quot;:-0.195,&quot;z&quot;:-0.75},{&quot;x&quot;:-0.75,&quot;y&quot;:-0.195,&quot;z&quot;:-0.73},{&quot;x&quot;:-0.730979,&quot;y&quot;:-0.195,&quot;z&quot;:-0.74382},{&quot;x&quot;:-0.738244,&quot;y&quot;:-0.195,&quot;z&quot;:-0.76618},{&quot;x&quot;:-0.761756,&quot;y&quot;:-0.195,&quot;z&quot;:-0.76618},{&quot;x&quot;:-0.769021,&quot;y&quot;:-0.195,&quot;z&quot;:-0.74382},{&quot;x&quot;:-0.75,&quot;y&quot;:1.22465e-18,&quot;z&quot;:-0.73},{&quot;x&quot;:-0.730979,&quot;y&quot;:3.78437e-19,&quot;z&quot;:-0.74382},{&quot;x&quot;:-0.738244,&quot;y&quot;:-9.9076e-19,&quot;z&quot;:-0.76618},{&quot;x&quot;:-0.761756,&quot;y&quot;:-9.9076e-19,&quot;z&quot;:-0.76618},{&quot;x&quot;:-0.769021,&quot;y&quot;:3.78437e-19,&quot;z&quot;:-0.74382},{&quot;x&quot;:-0.75,&quot;y&quot;:0,&quot;z&quot;:-0.75}], &quot;faces&quot;:[[0,2,1],[0,3,2],[0,4,3],[0,5,4],[0,1,5],[1,2,7,6],[2,3,8,7],[3,4,9,8],[4,5,10,9],[5,1,6,10],[6,7,11],[7,8,11],[8,9,11],[9,10,11],[10,6,11]], &quot;color&quot;:&quot;#0000ff&quot;, &quot;opacity&quot;:1},{&quot;vertices&quot;:[{&quot;x&quot;:-0.75,&quot;y&quot;:-0.375,&quot;z&quot;:-0.75},{&quot;x&quot;:-0.75,&quot;y&quot;:-0.195,&quot;z&quot;:-0.69},{&quot;x&quot;:-0.692937,&quot;y&quot;:-0.195,&quot;z&quot;:-0.731459},{&quot;x&quot;:-0.714733,&quot;y&quot;:-0.195,&quot;z&quot;:-0.798541},{&quot;x&quot;:-0.785267,&quot;y&quot;:-0.195,&quot;z&quot;:-0.798541},{&quot;x&quot;:-0.807063,&quot;y&quot;:-0.195,&quot;z&quot;:-0.731459},{&quot;x&quot;:-0.75,&quot;y&quot;:-0.195,&quot;z&quot;:-0.75}], &quot;faces&quot;:[[0,2,1],[0,3,2],[0,4,3],[0,5,4],[0,1,5],[1,2,6],[2,3,6],[3,4,6],[4,5,6],[5,1,6]], &quot;color&quot;:&quot;#0000ff&quot;, &quot;opacity&quot;:1},{&quot;vertices&quot;:[{&quot;x&quot;:-0.75,&quot;y&quot;:-0.195,&quot;z&quot;:1.19403e-17},{&quot;x&quot;:-0.75,&quot;y&quot;:-0.195,&quot;z&quot;:0.02},{&quot;x&quot;:-0.730979,&quot;y&quot;:-0.195,&quot;z&quot;:0.00618034},{&quot;x&quot;:-0.738244,&quot;y&quot;:-0.195,&quot;z&quot;:-0.0161803},{&quot;x&quot;:-0.761756,&quot;y&quot;:-0.195,&quot;z&quot;:-0.0161803},{&quot;x&quot;:-0.769021,&quot;y&quot;:-0.195,&quot;z&quot;:0.00618034},{&quot;x&quot;:-0.75,&quot;y&quot;:1.22465e-18,&quot;z&quot;:0.02},{&quot;x&quot;:-0.730979,&quot;y&quot;:3.78437e-19,&quot;z&quot;:0.00618034},{&quot;x&quot;:-0.738244,&quot;y&quot;:-9.9076e-19,&quot;z&quot;:-0.0161803},{&quot;x&quot;:-0.761756,&quot;y&quot;:-9.9076e-19,&quot;z&quot;:-0.0161803},{&quot;x&quot;:-0.769021,&quot;y&quot;:3.78437e-19,&quot;z&quot;:0.00618034},{&quot;x&quot;:-0.75,&quot;y&quot;:0,&quot;z&quot;:0}], &quot;faces&quot;:[[0,2,1],[0,3,2],[0,4,3],[0,5,4],[0,1,5],[1,2,7,6],[2,3,8,7],[3,4,9,8],[4,5,10,9],[5,1,6,10],[6,7,11],[7,8,11],[8,9,11],[9,10,11],[10,6,11]], &quot;color&quot;:&quot;#0000ff&quot;, &quot;opacity&quot;:1},{&quot;vertices&quot;:[{&quot;x&quot;:-0.75,&quot;y&quot;:-0.375,&quot;z&quot;:2.29621e-17},{&quot;x&quot;:-0.75,&quot;y&quot;:-0.195,&quot;z&quot;:0.06},{&quot;x&quot;:-0.692937,&quot;y&quot;:-0.195,&quot;z&quot;:0.018541},{&quot;x&quot;:-0.714733,&quot;y&quot;:-0.195,&quot;z&quot;:-0.048541},{&quot;x&quot;:-0.785267,&quot;y&quot;:-0.195,&quot;z&quot;:-0.048541},{&quot;x&quot;:-0.807063,&quot;y&quot;:-0.195,&quot;z&quot;:0.018541},{&quot;x&quot;:-0.75,&quot;y&quot;:-0.195,&quot;z&quot;:1.19403e-17}], &quot;faces&quot;:[[0,2,1],[0,3,2],[0,4,3],[0,5,4],[0,1,5],[1,2,6],[2,3,6],[3,4,6],[4,5,6],[5,1,6]], &quot;color&quot;:&quot;#0000ff&quot;, &quot;opacity&quot;:1},{&quot;vertices&quot;:[{&quot;x&quot;:-0.75,&quot;y&quot;:-0.195,&quot;z&quot;:0.75},{&quot;x&quot;:-0.75,&quot;y&quot;:-0.195,&quot;z&quot;:0.77},{&quot;x&quot;:-0.730979,&quot;y&quot;:-0.195,&quot;z&quot;:0.75618},{&quot;x&quot;:-0.738244,&quot;y&quot;:-0.195,&quot;z&quot;:0.73382},{&quot;x&quot;:-0.761756,&quot;y&quot;:-0.195,&quot;z&quot;:0.73382},{&quot;x&quot;:-0.769021,&quot;y&quot;:-0.195,&quot;z&quot;:0.75618},{&quot;x&quot;:-0.75,&quot;y&quot;:1.22465e-18,&quot;z&quot;:0.77},{&quot;x&quot;:-0.730979,&quot;y&quot;:3.78437e-19,&quot;z&quot;:0.75618},{&quot;x&quot;:-0.738244,&quot;y&quot;:-9.9076e-19,&quot;z&quot;:0.73382},{&quot;x&quot;:-0.761756,&quot;y&quot;:-9.9076e-19,&quot;z&quot;:0.73382},{&quot;x&quot;:-0.769021,&quot;y&quot;:3.78437e-19,&quot;z&quot;:0.75618},{&quot;x&quot;:-0.75,&quot;y&quot;:0,&quot;z&quot;:0.75}], &quot;faces&quot;:[[0,2,1],[0,3,2],[0,4,3],[0,5,4],[0,1,5],[1,2,7,6],[2,3,8,7],[3,4,9,8],[4,5,10,9],[5,1,6,10],[6,7,11],[7,8,11],[8,9,11],[9,10,11],[10,6,11]], &quot;color&quot;:&quot;#0000ff&quot;, &quot;opacity&quot;:1},{&quot;vertices&quot;:[{&quot;x&quot;:-0.75,&quot;y&quot;:-0.375,&quot;z&quot;:0.75},{&quot;x&quot;:-0.75,&quot;y&quot;:-0.195,&quot;z&quot;:0.81},{&quot;x&quot;:-0.692937,&quot;y&quot;:-0.195,&quot;z&quot;:0.768541},{&quot;x&quot;:-0.714733,&quot;y&quot;:-0.195,&quot;z&quot;:0.701459},{&quot;x&quot;:-0.785267,&quot;y&quot;:-0.195,&quot;z&quot;:0.701459},{&quot;x&quot;:-0.807063,&quot;y&quot;:-0.195,&quot;z&quot;:0.768541},{&quot;x&quot;:-0.75,&quot;y&quot;:-0.195,&quot;z&quot;:0.75}], &quot;faces&quot;:[[0,2,1],[0,3,2],[0,4,3],[0,5,4],[0,1,5],[1,2,6],[2,3,6],[3,4,6],[4,5,6],[5,1,6]], &quot;color&quot;:&quot;#0000ff&quot;, &quot;opacity&quot;:1},{&quot;vertices&quot;:[{&quot;x&quot;:-0.75,&quot;y&quot;:-0.195,&quot;z&quot;:1.5},{&quot;x&quot;:-0.75,&quot;y&quot;:-0.195,&quot;z&quot;:1.52},{&quot;x&quot;:-0.730979,&quot;y&quot;:-0.195,&quot;z&quot;:1.50618},{&quot;x&quot;:-0.738244,&quot;y&quot;:-0.195,&quot;z&quot;:1.48382},{&quot;x&quot;:-0.761756,&quot;y&quot;:-0.195,&quot;z&quot;:1.48382},{&quot;x&quot;:-0.769021,&quot;y&quot;:-0.195,&quot;z&quot;:1.50618},{&quot;x&quot;:-0.75,&quot;y&quot;:1.22465e-18,&quot;z&quot;:1.52},{&quot;x&quot;:-0.730979,&quot;y&quot;:3.78437e-19,&quot;z&quot;:1.50618},{&quot;x&quot;:-0.738244,&quot;y&quot;:-9.9076e-19,&quot;z&quot;:1.48382},{&quot;x&quot;:-0.761756,&quot;y&quot;:-9.9076e-19,&quot;z&quot;:1.48382},{&quot;x&quot;:-0.769021,&quot;y&quot;:3.78437e-19,&quot;z&quot;:1.50618},{&quot;x&quot;:-0.75,&quot;y&quot;:0,&quot;z&quot;:1.5}], &quot;faces&quot;:[[0,2,1],[0,3,2],[0,4,3],[0,5,4],[0,1,5],[1,2,7,6],[2,3,8,7],[3,4,9,8],[4,5,10,9],[5,1,6,10],[6,7,11],[7,8,11],[8,9,11],[9,10,11],[10,6,11]], &quot;color&quot;:&quot;#0000ff&quot;, &quot;opacity&quot;:1},{&quot;vertices&quot;:[{&quot;x&quot;:-0.75,&quot;y&quot;:-0.375,&quot;z&quot;:1.5},{&quot;x&quot;:-0.75,&quot;y&quot;:-0.195,&quot;z&quot;:1.56},{&quot;x&quot;:-0.692937,&quot;y&quot;:-0.195,&quot;z&quot;:1.51854},{&quot;x&quot;:-0.714733,&quot;y&quot;:-0.195,&quot;z&quot;:1.45146},{&quot;x&quot;:-0.785267,&quot;y&quot;:-0.195,&quot;z&quot;:1.45146},{&quot;x&quot;:-0.807063,&quot;y&quot;:-0.195,&quot;z&quot;:1.51854},{&quot;x&quot;:-0.75,&quot;y&quot;:-0.195,&quot;z&quot;:1.5}], &quot;faces&quot;:[[0,2,1],[0,3,2],[0,4,3],[0,5,4],[0,1,5],[1,2,6],[2,3,6],[3,4,6],[4,5,6],[5,1,6]], &quot;color&quot;:&quot;#0000ff&quot;, &quot;opacity&quot;:1},{&quot;vertices&quot;:[{&quot;x&quot;:-1.02094,&quot;y&quot;:0.479055,&quot;z&quot;:-1.23009},{&quot;x&quot;:-1.02519,&quot;y&quot;:0.494814,&quot;z&quot;:-1.21853},{&quot;x&quot;:-1.00727,&quot;y&quot;:0.479891,&quot;z&quot;:-1.21552},{&quot;x&quot;:-1.00825,&quot;y&quot;:0.463813,&quot;z&quot;:-1.23265},{&quot;x&quot;:-1.02678,&quot;y&quot;:0.468799,&quot;z&quot;:-1.24624},{&quot;x&quot;:-1.03724,&quot;y&quot;:0.487958,&quot;z&quot;:-1.23751},{&quot;x&quot;:-0.754241,&quot;y&quot;:0.765759,&quot;z&quot;:-1.48844},{&quot;x&quot;:-0.736323,&quot;y&quot;:0.750836,&quot;z&quot;:-1.48543},{&quot;x&quot;:-0.737306,&quot;y&quot;:0.734758,&quot;z&quot;:-1.50256},{&quot;x&quot;:-0.755832,&quot;y&quot;:0.739744,&quot;z&quot;:-1.51615},{&quot;x&quot;:-0.766298,&quot;y&quot;:0.758903,&quot;z&quot;:-1.50742},{&quot;x&quot;:-0.75,&quot;y&quot;:0.75,&quot;z&quot;:-1.5}], &quot;faces&quot;:[[0,2,1],[0,3,2],[0,4,3],[0,5,4],[0,1,5],[1,2,7,6],[2,3,8,7],[3,4,9,8],[4,5,10,9],[5,1,6,10],[6,7,11],[7,8,11],[8,9,11],[9,10,11],[10,6,11]], &quot;color&quot;:&quot;#0000ff&quot;, &quot;opacity&quot;:1},{&quot;vertices&quot;:[{&quot;x&quot;:-1.125,&quot;y&quot;:0.375,&quot;z&quot;:-1.12643},{&quot;x&quot;:-1.03367,&quot;y&quot;:0.526332,&quot;z&quot;:-1.1954},{&quot;x&quot;:-0.979914,&quot;y&quot;:0.481563,&quot;z&quot;:-1.18638},{&quot;x&quot;:-0.982863,&quot;y&quot;:0.433329,&quot;z&quot;:-1.23776},{&quot;x&quot;:-1.03844,&quot;y&quot;:0.448286,&quot;z&quot;:-1.27854},{&quot;x&quot;:-1.06984,&quot;y&quot;:0.505765,&quot;z&quot;:-1.25236},{&quot;x&quot;:-1.02094,&quot;y&quot;:0.479055,&quot;z&quot;:-1.23009}], &quot;faces&quot;:[[0,2,1],[0,3,2],[0,4,3],[0,5,4],[0,1,5],[1,2,6],[2,3,6],[3,4,6],[4,5,6],[5,1,6]], &quot;color&quot;:&quot;#0000ff&quot;, &quot;opacity&quot;:1},{&quot;vertices&quot;:[{&quot;x&quot;:-1.00626,&quot;y&quot;:0.493738,&quot;z&quot;:-0.610091},{&quot;x&quot;:-1.01266,&quot;y&quot;:0.50734,&quot;z&quot;:-0.596898},{&quot;x&quot;:-0.995303,&quot;y&quot;:0.491856,&quot;z&quot;:-0.593466},{&quot;x&quot;:-0.993091,&quot;y&quot;:0.478973,&quot;z&quot;:-0.613009},{&quot;x&quot;:-1.00908,&quot;y&quot;:0.486495,&quot;z&quot;:-0.628519},{&quot;x&quot;:-1.02117,&quot;y&quot;:0.504027,&quot;z&quot;:-0.618561},{&quot;x&quot;:-0.756399,&quot;y&quot;:0.763601,&quot;z&quot;:-0.736807},{&quot;x&quot;:-0.739041,&quot;y&quot;:0.748118,&quot;z&quot;:-0.733376},{&quot;x&quot;:-0.736829,&quot;y&quot;:0.735235,&quot;z&quot;:-0.752919},{&quot;x&quot;:-0.752818,&quot;y&quot;:0.742757,&quot;z&quot;:-0.768428},{&quot;x&quot;:-0.764913,&quot;y&quot;:0.760288,&quot;z&quot;:-0.758471},{&quot;x&quot;:-0.75,&quot;y&quot;:0.75,&quot;z&quot;:-0.75}], &quot;faces&quot;:[[0,2,1],[0,3,2],[0,4,3],[0,5,4],[0,1,5],[1,2,7,6],[2,3,8,7],[3,4,9,8],[4,5,10,9],[5,1,6,10],[6,7,11],[7,8,11],[8,9,11],[9,10,11],[10,6,11]], &quot;color&quot;:&quot;#0000ff&quot;, &quot;opacity&quot;:1},{&quot;vertices&quot;:[{&quot;x&quot;:-1.125,&quot;y&quot;:0.375,&quot;z&quot;:-0.545264},{&quot;x&quot;:-1.02546,&quot;y&quot;:0.534543,&quot;z&quot;:-0.570511},{&quot;x&quot;:-0.973386,&quot;y&quot;:0.488091,&quot;z&quot;:-0.560218},{&quot;x&quot;:-0.966748,&quot;y&quot;:0.449444,&quot;z&quot;:-0.618847},{&quot;x&quot;:-1.01472,&quot;y&quot;:0.47201,&quot;z&quot;:-0.665375},{&quot;x&quot;:-1.051,&quot;y&quot;:0.524604,&quot;z&quot;:-0.635502},{&quot;x&quot;:-1.00626,&quot;y&quot;:0.493738,&quot;z&quot;:-0.610091}], &quot;faces&quot;:[[0,2,1],[0,3,2],[0,4,3],[0,5,4],[0,1,5],[1,2,6],[2,3,6],[3,4,6],[4,5,6],[5,1,6]], &quot;color&quot;:&quot;#0000ff&quot;, &quot;opacity&quot;:1},{&quot;vertices&quot;:[{&quot;x&quot;:-0.997721,&quot;y&quot;:0.502279,&quot;z&quot;:2.14515e-17},{&quot;x&quot;:-1.00772,&quot;y&quot;:0.512279,&quot;z&quot;:0.0141421},{&quot;x&quot;:-0.9913,&quot;y&quot;:0.495859,&quot;z&quot;:0.0178201},{&quot;x&quot;:-0.983753,&quot;y&quot;:0.488311,&quot;z&quot;:-0.00312869},{&quot;x&quot;:-0.995508,&quot;y&quot;:0.500067,&quot;z&quot;:-0.0197538},{&quot;x&quot;:-1.01032,&quot;y&quot;:0.51488,&quot;z&quot;:-0.00907981},{&quot;x&quot;:-0.76,&quot;y&quot;:0.76,&quot;z&quot;:0.0141421},{&quot;x&quot;:-0.74358,&quot;y&quot;:0.74358,&quot;z&quot;:0.0178201},{&quot;x&quot;:-0.736032,&quot;y&quot;:0.736032,&quot;z&quot;:-0.00312869},{&quot;x&quot;:-0.747788,&quot;y&quot;:0.747788,&quot;z&quot;:-0.0197538},{&quot;x&quot;:-0.762601,&quot;y&quot;:0.762601,&quot;z&quot;:-0.00907981},{&quot;x&quot;:-0.75,&quot;y&quot;:0.75,&quot;z&quot;:0}], &quot;faces&quot;:[[0,2,1],[0,3,2],[0,4,3],[0,5,4],[0,1,5],[1,2,7,6],[2,3,8,7],[3,4,9,8],[4,5,10,9],[5,1,6,10],[6,7,11],[7,8,11],[8,9,11],[9,10,11],[10,6,11]], &quot;color&quot;:&quot;#0000ff&quot;, &quot;opacity&quot;:1},{&quot;vertices&quot;:[{&quot;x&quot;:-1.125,&quot;y&quot;:0.375,&quot;z&quot;:3.24734e-17},{&quot;x&quot;:-1.02772,&quot;y&quot;:0.532279,&quot;z&quot;:0.0424264},{&quot;x&quot;:-0.97846,&quot;y&quot;:0.483018,&quot;z&quot;:0.0534604},{&quot;x&quot;:-0.955817,&quot;y&quot;:0.460375,&quot;z&quot;:-0.00938607},{&quot;x&quot;:-0.991084,&quot;y&quot;:0.495642,&quot;z&quot;:-0.0592613},{&quot;x&quot;:-1.03552,&quot;y&quot;:0.540081,&quot;z&quot;:-0.0272394},{&quot;x&quot;:-0.997721,&quot;y&quot;:0.502279,&quot;z&quot;:2.14515e-17}], &quot;faces&quot;:[[0,2,1],[0,3,2],[0,4,3],[0,5,4],[0,1,5],[1,2,6],[2,3,6],[3,4,6],[4,5,6],[5,1,6]], &quot;color&quot;:&quot;#0000ff&quot;, &quot;opacity&quot;:1},{&quot;vertices&quot;:[{&quot;x&quot;:-1.00626,&quot;y&quot;:0.493738,&quot;z&quot;:0.610091},{&quot;x&quot;:-1.01986,&quot;y&quot;:0.500137,&quot;z&quot;:0.623284},{&quot;x&quot;:-1.00438,&quot;y&quot;:0.48278,&quot;z&quot;:0.626715},{&quot;x&quot;:-0.991497,&quot;y&quot;:0.480567,&quot;z&quot;:0.607172},{&quot;x&quot;:-0.999019,&quot;y&quot;:0.496556,&quot;z&quot;:0.591662},{&quot;x&quot;:-1.01655,&quot;y&quot;:0.508651,&quot;z&quot;:0.60162},{&quot;x&quot;:-0.763601,&quot;y&quot;:0.756399,&quot;z&quot;:0.763193},{&quot;x&quot;:-0.748118,&quot;y&quot;:0.739041,&quot;z&quot;:0.766624},{&quot;x&quot;:-0.735235,&quot;y&quot;:0.736829,&quot;z&quot;:0.747081},{&quot;x&quot;:-0.742757,&quot;y&quot;:0.752818,&quot;z&quot;:0.731572},{&quot;x&quot;:-0.760288,&quot;y&quot;:0.764913,&quot;z&quot;:0.741529},{&quot;x&quot;:-0.75,&quot;y&quot;:0.75,&quot;z&quot;:0.75}], &quot;faces&quot;:[[0,2,1],[0,3,2],[0,4,3],[0,5,4],[0,1,5],[1,2,7,6],[2,3,8,7],[3,4,9,8],[4,5,10,9],[5,1,6,10],[6,7,11],[7,8,11],[8,9,11],[9,10,11],[10,6,11]], &quot;color&quot;:&quot;#0000ff&quot;, &quot;opacity&quot;:1},{&quot;vertices&quot;:[{&quot;x&quot;:-1.125,&quot;y&quot;:0.375,&quot;z&quot;:0.545264},{&quot;x&quot;:-1.04707,&quot;y&quot;:0.512934,&quot;z&quot;:0.64967},{&quot;x&quot;:-1.00062,&quot;y&quot;:0.460863,&quot;z&quot;:0.659964},{&quot;x&quot;:-0.961967,&quot;y&quot;:0.454224,&quot;z&quot;:0.601334},{&quot;x&quot;:-0.984533,&quot;y&quot;:0.502193,&quot;z&quot;:0.554806},{&quot;x&quot;:-1.03713,&quot;y&quot;:0.538477,&quot;z&quot;:0.584679},{&quot;x&quot;:-1.00626,&quot;y&quot;:0.493738,&quot;z&quot;:0.610091}], &quot;faces&quot;:[[0,2,1],[0,3,2],[0,4,3],[0,5,4],[0,1,5],[1,2,6],[2,3,6],[3,4,6],[4,5,6],[5,1,6]], &quot;color&quot;:&quot;#0000ff&quot;, &quot;opacity&quot;:1},{&quot;vertices&quot;:[{&quot;x&quot;:-1.02094,&quot;y&quot;:0.479055,&quot;z&quot;:1.23009},{&quot;x&quot;:-1.0367,&quot;y&quot;:0.483296,&quot;z&quot;:1.24165},{&quot;x&quot;:-1.02178,&quot;y&quot;:0.465378,&quot;z&quot;:1.24466},{&quot;x&quot;:-1.0057,&quot;y&quot;:0.466361,&quot;z&quot;:1.22753},{&quot;x&quot;:-1.01069,&quot;y&quot;:0.484887,&quot;z&quot;:1.21394},{&quot;x&quot;:-1.02985,&quot;y&quot;:0.495353,&quot;z&quot;:1.22266},{&quot;x&quot;:-0.765759,&quot;y&quot;:0.754241,&quot;z&quot;:1.51156},{&quot;x&quot;:-0.750836,&quot;y&quot;:0.736323,&quot;z&quot;:1.51457},{&quot;x&quot;:-0.734758,&quot;y&quot;:0.737306,&quot;z&quot;:1.49744},{&quot;x&quot;:-0.739744,&quot;y&quot;:0.755832,&quot;z&quot;:1.48385},{&quot;x&quot;:-0.758903,&quot;y&quot;:0.766298,&quot;z&quot;:1.49258},{&quot;x&quot;:-0.75,&quot;y&quot;:0.75,&quot;z&quot;:1.5}], &quot;faces&quot;:[[0,2,1],[0,3,2],[0,4,3],[0,5,4],[0,1,5],[1,2,7,6],[2,3,8,7],[3,4,9,8],[4,5,10,9],[5,1,6,10],[6,7,11],[7,8,11],[8,9,11],[9,10,11],[10,6,11]], &quot;color&quot;:&quot;#0000ff&quot;, &quot;opacity&quot;:1},{&quot;vertices&quot;:[{&quot;x&quot;:-1.125,&quot;y&quot;:0.375,&quot;z&quot;:1.12643},{&quot;x&quot;:-1.06822,&quot;y&quot;:0.491779,&quot;z&quot;:1.26477},{&quot;x&quot;:-1.02345,&quot;y&quot;:0.438024,&quot;z&quot;:1.27379},{&quot;x&quot;:-0.975219,&quot;y&quot;:0.440973,&quot;z&quot;:1.22241},{&quot;x&quot;:-0.990176,&quot;y&quot;:0.49655,&quot;z&quot;:1.18164},{&quot;x&quot;:-1.04765,&quot;y&quot;:0.527949,&quot;z&quot;:1.20782},{&quot;x&quot;:-1.02094,&quot;y&quot;:0.479055,&quot;z&quot;:1.23009}], &quot;faces&quot;:[[0,2,1],[0,3,2],[0,4,3],[0,5,4],[0,1,5],[1,2,6],[2,3,6],[3,4,6],[4,5,6],[5,1,6]], &quot;color&quot;:&quot;#0000ff&quot;, &quot;opacity&quot;:1},{&quot;vertices&quot;:[{&quot;x&quot;:-1.36147,&quot;y&quot;:1.19426,&quot;z&quot;:-1.09512},{&quot;x&quot;:-1.3654,&quot;y&quot;:1.2123,&quot;z&quot;:-1.08743},{&quot;x&quot;:-1.35113,&quot;y&quot;:1.19611,&quot;z&quot;:-1.07811},{&quot;x&quot;:-1.35116,&quot;y&quot;:1.17736,&quot;z&quot;:-1.0923},{&quot;x&quot;:-1.36544,&quot;y&quot;:1.18198,&quot;z&quot;:-1.1104},{&quot;x&quot;:-1.37424,&quot;y&quot;:1.20357,&quot;z&quot;:-1.10738},{&quot;x&quot;:-0.753923,&quot;y&quot;:1.51804,&quot;z&quot;:-1.4923},{&quot;x&quot;:-0.739654,&quot;y&quot;:1.50184,&quot;z&quot;:-1.48298},{&quot;x&quot;:-0.739682,&quot;y&quot;:1.4831,&quot;z&quot;:-1.49718},{&quot;x&quot;:-0.753969,&quot;y&quot;:1.48771,&quot;z&quot;:-1.51527},{&quot;x&quot;:-0.762771,&quot;y&quot;:1.50931,&quot;z&quot;:-1.51226},{&quot;x&quot;:-0.75,&quot;y&quot;:1.5,&quot;z&quot;:-1.5}], &quot;faces&quot;:[[0,2,1],[0,3,2],[0,4,3],[0,5,4],[0,1,5],[1,2,7,6],[2,3,8,7],[3,4,9,8],[4,5,10,9],[5,1,6,10],[6,7,11],[7,8,11],[8,9,11],[9,10,11],[10,6,11]], &quot;color&quot;:&quot;#0000ff&quot;, &quot;opacity&quot;:1},{&quot;vertices&quot;:[{&quot;x&quot;:-1.5,&quot;y&quot;:1.125,&quot;z&quot;:-1.0034},{&quot;x&quot;:-1.37324,&quot;y&quot;:1.24838,&quot;z&quot;:-1.07204},{&quot;x&quot;:-1.33044,&quot;y&quot;:1.19979,&quot;z&quot;:-1.04407},{&quot;x&quot;:-1.33052,&quot;y&quot;:1.14356,&quot;z&quot;:-1.08666},{&quot;x&quot;:-1.37338,&quot;y&quot;:1.1574,&quot;z&quot;:-1.14094},{&quot;x&quot;:-1.39979,&quot;y&quot;:1.22218,&quot;z&quot;:-1.1319},{&quot;x&quot;:-1.36147,&quot;y&quot;:1.19426,&quot;z&quot;:-1.09512}], &quot;faces&quot;:[[0,2,1],[0,3,2],[0,4,3],[0,5,4],[0,1,5],[1,2,6],[2,3,6],[3,4,6],[4,5,6],[5,1,6]], &quot;color&quot;:&quot;#0000ff&quot;, &quot;opacity&quot;:1},{&quot;vertices&quot;:[{&quot;x&quot;:-1.35294,&quot;y&quot;:1.19853,&quot;z&quot;:-0.449681},{&quot;x&quot;:-1.35768,&quot;y&quot;:1.21616,&quot;z&quot;:-0.44151},{&quot;x&quot;:-1.34441,&quot;y&quot;:1.19947,&quot;z&quot;:-0.431615},{&quot;x&quot;:-1.34292,&quot;y&quot;:1.18148,&quot;z&quot;:-0.446686},{&quot;x&quot;:-1.35528,&quot;y&quot;:1.18706,&quot;z&quot;:-0.465895},{&quot;x&quot;:-1.3644,&quot;y&quot;:1.20849,&quot;z&quot;:-0.462696},{&quot;x&quot;:-0.754744,&quot;y&quot;:1.51763,&quot;z&quot;:-0.74183},{&quot;x&quot;:-0.741469,&quot;y&quot;:1.50094,&quot;z&quot;:-0.731935},{&quot;x&quot;:-0.739983,&quot;y&quot;:1.48295,&quot;z&quot;:-0.747005},{&quot;x&quot;:-0.75234,&quot;y&quot;:1.48853,&quot;z&quot;:-0.766214},{&quot;x&quot;:-0.761463,&quot;y&quot;:1.50996,&quot;z&quot;:-0.763016},{&quot;x&quot;:-0.75,&quot;y&quot;:1.5,&quot;z&quot;:-0.75}], &quot;faces&quot;:[[0,2,1],[0,3,2],[0,4,3],[0,5,4],[0,1,5],[1,2,7,6],[2,3,8,7],[3,4,9,8],[4,5,10,9],[5,1,6,10],[6,7,11],[7,8,11],[8,9,11],[9,10,11],[10,6,11]], &quot;color&quot;:&quot;#0000ff&quot;, &quot;opacity&quot;:1},{&quot;vertices&quot;:[{&quot;x&quot;:-1.5,&quot;y&quot;:1.125,&quot;z&quot;:-0.37643},{&quot;x&quot;:-1.36717,&quot;y&quot;:1.25141,&quot;z&quot;:-0.42517},{&quot;x&quot;:-1.32735,&quot;y&quot;:1.20134,&quot;z&quot;:-0.395485},{&quot;x&quot;:-1.32289,&quot;y&quot;:1.14738,&quot;z&quot;:-0.440696},{&quot;x&quot;:-1.35996,&quot;y&quot;:1.16411,&quot;z&quot;:-0.498324},{&quot;x&quot;:-1.38733,&quot;y&quot;:1.22841,&quot;z&quot;:-0.488728},{&quot;x&quot;:-1.35294,&quot;y&quot;:1.19853,&quot;z&quot;:-0.449681}], &quot;faces&quot;:[[0,2,1],[0,3,2],[0,4,3],[0,5,4],[0,1,5],[1,2,6],[2,3,6],[3,4,6],[4,5,6],[5,1,6]], &quot;color&quot;:&quot;#0000ff&quot;, &quot;opacity&quot;:1},{&quot;vertices&quot;:[{&quot;x&quot;:-1.339,&quot;y&quot;:1.2055,&quot;z&quot;:4.03231e-17},{&quot;x&quot;:-1.347,&quot;y&quot;:1.2215,&quot;z&quot;:0.00894427},{&quot;x&quot;:-1.33767,&quot;y&quot;:1.20283,&quot;z&quot;:0.0197769},{&quot;x&quot;:-1.33018,&quot;y&quot;:1.18785,&quot;z&quot;:0.00327855},{&quot;x&quot;:-1.33488,&quot;y&quot;:1.19726,&quot;z&quot;:-0.0177507},{&quot;x&quot;:-1.34528,&quot;y&quot;:1.21805,&quot;z&quot;:-0.0142491},{&quot;x&quot;:-0.758,&quot;y&quot;:1.516,&quot;z&quot;:0.00894427},{&quot;x&quot;:-0.748668,&quot;y&quot;:1.49734,&quot;z&quot;:0.0197769},{&quot;x&quot;:-0.741177,&quot;y&quot;:1.48235,&quot;z&quot;:0.00327855},{&quot;x&quot;:-0.745879,&quot;y&quot;:1.49176,&quot;z&quot;:-0.0177507},{&quot;x&quot;:-0.756276,&quot;y&quot;:1.51255,&quot;z&quot;:-0.0142491},{&quot;x&quot;:-0.75,&quot;y&quot;:1.5,&quot;z&quot;:0}], &quot;faces&quot;:[[0,2,1],[0,3,2],[0,4,3],[0,5,4],[0,1,5],[1,2,7,6],[2,3,8,7],[3,4,9,8],[4,5,10,9],[5,1,6,10],[6,7,11],[7,8,11],[8,9,11],[9,10,11],[10,6,11]], &quot;color&quot;:&quot;#0000ff&quot;, &quot;opacity&quot;:1},{&quot;vertices&quot;:[{&quot;x&quot;:-1.5,&quot;y&quot;:1.125,&quot;z&quot;:5.13449e-17},{&quot;x&quot;:-1.363,&quot;y&quot;:1.2535,&quot;z&quot;:0.0268328},{&quot;x&quot;:-1.33501,&quot;y&quot;:1.19751,&quot;z&quot;:0.0593308},{&quot;x&quot;:-1.31253,&quot;y&quot;:1.15256,&quot;z&quot;:0.00983566},{&quot;x&quot;:-1.32664,&quot;y&quot;:1.18077,&quot;z&quot;:-0.0532521},{&quot;x&quot;:-1.35783,&quot;y&quot;:1.24316,&quot;z&quot;:-0.0427473},{&quot;x&quot;:-1.339,&quot;y&quot;:1.2055,&quot;z&quot;:4.03231e-17}], &quot;faces&quot;:[[0,2,1],[0,3,2],[0,4,3],[0,5,4],[0,1,5],[1,2,6],[2,3,6],[3,4,6],[4,5,6],[5,1,6]], &quot;color&quot;:&quot;#0000ff&quot;, &quot;opacity&quot;:1},{&quot;vertices&quot;:[{&quot;x&quot;:-1.35294,&quot;y&quot;:1.19853,&quot;z&quot;:0.449681},{&quot;x&quot;:-1.36419,&quot;y&quot;:1.2129,&quot;z&quot;:0.457851},{&quot;x&quot;:-1.3588,&quot;y&quot;:1.19227,&quot;z&quot;:0.467746},{&quot;x&quot;:-1.34531,&quot;y&quot;:1.18029,&quot;z&quot;:0.452675},{&quot;x&quot;:-1.34236,&quot;y&quot;:1.19352,&quot;z&quot;:0.433466},{&quot;x&quot;:-1.35403,&quot;y&quot;:1.21368,&quot;z&quot;:0.436665},{&quot;x&quot;:-0.761256,&quot;y&quot;:1.51437,&quot;z&quot;:0.75817},{&quot;x&quot;:-0.755866,&quot;y&quot;:1.49374,&quot;z&quot;:0.768065},{&quot;x&quot;:-0.74237,&quot;y&quot;:1.48176,&quot;z&quot;:0.752995},{&quot;x&quot;:-0.739418,&quot;y&quot;:1.49499,&quot;z&quot;:0.733786},{&quot;x&quot;:-0.75109,&quot;y&quot;:1.51515,&quot;z&quot;:0.736984},{&quot;x&quot;:-0.75,&quot;y&quot;:1.5,&quot;z&quot;:0.75}], &quot;faces&quot;:[[0,2,1],[0,3,2],[0,4,3],[0,5,4],[0,1,5],[1,2,7,6],[2,3,8,7],[3,4,9,8],[4,5,10,9],[5,1,6,10],[6,7,11],[7,8,11],[8,9,11],[9,10,11],[10,6,11]], &quot;color&quot;:&quot;#0000ff&quot;, &quot;opacity&quot;:1},{&quot;vertices&quot;:[{&quot;x&quot;:-1.5,&quot;y&quot;:1.125,&quot;z&quot;:0.37643},{&quot;x&quot;:-1.3867,&quot;y&quot;:1.24165,&quot;z&quot;:0.474191},{&quot;x&quot;:-1.37054,&quot;y&quot;:1.17974,&quot;z&quot;:0.503876},{&quot;x&quot;:-1.33005,&quot;y&quot;:1.1438,&quot;z&quot;:0.458665},{&quot;x&quot;:-1.32119,&quot;y&quot;:1.1835,&quot;z&quot;:0.401037},{&quot;x&quot;:-1.35621,&quot;y&quot;:1.24397,&quot;z&quot;:0.410633},{&quot;x&quot;:-1.35294,&quot;y&quot;:1.19853,&quot;z&quot;:0.449681}], &quot;faces&quot;:[[0,2,1],[0,3,2],[0,4,3],[0,5,4],[0,1,5],[1,2,6],[2,3,6],[3,4,6],[4,5,6],[5,1,6]], &quot;color&quot;:&quot;#0000ff&quot;, &quot;opacity&quot;:1},{&quot;vertices&quot;:[{&quot;x&quot;:-1.36147,&quot;y&quot;:1.19426,&quot;z&quot;:1.09512},{&quot;x&quot;:-1.37355,&quot;y&quot;:1.20822,&quot;z&quot;:1.10282},{&quot;x&quot;:-1.36916,&quot;y&quot;:1.18709,&quot;z&quot;:1.11214},{&quot;x&quot;:-1.35414,&quot;y&quot;:1.17587,&quot;z&quot;:1.09794},{&quot;x&quot;:-1.34926,&quot;y&quot;:1.19007,&quot;z&quot;:1.07985},{&quot;x&quot;:-1.36126,&quot;y&quot;:1.21006,&quot;z&quot;:1.08286},{&quot;x&quot;:-0.762077,&quot;y&quot;:1.51396,&quot;z&quot;:1.5077},{&quot;x&quot;:-0.757682,&quot;y&quot;:1.49283,&quot;z&quot;:1.51702},{&quot;x&quot;:-0.742671,&quot;y&quot;:1.48161,&quot;z&quot;:1.50282},{&quot;x&quot;:-0.737789,&quot;y&quot;:1.4958,&quot;z&quot;:1.48473},{&quot;x&quot;:-0.749782,&quot;y&quot;:1.5158,&quot;z&quot;:1.48774},{&quot;x&quot;:-0.75,&quot;y&quot;:1.5,&quot;z&quot;:1.5}], &quot;faces&quot;:[[0,2,1],[0,3,2],[0,4,3],[0,5,4],[0,1,5],[1,2,7,6],[2,3,8,7],[3,4,9,8],[4,5,10,9],[5,1,6,10],[6,7,11],[7,8,11],[8,9,11],[9,10,11],[10,6,11]], &quot;color&quot;:&quot;#0000ff&quot;, &quot;opacity&quot;:1},{&quot;vertices&quot;:[{&quot;x&quot;:-1.5,&quot;y&quot;:1.125,&quot;z&quot;:1.0034},{&quot;x&quot;:-1.3977,&quot;y&quot;:1.23615,&quot;z&quot;:1.11821},{&quot;x&quot;:-1.38452,&quot;y&quot;:1.17275,&quot;z&quot;:1.14617},{&quot;x&quot;:-1.33949,&quot;y&quot;:1.13908,&quot;z&quot;:1.10359},{&quot;x&quot;:-1.32484,&quot;y&quot;:1.18167,&quot;z&quot;:1.0493},{&quot;x&quot;:-1.36082,&quot;y&quot;:1.24166,&quot;z&quot;:1.05834},{&quot;x&quot;:-1.36147,&quot;y&quot;:1.19426,&quot;z&quot;:1.09512}], &quot;faces&quot;:[[0,2,1],[0,3,2],[0,4,3],[0,5,4],[0,1,5],[1,2,6],[2,3,6],[3,4,6],[4,5,6],[5,1,6]], &quot;color&quot;:&quot;#0000ff&quot;, &quot;opacity&quot;:1},{&quot;vertices&quot;:[{&quot;x&quot;:0.57,&quot;y&quot;:-1.5,&quot;z&quot;:-1.5},{&quot;x&quot;:0.57,&quot;y&quot;:-1.48,&quot;z&quot;:-1.5},{&quot;x&quot;:0.57,&quot;y&quot;:-1.49382,&quot;z&quot;:-1.51902},{&quot;x&quot;:0.57,&quot;y&quot;:-1.51618,&quot;z&quot;:-1.51176},{&quot;x&quot;:0.57,&quot;y&quot;:-1.51618,&quot;z&quot;:-1.48824},{&quot;x&quot;:0.57,&quot;y&quot;:-1.49382,&quot;z&quot;:-1.48098},{&quot;x&quot;:0,&quot;y&quot;:-1.48,&quot;z&quot;:-1.5},{&quot;x&quot;:1.16471e-18,&quot;y&quot;:-1.49382,&quot;z&quot;:-1.51902},{&quot;x&quot;:7.19829e-19,&quot;y&quot;:-1.51618,&quot;z&quot;:-1.51176},{&quot;x&quot;:-7.19829e-19,&quot;y&quot;:-1.51618,&quot;z&quot;:-1.48824},{&quot;x&quot;:-1.16471e-18,&quot;y&quot;:-1.49382,&quot;z&quot;:-1.48098},{&quot;x&quot;:0,&quot;y&quot;:-1.5,&quot;z&quot;:-1.5}], &quot;faces&quot;:[[0,2,1],[0,3,2],[0,4,3],[0,5,4],[0,1,5],[1,2,7,6],[2,3,8,7],[3,4,9,8],[4,5,10,9],[5,1,6,10],[6,7,11],[7,8,11],[8,9,11],[9,10,11],[10,6,11]], &quot;color&quot;:&quot;#0000ff&quot;, &quot;opacity&quot;:1},{&quot;vertices&quot;:[{&quot;x&quot;:0.75,&quot;y&quot;:-1.5,&quot;z&quot;:-1.5},{&quot;x&quot;:0.57,&quot;y&quot;:-1.44,&quot;z&quot;:-1.5},{&quot;x&quot;:0.57,&quot;y&quot;:-1.48146,&quot;z&quot;:-1.55706},{&quot;x&quot;:0.57,&quot;y&quot;:-1.54854,&quot;z&quot;:-1.53527},{&quot;x&quot;:0.57,&quot;y&quot;:-1.54854,&quot;z&quot;:-1.46473},{&quot;x&quot;:0.57,&quot;y&quot;:-1.48146,&quot;z&quot;:-1.44294},{&quot;x&quot;:0.57,&quot;y&quot;:-1.5,&quot;z&quot;:-1.5}], &quot;faces&quot;:[[0,2,1],[0,3,2],[0,4,3],[0,5,4],[0,1,5],[1,2,6],[2,3,6],[3,4,6],[4,5,6],[5,1,6]], &quot;color&quot;:&quot;#0000ff&quot;, &quot;opacity&quot;:1},{&quot;vertices&quot;:[{&quot;x&quot;:0.57,&quot;y&quot;:-1.5,&quot;z&quot;:-0.75},{&quot;x&quot;:0.57,&quot;y&quot;:-1.48,&quot;z&quot;:-0.75},{&quot;x&quot;:0.57,&quot;y&quot;:-1.49382,&quot;z&quot;:-0.769021},{&quot;x&quot;:0.57,&quot;y&quot;:-1.51618,&quot;z&quot;:-0.761756},{&quot;x&quot;:0.57,&quot;y&quot;:-1.51618,&quot;z&quot;:-0.738244},{&quot;x&quot;:0.57,&quot;y&quot;:-1.49382,&quot;z&quot;:-0.730979},{&quot;x&quot;:0,&quot;y&quot;:-1.48,&quot;z&quot;:-0.75},{&quot;x&quot;:1.16471e-18,&quot;y&quot;:-1.49382,&quot;z&quot;:-0.769021},{&quot;x&quot;:7.19829e-19,&quot;y&quot;:-1.51618,&quot;z&quot;:-0.761756},{&quot;x&quot;:-7.19829e-19,&quot;y&quot;:-1.51618,&quot;z&quot;:-0.738244},{&quot;x&quot;:-1.16471e-18,&quot;y&quot;:-1.49382,&quot;z&quot;:-0.730979},{&quot;x&quot;:0,&quot;y&quot;:-1.5,&quot;z&quot;:-0.75}], &quot;faces&quot;:[[0,2,1],[0,3,2],[0,4,3],[0,5,4],[0,1,5],[1,2,7,6],[2,3,8,7],[3,4,9,8],[4,5,10,9],[5,1,6,10],[6,7,11],[7,8,11],[8,9,11],[9,10,11],[10,6,11]], &quot;color&quot;:&quot;#0000ff&quot;, &quot;opacity&quot;:1},{&quot;vertices&quot;:[{&quot;x&quot;:0.75,&quot;y&quot;:-1.5,&quot;z&quot;:-0.75},{&quot;x&quot;:0.57,&quot;y&quot;:-1.44,&quot;z&quot;:-0.75},{&quot;x&quot;:0.57,&quot;y&quot;:-1.48146,&quot;z&quot;:-0.807063},{&quot;x&quot;:0.57,&quot;y&quot;:-1.54854,&quot;z&quot;:-0.785267},{&quot;x&quot;:0.57,&quot;y&quot;:-1.54854,&quot;z&quot;:-0.714733},{&quot;x&quot;:0.57,&quot;y&quot;:-1.48146,&quot;z&quot;:-0.692937},{&quot;x&quot;:0.57,&quot;y&quot;:-1.5,&quot;z&quot;:-0.75}], &quot;faces&quot;:[[0,2,1],[0,3,2],[0,4,3],[0,5,4],[0,1,5],[1,2,6],[2,3,6],[3,4,6],[4,5,6],[5,1,6]], &quot;color&quot;:&quot;#0000ff&quot;, &quot;opacity&quot;:1},{&quot;vertices&quot;:[{&quot;x&quot;:0.57,&quot;y&quot;:-1.5,&quot;z&quot;:3.49024e-17},{&quot;x&quot;:0.57,&quot;y&quot;:-1.48,&quot;z&quot;:3.49024e-17},{&quot;x&quot;:0.57,&quot;y&quot;:-1.49382,&quot;z&quot;:-0.0190211},{&quot;x&quot;:0.57,&quot;y&quot;:-1.51618,&quot;z&quot;:-0.0117557},{&quot;x&quot;:0.57,&quot;y&quot;:-1.51618,&quot;z&quot;:0.0117557},{&quot;x&quot;:0.57,&quot;y&quot;:-1.49382,&quot;z&quot;:0.0190211},{&quot;x&quot;:0,&quot;y&quot;:-1.48,&quot;z&quot;:0},{&quot;x&quot;:1.16471e-18,&quot;y&quot;:-1.49382,&quot;z&quot;:-0.0190211},{&quot;x&quot;:7.19829e-19,&quot;y&quot;:-1.51618,&quot;z&quot;:-0.0117557},{&quot;x&quot;:-7.19829e-19,&quot;y&quot;:-1.51618,&quot;z&quot;:0.0117557},{&quot;x&quot;:-1.16471e-18,&quot;y&quot;:-1.49382,&quot;z&quot;:0.0190211},{&quot;x&quot;:0,&quot;y&quot;:-1.5,&quot;z&quot;:0}], &quot;faces&quot;:[[0,2,1],[0,3,2],[0,4,3],[0,5,4],[0,1,5],[1,2,7,6],[2,3,8,7],[3,4,9,8],[4,5,10,9],[5,1,6,10],[6,7,11],[7,8,11],[8,9,11],[9,10,11],[10,6,11]], &quot;color&quot;:&quot;#0000ff&quot;, &quot;opacity&quot;:1},{&quot;vertices&quot;:[{&quot;x&quot;:0.75,&quot;y&quot;:-1.5,&quot;z&quot;:4.59243e-17},{&quot;x&quot;:0.57,&quot;y&quot;:-1.44,&quot;z&quot;:3.49024e-17},{&quot;x&quot;:0.57,&quot;y&quot;:-1.48146,&quot;z&quot;:-0.0570634},{&quot;x&quot;:0.57,&quot;y&quot;:-1.54854,&quot;z&quot;:-0.0352671},{&quot;x&quot;:0.57,&quot;y&quot;:-1.54854,&quot;z&quot;:0.0352671},{&quot;x&quot;:0.57,&quot;y&quot;:-1.48146,&quot;z&quot;:0.0570634},{&quot;x&quot;:0.57,&quot;y&quot;:-1.5,&quot;z&quot;:3.49024e-17}], &quot;faces&quot;:[[0,2,1],[0,3,2],[0,4,3],[0,5,4],[0,1,5],[1,2,6],[2,3,6],[3,4,6],[4,5,6],[5,1,6]], &quot;color&quot;:&quot;#0000ff&quot;, &quot;opacity&quot;:1},{&quot;vertices&quot;:[{&quot;x&quot;:0.57,&quot;y&quot;:-1.5,&quot;z&quot;:0.75},{&quot;x&quot;:0.57,&quot;y&quot;:-1.48,&quot;z&quot;:0.75},{&quot;x&quot;:0.57,&quot;y&quot;:-1.49382,&quot;z&quot;:0.730979},{&quot;x&quot;:0.57,&quot;y&quot;:-1.51618,&quot;z&quot;:0.738244},{&quot;x&quot;:0.57,&quot;y&quot;:-1.51618,&quot;z&quot;:0.761756},{&quot;x&quot;:0.57,&quot;y&quot;:-1.49382,&quot;z&quot;:0.769021},{&quot;x&quot;:0,&quot;y&quot;:-1.48,&quot;z&quot;:0.75},{&quot;x&quot;:1.16471e-18,&quot;y&quot;:-1.49382,&quot;z&quot;:0.730979},{&quot;x&quot;:7.19829e-19,&quot;y&quot;:-1.51618,&quot;z&quot;:0.738244},{&quot;x&quot;:-7.19829e-19,&quot;y&quot;:-1.51618,&quot;z&quot;:0.761756},{&quot;x&quot;:-1.16471e-18,&quot;y&quot;:-1.49382,&quot;z&quot;:0.769021},{&quot;x&quot;:0,&quot;y&quot;:-1.5,&quot;z&quot;:0.75}], &quot;faces&quot;:[[0,2,1],[0,3,2],[0,4,3],[0,5,4],[0,1,5],[1,2,7,6],[2,3,8,7],[3,4,9,8],[4,5,10,9],[5,1,6,10],[6,7,11],[7,8,11],[8,9,11],[9,10,11],[10,6,11]], &quot;color&quot;:&quot;#0000ff&quot;, &quot;opacity&quot;:1},{&quot;vertices&quot;:[{&quot;x&quot;:0.75,&quot;y&quot;:-1.5,&quot;z&quot;:0.75},{&quot;x&quot;:0.57,&quot;y&quot;:-1.44,&quot;z&quot;:0.75},{&quot;x&quot;:0.57,&quot;y&quot;:-1.48146,&quot;z&quot;:0.692937},{&quot;x&quot;:0.57,&quot;y&quot;:-1.54854,&quot;z&quot;:0.714733},{&quot;x&quot;:0.57,&quot;y&quot;:-1.54854,&quot;z&quot;:0.785267},{&quot;x&quot;:0.57,&quot;y&quot;:-1.48146,&quot;z&quot;:0.807063},{&quot;x&quot;:0.57,&quot;y&quot;:-1.5,&quot;z&quot;:0.75}], &quot;faces&quot;:[[0,2,1],[0,3,2],[0,4,3],[0,5,4],[0,1,5],[1,2,6],[2,3,6],[3,4,6],[4,5,6],[5,1,6]], &quot;color&quot;:&quot;#0000ff&quot;, &quot;opacity&quot;:1},{&quot;vertices&quot;:[{&quot;x&quot;:0.57,&quot;y&quot;:-1.5,&quot;z&quot;:1.5},{&quot;x&quot;:0.57,&quot;y&quot;:-1.48,&quot;z&quot;:1.5},{&quot;x&quot;:0.57,&quot;y&quot;:-1.49382,&quot;z&quot;:1.48098},{&quot;x&quot;:0.57,&quot;y&quot;:-1.51618,&quot;z&quot;:1.48824},{&quot;x&quot;:0.57,&quot;y&quot;:-1.51618,&quot;z&quot;:1.51176},{&quot;x&quot;:0.57,&quot;y&quot;:-1.49382,&quot;z&quot;:1.51902},{&quot;x&quot;:0,&quot;y&quot;:-1.48,&quot;z&quot;:1.5},{&quot;x&quot;:1.16471e-18,&quot;y&quot;:-1.49382,&quot;z&quot;:1.48098},{&quot;x&quot;:7.19829e-19,&quot;y&quot;:-1.51618,&quot;z&quot;:1.48824},{&quot;x&quot;:-7.19829e-19,&quot;y&quot;:-1.51618,&quot;z&quot;:1.51176},{&quot;x&quot;:-1.16471e-18,&quot;y&quot;:-1.49382,&quot;z&quot;:1.51902},{&quot;x&quot;:0,&quot;y&quot;:-1.5,&quot;z&quot;:1.5}], &quot;faces&quot;:[[0,2,1],[0,3,2],[0,4,3],[0,5,4],[0,1,5],[1,2,7,6],[2,3,8,7],[3,4,9,8],[4,5,10,9],[5,1,6,10],[6,7,11],[7,8,11],[8,9,11],[9,10,11],[10,6,11]], &quot;color&quot;:&quot;#0000ff&quot;, &quot;opacity&quot;:1},{&quot;vertices&quot;:[{&quot;x&quot;:0.75,&quot;y&quot;:-1.5,&quot;z&quot;:1.5},{&quot;x&quot;:0.57,&quot;y&quot;:-1.44,&quot;z&quot;:1.5},{&quot;x&quot;:0.57,&quot;y&quot;:-1.48146,&quot;z&quot;:1.44294},{&quot;x&quot;:0.57,&quot;y&quot;:-1.54854,&quot;z&quot;:1.46473},{&quot;x&quot;:0.57,&quot;y&quot;:-1.54854,&quot;z&quot;:1.53527},{&quot;x&quot;:0.57,&quot;y&quot;:-1.48146,&quot;z&quot;:1.55706},{&quot;x&quot;:0.57,&quot;y&quot;:-1.5,&quot;z&quot;:1.5}], &quot;faces&quot;:[[0,2,1],[0,3,2],[0,4,3],[0,5,4],[0,1,5],[1,2,6],[2,3,6],[3,4,6],[4,5,6],[5,1,6]], &quot;color&quot;:&quot;#0000ff&quot;, &quot;opacity&quot;:1},{&quot;vertices&quot;:[{&quot;x&quot;:0.195,&quot;y&quot;:-0.75,&quot;z&quot;:-1.5},{&quot;x&quot;:0.195,&quot;y&quot;:-0.73,&quot;z&quot;:-1.5},{&quot;x&quot;:0.195,&quot;y&quot;:-0.74382,&quot;z&quot;:-1.51902},{&quot;x&quot;:0.195,&quot;y&quot;:-0.76618,&quot;z&quot;:-1.51176},{&quot;x&quot;:0.195,&quot;y&quot;:-0.76618,&quot;z&quot;:-1.48824},{&quot;x&quot;:0.195,&quot;y&quot;:-0.74382,&quot;z&quot;:-1.48098},{&quot;x&quot;:0,&quot;y&quot;:-0.73,&quot;z&quot;:-1.5},{&quot;x&quot;:1.16471e-18,&quot;y&quot;:-0.74382,&quot;z&quot;:-1.51902},{&quot;x&quot;:7.19829e-19,&quot;y&quot;:-0.76618,&quot;z&quot;:-1.51176},{&quot;x&quot;:-7.19829e-19,&quot;y&quot;:-0.76618,&quot;z&quot;:-1.48824},{&quot;x&quot;:-1.16471e-18,&quot;y&quot;:-0.74382,&quot;z&quot;:-1.48098},{&quot;x&quot;:0,&quot;y&quot;:-0.75,&quot;z&quot;:-1.5}], &quot;faces&quot;:[[0,2,1],[0,3,2],[0,4,3],[0,5,4],[0,1,5],[1,2,7,6],[2,3,8,7],[3,4,9,8],[4,5,10,9],[5,1,6,10],[6,7,11],[7,8,11],[8,9,11],[9,10,11],[10,6,11]], &quot;color&quot;:&quot;#0000ff&quot;, &quot;opacity&quot;:1},{&quot;vertices&quot;:[{&quot;x&quot;:0.375,&quot;y&quot;:-0.75,&quot;z&quot;:-1.5},{&quot;x&quot;:0.195,&quot;y&quot;:-0.69,&quot;z&quot;:-1.5},{&quot;x&quot;:0.195,&quot;y&quot;:-0.731459,&quot;z&quot;:-1.55706},{&quot;x&quot;:0.195,&quot;y&quot;:-0.798541,&quot;z&quot;:-1.53527},{&quot;x&quot;:0.195,&quot;y&quot;:-0.798541,&quot;z&quot;:-1.46473},{&quot;x&quot;:0.195,&quot;y&quot;:-0.731459,&quot;z&quot;:-1.44294},{&quot;x&quot;:0.195,&quot;y&quot;:-0.75,&quot;z&quot;:-1.5}], &quot;faces&quot;:[[0,2,1],[0,3,2],[0,4,3],[0,5,4],[0,1,5],[1,2,6],[2,3,6],[3,4,6],[4,5,6],[5,1,6]], &quot;color&quot;:&quot;#0000ff&quot;, &quot;opacity&quot;:1},{&quot;vertices&quot;:[{&quot;x&quot;:0.195,&quot;y&quot;:-0.75,&quot;z&quot;:-0.75},{&quot;x&quot;:0.195,&quot;y&quot;:-0.73,&quot;z&quot;:-0.75},{&quot;x&quot;:0.195,&quot;y&quot;:-0.74382,&quot;z&quot;:-0.769021},{&quot;x&quot;:0.195,&quot;y&quot;:-0.76618,&quot;z&quot;:-0.761756},{&quot;x&quot;:0.195,&quot;y&quot;:-0.76618,&quot;z&quot;:-0.738244},{&quot;x&quot;:0.195,&quot;y&quot;:-0.74382,&quot;z&quot;:-0.730979},{&quot;x&quot;:0,&quot;y&quot;:-0.73,&quot;z&quot;:-0.75},{&quot;x&quot;:1.16471e-18,&quot;y&quot;:-0.74382,&quot;z&quot;:-0.769021},{&quot;x&quot;:7.19829e-19,&quot;y&quot;:-0.76618,&quot;z&quot;:-0.761756},{&quot;x&quot;:-7.19829e-19,&quot;y&quot;:-0.76618,&quot;z&quot;:-0.738244},{&quot;x&quot;:-1.16471e-18,&quot;y&quot;:-0.74382,&quot;z&quot;:-0.730979},{&quot;x&quot;:0,&quot;y&quot;:-0.75,&quot;z&quot;:-0.75}], &quot;faces&quot;:[[0,2,1],[0,3,2],[0,4,3],[0,5,4],[0,1,5],[1,2,7,6],[2,3,8,7],[3,4,9,8],[4,5,10,9],[5,1,6,10],[6,7,11],[7,8,11],[8,9,11],[9,10,11],[10,6,11]], &quot;color&quot;:&quot;#0000ff&quot;, &quot;opacity&quot;:1},{&quot;vertices&quot;:[{&quot;x&quot;:0.375,&quot;y&quot;:-0.75,&quot;z&quot;:-0.75},{&quot;x&quot;:0.195,&quot;y&quot;:-0.69,&quot;z&quot;:-0.75},{&quot;x&quot;:0.195,&quot;y&quot;:-0.731459,&quot;z&quot;:-0.807063},{&quot;x&quot;:0.195,&quot;y&quot;:-0.798541,&quot;z&quot;:-0.785267},{&quot;x&quot;:0.195,&quot;y&quot;:-0.798541,&quot;z&quot;:-0.714733},{&quot;x&quot;:0.195,&quot;y&quot;:-0.731459,&quot;z&quot;:-0.692937},{&quot;x&quot;:0.195,&quot;y&quot;:-0.75,&quot;z&quot;:-0.75}], &quot;faces&quot;:[[0,2,1],[0,3,2],[0,4,3],[0,5,4],[0,1,5],[1,2,6],[2,3,6],[3,4,6],[4,5,6],[5,1,6]], &quot;color&quot;:&quot;#0000ff&quot;, &quot;opacity&quot;:1},{&quot;vertices&quot;:[{&quot;x&quot;:0.195,&quot;y&quot;:-0.75,&quot;z&quot;:1.19403e-17},{&quot;x&quot;:0.195,&quot;y&quot;:-0.73,&quot;z&quot;:1.19403e-17},{&quot;x&quot;:0.195,&quot;y&quot;:-0.74382,&quot;z&quot;:-0.0190211},{&quot;x&quot;:0.195,&quot;y&quot;:-0.76618,&quot;z&quot;:-0.0117557},{&quot;x&quot;:0.195,&quot;y&quot;:-0.76618,&quot;z&quot;:0.0117557},{&quot;x&quot;:0.195,&quot;y&quot;:-0.74382,&quot;z&quot;:0.0190211},{&quot;x&quot;:0,&quot;y&quot;:-0.73,&quot;z&quot;:0},{&quot;x&quot;:1.16471e-18,&quot;y&quot;:-0.74382,&quot;z&quot;:-0.0190211},{&quot;x&quot;:7.19829e-19,&quot;y&quot;:-0.76618,&quot;z&quot;:-0.0117557},{&quot;x&quot;:-7.19829e-19,&quot;y&quot;:-0.76618,&quot;z&quot;:0.0117557},{&quot;x&quot;:-1.16471e-18,&quot;y&quot;:-0.74382,&quot;z&quot;:0.0190211},{&quot;x&quot;:0,&quot;y&quot;:-0.75,&quot;z&quot;:0}], &quot;faces&quot;:[[0,2,1],[0,3,2],[0,4,3],[0,5,4],[0,1,5],[1,2,7,6],[2,3,8,7],[3,4,9,8],[4,5,10,9],[5,1,6,10],[6,7,11],[7,8,11],[8,9,11],[9,10,11],[10,6,11]], &quot;color&quot;:&quot;#0000ff&quot;, &quot;opacity&quot;:1},{&quot;vertices&quot;:[{&quot;x&quot;:0.375,&quot;y&quot;:-0.75,&quot;z&quot;:2.29621e-17},{&quot;x&quot;:0.195,&quot;y&quot;:-0.69,&quot;z&quot;:1.19403e-17},{&quot;x&quot;:0.195,&quot;y&quot;:-0.731459,&quot;z&quot;:-0.0570634},{&quot;x&quot;:0.195,&quot;y&quot;:-0.798541,&quot;z&quot;:-0.0352671},{&quot;x&quot;:0.195,&quot;y&quot;:-0.798541,&quot;z&quot;:0.0352671},{&quot;x&quot;:0.195,&quot;y&quot;:-0.731459,&quot;z&quot;:0.0570634},{&quot;x&quot;:0.195,&quot;y&quot;:-0.75,&quot;z&quot;:1.19403e-17}], &quot;faces&quot;:[[0,2,1],[0,3,2],[0,4,3],[0,5,4],[0,1,5],[1,2,6],[2,3,6],[3,4,6],[4,5,6],[5,1,6]], &quot;color&quot;:&quot;#0000ff&quot;, &quot;opacity&quot;:1},{&quot;vertices&quot;:[{&quot;x&quot;:0.195,&quot;y&quot;:-0.75,&quot;z&quot;:0.75},{&quot;x&quot;:0.195,&quot;y&quot;:-0.73,&quot;z&quot;:0.75},{&quot;x&quot;:0.195,&quot;y&quot;:-0.74382,&quot;z&quot;:0.730979},{&quot;x&quot;:0.195,&quot;y&quot;:-0.76618,&quot;z&quot;:0.738244},{&quot;x&quot;:0.195,&quot;y&quot;:-0.76618,&quot;z&quot;:0.761756},{&quot;x&quot;:0.195,&quot;y&quot;:-0.74382,&quot;z&quot;:0.769021},{&quot;x&quot;:0,&quot;y&quot;:-0.73,&quot;z&quot;:0.75},{&quot;x&quot;:1.16471e-18,&quot;y&quot;:-0.74382,&quot;z&quot;:0.730979},{&quot;x&quot;:7.19829e-19,&quot;y&quot;:-0.76618,&quot;z&quot;:0.738244},{&quot;x&quot;:-7.19829e-19,&quot;y&quot;:-0.76618,&quot;z&quot;:0.761756},{&quot;x&quot;:-1.16471e-18,&quot;y&quot;:-0.74382,&quot;z&quot;:0.769021},{&quot;x&quot;:0,&quot;y&quot;:-0.75,&quot;z&quot;:0.75}], &quot;faces&quot;:[[0,2,1],[0,3,2],[0,4,3],[0,5,4],[0,1,5],[1,2,7,6],[2,3,8,7],[3,4,9,8],[4,5,10,9],[5,1,6,10],[6,7,11],[7,8,11],[8,9,11],[9,10,11],[10,6,11]], &quot;color&quot;:&quot;#0000ff&quot;, &quot;opacity&quot;:1},{&quot;vertices&quot;:[{&quot;x&quot;:0.375,&quot;y&quot;:-0.75,&quot;z&quot;:0.75},{&quot;x&quot;:0.195,&quot;y&quot;:-0.69,&quot;z&quot;:0.75},{&quot;x&quot;:0.195,&quot;y&quot;:-0.731459,&quot;z&quot;:0.692937},{&quot;x&quot;:0.195,&quot;y&quot;:-0.798541,&quot;z&quot;:0.714733},{&quot;x&quot;:0.195,&quot;y&quot;:-0.798541,&quot;z&quot;:0.785267},{&quot;x&quot;:0.195,&quot;y&quot;:-0.731459,&quot;z&quot;:0.807063},{&quot;x&quot;:0.195,&quot;y&quot;:-0.75,&quot;z&quot;:0.75}], &quot;faces&quot;:[[0,2,1],[0,3,2],[0,4,3],[0,5,4],[0,1,5],[1,2,6],[2,3,6],[3,4,6],[4,5,6],[5,1,6]], &quot;color&quot;:&quot;#0000ff&quot;, &quot;opacity&quot;:1},{&quot;vertices&quot;:[{&quot;x&quot;:0.195,&quot;y&quot;:-0.75,&quot;z&quot;:1.5},{&quot;x&quot;:0.195,&quot;y&quot;:-0.73,&quot;z&quot;:1.5},{&quot;x&quot;:0.195,&quot;y&quot;:-0.74382,&quot;z&quot;:1.48098},{&quot;x&quot;:0.195,&quot;y&quot;:-0.76618,&quot;z&quot;:1.48824},{&quot;x&quot;:0.195,&quot;y&quot;:-0.76618,&quot;z&quot;:1.51176},{&quot;x&quot;:0.195,&quot;y&quot;:-0.74382,&quot;z&quot;:1.51902},{&quot;x&quot;:0,&quot;y&quot;:-0.73,&quot;z&quot;:1.5},{&quot;x&quot;:1.16471e-18,&quot;y&quot;:-0.74382,&quot;z&quot;:1.48098},{&quot;x&quot;:7.19829e-19,&quot;y&quot;:-0.76618,&quot;z&quot;:1.48824},{&quot;x&quot;:-7.19829e-19,&quot;y&quot;:-0.76618,&quot;z&quot;:1.51176},{&quot;x&quot;:-1.16471e-18,&quot;y&quot;:-0.74382,&quot;z&quot;:1.51902},{&quot;x&quot;:0,&quot;y&quot;:-0.75,&quot;z&quot;:1.5}], &quot;faces&quot;:[[0,2,1],[0,3,2],[0,4,3],[0,5,4],[0,1,5],[1,2,7,6],[2,3,8,7],[3,4,9,8],[4,5,10,9],[5,1,6,10],[6,7,11],[7,8,11],[8,9,11],[9,10,11],[10,6,11]], &quot;color&quot;:&quot;#0000ff&quot;, &quot;opacity&quot;:1},{&quot;vertices&quot;:[{&quot;x&quot;:0.375,&quot;y&quot;:-0.75,&quot;z&quot;:1.5},{&quot;x&quot;:0.195,&quot;y&quot;:-0.69,&quot;z&quot;:1.5},{&quot;x&quot;:0.195,&quot;y&quot;:-0.731459,&quot;z&quot;:1.44294},{&quot;x&quot;:0.195,&quot;y&quot;:-0.798541,&quot;z&quot;:1.46473},{&quot;x&quot;:0.195,&quot;y&quot;:-0.798541,&quot;z&quot;:1.53527},{&quot;x&quot;:0.195,&quot;y&quot;:-0.731459,&quot;z&quot;:1.55706},{&quot;x&quot;:0.195,&quot;y&quot;:-0.75,&quot;z&quot;:1.5}], &quot;faces&quot;:[[0,2,1],[0,3,2],[0,4,3],[0,5,4],[0,1,5],[1,2,6],[2,3,6],[3,4,6],[4,5,6],[5,1,6]], &quot;color&quot;:&quot;#0000ff&quot;, &quot;opacity&quot;:1},{&quot;vertices&quot;:[{&quot;x&quot;:-0.195,&quot;y&quot;:0.75,&quot;z&quot;:-1.5},{&quot;x&quot;:-0.195,&quot;y&quot;:0.77,&quot;z&quot;:-1.5},{&quot;x&quot;:-0.195,&quot;y&quot;:0.75618,&quot;z&quot;:-1.48098},{&quot;x&quot;:-0.195,&quot;y&quot;:0.73382,&quot;z&quot;:-1.48824},{&quot;x&quot;:-0.195,&quot;y&quot;:0.73382,&quot;z&quot;:-1.51176},{&quot;x&quot;:-0.195,&quot;y&quot;:0.75618,&quot;z&quot;:-1.51902},{&quot;x&quot;:0,&quot;y&quot;:0.77,&quot;z&quot;:-1.5},{&quot;x&quot;:1.16471e-18,&quot;y&quot;:0.75618,&quot;z&quot;:-1.48098},{&quot;x&quot;:7.19829e-19,&quot;y&quot;:0.73382,&quot;z&quot;:-1.48824},{&quot;x&quot;:-7.19829e-19,&quot;y&quot;:0.73382,&quot;z&quot;:-1.51176},{&quot;x&quot;:-1.16471e-18,&quot;y&quot;:0.75618,&quot;z&quot;:-1.51902},{&quot;x&quot;:0,&quot;y&quot;:0.75,&quot;z&quot;:-1.5}], &quot;faces&quot;:[[0,2,1],[0,3,2],[0,4,3],[0,5,4],[0,1,5],[1,2,7,6],[2,3,8,7],[3,4,9,8],[4,5,10,9],[5,1,6,10],[6,7,11],[7,8,11],[8,9,11],[9,10,11],[10,6,11]], &quot;color&quot;:&quot;#0000ff&quot;, &quot;opacity&quot;:1},{&quot;vertices&quot;:[{&quot;x&quot;:-0.375,&quot;y&quot;:0.75,&quot;z&quot;:-1.5},{&quot;x&quot;:-0.195,&quot;y&quot;:0.81,&quot;z&quot;:-1.5},{&quot;x&quot;:-0.195,&quot;y&quot;:0.768541,&quot;z&quot;:-1.44294},{&quot;x&quot;:-0.195,&quot;y&quot;:0.701459,&quot;z&quot;:-1.46473},{&quot;x&quot;:-0.195,&quot;y&quot;:0.701459,&quot;z&quot;:-1.53527},{&quot;x&quot;:-0.195,&quot;y&quot;:0.768541,&quot;z&quot;:-1.55706},{&quot;x&quot;:-0.195,&quot;y&quot;:0.75,&quot;z&quot;:-1.5}], &quot;faces&quot;:[[0,2,1],[0,3,2],[0,4,3],[0,5,4],[0,1,5],[1,2,6],[2,3,6],[3,4,6],[4,5,6],[5,1,6]], &quot;color&quot;:&quot;#0000ff&quot;, &quot;opacity&quot;:1},{&quot;vertices&quot;:[{&quot;x&quot;:-0.195,&quot;y&quot;:0.75,&quot;z&quot;:-0.75},{&quot;x&quot;:-0.195,&quot;y&quot;:0.77,&quot;z&quot;:-0.75},{&quot;x&quot;:-0.195,&quot;y&quot;:0.75618,&quot;z&quot;:-0.730979},{&quot;x&quot;:-0.195,&quot;y&quot;:0.73382,&quot;z&quot;:-0.738244},{&quot;x&quot;:-0.195,&quot;y&quot;:0.73382,&quot;z&quot;:-0.761756},{&quot;x&quot;:-0.195,&quot;y&quot;:0.75618,&quot;z&quot;:-0.769021},{&quot;x&quot;:0,&quot;y&quot;:0.77,&quot;z&quot;:-0.75},{&quot;x&quot;:1.16471e-18,&quot;y&quot;:0.75618,&quot;z&quot;:-0.730979},{&quot;x&quot;:7.19829e-19,&quot;y&quot;:0.73382,&quot;z&quot;:-0.738244},{&quot;x&quot;:-7.19829e-19,&quot;y&quot;:0.73382,&quot;z&quot;:-0.761756},{&quot;x&quot;:-1.16471e-18,&quot;y&quot;:0.75618,&quot;z&quot;:-0.769021},{&quot;x&quot;:0,&quot;y&quot;:0.75,&quot;z&quot;:-0.75}], &quot;faces&quot;:[[0,2,1],[0,3,2],[0,4,3],[0,5,4],[0,1,5],[1,2,7,6],[2,3,8,7],[3,4,9,8],[4,5,10,9],[5,1,6,10],[6,7,11],[7,8,11],[8,9,11],[9,10,11],[10,6,11]], &quot;color&quot;:&quot;#0000ff&quot;, &quot;opacity&quot;:1},{&quot;vertices&quot;:[{&quot;x&quot;:-0.375,&quot;y&quot;:0.75,&quot;z&quot;:-0.75},{&quot;x&quot;:-0.195,&quot;y&quot;:0.81,&quot;z&quot;:-0.75},{&quot;x&quot;:-0.195,&quot;y&quot;:0.768541,&quot;z&quot;:-0.692937},{&quot;x&quot;:-0.195,&quot;y&quot;:0.701459,&quot;z&quot;:-0.714733},{&quot;x&quot;:-0.195,&quot;y&quot;:0.701459,&quot;z&quot;:-0.785267},{&quot;x&quot;:-0.195,&quot;y&quot;:0.768541,&quot;z&quot;:-0.807063},{&quot;x&quot;:-0.195,&quot;y&quot;:0.75,&quot;z&quot;:-0.75}], &quot;faces&quot;:[[0,2,1],[0,3,2],[0,4,3],[0,5,4],[0,1,5],[1,2,6],[2,3,6],[3,4,6],[4,5,6],[5,1,6]], &quot;color&quot;:&quot;#0000ff&quot;, &quot;opacity&quot;:1},{&quot;vertices&quot;:[{&quot;x&quot;:-0.195,&quot;y&quot;:0.75,&quot;z&quot;:1.19403e-17},{&quot;x&quot;:-0.195,&quot;y&quot;:0.77,&quot;z&quot;:1.19403e-17},{&quot;x&quot;:-0.195,&quot;y&quot;:0.75618,&quot;z&quot;:0.0190211},{&quot;x&quot;:-0.195,&quot;y&quot;:0.73382,&quot;z&quot;:0.0117557},{&quot;x&quot;:-0.195,&quot;y&quot;:0.73382,&quot;z&quot;:-0.0117557},{&quot;x&quot;:-0.195,&quot;y&quot;:0.75618,&quot;z&quot;:-0.0190211},{&quot;x&quot;:0,&quot;y&quot;:0.77,&quot;z&quot;:0},{&quot;x&quot;:1.16471e-18,&quot;y&quot;:0.75618,&quot;z&quot;:0.0190211},{&quot;x&quot;:7.19829e-19,&quot;y&quot;:0.73382,&quot;z&quot;:0.0117557},{&quot;x&quot;:-7.19829e-19,&quot;y&quot;:0.73382,&quot;z&quot;:-0.0117557},{&quot;x&quot;:-1.16471e-18,&quot;y&quot;:0.75618,&quot;z&quot;:-0.0190211},{&quot;x&quot;:0,&quot;y&quot;:0.75,&quot;z&quot;:0}], &quot;faces&quot;:[[0,2,1],[0,3,2],[0,4,3],[0,5,4],[0,1,5],[1,2,7,6],[2,3,8,7],[3,4,9,8],[4,5,10,9],[5,1,6,10],[6,7,11],[7,8,11],[8,9,11],[9,10,11],[10,6,11]], &quot;color&quot;:&quot;#0000ff&quot;, &quot;opacity&quot;:1},{&quot;vertices&quot;:[{&quot;x&quot;:-0.375,&quot;y&quot;:0.75,&quot;z&quot;:2.29621e-17},{&quot;x&quot;:-0.195,&quot;y&quot;:0.81,&quot;z&quot;:1.19403e-17},{&quot;x&quot;:-0.195,&quot;y&quot;:0.768541,&quot;z&quot;:0.0570634},{&quot;x&quot;:-0.195,&quot;y&quot;:0.701459,&quot;z&quot;:0.0352671},{&quot;x&quot;:-0.195,&quot;y&quot;:0.701459,&quot;z&quot;:-0.0352671},{&quot;x&quot;:-0.195,&quot;y&quot;:0.768541,&quot;z&quot;:-0.0570634},{&quot;x&quot;:-0.195,&quot;y&quot;:0.75,&quot;z&quot;:1.19403e-17}], &quot;faces&quot;:[[0,2,1],[0,3,2],[0,4,3],[0,5,4],[0,1,5],[1,2,6],[2,3,6],[3,4,6],[4,5,6],[5,1,6]], &quot;color&quot;:&quot;#0000ff&quot;, &quot;opacity&quot;:1},{&quot;vertices&quot;:[{&quot;x&quot;:-0.195,&quot;y&quot;:0.75,&quot;z&quot;:0.75},{&quot;x&quot;:-0.195,&quot;y&quot;:0.77,&quot;z&quot;:0.75},{&quot;x&quot;:-0.195,&quot;y&quot;:0.75618,&quot;z&quot;:0.769021},{&quot;x&quot;:-0.195,&quot;y&quot;:0.73382,&quot;z&quot;:0.761756},{&quot;x&quot;:-0.195,&quot;y&quot;:0.73382,&quot;z&quot;:0.738244},{&quot;x&quot;:-0.195,&quot;y&quot;:0.75618,&quot;z&quot;:0.730979},{&quot;x&quot;:0,&quot;y&quot;:0.77,&quot;z&quot;:0.75},{&quot;x&quot;:1.16471e-18,&quot;y&quot;:0.75618,&quot;z&quot;:0.769021},{&quot;x&quot;:7.19829e-19,&quot;y&quot;:0.73382,&quot;z&quot;:0.761756},{&quot;x&quot;:-7.19829e-19,&quot;y&quot;:0.73382,&quot;z&quot;:0.738244},{&quot;x&quot;:-1.16471e-18,&quot;y&quot;:0.75618,&quot;z&quot;:0.730979},{&quot;x&quot;:0,&quot;y&quot;:0.75,&quot;z&quot;:0.75}], &quot;faces&quot;:[[0,2,1],[0,3,2],[0,4,3],[0,5,4],[0,1,5],[1,2,7,6],[2,3,8,7],[3,4,9,8],[4,5,10,9],[5,1,6,10],[6,7,11],[7,8,11],[8,9,11],[9,10,11],[10,6,11]], &quot;color&quot;:&quot;#0000ff&quot;, &quot;opacity&quot;:1},{&quot;vertices&quot;:[{&quot;x&quot;:-0.375,&quot;y&quot;:0.75,&quot;z&quot;:0.75},{&quot;x&quot;:-0.195,&quot;y&quot;:0.81,&quot;z&quot;:0.75},{&quot;x&quot;:-0.195,&quot;y&quot;:0.768541,&quot;z&quot;:0.807063},{&quot;x&quot;:-0.195,&quot;y&quot;:0.701459,&quot;z&quot;:0.785267},{&quot;x&quot;:-0.195,&quot;y&quot;:0.701459,&quot;z&quot;:0.714733},{&quot;x&quot;:-0.195,&quot;y&quot;:0.768541,&quot;z&quot;:0.692937},{&quot;x&quot;:-0.195,&quot;y&quot;:0.75,&quot;z&quot;:0.75}], &quot;faces&quot;:[[0,2,1],[0,3,2],[0,4,3],[0,5,4],[0,1,5],[1,2,6],[2,3,6],[3,4,6],[4,5,6],[5,1,6]], &quot;color&quot;:&quot;#0000ff&quot;, &quot;opacity&quot;:1},{&quot;vertices&quot;:[{&quot;x&quot;:-0.195,&quot;y&quot;:0.75,&quot;z&quot;:1.5},{&quot;x&quot;:-0.195,&quot;y&quot;:0.77,&quot;z&quot;:1.5},{&quot;x&quot;:-0.195,&quot;y&quot;:0.75618,&quot;z&quot;:1.51902},{&quot;x&quot;:-0.195,&quot;y&quot;:0.73382,&quot;z&quot;:1.51176},{&quot;x&quot;:-0.195,&quot;y&quot;:0.73382,&quot;z&quot;:1.48824},{&quot;x&quot;:-0.195,&quot;y&quot;:0.75618,&quot;z&quot;:1.48098},{&quot;x&quot;:0,&quot;y&quot;:0.77,&quot;z&quot;:1.5},{&quot;x&quot;:1.16471e-18,&quot;y&quot;:0.75618,&quot;z&quot;:1.51902},{&quot;x&quot;:7.19829e-19,&quot;y&quot;:0.73382,&quot;z&quot;:1.51176},{&quot;x&quot;:-7.19829e-19,&quot;y&quot;:0.73382,&quot;z&quot;:1.48824},{&quot;x&quot;:-1.16471e-18,&quot;y&quot;:0.75618,&quot;z&quot;:1.48098},{&quot;x&quot;:0,&quot;y&quot;:0.75,&quot;z&quot;:1.5}], &quot;faces&quot;:[[0,2,1],[0,3,2],[0,4,3],[0,5,4],[0,1,5],[1,2,7,6],[2,3,8,7],[3,4,9,8],[4,5,10,9],[5,1,6,10],[6,7,11],[7,8,11],[8,9,11],[9,10,11],[10,6,11]], &quot;color&quot;:&quot;#0000ff&quot;, &quot;opacity&quot;:1},{&quot;vertices&quot;:[{&quot;x&quot;:-0.375,&quot;y&quot;:0.75,&quot;z&quot;:1.5},{&quot;x&quot;:-0.195,&quot;y&quot;:0.81,&quot;z&quot;:1.5},{&quot;x&quot;:-0.195,&quot;y&quot;:0.768541,&quot;z&quot;:1.55706},{&quot;x&quot;:-0.195,&quot;y&quot;:0.701459,&quot;z&quot;:1.53527},{&quot;x&quot;:-0.195,&quot;y&quot;:0.701459,&quot;z&quot;:1.46473},{&quot;x&quot;:-0.195,&quot;y&quot;:0.768541,&quot;z&quot;:1.44294},{&quot;x&quot;:-0.195,&quot;y&quot;:0.75,&quot;z&quot;:1.5}], &quot;faces&quot;:[[0,2,1],[0,3,2],[0,4,3],[0,5,4],[0,1,5],[1,2,6],[2,3,6],[3,4,6],[4,5,6],[5,1,6]], &quot;color&quot;:&quot;#0000ff&quot;, &quot;opacity&quot;:1},{&quot;vertices&quot;:[{&quot;x&quot;:-0.57,&quot;y&quot;:1.5,&quot;z&quot;:-1.5},{&quot;x&quot;:-0.57,&quot;y&quot;:1.52,&quot;z&quot;:-1.5},{&quot;x&quot;:-0.57,&quot;y&quot;:1.50618,&quot;z&quot;:-1.48098},{&quot;x&quot;:-0.57,&quot;y&quot;:1.48382,&quot;z&quot;:-1.48824},{&quot;x&quot;:-0.57,&quot;y&quot;:1.48382,&quot;z&quot;:-1.51176},{&quot;x&quot;:-0.57,&quot;y&quot;:1.50618,&quot;z&quot;:-1.51902},{&quot;x&quot;:0,&quot;y&quot;:1.52,&quot;z&quot;:-1.5},{&quot;x&quot;:1.16471e-18,&quot;y&quot;:1.50618,&quot;z&quot;:-1.48098},{&quot;x&quot;:7.19829e-19,&quot;y&quot;:1.48382,&quot;z&quot;:-1.48824},{&quot;x&quot;:-7.19829e-19,&quot;y&quot;:1.48382,&quot;z&quot;:-1.51176},{&quot;x&quot;:-1.16471e-18,&quot;y&quot;:1.50618,&quot;z&quot;:-1.51902},{&quot;x&quot;:0,&quot;y&quot;:1.5,&quot;z&quot;:-1.5}], &quot;faces&quot;:[[0,2,1],[0,3,2],[0,4,3],[0,5,4],[0,1,5],[1,2,7,6],[2,3,8,7],[3,4,9,8],[4,5,10,9],[5,1,6,10],[6,7,11],[7,8,11],[8,9,11],[9,10,11],[10,6,11]], &quot;color&quot;:&quot;#0000ff&quot;, &quot;opacity&quot;:1},{&quot;vertices&quot;:[{&quot;x&quot;:-0.75,&quot;y&quot;:1.5,&quot;z&quot;:-1.5},{&quot;x&quot;:-0.57,&quot;y&quot;:1.56,&quot;z&quot;:-1.5},{&quot;x&quot;:-0.57,&quot;y&quot;:1.51854,&quot;z&quot;:-1.44294},{&quot;x&quot;:-0.57,&quot;y&quot;:1.45146,&quot;z&quot;:-1.46473},{&quot;x&quot;:-0.57,&quot;y&quot;:1.45146,&quot;z&quot;:-1.53527},{&quot;x&quot;:-0.57,&quot;y&quot;:1.51854,&quot;z&quot;:-1.55706},{&quot;x&quot;:-0.57,&quot;y&quot;:1.5,&quot;z&quot;:-1.5}], &quot;faces&quot;:[[0,2,1],[0,3,2],[0,4,3],[0,5,4],[0,1,5],[1,2,6],[2,3,6],[3,4,6],[4,5,6],[5,1,6]], &quot;color&quot;:&quot;#0000ff&quot;, &quot;opacity&quot;:1},{&quot;vertices&quot;:[{&quot;x&quot;:-0.57,&quot;y&quot;:1.5,&quot;z&quot;:-0.75},{&quot;x&quot;:-0.57,&quot;y&quot;:1.52,&quot;z&quot;:-0.75},{&quot;x&quot;:-0.57,&quot;y&quot;:1.50618,&quot;z&quot;:-0.730979},{&quot;x&quot;:-0.57,&quot;y&quot;:1.48382,&quot;z&quot;:-0.738244},{&quot;x&quot;:-0.57,&quot;y&quot;:1.48382,&quot;z&quot;:-0.761756},{&quot;x&quot;:-0.57,&quot;y&quot;:1.50618,&quot;z&quot;:-0.769021},{&quot;x&quot;:0,&quot;y&quot;:1.52,&quot;z&quot;:-0.75},{&quot;x&quot;:1.16471e-18,&quot;y&quot;:1.50618,&quot;z&quot;:-0.730979},{&quot;x&quot;:7.19829e-19,&quot;y&quot;:1.48382,&quot;z&quot;:-0.738244},{&quot;x&quot;:-7.19829e-19,&quot;y&quot;:1.48382,&quot;z&quot;:-0.761756},{&quot;x&quot;:-1.16471e-18,&quot;y&quot;:1.50618,&quot;z&quot;:-0.769021},{&quot;x&quot;:0,&quot;y&quot;:1.5,&quot;z&quot;:-0.75}], &quot;faces&quot;:[[0,2,1],[0,3,2],[0,4,3],[0,5,4],[0,1,5],[1,2,7,6],[2,3,8,7],[3,4,9,8],[4,5,10,9],[5,1,6,10],[6,7,11],[7,8,11],[8,9,11],[9,10,11],[10,6,11]], &quot;color&quot;:&quot;#0000ff&quot;, &quot;opacity&quot;:1},{&quot;vertices&quot;:[{&quot;x&quot;:-0.75,&quot;y&quot;:1.5,&quot;z&quot;:-0.75},{&quot;x&quot;:-0.57,&quot;y&quot;:1.56,&quot;z&quot;:-0.75},{&quot;x&quot;:-0.57,&quot;y&quot;:1.51854,&quot;z&quot;:-0.692937},{&quot;x&quot;:-0.57,&quot;y&quot;:1.45146,&quot;z&quot;:-0.714733},{&quot;x&quot;:-0.57,&quot;y&quot;:1.45146,&quot;z&quot;:-0.785267},{&quot;x&quot;:-0.57,&quot;y&quot;:1.51854,&quot;z&quot;:-0.807063},{&quot;x&quot;:-0.57,&quot;y&quot;:1.5,&quot;z&quot;:-0.75}], &quot;faces&quot;:[[0,2,1],[0,3,2],[0,4,3],[0,5,4],[0,1,5],[1,2,6],[2,3,6],[3,4,6],[4,5,6],[5,1,6]], &quot;color&quot;:&quot;#0000ff&quot;, &quot;opacity&quot;:1},{&quot;vertices&quot;:[{&quot;x&quot;:-0.57,&quot;y&quot;:1.5,&quot;z&quot;:3.49024e-17},{&quot;x&quot;:-0.57,&quot;y&quot;:1.52,&quot;z&quot;:3.49024e-17},{&quot;x&quot;:-0.57,&quot;y&quot;:1.50618,&quot;z&quot;:0.0190211},{&quot;x&quot;:-0.57,&quot;y&quot;:1.48382,&quot;z&quot;:0.0117557},{&quot;x&quot;:-0.57,&quot;y&quot;:1.48382,&quot;z&quot;:-0.0117557},{&quot;x&quot;:-0.57,&quot;y&quot;:1.50618,&quot;z&quot;:-0.0190211},{&quot;x&quot;:0,&quot;y&quot;:1.52,&quot;z&quot;:0},{&quot;x&quot;:1.16471e-18,&quot;y&quot;:1.50618,&quot;z&quot;:0.0190211},{&quot;x&quot;:7.19829e-19,&quot;y&quot;:1.48382,&quot;z&quot;:0.0117557},{&quot;x&quot;:-7.19829e-19,&quot;y&quot;:1.48382,&quot;z&quot;:-0.0117557},{&quot;x&quot;:-1.16471e-18,&quot;y&quot;:1.50618,&quot;z&quot;:-0.0190211},{&quot;x&quot;:0,&quot;y&quot;:1.5,&quot;z&quot;:0}], &quot;faces&quot;:[[0,2,1],[0,3,2],[0,4,3],[0,5,4],[0,1,5],[1,2,7,6],[2,3,8,7],[3,4,9,8],[4,5,10,9],[5,1,6,10],[6,7,11],[7,8,11],[8,9,11],[9,10,11],[10,6,11]], &quot;color&quot;:&quot;#0000ff&quot;, &quot;opacity&quot;:1},{&quot;vertices&quot;:[{&quot;x&quot;:-0.75,&quot;y&quot;:1.5,&quot;z&quot;:4.59243e-17},{&quot;x&quot;:-0.57,&quot;y&quot;:1.56,&quot;z&quot;:3.49024e-17},{&quot;x&quot;:-0.57,&quot;y&quot;:1.51854,&quot;z&quot;:0.0570634},{&quot;x&quot;:-0.57,&quot;y&quot;:1.45146,&quot;z&quot;:0.0352671},{&quot;x&quot;:-0.57,&quot;y&quot;:1.45146,&quot;z&quot;:-0.0352671},{&quot;x&quot;:-0.57,&quot;y&quot;:1.51854,&quot;z&quot;:-0.0570634},{&quot;x&quot;:-0.57,&quot;y&quot;:1.5,&quot;z&quot;:3.49024e-17}], &quot;faces&quot;:[[0,2,1],[0,3,2],[0,4,3],[0,5,4],[0,1,5],[1,2,6],[2,3,6],[3,4,6],[4,5,6],[5,1,6]], &quot;color&quot;:&quot;#0000ff&quot;, &quot;opacity&quot;:1},{&quot;vertices&quot;:[{&quot;x&quot;:-0.57,&quot;y&quot;:1.5,&quot;z&quot;:0.75},{&quot;x&quot;:-0.57,&quot;y&quot;:1.52,&quot;z&quot;:0.75},{&quot;x&quot;:-0.57,&quot;y&quot;:1.50618,&quot;z&quot;:0.769021},{&quot;x&quot;:-0.57,&quot;y&quot;:1.48382,&quot;z&quot;:0.761756},{&quot;x&quot;:-0.57,&quot;y&quot;:1.48382,&quot;z&quot;:0.738244},{&quot;x&quot;:-0.57,&quot;y&quot;:1.50618,&quot;z&quot;:0.730979},{&quot;x&quot;:0,&quot;y&quot;:1.52,&quot;z&quot;:0.75},{&quot;x&quot;:1.16471e-18,&quot;y&quot;:1.50618,&quot;z&quot;:0.769021},{&quot;x&quot;:7.19829e-19,&quot;y&quot;:1.48382,&quot;z&quot;:0.761756},{&quot;x&quot;:-7.19829e-19,&quot;y&quot;:1.48382,&quot;z&quot;:0.738244},{&quot;x&quot;:-1.16471e-18,&quot;y&quot;:1.50618,&quot;z&quot;:0.730979},{&quot;x&quot;:0,&quot;y&quot;:1.5,&quot;z&quot;:0.75}], &quot;faces&quot;:[[0,2,1],[0,3,2],[0,4,3],[0,5,4],[0,1,5],[1,2,7,6],[2,3,8,7],[3,4,9,8],[4,5,10,9],[5,1,6,10],[6,7,11],[7,8,11],[8,9,11],[9,10,11],[10,6,11]], &quot;color&quot;:&quot;#0000ff&quot;, &quot;opacity&quot;:1},{&quot;vertices&quot;:[{&quot;x&quot;:-0.75,&quot;y&quot;:1.5,&quot;z&quot;:0.75},{&quot;x&quot;:-0.57,&quot;y&quot;:1.56,&quot;z&quot;:0.75},{&quot;x&quot;:-0.57,&quot;y&quot;:1.51854,&quot;z&quot;:0.807063},{&quot;x&quot;:-0.57,&quot;y&quot;:1.45146,&quot;z&quot;:0.785267},{&quot;x&quot;:-0.57,&quot;y&quot;:1.45146,&quot;z&quot;:0.714733},{&quot;x&quot;:-0.57,&quot;y&quot;:1.51854,&quot;z&quot;:0.692937},{&quot;x&quot;:-0.57,&quot;y&quot;:1.5,&quot;z&quot;:0.75}], &quot;faces&quot;:[[0,2,1],[0,3,2],[0,4,3],[0,5,4],[0,1,5],[1,2,6],[2,3,6],[3,4,6],[4,5,6],[5,1,6]], &quot;color&quot;:&quot;#0000ff&quot;, &quot;opacity&quot;:1},{&quot;vertices&quot;:[{&quot;x&quot;:-0.57,&quot;y&quot;:1.5,&quot;z&quot;:1.5},{&quot;x&quot;:-0.57,&quot;y&quot;:1.52,&quot;z&quot;:1.5},{&quot;x&quot;:-0.57,&quot;y&quot;:1.50618,&quot;z&quot;:1.51902},{&quot;x&quot;:-0.57,&quot;y&quot;:1.48382,&quot;z&quot;:1.51176},{&quot;x&quot;:-0.57,&quot;y&quot;:1.48382,&quot;z&quot;:1.48824},{&quot;x&quot;:-0.57,&quot;y&quot;:1.50618,&quot;z&quot;:1.48098},{&quot;x&quot;:0,&quot;y&quot;:1.52,&quot;z&quot;:1.5},{&quot;x&quot;:1.16471e-18,&quot;y&quot;:1.50618,&quot;z&quot;:1.51902},{&quot;x&quot;:7.19829e-19,&quot;y&quot;:1.48382,&quot;z&quot;:1.51176},{&quot;x&quot;:-7.19829e-19,&quot;y&quot;:1.48382,&quot;z&quot;:1.48824},{&quot;x&quot;:-1.16471e-18,&quot;y&quot;:1.50618,&quot;z&quot;:1.48098},{&quot;x&quot;:0,&quot;y&quot;:1.5,&quot;z&quot;:1.5}], &quot;faces&quot;:[[0,2,1],[0,3,2],[0,4,3],[0,5,4],[0,1,5],[1,2,7,6],[2,3,8,7],[3,4,9,8],[4,5,10,9],[5,1,6,10],[6,7,11],[7,8,11],[8,9,11],[9,10,11],[10,6,11]], &quot;color&quot;:&quot;#0000ff&quot;, &quot;opacity&quot;:1},{&quot;vertices&quot;:[{&quot;x&quot;:-0.75,&quot;y&quot;:1.5,&quot;z&quot;:1.5},{&quot;x&quot;:-0.57,&quot;y&quot;:1.56,&quot;z&quot;:1.5},{&quot;x&quot;:-0.57,&quot;y&quot;:1.51854,&quot;z&quot;:1.55706},{&quot;x&quot;:-0.57,&quot;y&quot;:1.45146,&quot;z&quot;:1.53527},{&quot;x&quot;:-0.57,&quot;y&quot;:1.45146,&quot;z&quot;:1.46473},{&quot;x&quot;:-0.57,&quot;y&quot;:1.51854,&quot;z&quot;:1.44294},{&quot;x&quot;:-0.57,&quot;y&quot;:1.5,&quot;z&quot;:1.5}], &quot;faces&quot;:[[0,2,1],[0,3,2],[0,4,3],[0,5,4],[0,1,5],[1,2,6],[2,3,6],[3,4,6],[4,5,6],[5,1,6]], &quot;color&quot;:&quot;#0000ff&quot;, &quot;opacity&quot;:1},{&quot;vertices&quot;:[{&quot;x&quot;:1.36147,&quot;y&quot;:-1.19426,&quot;z&quot;:-1.09512},{&quot;x&quot;:1.35755,&quot;y&quot;:-1.17622,&quot;z&quot;:-1.10282},{&quot;x&quot;:1.37182,&quot;y&quot;:-1.19242,&quot;z&quot;:-1.11214},{&quot;x&quot;:1.37179,&quot;y&quot;:-1.21116,&quot;z&quot;:-1.09794},{&quot;x&quot;:1.3575,&quot;y&quot;:-1.20655,&quot;z&quot;:-1.07985},{&quot;x&quot;:1.3487,&quot;y&quot;:-1.18496,&quot;z&quot;:-1.08286},{&quot;x&quot;:0.746077,&quot;y&quot;:-1.48196,&quot;z&quot;:-1.5077},{&quot;x&quot;:0.760346,&quot;y&quot;:-1.49816,&quot;z&quot;:-1.51702},{&quot;x&quot;:0.760318,&quot;y&quot;:-1.5169,&quot;z&quot;:-1.50282},{&quot;x&quot;:0.746031,&quot;y&quot;:-1.51229,&quot;z&quot;:-1.48473},{&quot;x&quot;:0.737229,&quot;y&quot;:-1.49069,&quot;z&quot;:-1.48774},{&quot;x&quot;:0.75,&quot;y&quot;:-1.5,&quot;z&quot;:-1.5}], &quot;faces&quot;:[[0,2,1],[0,3,2],[0,4,3],[0,5,4],[0,1,5],[1,2,7,6],[2,3,8,7],[3,4,9,8],[4,5,10,9],[5,1,6,10],[6,7,11],[7,8,11],[8,9,11],[9,10,11],[10,6,11]], &quot;color&quot;:&quot;#0000ff&quot;, &quot;opacity&quot;:1},{&quot;vertices&quot;:[{&quot;x&quot;:1.5,&quot;y&quot;:-1.125,&quot;z&quot;:-1.0034},{&quot;x&quot;:1.3497,&quot;y&quot;:-1.14015,&quot;z&quot;:-1.11821},{&quot;x&quot;:1.39251,&quot;y&quot;:-1.18873,&quot;z&quot;:-1.14617},{&quot;x&quot;:1.39243,&quot;y&quot;:-1.24496,&quot;z&quot;:-1.10359},{&quot;x&quot;:1.34957,&quot;y&quot;:-1.23112,&quot;z&quot;:-1.0493},{&quot;x&quot;:1.32316,&quot;y&quot;:-1.16635,&quot;z&quot;:-1.05834},{&quot;x&quot;:1.36147,&quot;y&quot;:-1.19426,&quot;z&quot;:-1.09512}], &quot;faces&quot;:[[0,2,1],[0,3,2],[0,4,3],[0,5,4],[0,1,5],[1,2,6],[2,3,6],[3,4,6],[4,5,6],[5,1,6]], &quot;color&quot;:&quot;#0000ff&quot;, &quot;opacity&quot;:1},{&quot;vertices&quot;:[{&quot;x&quot;:1.35294,&quot;y&quot;:-1.19853,&quot;z&quot;:-0.449681},{&quot;x&quot;:1.34819,&quot;y&quot;:-1.1809,&quot;z&quot;:-0.457851},{&quot;x&quot;:1.36147,&quot;y&quot;:-1.1976,&quot;z&quot;:-0.467746},{&quot;x&quot;:1.36295,&quot;y&quot;:-1.21558,&quot;z&quot;:-0.452675},{&quot;x&quot;:1.3506,&quot;y&quot;:-1.21,&quot;z&quot;:-0.433466},{&quot;x&quot;:1.34147,&quot;y&quot;:-1.18857,&quot;z&quot;:-0.436665},{&quot;x&quot;:0.745256,&quot;y&quot;:-1.48237,&quot;z&quot;:-0.75817},{&quot;x&quot;:0.758531,&quot;y&quot;:-1.49906,&quot;z&quot;:-0.768065},{&quot;x&quot;:0.760017,&quot;y&quot;:-1.51705,&quot;z&quot;:-0.752995},{&quot;x&quot;:0.74766,&quot;y&quot;:-1.51147,&quot;z&quot;:-0.733786},{&quot;x&quot;:0.738537,&quot;y&quot;:-1.49004,&quot;z&quot;:-0.736984},{&quot;x&quot;:0.75,&quot;y&quot;:-1.5,&quot;z&quot;:-0.75}], &quot;faces&quot;:[[0,2,1],[0,3,2],[0,4,3],[0,5,4],[0,1,5],[1,2,7,6],[2,3,8,7],[3,4,9,8],[4,5,10,9],[5,1,6,10],[6,7,11],[7,8,11],[8,9,11],[9,10,11],[10,6,11]], &quot;color&quot;:&quot;#0000ff&quot;, &quot;opacity&quot;:1},{&quot;vertices&quot;:[{&quot;x&quot;:1.5,&quot;y&quot;:-1.125,&quot;z&quot;:-0.37643},{&quot;x&quot;:1.3387,&quot;y&quot;:-1.14565,&quot;z&quot;:-0.474191},{&quot;x&quot;:1.37853,&quot;y&quot;:-1.19573,&quot;z&quot;:-0.503876},{&quot;x&quot;:1.38299,&quot;y&quot;:-1.24968,&quot;z&quot;:-0.458665},{&quot;x&quot;:1.34592,&quot;y&quot;:-1.23295,&quot;z&quot;:-0.401037},{&quot;x&quot;:1.31855,&quot;y&quot;:-1.16865,&quot;z&quot;:-0.410633},{&quot;x&quot;:1.35294,&quot;y&quot;:-1.19853,&quot;z&quot;:-0.449681}], &quot;faces&quot;:[[0,2,1],[0,3,2],[0,4,3],[0,5,4],[0,1,5],[1,2,6],[2,3,6],[3,4,6],[4,5,6],[5,1,6]], &quot;color&quot;:&quot;#0000ff&quot;, &quot;opacity&quot;:1},{&quot;vertices&quot;:[{&quot;x&quot;:1.339,&quot;y&quot;:-1.2055,&quot;z&quot;:4.03231e-17},{&quot;x&quot;:1.331,&quot;y&quot;:-1.1895,&quot;z&quot;:-0.00894427},{&quot;x&quot;:1.34034,&quot;y&quot;:-1.20816,&quot;z&quot;:-0.0197769},{&quot;x&quot;:1.34783,&quot;y&quot;:-1.22315,&quot;z&quot;:-0.00327855},{&quot;x&quot;:1.34312,&quot;y&quot;:-1.21374,&quot;z&quot;:0.0177507},{&quot;x&quot;:1.33273,&quot;y&quot;:-1.19295,&quot;z&quot;:0.0142491},{&quot;x&quot;:0.742,&quot;y&quot;:-1.484,&quot;z&quot;:-0.00894427},{&quot;x&quot;:0.751332,&quot;y&quot;:-1.50266,&quot;z&quot;:-0.0197769},{&quot;x&quot;:0.758823,&quot;y&quot;:-1.51765,&quot;z&quot;:-0.00327855},{&quot;x&quot;:0.754121,&quot;y&quot;:-1.50824,&quot;z&quot;:0.0177507},{&quot;x&quot;:0.743724,&quot;y&quot;:-1.48745,&quot;z&quot;:0.0142491},{&quot;x&quot;:0.75,&quot;y&quot;:-1.5,&quot;z&quot;:0}], &quot;faces&quot;:[[0,2,1],[0,3,2],[0,4,3],[0,5,4],[0,1,5],[1,2,7,6],[2,3,8,7],[3,4,9,8],[4,5,10,9],[5,1,6,10],[6,7,11],[7,8,11],[8,9,11],[9,10,11],[10,6,11]], &quot;color&quot;:&quot;#0000ff&quot;, &quot;opacity&quot;:1},{&quot;vertices&quot;:[{&quot;x&quot;:1.5,&quot;y&quot;:-1.125,&quot;z&quot;:5.13449e-17},{&quot;x&quot;:1.315,&quot;y&quot;:-1.1575,&quot;z&quot;:-0.0268328},{&quot;x&quot;:1.343,&quot;y&quot;:-1.21349,&quot;z&quot;:-0.0593308},{&quot;x&quot;:1.36547,&quot;y&quot;:-1.25844,&quot;z&quot;:-0.00983566},{&quot;x&quot;:1.35137,&quot;y&quot;:-1.23022,&quot;z&quot;:0.0532521},{&quot;x&quot;:1.32017,&quot;y&quot;:-1.16784,&quot;z&quot;:0.0427473},{&quot;x&quot;:1.339,&quot;y&quot;:-1.2055,&quot;z&quot;:4.03231e-17}], &quot;faces&quot;:[[0,2,1],[0,3,2],[0,4,3],[0,5,4],[0,1,5],[1,2,6],[2,3,6],[3,4,6],[4,5,6],[5,1,6]], &quot;color&quot;:&quot;#0000ff&quot;, &quot;opacity&quot;:1},{&quot;vertices&quot;:[{&quot;x&quot;:1.35294,&quot;y&quot;:-1.19853,&quot;z&quot;:0.449681},{&quot;x&quot;:1.34168,&quot;y&quot;:-1.18416,&quot;z&quot;:0.44151},{&quot;x&quot;:1.34707,&quot;y&quot;:-1.20479,&quot;z&quot;:0.431615},{&quot;x&quot;:1.36057,&quot;y&quot;:-1.21677,&quot;z&quot;:0.446686},{&quot;x&quot;:1.36352,&quot;y&quot;:-1.20354,&quot;z&quot;:0.465895},{&quot;x&quot;:1.35185,&quot;y&quot;:-1.18339,&quot;z&quot;:0.462696},{&quot;x&quot;:0.738744,&quot;y&quot;:-1.48563,&quot;z&quot;:0.74183},{&quot;x&quot;:0.744134,&quot;y&quot;:-1.50626,&quot;z&quot;:0.731935},{&quot;x&quot;:0.75763,&quot;y&quot;:-1.51824,&quot;z&quot;:0.747005},{&quot;x&quot;:0.760582,&quot;y&quot;:-1.50501,&quot;z&quot;:0.766214},{&quot;x&quot;:0.74891,&quot;y&quot;:-1.48485,&quot;z&quot;:0.763016},{&quot;x&quot;:0.75,&quot;y&quot;:-1.5,&quot;z&quot;:0.75}], &quot;faces&quot;:[[0,2,1],[0,3,2],[0,4,3],[0,5,4],[0,1,5],[1,2,7,6],[2,3,8,7],[3,4,9,8],[4,5,10,9],[5,1,6,10],[6,7,11],[7,8,11],[8,9,11],[9,10,11],[10,6,11]], &quot;color&quot;:&quot;#0000ff&quot;, &quot;opacity&quot;:1},{&quot;vertices&quot;:[{&quot;x&quot;:1.5,&quot;y&quot;:-1.125,&quot;z&quot;:0.37643},{&quot;x&quot;:1.31917,&quot;y&quot;:-1.15541,&quot;z&quot;:0.42517},{&quot;x&quot;:1.33534,&quot;y&quot;:-1.21732,&quot;z&quot;:0.395485},{&quot;x&quot;:1.37583,&quot;y&quot;:-1.25326,&quot;z&quot;:0.440696},{&quot;x&quot;:1.38468,&quot;y&quot;:-1.21357,&quot;z&quot;:0.498324},{&quot;x&quot;:1.34967,&quot;y&quot;:-1.15309,&quot;z&quot;:0.488728},{&quot;x&quot;:1.35294,&quot;y&quot;:-1.19853,&quot;z&quot;:0.449681}], &quot;faces&quot;:[[0,2,1],[0,3,2],[0,4,3],[0,5,4],[0,1,5],[1,2,6],[2,3,6],[3,4,6],[4,5,6],[5,1,6]], &quot;color&quot;:&quot;#0000ff&quot;, &quot;opacity&quot;:1},{&quot;vertices&quot;:[{&quot;x&quot;:1.36147,&quot;y&quot;:-1.19426,&quot;z&quot;:1.09512},{&quot;x&quot;:1.3494,&quot;y&quot;:-1.1803,&quot;z&quot;:1.08743},{&quot;x&quot;:1.35379,&quot;y&quot;:-1.20143,&quot;z&quot;:1.07811},{&quot;x&quot;:1.3688,&quot;y&quot;:-1.21266,&quot;z&quot;:1.0923},{&quot;x&quot;:1.37368,&quot;y&quot;:-1.19846,&quot;z&quot;:1.1104},{&quot;x&quot;:1.36169,&quot;y&quot;:-1.17846,&quot;z&quot;:1.10738},{&quot;x&quot;:0.737923,&quot;y&quot;:-1.48604,&quot;z&quot;:1.4923},{&quot;x&quot;:0.742318,&quot;y&quot;:-1.50717,&quot;z&quot;:1.48298},{&quot;x&quot;:0.757329,&quot;y&quot;:-1.51839,&quot;z&quot;:1.49718},{&quot;x&quot;:0.762211,&quot;y&quot;:-1.5042,&quot;z&quot;:1.51527},{&quot;x&quot;:0.750218,&quot;y&quot;:-1.4842,&quot;z&quot;:1.51226},{&quot;x&quot;:0.75,&quot;y&quot;:-1.5,&quot;z&quot;:1.5}], &quot;faces&quot;:[[0,2,1],[0,3,2],[0,4,3],[0,5,4],[0,1,5],[1,2,7,6],[2,3,8,7],[3,4,9,8],[4,5,10,9],[5,1,6,10],[6,7,11],[7,8,11],[8,9,11],[9,10,11],[10,6,11]], &quot;color&quot;:&quot;#0000ff&quot;, &quot;opacity&quot;:1},{&quot;vertices&quot;:[{&quot;x&quot;:1.5,&quot;y&quot;:-1.125,&quot;z&quot;:1.0034},{&quot;x&quot;:1.32524,&quot;y&quot;:-1.15238,&quot;z&quot;:1.07204},{&quot;x&quot;:1.33843,&quot;y&quot;:-1.21578,&quot;z&quot;:1.04407},{&quot;x&quot;:1.38346,&quot;y&quot;:-1.24944,&quot;z&quot;:1.08666},{&quot;x&quot;:1.39811,&quot;y&quot;:-1.20685,&quot;z&quot;:1.14094},{&quot;x&quot;:1.36213,&quot;y&quot;:-1.14686,&quot;z&quot;:1.1319},{&quot;x&quot;:1.36147,&quot;y&quot;:-1.19426,&quot;z&quot;:1.09512}], &quot;faces&quot;:[[0,2,1],[0,3,2],[0,4,3],[0,5,4],[0,1,5],[1,2,6],[2,3,6],[3,4,6],[4,5,6],[5,1,6]], &quot;color&quot;:&quot;#0000ff&quot;, &quot;opacity&quot;:1},{&quot;vertices&quot;:[{&quot;x&quot;:1.02094,&quot;y&quot;:-0.479055,&quot;z&quot;:-1.23009},{&quot;x&quot;:1.0167,&quot;y&quot;:-0.463296,&quot;z&quot;:-1.24165},{&quot;x&quot;:1.03462,&quot;y&quot;:-0.478219,&quot;z&quot;:-1.24466},{&quot;x&quot;:1.03364,&quot;y&quot;:-0.494297,&quot;z&quot;:-1.22753},{&quot;x&quot;:1.01511,&quot;y&quot;:-0.489311,&quot;z&quot;:-1.21394},{&quot;x&quot;:1.00465,&quot;y&quot;:-0.470152,&quot;z&quot;:-1.22266},{&quot;x&quot;:0.745759,&quot;y&quot;:-0.734241,&quot;z&quot;:-1.51156},{&quot;x&quot;:0.763677,&quot;y&quot;:-0.749164,&quot;z&quot;:-1.51457},{&quot;x&quot;:0.762694,&quot;y&quot;:-0.765242,&quot;z&quot;:-1.49744},{&quot;x&quot;:0.744168,&quot;y&quot;:-0.760256,&quot;z&quot;:-1.48385},{&quot;x&quot;:0.733702,&quot;y&quot;:-0.741097,&quot;z&quot;:-1.49258},{&quot;x&quot;:0.75,&quot;y&quot;:-0.75,&quot;z&quot;:-1.5}], &quot;faces&quot;:[[0,2,1],[0,3,2],[0,4,3],[0,5,4],[0,1,5],[1,2,7,6],[2,3,8,7],[3,4,9,8],[4,5,10,9],[5,1,6,10],[6,7,11],[7,8,11],[8,9,11],[9,10,11],[10,6,11]], &quot;color&quot;:&quot;#0000ff&quot;, &quot;opacity&quot;:1},{&quot;vertices&quot;:[{&quot;x&quot;:1.125,&quot;y&quot;:-0.375,&quot;z&quot;:-1.12643},{&quot;x&quot;:1.00822,&quot;y&quot;:-0.431779,&quot;z&quot;:-1.26477},{&quot;x&quot;:1.06198,&quot;y&quot;:-0.476547,&quot;z&quot;:-1.27379},{&quot;x&quot;:1.05903,&quot;y&quot;:-0.524781,&quot;z&quot;:-1.22241},{&quot;x&quot;:1.00345,&quot;y&quot;:-0.509824,&quot;z&quot;:-1.18164},{&quot;x&quot;:0.972051,&quot;y&quot;:-0.452345,&quot;z&quot;:-1.20782},{&quot;x&quot;:1.02094,&quot;y&quot;:-0.479055,&quot;z&quot;:-1.23009}], &quot;faces&quot;:[[0,2,1],[0,3,2],[0,4,3],[0,5,4],[0,1,5],[1,2,6],[2,3,6],[3,4,6],[4,5,6],[5,1,6]], &quot;color&quot;:&quot;#0000ff&quot;, &quot;opacity&quot;:1},{&quot;vertices&quot;:[{&quot;x&quot;:1.00626,&quot;y&quot;:-0.493738,&quot;z&quot;:-0.610091},{&quot;x&quot;:0.999863,&quot;y&quot;:-0.480137,&quot;z&quot;:-0.623284},{&quot;x&quot;:1.01722,&quot;y&quot;:-0.49562,&quot;z&quot;:-0.626715},{&quot;x&quot;:1.01943,&quot;y&quot;:-0.508503,&quot;z&quot;:-0.607172},{&quot;x&quot;:1.00344,&quot;y&quot;:-0.500981,&quot;z&quot;:-0.591662},{&quot;x&quot;:0.991349,&quot;y&quot;:-0.48345,&quot;z&quot;:-0.60162},{&quot;x&quot;:0.743601,&quot;y&quot;:-0.736399,&quot;z&quot;:-0.763193},{&quot;x&quot;:0.760959,&quot;y&quot;:-0.751882,&quot;z&quot;:-0.766624},{&quot;x&quot;:0.763171,&quot;y&quot;:-0.764765,&quot;z&quot;:-0.747081},{&quot;x&quot;:0.747182,&quot;y&quot;:-0.757243,&quot;z&quot;:-0.731572},{&quot;x&quot;:0.735087,&quot;y&quot;:-0.739712,&quot;z&quot;:-0.741529},{&quot;x&quot;:0.75,&quot;y&quot;:-0.75,&quot;z&quot;:-0.75}], &quot;faces&quot;:[[0,2,1],[0,3,2],[0,4,3],[0,5,4],[0,1,5],[1,2,7,6],[2,3,8,7],[3,4,9,8],[4,5,10,9],[5,1,6,10],[6,7,11],[7,8,11],[8,9,11],[9,10,11],[10,6,11]], &quot;color&quot;:&quot;#0000ff&quot;, &quot;opacity&quot;:1},{&quot;vertices&quot;:[{&quot;x&quot;:1.125,&quot;y&quot;:-0.375,&quot;z&quot;:-0.545264},{&quot;x&quot;:0.987066,&quot;y&quot;:-0.452934,&quot;z&quot;:-0.64967},{&quot;x&quot;:1.03914,&quot;y&quot;:-0.499385,&quot;z&quot;:-0.659964},{&quot;x&quot;:1.04578,&quot;y&quot;:-0.538033,&quot;z&quot;:-0.601334},{&quot;x&quot;:0.997807,&quot;y&quot;:-0.515467,&quot;z&quot;:-0.554806},{&quot;x&quot;:0.961523,&quot;y&quot;:-0.462873,&quot;z&quot;:-0.584679},{&quot;x&quot;:1.00626,&quot;y&quot;:-0.493738,&quot;z&quot;:-0.610091}], &quot;faces&quot;:[[0,2,1],[0,3,2],[0,4,3],[0,5,4],[0,1,5],[1,2,6],[2,3,6],[3,4,6],[4,5,6],[5,1,6]], &quot;color&quot;:&quot;#0000ff&quot;, &quot;opacity&quot;:1},{&quot;vertices&quot;:[{&quot;x&quot;:0.997721,&quot;y&quot;:-0.502279,&quot;z&quot;:2.14515e-17},{&quot;x&quot;:0.987721,&quot;y&quot;:-0.492279,&quot;z&quot;:-0.0141421},{&quot;x&quot;:1.00414,&quot;y&quot;:-0.5087,&quot;z&quot;:-0.0178201},{&quot;x&quot;:1.01169,&quot;y&quot;:-0.516247,&quot;z&quot;:0.00312869},{&quot;x&quot;:0.999933,&quot;y&quot;:-0.504492,&quot;z&quot;:0.0197538},{&quot;x&quot;:0.98512,&quot;y&quot;:-0.489678,&quot;z&quot;:0.00907981},{&quot;x&quot;:0.74,&quot;y&quot;:-0.74,&quot;z&quot;:-0.0141421},{&quot;x&quot;:0.75642,&quot;y&quot;:-0.75642,&quot;z&quot;:-0.0178201},{&quot;x&quot;:0.763968,&quot;y&quot;:-0.763968,&quot;z&quot;:0.00312869},{&quot;x&quot;:0.752212,&quot;y&quot;:-0.752212,&quot;z&quot;:0.0197538},{&quot;x&quot;:0.737399,&quot;y&quot;:-0.737399,&quot;z&quot;:0.00907981},{&quot;x&quot;:0.75,&quot;y&quot;:-0.75,&quot;z&quot;:0}], &quot;faces&quot;:[[0,2,1],[0,3,2],[0,4,3],[0,5,4],[0,1,5],[1,2,7,6],[2,3,8,7],[3,4,9,8],[4,5,10,9],[5,1,6,10],[6,7,11],[7,8,11],[8,9,11],[9,10,11],[10,6,11]], &quot;color&quot;:&quot;#0000ff&quot;, &quot;opacity&quot;:1},{&quot;vertices&quot;:[{&quot;x&quot;:1.125,&quot;y&quot;:-0.375,&quot;z&quot;:3.24734e-17},{&quot;x&quot;:0.967721,&quot;y&quot;:-0.472279,&quot;z&quot;:-0.0424264},{&quot;x&quot;:1.01698,&quot;y&quot;:-0.52154,&quot;z&quot;:-0.0534604},{&quot;x&quot;:1.03962,&quot;y&quot;:-0.544183,&quot;z&quot;:0.00938607},{&quot;x&quot;:1.00436,&quot;y&quot;:-0.508916,&quot;z&quot;:0.0592613},{&quot;x&quot;:0.959919,&quot;y&quot;:-0.464477,&quot;z&quot;:0.0272394},{&quot;x&quot;:0.997721,&quot;y&quot;:-0.502279,&quot;z&quot;:2.14515e-17}], &quot;faces&quot;:[[0,2,1],[0,3,2],[0,4,3],[0,5,4],[0,1,5],[1,2,6],[2,3,6],[3,4,6],[4,5,6],[5,1,6]], &quot;color&quot;:&quot;#0000ff&quot;, &quot;opacity&quot;:1},{&quot;vertices&quot;:[{&quot;x&quot;:1.00626,&quot;y&quot;:-0.493738,&quot;z&quot;:0.610091},{&quot;x&quot;:0.99266,&quot;y&quot;:-0.48734,&quot;z&quot;:0.596898},{&quot;x&quot;:1.00814,&quot;y&quot;:-0.504697,&quot;z&quot;:0.593466},{&quot;x&quot;:1.02103,&quot;y&quot;:-0.506909,&quot;z&quot;:0.613009},{&quot;x&quot;:1.0135,&quot;y&quot;:-0.49092,&quot;z&quot;:0.628519},{&quot;x&quot;:0.995973,&quot;y&quot;:-0.478825,&quot;z&quot;:0.618561},{&quot;x&quot;:0.736399,&quot;y&quot;:-0.743601,&quot;z&quot;:0.736807},{&quot;x&quot;:0.751882,&quot;y&quot;:-0.760959,&quot;z&quot;:0.733376},{&quot;x&quot;:0.764765,&quot;y&quot;:-0.763171,&quot;z&quot;:0.752919},{&quot;x&quot;:0.757243,&quot;y&quot;:-0.747182,&quot;z&quot;:0.768428},{&quot;x&quot;:0.739712,&quot;y&quot;:-0.735087,&quot;z&quot;:0.758471},{&quot;x&quot;:0.75,&quot;y&quot;:-0.75,&quot;z&quot;:0.75}], &quot;faces&quot;:[[0,2,1],[0,3,2],[0,4,3],[0,5,4],[0,1,5],[1,2,7,6],[2,3,8,7],[3,4,9,8],[4,5,10,9],[5,1,6,10],[6,7,11],[7,8,11],[8,9,11],[9,10,11],[10,6,11]], &quot;color&quot;:&quot;#0000ff&quot;, &quot;opacity&quot;:1},{&quot;vertices&quot;:[{&quot;x&quot;:1.125,&quot;y&quot;:-0.375,&quot;z&quot;:0.545264},{&quot;x&quot;:0.965457,&quot;y&quot;:-0.474543,&quot;z&quot;:0.570511},{&quot;x&quot;:1.01191,&quot;y&quot;:-0.526614,&quot;z&quot;:0.560218},{&quot;x&quot;:1.05056,&quot;y&quot;:-0.533252,&quot;z&quot;:0.618847},{&quot;x&quot;:1.02799,&quot;y&quot;:-0.485283,&quot;z&quot;:0.665375},{&quot;x&quot;:0.975396,&quot;y&quot;:-0.448999,&quot;z&quot;:0.635502},{&quot;x&quot;:1.00626,&quot;y&quot;:-0.493738,&quot;z&quot;:0.610091}], &quot;faces&quot;:[[0,2,1],[0,3,2],[0,4,3],[0,5,4],[0,1,5],[1,2,6],[2,3,6],[3,4,6],[4,5,6],[5,1,6]], &quot;color&quot;:&quot;#0000ff&quot;, &quot;opacity&quot;:1},{&quot;vertices&quot;:[{&quot;x&quot;:1.02094,&quot;y&quot;:-0.479055,&quot;z&quot;:1.23009},{&quot;x&quot;:1.00519,&quot;y&quot;:-0.474814,&quot;z&quot;:1.21853},{&quot;x&quot;:1.02011,&quot;y&quot;:-0.492732,&quot;z&quot;:1.21552},{&quot;x&quot;:1.03619,&quot;y&quot;:-0.491749,&quot;z&quot;:1.23265},{&quot;x&quot;:1.0312,&quot;y&quot;:-0.473224,&quot;z&quot;:1.24624},{&quot;x&quot;:1.01204,&quot;y&quot;:-0.462757,&quot;z&quot;:1.23751},{&quot;x&quot;:0.734241,&quot;y&quot;:-0.745759,&quot;z&quot;:1.48844},{&quot;x&quot;:0.749164,&quot;y&quot;:-0.763677,&quot;z&quot;:1.48543},{&quot;x&quot;:0.765242,&quot;y&quot;:-0.762694,&quot;z&quot;:1.50256},{&quot;x&quot;:0.760256,&quot;y&quot;:-0.744168,&quot;z&quot;:1.51615},{&quot;x&quot;:0.741097,&quot;y&quot;:-0.733702,&quot;z&quot;:1.50742},{&quot;x&quot;:0.75,&quot;y&quot;:-0.75,&quot;z&quot;:1.5}], &quot;faces&quot;:[[0,2,1],[0,3,2],[0,4,3],[0,5,4],[0,1,5],[1,2,7,6],[2,3,8,7],[3,4,9,8],[4,5,10,9],[5,1,6,10],[6,7,11],[7,8,11],[8,9,11],[9,10,11],[10,6,11]], &quot;color&quot;:&quot;#0000ff&quot;, &quot;opacity&quot;:1},{&quot;vertices&quot;:[{&quot;x&quot;:1.125,&quot;y&quot;:-0.375,&quot;z&quot;:1.12643},{&quot;x&quot;:0.973668,&quot;y&quot;:-0.466332,&quot;z&quot;:1.1954},{&quot;x&quot;:1.01844,&quot;y&quot;:-0.520086,&quot;z&quot;:1.18638},{&quot;x&quot;:1.06667,&quot;y&quot;:-0.517137,&quot;z&quot;:1.23776},{&quot;x&quot;:1.05171,&quot;y&quot;:-0.46156,&quot;z&quot;:1.27854},{&quot;x&quot;:0.994235,&quot;y&quot;:-0.430161,&quot;z&quot;:1.25236},{&quot;x&quot;:1.02094,&quot;y&quot;:-0.479055,&quot;z&quot;:1.23009}], &quot;faces&quot;:[[0,2,1],[0,3,2],[0,4,3],[0,5,4],[0,1,5],[1,2,6],[2,3,6],[3,4,6],[4,5,6],[5,1,6]], &quot;color&quot;:&quot;#0000ff&quot;, &quot;opacity&quot;:1},{&quot;vertices&quot;:[{&quot;x&quot;:0.75,&quot;y&quot;:0.195,&quot;z&quot;:-1.5},{&quot;x&quot;:0.75,&quot;y&quot;:0.195,&quot;z&quot;:-1.52},{&quot;x&quot;:0.769021,&quot;y&quot;:0.195,&quot;z&quot;:-1.50618},{&quot;x&quot;:0.761756,&quot;y&quot;:0.195,&quot;z&quot;:-1.48382},{&quot;x&quot;:0.738244,&quot;y&quot;:0.195,&quot;z&quot;:-1.48382},{&quot;x&quot;:0.730979,&quot;y&quot;:0.195,&quot;z&quot;:-1.50618},{&quot;x&quot;:0.75,&quot;y&quot;:1.22465e-18,&quot;z&quot;:-1.52},{&quot;x&quot;:0.769021,&quot;y&quot;:3.78437e-19,&quot;z&quot;:-1.50618},{&quot;x&quot;:0.761756,&quot;y&quot;:-9.9076e-19,&quot;z&quot;:-1.48382},{&quot;x&quot;:0.738244,&quot;y&quot;:-9.9076e-19,&quot;z&quot;:-1.48382},{&quot;x&quot;:0.730979,&quot;y&quot;:3.78437e-19,&quot;z&quot;:-1.50618},{&quot;x&quot;:0.75,&quot;y&quot;:0,&quot;z&quot;:-1.5}], &quot;faces&quot;:[[0,2,1],[0,3,2],[0,4,3],[0,5,4],[0,1,5],[1,2,7,6],[2,3,8,7],[3,4,9,8],[4,5,10,9],[5,1,6,10],[6,7,11],[7,8,11],[8,9,11],[9,10,11],[10,6,11]], &quot;color&quot;:&quot;#0000ff&quot;, &quot;opacity&quot;:1},{&quot;vertices&quot;:[{&quot;x&quot;:0.75,&quot;y&quot;:0.375,&quot;z&quot;:-1.5},{&quot;x&quot;:0.75,&quot;y&quot;:0.195,&quot;z&quot;:-1.56},{&quot;x&quot;:0.807063,&quot;y&quot;:0.195,&quot;z&quot;:-1.51854},{&quot;x&quot;:0.785267,&quot;y&quot;:0.195,&quot;z&quot;:-1.45146},{&quot;x&quot;:0.714733,&quot;y&quot;:0.195,&quot;z&quot;:-1.45146},{&quot;x&quot;:0.692937,&quot;y&quot;:0.195,&quot;z&quot;:-1.51854},{&quot;x&quot;:0.75,&quot;y&quot;:0.195,&quot;z&quot;:-1.5}], &quot;faces&quot;:[[0,2,1],[0,3,2],[0,4,3],[0,5,4],[0,1,5],[1,2,6],[2,3,6],[3,4,6],[4,5,6],[5,1,6]], &quot;color&quot;:&quot;#0000ff&quot;, &quot;opacity&quot;:1},{&quot;vertices&quot;:[{&quot;x&quot;:0.75,&quot;y&quot;:0.195,&quot;z&quot;:-0.75},{&quot;x&quot;:0.75,&quot;y&quot;:0.195,&quot;z&quot;:-0.77},{&quot;x&quot;:0.769021,&quot;y&quot;:0.195,&quot;z&quot;:-0.75618},{&quot;x&quot;:0.761756,&quot;y&quot;:0.195,&quot;z&quot;:-0.73382},{&quot;x&quot;:0.738244,&quot;y&quot;:0.195,&quot;z&quot;:-0.73382},{&quot;x&quot;:0.730979,&quot;y&quot;:0.195,&quot;z&quot;:-0.75618},{&quot;x&quot;:0.75,&quot;y&quot;:1.22465e-18,&quot;z&quot;:-0.77},{&quot;x&quot;:0.769021,&quot;y&quot;:3.78437e-19,&quot;z&quot;:-0.75618},{&quot;x&quot;:0.761756,&quot;y&quot;:-9.9076e-19,&quot;z&quot;:-0.73382},{&quot;x&quot;:0.738244,&quot;y&quot;:-9.9076e-19,&quot;z&quot;:-0.73382},{&quot;x&quot;:0.730979,&quot;y&quot;:3.78437e-19,&quot;z&quot;:-0.75618},{&quot;x&quot;:0.75,&quot;y&quot;:0,&quot;z&quot;:-0.75}], &quot;faces&quot;:[[0,2,1],[0,3,2],[0,4,3],[0,5,4],[0,1,5],[1,2,7,6],[2,3,8,7],[3,4,9,8],[4,5,10,9],[5,1,6,10],[6,7,11],[7,8,11],[8,9,11],[9,10,11],[10,6,11]], &quot;color&quot;:&quot;#0000ff&quot;, &quot;opacity&quot;:1},{&quot;vertices&quot;:[{&quot;x&quot;:0.75,&quot;y&quot;:0.375,&quot;z&quot;:-0.75},{&quot;x&quot;:0.75,&quot;y&quot;:0.195,&quot;z&quot;:-0.81},{&quot;x&quot;:0.807063,&quot;y&quot;:0.195,&quot;z&quot;:-0.768541},{&quot;x&quot;:0.785267,&quot;y&quot;:0.195,&quot;z&quot;:-0.701459},{&quot;x&quot;:0.714733,&quot;y&quot;:0.195,&quot;z&quot;:-0.701459},{&quot;x&quot;:0.692937,&quot;y&quot;:0.195,&quot;z&quot;:-0.768541},{&quot;x&quot;:0.75,&quot;y&quot;:0.195,&quot;z&quot;:-0.75}], &quot;faces&quot;:[[0,2,1],[0,3,2],[0,4,3],[0,5,4],[0,1,5],[1,2,6],[2,3,6],[3,4,6],[4,5,6],[5,1,6]], &quot;color&quot;:&quot;#0000ff&quot;, &quot;opacity&quot;:1},{&quot;vertices&quot;:[{&quot;x&quot;:0.75,&quot;y&quot;:0.195,&quot;z&quot;:1.19403e-17},{&quot;x&quot;:0.75,&quot;y&quot;:0.195,&quot;z&quot;:-0.02},{&quot;x&quot;:0.769021,&quot;y&quot;:0.195,&quot;z&quot;:-0.00618034},{&quot;x&quot;:0.761756,&quot;y&quot;:0.195,&quot;z&quot;:0.0161803},{&quot;x&quot;:0.738244,&quot;y&quot;:0.195,&quot;z&quot;:0.0161803},{&quot;x&quot;:0.730979,&quot;y&quot;:0.195,&quot;z&quot;:-0.00618034},{&quot;x&quot;:0.75,&quot;y&quot;:1.22465e-18,&quot;z&quot;:-0.02},{&quot;x&quot;:0.769021,&quot;y&quot;:3.78437e-19,&quot;z&quot;:-0.00618034},{&quot;x&quot;:0.761756,&quot;y&quot;:-9.9076e-19,&quot;z&quot;:0.0161803},{&quot;x&quot;:0.738244,&quot;y&quot;:-9.9076e-19,&quot;z&quot;:0.0161803},{&quot;x&quot;:0.730979,&quot;y&quot;:3.78437e-19,&quot;z&quot;:-0.00618034},{&quot;x&quot;:0.75,&quot;y&quot;:0,&quot;z&quot;:0}], &quot;faces&quot;:[[0,2,1],[0,3,2],[0,4,3],[0,5,4],[0,1,5],[1,2,7,6],[2,3,8,7],[3,4,9,8],[4,5,10,9],[5,1,6,10],[6,7,11],[7,8,11],[8,9,11],[9,10,11],[10,6,11]], &quot;color&quot;:&quot;#0000ff&quot;, &quot;opacity&quot;:1},{&quot;vertices&quot;:[{&quot;x&quot;:0.75,&quot;y&quot;:0.375,&quot;z&quot;:2.29621e-17},{&quot;x&quot;:0.75,&quot;y&quot;:0.195,&quot;z&quot;:-0.06},{&quot;x&quot;:0.807063,&quot;y&quot;:0.195,&quot;z&quot;:-0.018541},{&quot;x&quot;:0.785267,&quot;y&quot;:0.195,&quot;z&quot;:0.048541},{&quot;x&quot;:0.714733,&quot;y&quot;:0.195,&quot;z&quot;:0.048541},{&quot;x&quot;:0.692937,&quot;y&quot;:0.195,&quot;z&quot;:-0.018541},{&quot;x&quot;:0.75,&quot;y&quot;:0.195,&quot;z&quot;:1.19403e-17}], &quot;faces&quot;:[[0,2,1],[0,3,2],[0,4,3],[0,5,4],[0,1,5],[1,2,6],[2,3,6],[3,4,6],[4,5,6],[5,1,6]], &quot;color&quot;:&quot;#0000ff&quot;, &quot;opacity&quot;:1},{&quot;vertices&quot;:[{&quot;x&quot;:0.75,&quot;y&quot;:0.195,&quot;z&quot;:0.75},{&quot;x&quot;:0.75,&quot;y&quot;:0.195,&quot;z&quot;:0.73},{&quot;x&quot;:0.769021,&quot;y&quot;:0.195,&quot;z&quot;:0.74382},{&quot;x&quot;:0.761756,&quot;y&quot;:0.195,&quot;z&quot;:0.76618},{&quot;x&quot;:0.738244,&quot;y&quot;:0.195,&quot;z&quot;:0.76618},{&quot;x&quot;:0.730979,&quot;y&quot;:0.195,&quot;z&quot;:0.74382},{&quot;x&quot;:0.75,&quot;y&quot;:1.22465e-18,&quot;z&quot;:0.73},{&quot;x&quot;:0.769021,&quot;y&quot;:3.78437e-19,&quot;z&quot;:0.74382},{&quot;x&quot;:0.761756,&quot;y&quot;:-9.9076e-19,&quot;z&quot;:0.76618},{&quot;x&quot;:0.738244,&quot;y&quot;:-9.9076e-19,&quot;z&quot;:0.76618},{&quot;x&quot;:0.730979,&quot;y&quot;:3.78437e-19,&quot;z&quot;:0.74382},{&quot;x&quot;:0.75,&quot;y&quot;:0,&quot;z&quot;:0.75}], &quot;faces&quot;:[[0,2,1],[0,3,2],[0,4,3],[0,5,4],[0,1,5],[1,2,7,6],[2,3,8,7],[3,4,9,8],[4,5,10,9],[5,1,6,10],[6,7,11],[7,8,11],[8,9,11],[9,10,11],[10,6,11]], &quot;color&quot;:&quot;#0000ff&quot;, &quot;opacity&quot;:1},{&quot;vertices&quot;:[{&quot;x&quot;:0.75,&quot;y&quot;:0.375,&quot;z&quot;:0.75},{&quot;x&quot;:0.75,&quot;y&quot;:0.195,&quot;z&quot;:0.69},{&quot;x&quot;:0.807063,&quot;y&quot;:0.195,&quot;z&quot;:0.731459},{&quot;x&quot;:0.785267,&quot;y&quot;:0.195,&quot;z&quot;:0.798541},{&quot;x&quot;:0.714733,&quot;y&quot;:0.195,&quot;z&quot;:0.798541},{&quot;x&quot;:0.692937,&quot;y&quot;:0.195,&quot;z&quot;:0.731459},{&quot;x&quot;:0.75,&quot;y&quot;:0.195,&quot;z&quot;:0.75}], &quot;faces&quot;:[[0,2,1],[0,3,2],[0,4,3],[0,5,4],[0,1,5],[1,2,6],[2,3,6],[3,4,6],[4,5,6],[5,1,6]], &quot;color&quot;:&quot;#0000ff&quot;, &quot;opacity&quot;:1},{&quot;vertices&quot;:[{&quot;x&quot;:0.75,&quot;y&quot;:0.195,&quot;z&quot;:1.5},{&quot;x&quot;:0.75,&quot;y&quot;:0.195,&quot;z&quot;:1.48},{&quot;x&quot;:0.769021,&quot;y&quot;:0.195,&quot;z&quot;:1.49382},{&quot;x&quot;:0.761756,&quot;y&quot;:0.195,&quot;z&quot;:1.51618},{&quot;x&quot;:0.738244,&quot;y&quot;:0.195,&quot;z&quot;:1.51618},{&quot;x&quot;:0.730979,&quot;y&quot;:0.195,&quot;z&quot;:1.49382},{&quot;x&quot;:0.75,&quot;y&quot;:1.22465e-18,&quot;z&quot;:1.48},{&quot;x&quot;:0.769021,&quot;y&quot;:3.78437e-19,&quot;z&quot;:1.49382},{&quot;x&quot;:0.761756,&quot;y&quot;:-9.9076e-19,&quot;z&quot;:1.51618},{&quot;x&quot;:0.738244,&quot;y&quot;:-9.9076e-19,&quot;z&quot;:1.51618},{&quot;x&quot;:0.730979,&quot;y&quot;:3.78437e-19,&quot;z&quot;:1.49382},{&quot;x&quot;:0.75,&quot;y&quot;:0,&quot;z&quot;:1.5}], &quot;faces&quot;:[[0,2,1],[0,3,2],[0,4,3],[0,5,4],[0,1,5],[1,2,7,6],[2,3,8,7],[3,4,9,8],[4,5,10,9],[5,1,6,10],[6,7,11],[7,8,11],[8,9,11],[9,10,11],[10,6,11]], &quot;color&quot;:&quot;#0000ff&quot;, &quot;opacity&quot;:1},{&quot;vertices&quot;:[{&quot;x&quot;:0.75,&quot;y&quot;:0.375,&quot;z&quot;:1.5},{&quot;x&quot;:0.75,&quot;y&quot;:0.195,&quot;z&quot;:1.44},{&quot;x&quot;:0.807063,&quot;y&quot;:0.195,&quot;z&quot;:1.48146},{&quot;x&quot;:0.785267,&quot;y&quot;:0.195,&quot;z&quot;:1.54854},{&quot;x&quot;:0.714733,&quot;y&quot;:0.195,&quot;z&quot;:1.54854},{&quot;x&quot;:0.692937,&quot;y&quot;:0.195,&quot;z&quot;:1.48146},{&quot;x&quot;:0.75,&quot;y&quot;:0.195,&quot;z&quot;:1.5}], &quot;faces&quot;:[[0,2,1],[0,3,2],[0,4,3],[0,5,4],[0,1,5],[1,2,6],[2,3,6],[3,4,6],[4,5,6],[5,1,6]], &quot;color&quot;:&quot;#0000ff&quot;, &quot;opacity&quot;:1},{&quot;vertices&quot;:[{&quot;x&quot;:0.479055,&quot;y&quot;:1.02094,&quot;z&quot;:-1.76991},{&quot;x&quot;:0.494814,&quot;y&quot;:1.02519,&quot;z&quot;:-1.78147},{&quot;x&quot;:0.487958,&quot;y&quot;:1.03724,&quot;z&quot;:-1.76249},{&quot;x&quot;:0.468799,&quot;y&quot;:1.02678,&quot;z&quot;:-1.75376},{&quot;x&quot;:0.463813,&quot;y&quot;:1.00825,&quot;z&quot;:-1.76735},{&quot;x&quot;:0.479891,&quot;y&quot;:1.00727,&quot;z&quot;:-1.78448},{&quot;x&quot;:0.765759,&quot;y&quot;:0.754241,&quot;z&quot;:-1.51156},{&quot;x&quot;:0.758903,&quot;y&quot;:0.766298,&quot;z&quot;:-1.49258},{&quot;x&quot;:0.739744,&quot;y&quot;:0.755832,&quot;z&quot;:-1.48385},{&quot;x&quot;:0.734758,&quot;y&quot;:0.737306,&quot;z&quot;:-1.49744},{&quot;x&quot;:0.750836,&quot;y&quot;:0.736323,&quot;z&quot;:-1.51457},{&quot;x&quot;:0.75,&quot;y&quot;:0.75,&quot;z&quot;:-1.5}], &quot;faces&quot;:[[0,2,1],[0,3,2],[0,4,3],[0,5,4],[0,1,5],[1,2,7,6],[2,3,8,7],[3,4,9,8],[4,5,10,9],[5,1,6,10],[6,7,11],[7,8,11],[8,9,11],[9,10,11],[10,6,11]], &quot;color&quot;:&quot;#0000ff&quot;, &quot;opacity&quot;:1},{&quot;vertices&quot;:[{&quot;x&quot;:0.375,&quot;y&quot;:1.125,&quot;z&quot;:-1.87357},{&quot;x&quot;:0.526332,&quot;y&quot;:1.03367,&quot;z&quot;:-1.8046},{&quot;x&quot;:0.505765,&quot;y&quot;:1.06984,&quot;z&quot;:-1.74764},{&quot;x&quot;:0.448286,&quot;y&quot;:1.03844,&quot;z&quot;:-1.72146},{&quot;x&quot;:0.433329,&quot;y&quot;:0.982863,&quot;z&quot;:-1.76224},{&quot;x&quot;:0.481563,&quot;y&quot;:0.979914,&quot;z&quot;:-1.81362},{&quot;x&quot;:0.479055,&quot;y&quot;:1.02094,&quot;z&quot;:-1.76991}], &quot;faces&quot;:[[0,2,1],[0,3,2],[0,4,3],[0,5,4],[0,1,5],[1,2,6],[2,3,6],[3,4,6],[4,5,6],[5,1,6]], &quot;color&quot;:&quot;#0000ff&quot;, &quot;opacity&quot;:1},{&quot;vertices&quot;:[{&quot;x&quot;:0.493738,&quot;y&quot;:1.00626,&quot;z&quot;:-0.889909},{&quot;x&quot;:0.50734,&quot;y&quot;:1.01266,&quot;z&quot;:-0.903102},{&quot;x&quot;:0.504027,&quot;y&quot;:1.02117,&quot;z&quot;:-0.881439},{&quot;x&quot;:0.486495,&quot;y&quot;:1.00908,&quot;z&quot;:-0.871481},{&quot;x&quot;:0.478973,&quot;y&quot;:0.993091,&quot;z&quot;:-0.886991},{&quot;x&quot;:0.491856,&quot;y&quot;:0.995303,&quot;z&quot;:-0.906534},{&quot;x&quot;:0.763601,&quot;y&quot;:0.756399,&quot;z&quot;:-0.763193},{&quot;x&quot;:0.760288,&quot;y&quot;:0.764913,&quot;z&quot;:-0.741529},{&quot;x&quot;:0.742757,&quot;y&quot;:0.752818,&quot;z&quot;:-0.731572},{&quot;x&quot;:0.735235,&quot;y&quot;:0.736829,&quot;z&quot;:-0.747081},{&quot;x&quot;:0.748118,&quot;y&quot;:0.739041,&quot;z&quot;:-0.766624},{&quot;x&quot;:0.75,&quot;y&quot;:0.75,&quot;z&quot;:-0.75}], &quot;faces&quot;:[[0,2,1],[0,3,2],[0,4,3],[0,5,4],[0,1,5],[1,2,7,6],[2,3,8,7],[3,4,9,8],[4,5,10,9],[5,1,6,10],[6,7,11],[7,8,11],[8,9,11],[9,10,11],[10,6,11]], &quot;color&quot;:&quot;#0000ff&quot;, &quot;opacity&quot;:1},{&quot;vertices&quot;:[{&quot;x&quot;:0.375,&quot;y&quot;:1.125,&quot;z&quot;:-0.954736},{&quot;x&quot;:0.534543,&quot;y&quot;:1.02546,&quot;z&quot;:-0.929489},{&quot;x&quot;:0.524604,&quot;y&quot;:1.051,&quot;z&quot;:-0.864498},{&quot;x&quot;:0.47201,&quot;y&quot;:1.01472,&quot;z&quot;:-0.834625},{&quot;x&quot;:0.449444,&quot;y&quot;:0.966748,&quot;z&quot;:-0.881153},{&quot;x&quot;:0.488091,&quot;y&quot;:0.973386,&quot;z&quot;:-0.939782},{&quot;x&quot;:0.493738,&quot;y&quot;:1.00626,&quot;z&quot;:-0.889909}], &quot;faces&quot;:[[0,2,1],[0,3,2],[0,4,3],[0,5,4],[0,1,5],[1,2,6],[2,3,6],[3,4,6],[4,5,6],[5,1,6]], &quot;color&quot;:&quot;#0000ff&quot;, &quot;opacity&quot;:1},{&quot;vertices&quot;:[{&quot;x&quot;:0.502279,&quot;y&quot;:0.997721,&quot;z&quot;:2.14515e-17},{&quot;x&quot;:0.512279,&quot;y&quot;:1.00772,&quot;z&quot;:-0.0141421},{&quot;x&quot;:0.51488,&quot;y&quot;:1.01032,&quot;z&quot;:0.00907981},{&quot;x&quot;:0.500067,&quot;y&quot;:0.995508,&quot;z&quot;:0.0197538},{&quot;x&quot;:0.488311,&quot;y&quot;:0.983753,&quot;z&quot;:0.00312869},{&quot;x&quot;:0.495859,&quot;y&quot;:0.9913,&quot;z&quot;:-0.0178201},{&quot;x&quot;:0.76,&quot;y&quot;:0.76,&quot;z&quot;:-0.0141421},{&quot;x&quot;:0.762601,&quot;y&quot;:0.762601,&quot;z&quot;:0.00907981},{&quot;x&quot;:0.747788,&quot;y&quot;:0.747788,&quot;z&quot;:0.0197538},{&quot;x&quot;:0.736032,&quot;y&quot;:0.736032,&quot;z&quot;:0.00312869},{&quot;x&quot;:0.74358,&quot;y&quot;:0.74358,&quot;z&quot;:-0.0178201},{&quot;x&quot;:0.75,&quot;y&quot;:0.75,&quot;z&quot;:0}], &quot;faces&quot;:[[0,2,1],[0,3,2],[0,4,3],[0,5,4],[0,1,5],[1,2,7,6],[2,3,8,7],[3,4,9,8],[4,5,10,9],[5,1,6,10],[6,7,11],[7,8,11],[8,9,11],[9,10,11],[10,6,11]], &quot;color&quot;:&quot;#0000ff&quot;, &quot;opacity&quot;:1},{&quot;vertices&quot;:[{&quot;x&quot;:0.375,&quot;y&quot;:1.125,&quot;z&quot;:3.24734e-17},{&quot;x&quot;:0.532279,&quot;y&quot;:1.02772,&quot;z&quot;:-0.0424264},{&quot;x&quot;:0.540081,&quot;y&quot;:1.03552,&quot;z&quot;:0.0272394},{&quot;x&quot;:0.495642,&quot;y&quot;:0.991084,&quot;z&quot;:0.0592613},{&quot;x&quot;:0.460375,&quot;y&quot;:0.955817,&quot;z&quot;:0.00938607},{&quot;x&quot;:0.483018,&quot;y&quot;:0.97846,&quot;z&quot;:-0.0534604},{&quot;x&quot;:0.502279,&quot;y&quot;:0.997721,&quot;z&quot;:2.14515e-17}], &quot;faces&quot;:[[0,2,1],[0,3,2],[0,4,3],[0,5,4],[0,1,5],[1,2,6],[2,3,6],[3,4,6],[4,5,6],[5,1,6]], &quot;color&quot;:&quot;#0000ff&quot;, &quot;opacity&quot;:1},{&quot;vertices&quot;:[{&quot;x&quot;:0.493738,&quot;y&quot;:1.00626,&quot;z&quot;:0.889909},{&quot;x&quot;:0.500137,&quot;y&quot;:1.01986,&quot;z&quot;:0.876716},{&quot;x&quot;:0.508651,&quot;y&quot;:1.01655,&quot;z&quot;:0.89838},{&quot;x&quot;:0.496556,&quot;y&quot;:0.999019,&quot;z&quot;:0.908338},{&quot;x&quot;:0.480567,&quot;y&quot;:0.991497,&quot;z&quot;:0.892828},{&quot;x&quot;:0.48278,&quot;y&quot;:1.00438,&quot;z&quot;:0.873285},{&quot;x&quot;:0.756399,&quot;y&quot;:0.763601,&quot;z&quot;:0.736807},{&quot;x&quot;:0.764913,&quot;y&quot;:0.760288,&quot;z&quot;:0.758471},{&quot;x&quot;:0.752818,&quot;y&quot;:0.742757,&quot;z&quot;:0.768428},{&quot;x&quot;:0.736829,&quot;y&quot;:0.735235,&quot;z&quot;:0.752919},{&quot;x&quot;:0.739041,&quot;y&quot;:0.748118,&quot;z&quot;:0.733376},{&quot;x&quot;:0.75,&quot;y&quot;:0.75,&quot;z&quot;:0.75}], &quot;faces&quot;:[[0,2,1],[0,3,2],[0,4,3],[0,5,4],[0,1,5],[1,2,7,6],[2,3,8,7],[3,4,9,8],[4,5,10,9],[5,1,6,10],[6,7,11],[7,8,11],[8,9,11],[9,10,11],[10,6,11]], &quot;color&quot;:&quot;#0000ff&quot;, &quot;opacity&quot;:1},{&quot;vertices&quot;:[{&quot;x&quot;:0.375,&quot;y&quot;:1.125,&quot;z&quot;:0.954736},{&quot;x&quot;:0.512934,&quot;y&quot;:1.04707,&quot;z&quot;:0.85033},{&quot;x&quot;:0.538477,&quot;y&quot;:1.03713,&quot;z&quot;:0.915321},{&quot;x&quot;:0.502193,&quot;y&quot;:0.984533,&quot;z&quot;:0.945194},{&quot;x&quot;:0.454224,&quot;y&quot;:0.961967,&quot;z&quot;:0.898666},{&quot;x&quot;:0.460863,&quot;y&quot;:1.00062,&quot;z&quot;:0.840036},{&quot;x&quot;:0.493738,&quot;y&quot;:1.00626,&quot;z&quot;:0.889909}], &quot;faces&quot;:[[0,2,1],[0,3,2],[0,4,3],[0,5,4],[0,1,5],[1,2,6],[2,3,6],[3,4,6],[4,5,6],[5,1,6]], &quot;color&quot;:&quot;#0000ff&quot;, &quot;opacity&quot;:1},{&quot;vertices&quot;:[{&quot;x&quot;:0.479055,&quot;y&quot;:1.02094,&quot;z&quot;:1.76991},{&quot;x&quot;:0.483296,&quot;y&quot;:1.0367,&quot;z&quot;:1.75835},{&quot;x&quot;:0.495353,&quot;y&quot;:1.02985,&quot;z&quot;:1.77734},{&quot;x&quot;:0.484887,&quot;y&quot;:1.01069,&quot;z&quot;:1.78606},{&quot;x&quot;:0.466361,&quot;y&quot;:1.0057,&quot;z&quot;:1.77247},{&quot;x&quot;:0.465378,&quot;y&quot;:1.02178,&quot;z&quot;:1.75534},{&quot;x&quot;:0.754241,&quot;y&quot;:0.765759,&quot;z&quot;:1.48844},{&quot;x&quot;:0.766298,&quot;y&quot;:0.758903,&quot;z&quot;:1.50742},{&quot;x&quot;:0.755832,&quot;y&quot;:0.739744,&quot;z&quot;:1.51615},{&quot;x&quot;:0.737306,&quot;y&quot;:0.734758,&quot;z&quot;:1.50256},{&quot;x&quot;:0.736323,&quot;y&quot;:0.750836,&quot;z&quot;:1.48543},{&quot;x&quot;:0.75,&quot;y&quot;:0.75,&quot;z&quot;:1.5}], &quot;faces&quot;:[[0,2,1],[0,3,2],[0,4,3],[0,5,4],[0,1,5],[1,2,7,6],[2,3,8,7],[3,4,9,8],[4,5,10,9],[5,1,6,10],[6,7,11],[7,8,11],[8,9,11],[9,10,11],[10,6,11]], &quot;color&quot;:&quot;#0000ff&quot;, &quot;opacity&quot;:1},{&quot;vertices&quot;:[{&quot;x&quot;:0.375,&quot;y&quot;:1.125,&quot;z&quot;:1.87357},{&quot;x&quot;:0.491779,&quot;y&quot;:1.06822,&quot;z&quot;:1.73523},{&quot;x&quot;:0.527949,&quot;y&quot;:1.04765,&quot;z&quot;:1.79218},{&quot;x&quot;:0.49655,&quot;y&quot;:0.990176,&quot;z&quot;:1.81836},{&quot;x&quot;:0.440973,&quot;y&quot;:0.975219,&quot;z&quot;:1.77759},{&quot;x&quot;:0.438024,&quot;y&quot;:1.02345,&quot;z&quot;:1.72621},{&quot;x&quot;:0.479055,&quot;y&quot;:1.02094,&quot;z&quot;:1.76991}], &quot;faces&quot;:[[0,2,1],[0,3,2],[0,4,3],[0,5,4],[0,1,5],[1,2,6],[2,3,6],[3,4,6],[4,5,6],[5,1,6]], &quot;color&quot;:&quot;#0000ff&quot;, &quot;opacity&quot;:1},{&quot;vertices&quot;:[{&quot;x&quot;:0.138526,&quot;y&quot;:1.80574,&quot;z&quot;:-1.90488},{&quot;x&quot;:0.150603,&quot;y&quot;:1.8197,&quot;z&quot;:-1.91257},{&quot;x&quot;:0.138308,&quot;y&quot;:1.82154,&quot;z&quot;:-1.89262},{&quot;x&quot;:0.126315,&quot;y&quot;:1.80154,&quot;z&quot;:-1.8896},{&quot;x&quot;:0.131197,&quot;y&quot;:1.78734,&quot;z&quot;:-1.9077},{&quot;x&quot;:0.146208,&quot;y&quot;:1.79857,&quot;z&quot;:-1.92189},{&quot;x&quot;:0.762077,&quot;y&quot;:1.51396,&quot;z&quot;:-1.5077},{&quot;x&quot;:0.749782,&quot;y&quot;:1.5158,&quot;z&quot;:-1.48774},{&quot;x&quot;:0.737789,&quot;y&quot;:1.4958,&quot;z&quot;:-1.48473},{&quot;x&quot;:0.742671,&quot;y&quot;:1.48161,&quot;z&quot;:-1.50282},{&quot;x&quot;:0.757682,&quot;y&quot;:1.49283,&quot;z&quot;:-1.51702},{&quot;x&quot;:0.75,&quot;y&quot;:1.5,&quot;z&quot;:-1.5}], &quot;faces&quot;:[[0,2,1],[0,3,2],[0,4,3],[0,5,4],[0,1,5],[1,2,7,6],[2,3,8,7],[3,4,9,8],[4,5,10,9],[5,1,6,10],[6,7,11],[7,8,11],[8,9,11],[9,10,11],[10,6,11]], &quot;color&quot;:&quot;#0000ff&quot;, &quot;opacity&quot;:1},{&quot;vertices&quot;:[{&quot;x&quot;:1.11022e-16,&quot;y&quot;:1.875,&quot;z&quot;:-1.9966},{&quot;x&quot;:0.174756,&quot;y&quot;:1.84762,&quot;z&quot;:-1.92796},{&quot;x&quot;:0.137872,&quot;y&quot;:1.85314,&quot;z&quot;:-1.8681},{&quot;x&quot;:0.101892,&quot;y&quot;:1.79315,&quot;z&quot;:-1.85906},{&quot;x&quot;:0.116539,&quot;y&quot;:1.75056,&quot;z&quot;:-1.91334},{&quot;x&quot;:0.161572,&quot;y&quot;:1.78422,&quot;z&quot;:-1.95593},{&quot;x&quot;:0.138526,&quot;y&quot;:1.80574,&quot;z&quot;:-1.90488}], &quot;faces&quot;:[[0,2,1],[0,3,2],[0,4,3],[0,5,4],[0,1,5],[1,2,6],[2,3,6],[3,4,6],[4,5,6],[5,1,6]], &quot;color&quot;:&quot;#0000ff&quot;, &quot;opacity&quot;:1},{&quot;vertices&quot;:[{&quot;x&quot;:0.147063,&quot;y&quot;:1.80147,&quot;z&quot;:-1.05032},{&quot;x&quot;:0.158318,&quot;y&quot;:1.81584,&quot;z&quot;:-1.05849},{&quot;x&quot;:0.148153,&quot;y&quot;:1.81661,&quot;z&quot;:-1.0373},{&quot;x&quot;:0.136481,&quot;y&quot;:1.79646,&quot;z&quot;:-1.03411},{&quot;x&quot;:0.139433,&quot;y&quot;:1.78323,&quot;z&quot;:-1.05331},{&quot;x&quot;:0.152929,&quot;y&quot;:1.79521,&quot;z&quot;:-1.06838},{&quot;x&quot;:0.761256,&quot;y&quot;:1.51437,&quot;z&quot;:-0.75817},{&quot;x&quot;:0.75109,&quot;y&quot;:1.51515,&quot;z&quot;:-0.736984},{&quot;x&quot;:0.739418,&quot;y&quot;:1.49499,&quot;z&quot;:-0.733786},{&quot;x&quot;:0.74237,&quot;y&quot;:1.48176,&quot;z&quot;:-0.752995},{&quot;x&quot;:0.755866,&quot;y&quot;:1.49374,&quot;z&quot;:-0.768065},{&quot;x&quot;:0.75,&quot;y&quot;:1.5,&quot;z&quot;:-0.75}], &quot;faces&quot;:[[0,2,1],[0,3,2],[0,4,3],[0,5,4],[0,1,5],[1,2,7,6],[2,3,8,7],[3,4,9,8],[4,5,10,9],[5,1,6,10],[6,7,11],[7,8,11],[8,9,11],[9,10,11],[10,6,11]], &quot;color&quot;:&quot;#0000ff&quot;, &quot;opacity&quot;:1},{&quot;vertices&quot;:[{&quot;x&quot;:2.77556e-17,&quot;y&quot;:1.875,&quot;z&quot;:-1.12357},{&quot;x&quot;:0.180829,&quot;y&quot;:1.84459,&quot;z&quot;:-1.07483},{&quot;x&quot;:0.150332,&quot;y&quot;:1.84691,&quot;z&quot;:-1.01127},{&quot;x&quot;:0.115317,&quot;y&quot;:1.78643,&quot;z&quot;:-1.00168},{&quot;x&quot;:0.124173,&quot;y&quot;:1.74674,&quot;z&quot;:-1.0593},{&quot;x&quot;:0.164662,&quot;y&quot;:1.78268,&quot;z&quot;:-1.10452},{&quot;x&quot;:0.147063,&quot;y&quot;:1.80147,&quot;z&quot;:-1.05032}], &quot;faces&quot;:[[0,2,1],[0,3,2],[0,4,3],[0,5,4],[0,1,5],[1,2,6],[2,3,6],[3,4,6],[4,5,6],[5,1,6]], &quot;color&quot;:&quot;#0000ff&quot;, &quot;opacity&quot;:1},{&quot;vertices&quot;:[{&quot;x&quot;:0.160997,&quot;y&quot;:1.7945,&quot;z&quot;:4.03231e-17},{&quot;x&quot;:0.168997,&quot;y&quot;:1.8105,&quot;z&quot;:-0.00894427},{&quot;x&quot;:0.167273,&quot;y&quot;:1.80705,&quot;z&quot;:0.0142491},{&quot;x&quot;:0.156876,&quot;y&quot;:1.78626,&quot;z&quot;:0.0177507},{&quot;x&quot;:0.152174,&quot;y&quot;:1.77685,&quot;z&quot;:-0.00327855},{&quot;x&quot;:0.159665,&quot;y&quot;:1.79184,&quot;z&quot;:-0.0197769},{&quot;x&quot;:0.758,&quot;y&quot;:1.516,&quot;z&quot;:-0.00894427},{&quot;x&quot;:0.756276,&quot;y&quot;:1.51255,&quot;z&quot;:0.0142491},{&quot;x&quot;:0.745879,&quot;y&quot;:1.49176,&quot;z&quot;:0.0177507},{&quot;x&quot;:0.741177,&quot;y&quot;:1.48235,&quot;z&quot;:-0.00327855},{&quot;x&quot;:0.748668,&quot;y&quot;:1.49734,&quot;z&quot;:-0.0197769},{&quot;x&quot;:0.75,&quot;y&quot;:1.5,&quot;z&quot;:0}], &quot;faces&quot;:[[0,2,1],[0,3,2],[0,4,3],[0,5,4],[0,1,5],[1,2,7,6],[2,3,8,7],[3,4,9,8],[4,5,10,9],[5,1,6,10],[6,7,11],[7,8,11],[8,9,11],[9,10,11],[10,6,11]], &quot;color&quot;:&quot;#0000ff&quot;, &quot;opacity&quot;:1},{&quot;vertices&quot;:[{&quot;x&quot;:-8.32667e-17,&quot;y&quot;:1.875,&quot;z&quot;:5.13449e-17},{&quot;x&quot;:0.184997,&quot;y&quot;:1.8425,&quot;z&quot;:-0.0268328},{&quot;x&quot;:0.179826,&quot;y&quot;:1.83216,&quot;z&quot;:0.0427473},{&quot;x&quot;:0.148634,&quot;y&quot;:1.76978,&quot;z&quot;:0.0532521},{&quot;x&quot;:0.134527,&quot;y&quot;:1.74156,&quot;z&quot;:-0.00983566},{&quot;x&quot;:0.157001,&quot;y&quot;:1.78651,&quot;z&quot;:-0.0593308},{&quot;x&quot;:0.160997,&quot;y&quot;:1.7945,&quot;z&quot;:4.03231e-17}], &quot;faces&quot;:[[0,2,1],[0,3,2],[0,4,3],[0,5,4],[0,1,5],[1,2,6],[2,3,6],[3,4,6],[4,5,6],[5,1,6]], &quot;color&quot;:&quot;#0000ff&quot;, &quot;opacity&quot;:1},{&quot;vertices&quot;:[{&quot;x&quot;:0.147063,&quot;y&quot;:1.80147,&quot;z&quot;:1.05032},{&quot;x&quot;:0.151807,&quot;y&quot;:1.8191,&quot;z&quot;:1.04215},{&quot;x&quot;:0.158526,&quot;y&quot;:1.81143,&quot;z&quot;:1.06334},{&quot;x&quot;:0.149403,&quot;y&quot;:1.79,&quot;z&quot;:1.06653},{&quot;x&quot;:0.137046,&quot;y&quot;:1.78442,&quot;z&quot;:1.04732},{&quot;x&quot;:0.138532,&quot;y&quot;:1.8024,&quot;z&quot;:1.03225},{&quot;x&quot;:0.754744,&quot;y&quot;:1.51763,&quot;z&quot;:0.74183},{&quot;x&quot;:0.761463,&quot;y&quot;:1.50996,&quot;z&quot;:0.763016},{&quot;x&quot;:0.75234,&quot;y&quot;:1.48853,&quot;z&quot;:0.766214},{&quot;x&quot;:0.739983,&quot;y&quot;:1.48295,&quot;z&quot;:0.747005},{&quot;x&quot;:0.741469,&quot;y&quot;:1.50094,&quot;z&quot;:0.731935},{&quot;x&quot;:0.75,&quot;y&quot;:1.5,&quot;z&quot;:0.75}], &quot;faces&quot;:[[0,2,1],[0,3,2],[0,4,3],[0,5,4],[0,1,5],[1,2,7,6],[2,3,8,7],[3,4,9,8],[4,5,10,9],[5,1,6,10],[6,7,11],[7,8,11],[8,9,11],[9,10,11],[10,6,11]], &quot;color&quot;:&quot;#0000ff&quot;, &quot;opacity&quot;:1},{&quot;vertices&quot;:[{&quot;x&quot;:1.38778e-16,&quot;y&quot;:1.875,&quot;z&quot;:1.12357},{&quot;x&quot;:0.161296,&quot;y&quot;:1.85435,&quot;z&quot;:1.02581},{&quot;x&quot;:0.181451,&quot;y&quot;:1.83135,&quot;z&quot;:1.08937},{&quot;x&quot;:0.154083,&quot;y&quot;:1.76705,&quot;z&quot;:1.09896},{&quot;x&quot;:0.117013,&quot;y&quot;:1.75032,&quot;z&quot;:1.04134},{&quot;x&quot;:0.121471,&quot;y&quot;:1.80427,&quot;z&quot;:0.996124},{&quot;x&quot;:0.147063,&quot;y&quot;:1.80147,&quot;z&quot;:1.05032}], &quot;faces&quot;:[[0,2,1],[0,3,2],[0,4,3],[0,5,4],[0,1,5],[1,2,6],[2,3,6],[3,4,6],[4,5,6],[5,1,6]], &quot;color&quot;:&quot;#0000ff&quot;, &quot;opacity&quot;:1},{&quot;vertices&quot;:[{&quot;x&quot;:0.138526,&quot;y&quot;:1.80574,&quot;z&quot;:1.90488},{&quot;x&quot;:0.14245,&quot;y&quot;:1.82378,&quot;z&quot;:1.89718},{&quot;x&quot;:0.151297,&quot;y&quot;:1.81504,&quot;z&quot;:1.91714},{&quot;x&quot;:0.142496,&quot;y&quot;:1.79345,&quot;z&quot;:1.92015},{&quot;x&quot;:0.128209,&quot;y&quot;:1.78884,&quot;z&quot;:1.90206},{&quot;x&quot;:0.12818,&quot;y&quot;:1.80758,&quot;z&quot;:1.88786},{&quot;x&quot;:0.753923,&quot;y&quot;:1.51804,&quot;z&quot;:1.4923},{&quot;x&quot;:0.762771,&quot;y&quot;:1.50931,&quot;z&quot;:1.51226},{&quot;x&quot;:0.753969,&quot;y&quot;:1.48771,&quot;z&quot;:1.51527},{&quot;x&quot;:0.739682,&quot;y&quot;:1.4831,&quot;z&quot;:1.49718},{&quot;x&quot;:0.739654,&quot;y&quot;:1.50184,&quot;z&quot;:1.48298},{&quot;x&quot;:0.75,&quot;y&quot;:1.5,&quot;z&quot;:1.5}], &quot;faces&quot;:[[0,2,1],[0,3,2],[0,4,3],[0,5,4],[0,1,5],[1,2,7,6],[2,3,8,7],[3,4,9,8],[4,5,10,9],[5,1,6,10],[6,7,11],[7,8,11],[8,9,11],[9,10,11],[10,6,11]], &quot;color&quot;:&quot;#0000ff&quot;, &quot;opacity&quot;:1},{&quot;vertices&quot;:[{&quot;x&quot;:1.11022e-16,&quot;y&quot;:1.875,&quot;z&quot;:1.9966},{&quot;x&quot;:0.150297,&quot;y&quot;:1.85985,&quot;z&quot;:1.88179},{&quot;x&quot;:0.176839,&quot;y&quot;:1.83365,&quot;z&quot;:1.94166},{&quot;x&quot;:0.150434,&quot;y&quot;:1.76888,&quot;z&quot;:1.9507},{&quot;x&quot;:0.107574,&quot;y&quot;:1.75504,&quot;z&quot;:1.89641},{&quot;x&quot;:0.107489,&quot;y&quot;:1.81127,&quot;z&quot;:1.85383},{&quot;x&quot;:0.138526,&quot;y&quot;:1.80574,&quot;z&quot;:1.90488}], &quot;faces&quot;:[[0,2,1],[0,3,2],[0,4,3],[0,5,4],[0,1,5],[1,2,6],[2,3,6],[3,4,6],[4,5,6],[5,1,6]], &quot;color&quot;:&quot;#0000ff&quot;, &quot;opacity&quot;:1},{&quot;vertices&quot;:[{&quot;x&quot;:2.12347,&quot;y&quot;:-0.876529,&quot;z&quot;:-1.59614},{&quot;x&quot;:2.11239,&quot;y&quot;:-0.867613,&quot;z&quot;:-1.6102},{&quot;x&quot;:2.12853,&quot;y&quot;:-0.884316,&quot;z&quot;:-1.61385},{&quot;x&quot;:2.13768,&quot;y&quot;:-0.890258,&quot;z&quot;:-1.59303},{&quot;x&quot;:2.1272,&quot;y&quot;:-0.877228,&quot;z&quot;:-1.5765},{&quot;x&quot;:2.11157,&quot;y&quot;:-0.863233,&quot;z&quot;:-1.58711},{&quot;x&quot;:1.48892,&quot;y&quot;:-1.49108,&quot;z&quot;:-1.51406},{&quot;x&quot;:1.50505,&quot;y&quot;:-1.50779,&quot;z&quot;:-1.51772},{&quot;x&quot;:1.51421,&quot;y&quot;:-1.51373,&quot;z&quot;:-1.49689},{&quot;x&quot;:1.50373,&quot;y&quot;:-1.5007,&quot;z&quot;:-1.48036},{&quot;x&quot;:1.4881,&quot;y&quot;:-1.4867,&quot;z&quot;:-1.49097},{&quot;x&quot;:1.5,&quot;y&quot;:-1.5,&quot;z&quot;:-1.5}], &quot;faces&quot;:[[0,2,1],[0,3,2],[0,4,3],[0,5,4],[0,1,5],[1,2,7,6],[2,3,8,7],[3,4,9,8],[4,5,10,9],[5,1,6,10],[6,7,11],[7,8,11],[8,9,11],[9,10,11],[10,6,11]], &quot;color&quot;:&quot;#0000ff&quot;, &quot;opacity&quot;:1},{&quot;vertices&quot;:[{&quot;x&quot;:2.25,&quot;y&quot;:-0.75,&quot;z&quot;:-1.61565},{&quot;x&quot;:2.09022,&quot;y&quot;:-0.849781,&quot;z&quot;:-1.63831},{&quot;x&quot;:2.13863,&quot;y&quot;:-0.899888,&quot;z&quot;:-1.64928},{&quot;x&quot;:2.16609,&quot;y&quot;:-0.917714,&quot;z&quot;:-1.58681},{&quot;x&quot;:2.13465,&quot;y&quot;:-0.878624,&quot;z&quot;:-1.53722},{&quot;x&quot;:2.08776,&quot;y&quot;:-0.836639,&quot;z&quot;:-1.56906},{&quot;x&quot;:2.12347,&quot;y&quot;:-0.876529,&quot;z&quot;:-1.59614}], &quot;faces&quot;:[[0,2,1],[0,3,2],[0,4,3],[0,5,4],[0,1,5],[1,2,6],[2,3,6],[3,4,6],[4,5,6],[5,1,6]], &quot;color&quot;:&quot;#0000ff&quot;, &quot;opacity&quot;:1},{&quot;vertices&quot;:[{&quot;x&quot;:2.13473,&quot;y&quot;:-0.865271,&quot;z&quot;:-0.329725},{&quot;x&quot;:2.12897,&quot;y&quot;:-0.85103,&quot;z&quot;:-0.342533},{&quot;x&quot;:2.14649,&quot;y&quot;:-0.866348,&quot;z&quot;:-0.345864},{&quot;x&quot;:2.14776,&quot;y&quot;:-0.880177,&quot;z&quot;:-0.326892},{&quot;x&quot;:2.13102,&quot;y&quot;:-0.873406,&quot;z&quot;:-0.311835},{&quot;x&quot;:2.11941,&quot;y&quot;:-0.855392,&quot;z&quot;:-0.321502},{&quot;x&quot;:1.49424,&quot;y&quot;:-1.48576,&quot;z&quot;:-0.762808},{&quot;x&quot;:1.51176,&quot;y&quot;:-1.50108,&quot;z&quot;:-0.766139},{&quot;x&quot;:1.51303,&quot;y&quot;:-1.51491,&quot;z&quot;:-0.747166},{&quot;x&quot;:1.49629,&quot;y&quot;:-1.50814,&quot;z&quot;:-0.73211},{&quot;x&quot;:1.48468,&quot;y&quot;:-1.49012,&quot;z&quot;:-0.741777},{&quot;x&quot;:1.5,&quot;y&quot;:-1.5,&quot;z&quot;:-0.75}], &quot;faces&quot;:[[0,2,1],[0,3,2],[0,4,3],[0,5,4],[0,1,5],[1,2,7,6],[2,3,8,7],[3,4,9,8],[4,5,10,9],[5,1,6,10],[6,7,11],[7,8,11],[8,9,11],[9,10,11],[10,6,11]], &quot;color&quot;:&quot;#0000ff&quot;, &quot;opacity&quot;:1},{&quot;vertices&quot;:[{&quot;x&quot;:2.25,&quot;y&quot;:-0.75,&quot;z&quot;:-0.253401},{&quot;x&quot;:2.11745,&quot;y&quot;:-0.82255,&quot;z&quot;:-0.368149},{&quot;x&quot;:2.17002,&quot;y&quot;:-0.868503,&quot;z&quot;:-0.378142},{&quot;x&quot;:2.17382,&quot;y&quot;:-0.909989,&quot;z&quot;:-0.321225},{&quot;x&quot;:2.1236,&quot;y&quot;:-0.889676,&quot;z&quot;:-0.276055},{&quot;x&quot;:2.08876,&quot;y&quot;:-0.835636,&quot;z&quot;:-0.305056},{&quot;x&quot;:2.13473,&quot;y&quot;:-0.865271,&quot;z&quot;:-0.329725}], &quot;faces&quot;:[[0,2,1],[0,3,2],[0,4,3],[0,5,4],[0,1,5],[1,2,6],[2,3,6],[3,4,6],[4,5,6],[5,1,6]], &quot;color&quot;:&quot;#0000ff&quot;, &quot;opacity&quot;:1},{&quot;vertices&quot;:[{&quot;x&quot;:2.12272,&quot;y&quot;:-0.877279,&quot;z&quot;:5.39249e-17},{&quot;x&quot;:2.11272,&quot;y&quot;:-0.867279,&quot;z&quot;:-0.0141421},{&quot;x&quot;:2.12914,&quot;y&quot;:-0.8837,&quot;z&quot;:-0.0178201},{&quot;x&quot;:2.13669,&quot;y&quot;:-0.891247,&quot;z&quot;:0.00312869},{&quot;x&quot;:2.12493,&quot;y&quot;:-0.879492,&quot;z&quot;:0.0197538},{&quot;x&quot;:2.11012,&quot;y&quot;:-0.864678,&quot;z&quot;:0.00907981},{&quot;x&quot;:1.49,&quot;y&quot;:-1.49,&quot;z&quot;:-0.0141421},{&quot;x&quot;:1.50642,&quot;y&quot;:-1.50642,&quot;z&quot;:-0.0178201},{&quot;x&quot;:1.51397,&quot;y&quot;:-1.51397,&quot;z&quot;:0.00312869},{&quot;x&quot;:1.50221,&quot;y&quot;:-1.50221,&quot;z&quot;:0.0197538},{&quot;x&quot;:1.4874,&quot;y&quot;:-1.4874,&quot;z&quot;:0.00907981},{&quot;x&quot;:1.5,&quot;y&quot;:-1.5,&quot;z&quot;:0}], &quot;faces&quot;:[[0,2,1],[0,3,2],[0,4,3],[0,5,4],[0,1,5],[1,2,7,6],[2,3,8,7],[3,4,9,8],[4,5,10,9],[5,1,6,10],[6,7,11],[7,8,11],[8,9,11],[9,10,11],[10,6,11]], &quot;color&quot;:&quot;#0000ff&quot;, &quot;opacity&quot;:1},{&quot;vertices&quot;:[{&quot;x&quot;:2.25,&quot;y&quot;:-0.75,&quot;z&quot;:6.49467e-17},{&quot;x&quot;:2.09272,&quot;y&quot;:-0.847279,&quot;z&quot;:-0.0424264},{&quot;x&quot;:2.14198,&quot;y&quot;:-0.89654,&quot;z&quot;:-0.0534604},{&quot;x&quot;:2.16462,&quot;y&quot;:-0.919183,&quot;z&quot;:0.00938607},{&quot;x&quot;:2.12936,&quot;y&quot;:-0.883916,&quot;z&quot;:0.0592613},{&quot;x&quot;:2.08492,&quot;y&quot;:-0.839477,&quot;z&quot;:0.0272394},{&quot;x&quot;:2.12272,&quot;y&quot;:-0.877279,&quot;z&quot;:5.39249e-17}], &quot;faces&quot;:[[0,2,1],[0,3,2],[0,4,3],[0,5,4],[0,1,5],[1,2,6],[2,3,6],[3,4,6],[4,5,6],[5,1,6]], &quot;color&quot;:&quot;#0000ff&quot;, &quot;opacity&quot;:1},{&quot;vertices&quot;:[{&quot;x&quot;:2.13473,&quot;y&quot;:-0.865271,&quot;z&quot;:0.329725},{&quot;x&quot;:2.12049,&quot;y&quot;:-0.859511,&quot;z&quot;:0.316918},{&quot;x&quot;:2.13581,&quot;y&quot;:-0.877034,&quot;z&quot;:0.313587},{&quot;x&quot;:2.14964,&quot;y&quot;:-0.8783,&quot;z&quot;:0.332559},{&quot;x&quot;:2.14286,&quot;y&quot;:-0.86156,&quot;z&quot;:0.347615},{&quot;x&quot;:2.12485,&quot;y&quot;:-0.849947,&quot;z&quot;:0.337949},{&quot;x&quot;:1.48576,&quot;y&quot;:-1.49424,&quot;z&quot;:0.737192},{&quot;x&quot;:1.50108,&quot;y&quot;:-1.51176,&quot;z&quot;:0.733861},{&quot;x&quot;:1.51491,&quot;y&quot;:-1.51303,&quot;z&quot;:0.752834},{&quot;x&quot;:1.50814,&quot;y&quot;:-1.49629,&quot;z&quot;:0.76789},{&quot;x&quot;:1.49012,&quot;y&quot;:-1.48468,&quot;z&quot;:0.758223},{&quot;x&quot;:1.5,&quot;y&quot;:-1.5,&quot;z&quot;:0.75}], &quot;faces&quot;:[[0,2,1],[0,3,2],[0,4,3],[0,5,4],[0,1,5],[1,2,7,6],[2,3,8,7],[3,4,9,8],[4,5,10,9],[5,1,6,10],[6,7,11],[7,8,11],[8,9,11],[9,10,11],[10,6,11]], &quot;color&quot;:&quot;#0000ff&quot;, &quot;opacity&quot;:1},{&quot;vertices&quot;:[{&quot;x&quot;:2.25,&quot;y&quot;:-0.75,&quot;z&quot;:0.253401},{&quot;x&quot;:2.09201,&quot;y&quot;:-0.847991,&quot;z&quot;:0.291302},{&quot;x&quot;:2.13796,&quot;y&quot;:-0.900561,&quot;z&quot;:0.281309},{&quot;x&quot;:2.17945,&quot;y&quot;:-0.90436,&quot;z&quot;:0.338226},{&quot;x&quot;:2.15913,&quot;y&quot;:-0.854139,&quot;z&quot;:0.383395},{&quot;x&quot;:2.10509,&quot;y&quot;:-0.819301,&quot;z&quot;:0.354395},{&quot;x&quot;:2.13473,&quot;y&quot;:-0.865271,&quot;z&quot;:0.329725}], &quot;faces&quot;:[[0,2,1],[0,3,2],[0,4,3],[0,5,4],[0,1,5],[1,2,6],[2,3,6],[3,4,6],[4,5,6],[5,1,6]], &quot;color&quot;:&quot;#0000ff&quot;, &quot;opacity&quot;:1},{&quot;vertices&quot;:[{&quot;x&quot;:2.12347,&quot;y&quot;:-0.876529,&quot;z&quot;:1.59614},{&quot;x&quot;:2.11455,&quot;y&quot;:-0.865445,&quot;z&quot;:1.58208},{&quot;x&quot;:2.13126,&quot;y&quot;:-0.881584,&quot;z&quot;:1.57842},{&quot;x&quot;:2.1372,&quot;y&quot;:-0.890737,&quot;z&quot;:1.59925},{&quot;x&quot;:2.12417,&quot;y&quot;:-0.880256,&quot;z&quot;:1.61577},{&quot;x&quot;:2.11017,&quot;y&quot;:-0.864625,&quot;z&quot;:1.60516},{&quot;x&quot;:1.49108,&quot;y&quot;:-1.48892,&quot;z&quot;:1.48594},{&quot;x&quot;:1.50779,&quot;y&quot;:-1.50505,&quot;z&quot;:1.48228},{&quot;x&quot;:1.51373,&quot;y&quot;:-1.51421,&quot;z&quot;:1.50311},{&quot;x&quot;:1.5007,&quot;y&quot;:-1.50373,&quot;z&quot;:1.51964},{&quot;x&quot;:1.4867,&quot;y&quot;:-1.4881,&quot;z&quot;:1.50903},{&quot;x&quot;:1.5,&quot;y&quot;:-1.5,&quot;z&quot;:1.5}], &quot;faces&quot;:[[0,2,1],[0,3,2],[0,4,3],[0,5,4],[0,1,5],[1,2,7,6],[2,3,8,7],[3,4,9,8],[4,5,10,9],[5,1,6,10],[6,7,11],[7,8,11],[8,9,11],[9,10,11],[10,6,11]], &quot;color&quot;:&quot;#0000ff&quot;, &quot;opacity&quot;:1},{&quot;vertices&quot;:[{&quot;x&quot;:2.25,&quot;y&quot;:-0.75,&quot;z&quot;:1.61565},{&quot;x&quot;:2.09672,&quot;y&quot;:-0.843278,&quot;z&quot;:1.55396},{&quot;x&quot;:2.14683,&quot;y&quot;:-0.891693,&quot;z&quot;:1.54299},{&quot;x&quot;:2.16466,&quot;y&quot;:-0.919153,&quot;z&quot;:1.60547},{&quot;x&quot;:2.12557,&quot;y&quot;:-0.887708,&quot;z&quot;:1.65505},{&quot;x&quot;:2.08358,&quot;y&quot;:-0.840815,&quot;z&quot;:1.62322},{&quot;x&quot;:2.12347,&quot;y&quot;:-0.876529,&quot;z&quot;:1.59614}], &quot;faces&quot;:[[0,2,1],[0,3,2],[0,4,3],[0,5,4],[0,1,5],[1,2,6],[2,3,6],[3,4,6],[4,5,6],[5,1,6]], &quot;color&quot;:&quot;#0000ff&quot;, &quot;opacity&quot;:1},{&quot;vertices&quot;:[{&quot;x&quot;:1.80574,&quot;y&quot;:-0.138526,&quot;z&quot;:-1.09512},{&quot;x&quot;:1.80181,&quot;y&quot;:-0.126373,&quot;z&quot;:-1.11052},{&quot;x&quot;:1.82168,&quot;y&quot;:-0.138502,&quot;z&quot;:-1.1072},{&quot;x&quot;:1.81951,&quot;y&quot;:-0.150665,&quot;z&quot;:-1.0872},{&quot;x&quot;:1.79831,&quot;y&quot;:-0.146052,&quot;z&quot;:-1.07815},{&quot;x&quot;:1.78737,&quot;y&quot;:-0.131039,&quot;z&quot;:-1.09256},{&quot;x&quot;:1.49608,&quot;y&quot;:-0.737847,&quot;z&quot;:-1.51539},{&quot;x&quot;:1.51594,&quot;y&quot;:-0.749976,&quot;z&quot;:-1.51208},{&quot;x&quot;:1.51378,&quot;y&quot;:-0.762138,&quot;z&quot;:-1.49207},{&quot;x&quot;:1.49257,&quot;y&quot;:-0.757526,&quot;z&quot;:-1.48302},{&quot;x&quot;:1.48163,&quot;y&quot;:-0.742513,&quot;z&quot;:-1.49744},{&quot;x&quot;:1.5,&quot;y&quot;:-0.75,&quot;z&quot;:-1.5}], &quot;faces&quot;:[[0,2,1],[0,3,2],[0,4,3],[0,5,4],[0,1,5],[1,2,7,6],[2,3,8,7],[3,4,9,8],[4,5,10,9],[5,1,6,10],[6,7,11],[7,8,11],[8,9,11],[9,10,11],[10,6,11]], &quot;color&quot;:&quot;#0000ff&quot;, &quot;opacity&quot;:1},{&quot;vertices&quot;:[{&quot;x&quot;:1.875,&quot;y&quot;:-1.11022e-16,&quot;z&quot;:-1.0034},{&quot;x&quot;:1.79397,&quot;y&quot;:-0.102067,&quot;z&quot;:-1.1413},{&quot;x&quot;:1.85357,&quot;y&quot;:-0.138454,&quot;z&quot;:-1.13135},{&quot;x&quot;:1.84707,&quot;y&quot;:-0.174941,&quot;z&quot;:-1.07134},{&quot;x&quot;:1.78345,&quot;y&quot;:-0.161104,&quot;z&quot;:-1.0442},{&quot;x&quot;:1.75063,&quot;y&quot;:-0.116066,&quot;z&quot;:-1.08744},{&quot;x&quot;:1.80574,&quot;y&quot;:-0.138526,&quot;z&quot;:-1.09512}], &quot;faces&quot;:[[0,2,1],[0,3,2],[0,4,3],[0,5,4],[0,1,5],[1,2,6],[2,3,6],[3,4,6],[4,5,6],[5,1,6]], &quot;color&quot;:&quot;#0000ff&quot;, &quot;opacity&quot;:1},{&quot;vertices&quot;:[{&quot;x&quot;:1.80147,&quot;y&quot;:-0.147063,&quot;z&quot;:-0.449681},{&quot;x&quot;:1.79672,&quot;y&quot;:-0.136551,&quot;z&quot;:-0.466021},{&quot;x&quot;:1.81677,&quot;y&quot;:-0.148327,&quot;z&quot;:-0.4625},{&quot;x&quot;:1.81567,&quot;y&quot;:-0.158355,&quot;z&quot;:-0.441263},{&quot;x&quot;:1.79495,&quot;y&quot;:-0.152778,&quot;z&quot;:-0.431659},{&quot;x&quot;:1.78324,&quot;y&quot;:-0.139302,&quot;z&quot;:-0.44696},{&quot;x&quot;:1.49526,&quot;y&quot;:-0.739489,&quot;z&quot;:-0.76634},{&quot;x&quot;:1.5153,&quot;y&quot;:-0.751264,&quot;z&quot;:-0.76282},{&quot;x&quot;:1.5142,&quot;y&quot;:-0.761292,&quot;z&quot;:-0.741583},{&quot;x&quot;:1.49348,&quot;y&quot;:-0.755715,&quot;z&quot;:-0.731978},{&quot;x&quot;:1.48177,&quot;y&quot;:-0.74224,&quot;z&quot;:-0.747279},{&quot;x&quot;:1.5,&quot;y&quot;:-0.75,&quot;z&quot;:-0.75}], &quot;faces&quot;:[[0,2,1],[0,3,2],[0,4,3],[0,5,4],[0,1,5],[1,2,7,6],[2,3,8,7],[3,4,9,8],[4,5,10,9],[5,1,6,10],[6,7,11],[7,8,11],[8,9,11],[9,10,11],[10,6,11]], &quot;color&quot;:&quot;#0000ff&quot;, &quot;opacity&quot;:1},{&quot;vertices&quot;:[{&quot;x&quot;:1.875,&quot;y&quot;:-2.77556e-17,&quot;z&quot;:-0.37643},{&quot;x&quot;:1.78724,&quot;y&quot;:-0.115529,&quot;z&quot;:-0.498701},{&quot;x&quot;:1.84737,&quot;y&quot;:-0.150855,&quot;z&quot;:-0.48814},{&quot;x&quot;:1.84407,&quot;y&quot;:-0.18094,&quot;z&quot;:-0.424429},{&quot;x&quot;:1.7819,&quot;y&quot;:-0.164208,&quot;z&quot;:-0.395615},{&quot;x&quot;:1.74678,&quot;y&quot;:-0.123782,&quot;z&quot;:-0.441518},{&quot;x&quot;:1.80147,&quot;y&quot;:-0.147063,&quot;z&quot;:-0.449681}], &quot;faces&quot;:[[0,2,1],[0,3,2],[0,4,3],[0,5,4],[0,1,5],[1,2,6],[2,3,6],[3,4,6],[4,5,6],[5,1,6]], &quot;color&quot;:&quot;#0000ff&quot;, &quot;opacity&quot;:1},{&quot;vertices&quot;:[{&quot;x&quot;:1.7945,&quot;y&quot;:-0.160997,&quot;z&quot;:4.03231e-17},{&quot;x&quot;:1.7865,&quot;y&quot;:-0.156997,&quot;z&quot;:-0.0178885},{&quot;x&quot;:1.80725,&quot;y&quot;:-0.167369,&quot;z&quot;:-0.0140344},{&quot;x&quot;:1.81038,&quot;y&quot;:-0.168935,&quot;z&quot;:0.00921482},{&quot;x&quot;:1.79157,&quot;y&quot;:-0.159531,&quot;z&quot;:0.0197294},{&quot;x&quot;:1.77681,&quot;y&quot;:-0.152152,&quot;z&quot;:0.00297864},{&quot;x&quot;:1.492,&quot;y&quot;:-0.746,&quot;z&quot;:-0.0178885},{&quot;x&quot;:1.51274,&quot;y&quot;:-0.756372,&quot;z&quot;:-0.0140344},{&quot;x&quot;:1.51588,&quot;y&quot;:-0.757938,&quot;z&quot;:0.00921482},{&quot;x&quot;:1.49707,&quot;y&quot;:-0.748534,&quot;z&quot;:0.0197294},{&quot;x&quot;:1.48231,&quot;y&quot;:-0.741155,&quot;z&quot;:0.00297864},{&quot;x&quot;:1.5,&quot;y&quot;:-0.75,&quot;z&quot;:0}], &quot;faces&quot;:[[0,2,1],[0,3,2],[0,4,3],[0,5,4],[0,1,5],[1,2,7,6],[2,3,8,7],[3,4,9,8],[4,5,10,9],[5,1,6,10],[6,7,11],[7,8,11],[8,9,11],[9,10,11],[10,6,11]], &quot;color&quot;:&quot;#0000ff&quot;, &quot;opacity&quot;:1},{&quot;vertices&quot;:[{&quot;x&quot;:1.875,&quot;y&quot;:8.32667e-17,&quot;z&quot;:5.13449e-17},{&quot;x&quot;:1.7705,&quot;y&quot;:-0.148997,&quot;z&quot;:-0.0536656},{&quot;x&quot;:1.83274,&quot;y&quot;:-0.180114,&quot;z&quot;:-0.0421031},{&quot;x&quot;:1.84213,&quot;y&quot;:-0.184812,&quot;z&quot;:0.0276445},{&quot;x&quot;:1.7857,&quot;y&quot;:-0.156598,&quot;z&quot;:0.0591883},{&quot;x&quot;:1.74143,&quot;y&quot;:-0.134463,&quot;z&quot;:0.00893593},{&quot;x&quot;:1.7945,&quot;y&quot;:-0.160997,&quot;z&quot;:4.03231e-17}], &quot;faces&quot;:[[0,2,1],[0,3,2],[0,4,3],[0,5,4],[0,1,5],[1,2,6],[2,3,6],[3,4,6],[4,5,6],[5,1,6]], &quot;color&quot;:&quot;#0000ff&quot;, &quot;opacity&quot;:1},{&quot;vertices&quot;:[{&quot;x&quot;:1.80147,&quot;y&quot;:-0.147063,&quot;z&quot;:0.449681},{&quot;x&quot;:1.79021,&quot;y&quot;:-0.149574,&quot;z&quot;:0.43334},{&quot;x&quot;:1.81166,&quot;y&quot;:-0.158543,&quot;z&quot;:0.436861},{&quot;x&quot;:1.81902,&quot;y&quot;:-0.151647,&quot;z&quot;:0.458098},{&quot;x&quot;:1.80213,&quot;y&quot;:-0.138415,&quot;z&quot;:0.467702},{&quot;x&quot;:1.78432,&quot;y&quot;:-0.137134,&quot;z&quot;:0.452401},{&quot;x&quot;:1.48874,&quot;y&quot;:-0.752511,&quot;z&quot;:0.73366},{&quot;x&quot;:1.51019,&quot;y&quot;:-0.761481,&quot;z&quot;:0.73718},{&quot;x&quot;:1.51755,&quot;y&quot;:-0.754584,&quot;z&quot;:0.758417},{&quot;x&quot;:1.50066,&quot;y&quot;:-0.741353,&quot;z&quot;:0.768022},{&quot;x&quot;:1.48285,&quot;y&quot;:-0.740071,&quot;z&quot;:0.752721},{&quot;x&quot;:1.5,&quot;y&quot;:-0.75,&quot;z&quot;:0.75}], &quot;faces&quot;:[[0,2,1],[0,3,2],[0,4,3],[0,5,4],[0,1,5],[1,2,7,6],[2,3,8,7],[3,4,9,8],[4,5,10,9],[5,1,6,10],[6,7,11],[7,8,11],[8,9,11],[9,10,11],[10,6,11]], &quot;color&quot;:&quot;#0000ff&quot;, &quot;opacity&quot;:1},{&quot;vertices&quot;:[{&quot;x&quot;:1.875,&quot;y&quot;:8.32667e-17,&quot;z&quot;:0.37643},{&quot;x&quot;:1.7677,&quot;y&quot;:-0.154596,&quot;z&quot;:0.40066},{&quot;x&quot;:1.83204,&quot;y&quot;:-0.181505,&quot;z&quot;:0.411221},{&quot;x&quot;:1.85413,&quot;y&quot;:-0.160815,&quot;z&quot;:0.474932},{&quot;x&quot;:1.80344,&quot;y&quot;:-0.12112,&quot;z&quot;:0.503746},{&quot;x&quot;:1.75003,&quot;y&quot;:-0.117277,&quot;z&quot;:0.457843},{&quot;x&quot;:1.80147,&quot;y&quot;:-0.147063,&quot;z&quot;:0.449681}], &quot;faces&quot;:[[0,2,1],[0,3,2],[0,4,3],[0,5,4],[0,1,5],[1,2,6],[2,3,6],[3,4,6],[4,5,6],[5,1,6]], &quot;color&quot;:&quot;#0000ff&quot;, &quot;opacity&quot;:1},{&quot;vertices&quot;:[{&quot;x&quot;:1.80574,&quot;y&quot;:-0.138526,&quot;z&quot;:1.09512},{&quot;x&quot;:1.79366,&quot;y&quot;:-0.142679,&quot;z&quot;:1.07973},{&quot;x&quot;:1.81528,&quot;y&quot;:-0.151295,&quot;z&quot;:1.08305},{&quot;x&quot;:1.82371,&quot;y&quot;:-0.142265,&quot;z&quot;:1.10305},{&quot;x&quot;:1.8073,&quot;y&quot;:-0.128068,&quot;z&quot;:1.1121},{&quot;x&quot;:1.78873,&quot;y&quot;:-0.128324,&quot;z&quot;:1.09769},{&quot;x&quot;:1.48792,&quot;y&quot;:-0.754153,&quot;z&quot;:1.48461},{&quot;x&quot;:1.50955,&quot;y&quot;:-0.762769,&quot;z&quot;:1.48792},{&quot;x&quot;:1.51798,&quot;y&quot;:-0.753738,&quot;z&quot;:1.50793},{&quot;x&quot;:1.50156,&quot;y&quot;:-0.739542,&quot;z&quot;:1.51698},{&quot;x&quot;:1.48299,&quot;y&quot;:-0.739798,&quot;z&quot;:1.50256},{&quot;x&quot;:1.5,&quot;y&quot;:-0.75,&quot;z&quot;:1.5}], &quot;faces&quot;:[[0,2,1],[0,3,2],[0,4,3],[0,5,4],[0,1,5],[1,2,7,6],[2,3,8,7],[3,4,9,8],[4,5,10,9],[5,1,6,10],[6,7,11],[7,8,11],[8,9,11],[9,10,11],[10,6,11]], &quot;color&quot;:&quot;#0000ff&quot;, &quot;opacity&quot;:1},{&quot;vertices&quot;:[{&quot;x&quot;:1.875,&quot;y&quot;:-1.11022e-16,&quot;z&quot;:1.0034},{&quot;x&quot;:1.76951,&quot;y&quot;:-0.150986,&quot;z&quot;:1.04895},{&quot;x&quot;:1.83438,&quot;y&quot;:-0.176833,&quot;z&quot;:1.0589},{&quot;x&quot;:1.85967,&quot;y&quot;:-0.149742,&quot;z&quot;:1.11891},{&quot;x&quot;:1.81043,&quot;y&quot;:-0.107151,&quot;z&quot;:1.14605},{&quot;x&quot;:1.75471,&quot;y&quot;:-0.10792,&quot;z&quot;:1.10281},{&quot;x&quot;:1.80574,&quot;y&quot;:-0.138526,&quot;z&quot;:1.09512}], &quot;faces&quot;:[[0,2,1],[0,3,2],[0,4,3],[0,5,4],[0,1,5],[1,2,6],[2,3,6],[3,4,6],[4,5,6],[5,1,6]], &quot;color&quot;:&quot;#0000ff&quot;, &quot;opacity&quot;:1},{&quot;vertices&quot;:[{&quot;x&quot;:1.5,&quot;y&quot;:0.57,&quot;z&quot;:-1.5},{&quot;x&quot;:1.5,&quot;y&quot;:0.57,&quot;z&quot;:-1.52},{&quot;x&quot;:1.51902,&quot;y&quot;:0.57,&quot;z&quot;:-1.50618},{&quot;x&quot;:1.51176,&quot;y&quot;:0.57,&quot;z&quot;:-1.48382},{&quot;x&quot;:1.48824,&quot;y&quot;:0.57,&quot;z&quot;:-1.48382},{&quot;x&quot;:1.48098,&quot;y&quot;:0.57,&quot;z&quot;:-1.50618},{&quot;x&quot;:1.5,&quot;y&quot;:1.22465e-18,&quot;z&quot;:-1.52},{&quot;x&quot;:1.51902,&quot;y&quot;:3.78437e-19,&quot;z&quot;:-1.50618},{&quot;x&quot;:1.51176,&quot;y&quot;:-9.9076e-19,&quot;z&quot;:-1.48382},{&quot;x&quot;:1.48824,&quot;y&quot;:-9.9076e-19,&quot;z&quot;:-1.48382},{&quot;x&quot;:1.48098,&quot;y&quot;:3.78437e-19,&quot;z&quot;:-1.50618},{&quot;x&quot;:1.5,&quot;y&quot;:0,&quot;z&quot;:-1.5}], &quot;faces&quot;:[[0,2,1],[0,3,2],[0,4,3],[0,5,4],[0,1,5],[1,2,7,6],[2,3,8,7],[3,4,9,8],[4,5,10,9],[5,1,6,10],[6,7,11],[7,8,11],[8,9,11],[9,10,11],[10,6,11]], &quot;color&quot;:&quot;#0000ff&quot;, &quot;opacity&quot;:1},{&quot;vertices&quot;:[{&quot;x&quot;:1.5,&quot;y&quot;:0.75,&quot;z&quot;:-1.5},{&quot;x&quot;:1.5,&quot;y&quot;:0.57,&quot;z&quot;:-1.56},{&quot;x&quot;:1.55706,&quot;y&quot;:0.57,&quot;z&quot;:-1.51854},{&quot;x&quot;:1.53527,&quot;y&quot;:0.57,&quot;z&quot;:-1.45146},{&quot;x&quot;:1.46473,&quot;y&quot;:0.57,&quot;z&quot;:-1.45146},{&quot;x&quot;:1.44294,&quot;y&quot;:0.57,&quot;z&quot;:-1.51854},{&quot;x&quot;:1.5,&quot;y&quot;:0.57,&quot;z&quot;:-1.5}], &quot;faces&quot;:[[0,2,1],[0,3,2],[0,4,3],[0,5,4],[0,1,5],[1,2,6],[2,3,6],[3,4,6],[4,5,6],[5,1,6]], &quot;color&quot;:&quot;#0000ff&quot;, &quot;opacity&quot;:1},{&quot;vertices&quot;:[{&quot;x&quot;:1.5,&quot;y&quot;:0.57,&quot;z&quot;:-0.75},{&quot;x&quot;:1.5,&quot;y&quot;:0.57,&quot;z&quot;:-0.77},{&quot;x&quot;:1.51902,&quot;y&quot;:0.57,&quot;z&quot;:-0.75618},{&quot;x&quot;:1.51176,&quot;y&quot;:0.57,&quot;z&quot;:-0.73382},{&quot;x&quot;:1.48824,&quot;y&quot;:0.57,&quot;z&quot;:-0.73382},{&quot;x&quot;:1.48098,&quot;y&quot;:0.57,&quot;z&quot;:-0.75618},{&quot;x&quot;:1.5,&quot;y&quot;:1.22465e-18,&quot;z&quot;:-0.77},{&quot;x&quot;:1.51902,&quot;y&quot;:3.78437e-19,&quot;z&quot;:-0.75618},{&quot;x&quot;:1.51176,&quot;y&quot;:-9.9076e-19,&quot;z&quot;:-0.73382},{&quot;x&quot;:1.48824,&quot;y&quot;:-9.9076e-19,&quot;z&quot;:-0.73382},{&quot;x&quot;:1.48098,&quot;y&quot;:3.78437e-19,&quot;z&quot;:-0.75618},{&quot;x&quot;:1.5,&quot;y&quot;:0,&quot;z&quot;:-0.75}], &quot;faces&quot;:[[0,2,1],[0,3,2],[0,4,3],[0,5,4],[0,1,5],[1,2,7,6],[2,3,8,7],[3,4,9,8],[4,5,10,9],[5,1,6,10],[6,7,11],[7,8,11],[8,9,11],[9,10,11],[10,6,11]], &quot;color&quot;:&quot;#0000ff&quot;, &quot;opacity&quot;:1},{&quot;vertices&quot;:[{&quot;x&quot;:1.5,&quot;y&quot;:0.75,&quot;z&quot;:-0.75},{&quot;x&quot;:1.5,&quot;y&quot;:0.57,&quot;z&quot;:-0.81},{&quot;x&quot;:1.55706,&quot;y&quot;:0.57,&quot;z&quot;:-0.768541},{&quot;x&quot;:1.53527,&quot;y&quot;:0.57,&quot;z&quot;:-0.701459},{&quot;x&quot;:1.46473,&quot;y&quot;:0.57,&quot;z&quot;:-0.701459},{&quot;x&quot;:1.44294,&quot;y&quot;:0.57,&quot;z&quot;:-0.768541},{&quot;x&quot;:1.5,&quot;y&quot;:0.57,&quot;z&quot;:-0.75}], &quot;faces&quot;:[[0,2,1],[0,3,2],[0,4,3],[0,5,4],[0,1,5],[1,2,6],[2,3,6],[3,4,6],[4,5,6],[5,1,6]], &quot;color&quot;:&quot;#0000ff&quot;, &quot;opacity&quot;:1},{&quot;vertices&quot;:[{&quot;x&quot;:1.5,&quot;y&quot;:0.57,&quot;z&quot;:3.49024e-17},{&quot;x&quot;:1.5,&quot;y&quot;:0.57,&quot;z&quot;:-0.02},{&quot;x&quot;:1.51902,&quot;y&quot;:0.57,&quot;z&quot;:-0.00618034},{&quot;x&quot;:1.51176,&quot;y&quot;:0.57,&quot;z&quot;:0.0161803},{&quot;x&quot;:1.48824,&quot;y&quot;:0.57,&quot;z&quot;:0.0161803},{&quot;x&quot;:1.48098,&quot;y&quot;:0.57,&quot;z&quot;:-0.00618034},{&quot;x&quot;:1.5,&quot;y&quot;:1.22465e-18,&quot;z&quot;:-0.02},{&quot;x&quot;:1.51902,&quot;y&quot;:3.78437e-19,&quot;z&quot;:-0.00618034},{&quot;x&quot;:1.51176,&quot;y&quot;:-9.9076e-19,&quot;z&quot;:0.0161803},{&quot;x&quot;:1.48824,&quot;y&quot;:-9.9076e-19,&quot;z&quot;:0.0161803},{&quot;x&quot;:1.48098,&quot;y&quot;:3.78437e-19,&quot;z&quot;:-0.00618034},{&quot;x&quot;:1.5,&quot;y&quot;:0,&quot;z&quot;:0}], &quot;faces&quot;:[[0,2,1],[0,3,2],[0,4,3],[0,5,4],[0,1,5],[1,2,7,6],[2,3,8,7],[3,4,9,8],[4,5,10,9],[5,1,6,10],[6,7,11],[7,8,11],[8,9,11],[9,10,11],[10,6,11]], &quot;color&quot;:&quot;#0000ff&quot;, &quot;opacity&quot;:1},{&quot;vertices&quot;:[{&quot;x&quot;:1.5,&quot;y&quot;:0.75,&quot;z&quot;:4.59243e-17},{&quot;x&quot;:1.5,&quot;y&quot;:0.57,&quot;z&quot;:-0.06},{&quot;x&quot;:1.55706,&quot;y&quot;:0.57,&quot;z&quot;:-0.018541},{&quot;x&quot;:1.53527,&quot;y&quot;:0.57,&quot;z&quot;:0.048541},{&quot;x&quot;:1.46473,&quot;y&quot;:0.57,&quot;z&quot;:0.048541},{&quot;x&quot;:1.44294,&quot;y&quot;:0.57,&quot;z&quot;:-0.018541},{&quot;x&quot;:1.5,&quot;y&quot;:0.57,&quot;z&quot;:3.49024e-17}], &quot;faces&quot;:[[0,2,1],[0,3,2],[0,4,3],[0,5,4],[0,1,5],[1,2,6],[2,3,6],[3,4,6],[4,5,6],[5,1,6]], &quot;color&quot;:&quot;#0000ff&quot;, &quot;opacity&quot;:1},{&quot;vertices&quot;:[{&quot;x&quot;:1.5,&quot;y&quot;:0.57,&quot;z&quot;:0.75},{&quot;x&quot;:1.5,&quot;y&quot;:0.57,&quot;z&quot;:0.73},{&quot;x&quot;:1.51902,&quot;y&quot;:0.57,&quot;z&quot;:0.74382},{&quot;x&quot;:1.51176,&quot;y&quot;:0.57,&quot;z&quot;:0.76618},{&quot;x&quot;:1.48824,&quot;y&quot;:0.57,&quot;z&quot;:0.76618},{&quot;x&quot;:1.48098,&quot;y&quot;:0.57,&quot;z&quot;:0.74382},{&quot;x&quot;:1.5,&quot;y&quot;:1.22465e-18,&quot;z&quot;:0.73},{&quot;x&quot;:1.51902,&quot;y&quot;:3.78437e-19,&quot;z&quot;:0.74382},{&quot;x&quot;:1.51176,&quot;y&quot;:-9.9076e-19,&quot;z&quot;:0.76618},{&quot;x&quot;:1.48824,&quot;y&quot;:-9.9076e-19,&quot;z&quot;:0.76618},{&quot;x&quot;:1.48098,&quot;y&quot;:3.78437e-19,&quot;z&quot;:0.74382},{&quot;x&quot;:1.5,&quot;y&quot;:0,&quot;z&quot;:0.75}], &quot;faces&quot;:[[0,2,1],[0,3,2],[0,4,3],[0,5,4],[0,1,5],[1,2,7,6],[2,3,8,7],[3,4,9,8],[4,5,10,9],[5,1,6,10],[6,7,11],[7,8,11],[8,9,11],[9,10,11],[10,6,11]], &quot;color&quot;:&quot;#0000ff&quot;, &quot;opacity&quot;:1},{&quot;vertices&quot;:[{&quot;x&quot;:1.5,&quot;y&quot;:0.75,&quot;z&quot;:0.75},{&quot;x&quot;:1.5,&quot;y&quot;:0.57,&quot;z&quot;:0.69},{&quot;x&quot;:1.55706,&quot;y&quot;:0.57,&quot;z&quot;:0.731459},{&quot;x&quot;:1.53527,&quot;y&quot;:0.57,&quot;z&quot;:0.798541},{&quot;x&quot;:1.46473,&quot;y&quot;:0.57,&quot;z&quot;:0.798541},{&quot;x&quot;:1.44294,&quot;y&quot;:0.57,&quot;z&quot;:0.731459},{&quot;x&quot;:1.5,&quot;y&quot;:0.57,&quot;z&quot;:0.75}], &quot;faces&quot;:[[0,2,1],[0,3,2],[0,4,3],[0,5,4],[0,1,5],[1,2,6],[2,3,6],[3,4,6],[4,5,6],[5,1,6]], &quot;color&quot;:&quot;#0000ff&quot;, &quot;opacity&quot;:1},{&quot;vertices&quot;:[{&quot;x&quot;:1.5,&quot;y&quot;:0.57,&quot;z&quot;:1.5},{&quot;x&quot;:1.5,&quot;y&quot;:0.57,&quot;z&quot;:1.48},{&quot;x&quot;:1.51902,&quot;y&quot;:0.57,&quot;z&quot;:1.49382},{&quot;x&quot;:1.51176,&quot;y&quot;:0.57,&quot;z&quot;:1.51618},{&quot;x&quot;:1.48824,&quot;y&quot;:0.57,&quot;z&quot;:1.51618},{&quot;x&quot;:1.48098,&quot;y&quot;:0.57,&quot;z&quot;:1.49382},{&quot;x&quot;:1.5,&quot;y&quot;:1.22465e-18,&quot;z&quot;:1.48},{&quot;x&quot;:1.51902,&quot;y&quot;:3.78437e-19,&quot;z&quot;:1.49382},{&quot;x&quot;:1.51176,&quot;y&quot;:-9.9076e-19,&quot;z&quot;:1.51618},{&quot;x&quot;:1.48824,&quot;y&quot;:-9.9076e-19,&quot;z&quot;:1.51618},{&quot;x&quot;:1.48098,&quot;y&quot;:3.78437e-19,&quot;z&quot;:1.49382},{&quot;x&quot;:1.5,&quot;y&quot;:0,&quot;z&quot;:1.5}], &quot;faces&quot;:[[0,2,1],[0,3,2],[0,4,3],[0,5,4],[0,1,5],[1,2,7,6],[2,3,8,7],[3,4,9,8],[4,5,10,9],[5,1,6,10],[6,7,11],[7,8,11],[8,9,11],[9,10,11],[10,6,11]], &quot;color&quot;:&quot;#0000ff&quot;, &quot;opacity&quot;:1},{&quot;vertices&quot;:[{&quot;x&quot;:1.5,&quot;y&quot;:0.75,&quot;z&quot;:1.5},{&quot;x&quot;:1.5,&quot;y&quot;:0.57,&quot;z&quot;:1.44},{&quot;x&quot;:1.55706,&quot;y&quot;:0.57,&quot;z&quot;:1.48146},{&quot;x&quot;:1.53527,&quot;y&quot;:0.57,&quot;z&quot;:1.54854},{&quot;x&quot;:1.46473,&quot;y&quot;:0.57,&quot;z&quot;:1.54854},{&quot;x&quot;:1.44294,&quot;y&quot;:0.57,&quot;z&quot;:1.48146},{&quot;x&quot;:1.5,&quot;y&quot;:0.57,&quot;z&quot;:1.5}], &quot;faces&quot;:[[0,2,1],[0,3,2],[0,4,3],[0,5,4],[0,1,5],[1,2,6],[2,3,6],[3,4,6],[4,5,6],[5,1,6]], &quot;color&quot;:&quot;#0000ff&quot;, &quot;opacity&quot;:1},{&quot;vertices&quot;:[{&quot;x&quot;:1.19426,&quot;y&quot;:1.36147,&quot;z&quot;:-1.90488},{&quot;x&quot;:1.20634,&quot;y&quot;:1.35732,&quot;z&quot;:-1.92027},{&quot;x&quot;:1.21127,&quot;y&quot;:1.37168,&quot;z&quot;:-1.90231},{&quot;x&quot;:1.1927,&quot;y&quot;:1.37193,&quot;z&quot;:-1.8879},{&quot;x&quot;:1.17629,&quot;y&quot;:1.35774,&quot;z&quot;:-1.89695},{&quot;x&quot;:1.18472,&quot;y&quot;:1.3487,&quot;z&quot;:-1.91695},{&quot;x&quot;:1.51208,&quot;y&quot;:0.745847,&quot;z&quot;:-1.51539},{&quot;x&quot;:1.51701,&quot;y&quot;:0.760202,&quot;z&quot;:-1.49744},{&quot;x&quot;:1.49844,&quot;y&quot;:0.760458,&quot;z&quot;:-1.48302},{&quot;x&quot;:1.48202,&quot;y&quot;:0.746262,&quot;z&quot;:-1.49207},{&quot;x&quot;:1.49045,&quot;y&quot;:0.737231,&quot;z&quot;:-1.51208},{&quot;x&quot;:1.5,&quot;y&quot;:0.75,&quot;z&quot;:-1.5}], &quot;faces&quot;:[[0,2,1],[0,3,2],[0,4,3],[0,5,4],[0,1,5],[1,2,7,6],[2,3,8,7],[3,4,9,8],[4,5,10,9],[5,1,6,10],[6,7,11],[7,8,11],[8,9,11],[9,10,11],[10,6,11]], &quot;color&quot;:&quot;#0000ff&quot;, &quot;opacity&quot;:1},{&quot;vertices&quot;:[{&quot;x&quot;:1.125,&quot;y&quot;:1.5,&quot;z&quot;:-1.9966},{&quot;x&quot;:1.23049,&quot;y&quot;:1.34901,&quot;z&quot;:-1.95105},{&quot;x&quot;:1.24529,&quot;y&quot;:1.39208,&quot;z&quot;:-1.89719},{&quot;x&quot;:1.18957,&quot;y&quot;:1.39285,&quot;z&quot;:-1.85395},{&quot;x&quot;:1.14033,&quot;y&quot;:1.35026,&quot;z&quot;:-1.88109},{&quot;x&quot;:1.16562,&quot;y&quot;:1.32317,&quot;z&quot;:-1.9411},{&quot;x&quot;:1.19426,&quot;y&quot;:1.36147,&quot;z&quot;:-1.90488}], &quot;faces&quot;:[[0,2,1],[0,3,2],[0,4,3],[0,5,4],[0,1,5],[1,2,6],[2,3,6],[3,4,6],[4,5,6],[5,1,6]], &quot;color&quot;:&quot;#0000ff&quot;, &quot;opacity&quot;:1},{&quot;vertices&quot;:[{&quot;x&quot;:1.19853,&quot;y&quot;:1.35294,&quot;z&quot;:-1.05032},{&quot;x&quot;:1.20979,&quot;y&quot;:1.35043,&quot;z&quot;:-1.06666},{&quot;x&quot;:1.21568,&quot;y&quot;:1.36287,&quot;z&quot;:-1.0476},{&quot;x&quot;:1.19787,&quot;y&quot;:1.36158,&quot;z&quot;:-1.0323},{&quot;x&quot;:1.18098,&quot;y&quot;:1.34835,&quot;z&quot;:-1.0419},{&quot;x&quot;:1.18834,&quot;y&quot;:1.34146,&quot;z&quot;:-1.06314},{&quot;x&quot;:1.51126,&quot;y&quot;:0.747489,&quot;z&quot;:-0.76634},{&quot;x&quot;:1.51715,&quot;y&quot;:0.759929,&quot;z&quot;:-0.747279},{&quot;x&quot;:1.49934,&quot;y&quot;:0.758647,&quot;z&quot;:-0.731978},{&quot;x&quot;:1.48245,&quot;y&quot;:0.745416,&quot;z&quot;:-0.741583},{&quot;x&quot;:1.48981,&quot;y&quot;:0.738519,&quot;z&quot;:-0.76282},{&quot;x&quot;:1.5,&quot;y&quot;:0.75,&quot;z&quot;:-0.75}], &quot;faces&quot;:[[0,2,1],[0,3,2],[0,4,3],[0,5,4],[0,1,5],[1,2,7,6],[2,3,8,7],[3,4,9,8],[4,5,10,9],[5,1,6,10],[6,7,11],[7,8,11],[8,9,11],[9,10,11],[10,6,11]], &quot;color&quot;:&quot;#0000ff&quot;, &quot;opacity&quot;:1},{&quot;vertices&quot;:[{&quot;x&quot;:1.125,&quot;y&quot;:1.5,&quot;z&quot;:-1.12357},{&quot;x&quot;:1.2323,&quot;y&quot;:1.3454,&quot;z&quot;:-1.09934},{&quot;x&quot;:1.24997,&quot;y&quot;:1.38272,&quot;z&quot;:-1.04216},{&quot;x&quot;:1.19656,&quot;y&quot;:1.37888,&quot;z&quot;:-0.996254},{&quot;x&quot;:1.14587,&quot;y&quot;:1.33918,&quot;z&quot;:-1.02507},{&quot;x&quot;:1.16796,&quot;y&quot;:1.3185,&quot;z&quot;:-1.08878},{&quot;x&quot;:1.19853,&quot;y&quot;:1.35294,&quot;z&quot;:-1.05032}], &quot;faces&quot;:[[0,2,1],[0,3,2],[0,4,3],[0,5,4],[0,1,5],[1,2,6],[2,3,6],[3,4,6],[4,5,6],[5,1,6]], &quot;color&quot;:&quot;#0000ff&quot;, &quot;opacity&quot;:1},{&quot;vertices&quot;:[{&quot;x&quot;:1.2055,&quot;y&quot;:1.339,&quot;z&quot;:4.03231e-17},{&quot;x&quot;:1.2135,&quot;y&quot;:1.343,&quot;z&quot;:-0.0178885},{&quot;x&quot;:1.22319,&quot;y&quot;:1.34785,&quot;z&quot;:0.00297864},{&quot;x&quot;:1.20843,&quot;y&quot;:1.34047,&quot;z&quot;:0.0197294},{&quot;x&quot;:1.18962,&quot;y&quot;:1.33106,&quot;z&quot;:0.00921482},{&quot;x&quot;:1.19275,&quot;y&quot;:1.33263,&quot;z&quot;:-0.0140344},{&quot;x&quot;:1.508,&quot;y&quot;:0.754,&quot;z&quot;:-0.0178885},{&quot;x&quot;:1.51769,&quot;y&quot;:0.758845,&quot;z&quot;:0.00297864},{&quot;x&quot;:1.50293,&quot;y&quot;:0.751466,&quot;z&quot;:0.0197294},{&quot;x&quot;:1.48412,&quot;y&quot;:0.742062,&quot;z&quot;:0.00921482},{&quot;x&quot;:1.48726,&quot;y&quot;:0.743628,&quot;z&quot;:-0.0140344},{&quot;x&quot;:1.5,&quot;y&quot;:0.75,&quot;z&quot;:0}], &quot;faces&quot;:[[0,2,1],[0,3,2],[0,4,3],[0,5,4],[0,1,5],[1,2,7,6],[2,3,8,7],[3,4,9,8],[4,5,10,9],[5,1,6,10],[6,7,11],[7,8,11],[8,9,11],[9,10,11],[10,6,11]], &quot;color&quot;:&quot;#0000ff&quot;, &quot;opacity&quot;:1},{&quot;vertices&quot;:[{&quot;x&quot;:1.125,&quot;y&quot;:1.5,&quot;z&quot;:5.13449e-17},{&quot;x&quot;:1.2295,&quot;y&quot;:1.351,&quot;z&quot;:-0.0536656},{&quot;x&quot;:1.25857,&quot;y&quot;:1.36554,&quot;z&quot;:0.00893593},{&quot;x&quot;:1.2143,&quot;y&quot;:1.3434,&quot;z&quot;:0.0591883},{&quot;x&quot;:1.15787,&quot;y&quot;:1.31519,&quot;z&quot;:0.0276445},{&quot;x&quot;:1.16726,&quot;y&quot;:1.31989,&quot;z&quot;:-0.0421031},{&quot;x&quot;:1.2055,&quot;y&quot;:1.339,&quot;z&quot;:4.03231e-17}], &quot;faces&quot;:[[0,2,1],[0,3,2],[0,4,3],[0,5,4],[0,1,5],[1,2,6],[2,3,6],[3,4,6],[4,5,6],[5,1,6]], &quot;color&quot;:&quot;#0000ff&quot;, &quot;opacity&quot;:1},{&quot;vertices&quot;:[{&quot;x&quot;:1.19853,&quot;y&quot;:1.35294,&quot;z&quot;:1.05032},{&quot;x&quot;:1.20328,&quot;y&quot;:1.36345,&quot;z&quot;:1.03398},{&quot;x&quot;:1.21676,&quot;y&quot;:1.3607,&quot;z&quot;:1.05304},{&quot;x&quot;:1.20505,&quot;y&quot;:1.34722,&quot;z&quot;:1.06834},{&quot;x&quot;:1.18433,&quot;y&quot;:1.34164,&quot;z&quot;:1.05874},{&quot;x&quot;:1.18323,&quot;y&quot;:1.35167,&quot;z&quot;:1.0375},{&quot;x&quot;:1.50474,&quot;y&quot;:0.760511,&quot;z&quot;:0.73366},{&quot;x&quot;:1.51823,&quot;y&quot;:0.75776,&quot;z&quot;:0.752721},{&quot;x&quot;:1.50652,&quot;y&quot;:0.744285,&quot;z&quot;:0.768022},{&quot;x&quot;:1.4858,&quot;y&quot;:0.738708,&quot;z&quot;:0.758417},{&quot;x&quot;:1.4847,&quot;y&quot;:0.748736,&quot;z&quot;:0.73718},{&quot;x&quot;:1.5,&quot;y&quot;:0.75,&quot;z&quot;:0.75}], &quot;faces&quot;:[[0,2,1],[0,3,2],[0,4,3],[0,5,4],[0,1,5],[1,2,7,6],[2,3,8,7],[3,4,9,8],[4,5,10,9],[5,1,6,10],[6,7,11],[7,8,11],[8,9,11],[9,10,11],[10,6,11]], &quot;color&quot;:&quot;#0000ff&quot;, &quot;opacity&quot;:1},{&quot;vertices&quot;:[{&quot;x&quot;:1.125,&quot;y&quot;:1.5,&quot;z&quot;:1.12357},{&quot;x&quot;:1.21276,&quot;y&quot;:1.38447,&quot;z&quot;:1.0013},{&quot;x&quot;:1.25322,&quot;y&quot;:1.37622,&quot;z&quot;:1.05848},{&quot;x&quot;:1.2181,&quot;y&quot;:1.33579,&quot;z&quot;:1.10439},{&quot;x&quot;:1.15593,&quot;y&quot;:1.31906,&quot;z&quot;:1.07557},{&quot;x&quot;:1.15263,&quot;y&quot;:1.34915,&quot;z&quot;:1.01186},{&quot;x&quot;:1.19853,&quot;y&quot;:1.35294,&quot;z&quot;:1.05032}], &quot;faces&quot;:[[0,2,1],[0,3,2],[0,4,3],[0,5,4],[0,1,5],[1,2,6],[2,3,6],[3,4,6],[4,5,6],[5,1,6]], &quot;color&quot;:&quot;#0000ff&quot;, &quot;opacity&quot;:1},{&quot;vertices&quot;:[{&quot;x&quot;:1.19426,&quot;y&quot;:1.36147,&quot;z&quot;:1.90488},{&quot;x&quot;:1.19819,&quot;y&quot;:1.37363,&quot;z&quot;:1.88948},{&quot;x&quot;:1.21263,&quot;y&quot;:1.36896,&quot;z&quot;:1.90744},{&quot;x&quot;:1.20169,&quot;y&quot;:1.35395,&quot;z&quot;:1.92185},{&quot;x&quot;:1.18049,&quot;y&quot;:1.34934,&quot;z&quot;:1.9128},{&quot;x&quot;:1.17832,&quot;y&quot;:1.3615,&quot;z&quot;:1.8928},{&quot;x&quot;:1.50392,&quot;y&quot;:0.762153,&quot;z&quot;:1.48461},{&quot;x&quot;:1.51837,&quot;y&quot;:0.757487,&quot;z&quot;:1.50256},{&quot;x&quot;:1.50743,&quot;y&quot;:0.742474,&quot;z&quot;:1.51698},{&quot;x&quot;:1.48622,&quot;y&quot;:0.737862,&quot;z&quot;:1.50793},{&quot;x&quot;:1.48406,&quot;y&quot;:0.750024,&quot;z&quot;:1.48792},{&quot;x&quot;:1.5,&quot;y&quot;:0.75,&quot;z&quot;:1.5}], &quot;faces&quot;:[[0,2,1],[0,3,2],[0,4,3],[0,5,4],[0,1,5],[1,2,7,6],[2,3,8,7],[3,4,9,8],[4,5,10,9],[5,1,6,10],[6,7,11],[7,8,11],[8,9,11],[9,10,11],[10,6,11]], &quot;color&quot;:&quot;#0000ff&quot;, &quot;opacity&quot;:1},{&quot;vertices&quot;:[{&quot;x&quot;:1.125,&quot;y&quot;:1.5,&quot;z&quot;:1.9966},{&quot;x&quot;:1.20603,&quot;y&quot;:1.39793,&quot;z&quot;:1.8587},{&quot;x&quot;:1.24937,&quot;y&quot;:1.38393,&quot;z&quot;:1.91256},{&quot;x&quot;:1.21655,&quot;y&quot;:1.3389,&quot;z&quot;:1.9558},{&quot;x&quot;:1.15293,&quot;y&quot;:1.32506,&quot;z&quot;:1.92866},{&quot;x&quot;:1.14643,&quot;y&quot;:1.36155,&quot;z&quot;:1.86865},{&quot;x&quot;:1.19426,&quot;y&quot;:1.36147,&quot;z&quot;:1.90488}], &quot;faces&quot;:[[0,2,1],[0,3,2],[0,4,3],[0,5,4],[0,1,5],[1,2,6],[2,3,6],[3,4,6],[4,5,6],[5,1,6]], &quot;color&quot;:&quot;#0000ff&quot;, &quot;opacity&quot;:1},{&quot;vertices&quot;:[{&quot;x&quot;:0.876529,&quot;y&quot;:2.12347,&quot;z&quot;:-1.40386},{&quot;x&quot;:0.885445,&quot;y&quot;:2.13455,&quot;z&quot;:-1.41792},{&quot;x&quot;:0.889826,&quot;y&quot;:2.13538,&quot;z&quot;:-1.39484},{&quot;x&quot;:0.875831,&quot;y&quot;:2.11974,&quot;z&quot;:-1.38423},{&quot;x&quot;:0.862801,&quot;y&quot;:2.10926,&quot;z&quot;:-1.40075},{&quot;x&quot;:0.868743,&quot;y&quot;:2.11842,&quot;z&quot;:-1.42158},{&quot;x&quot;:1.50892,&quot;y&quot;:1.51108,&quot;z&quot;:-1.51406},{&quot;x&quot;:1.5133,&quot;y&quot;:1.5119,&quot;z&quot;:-1.49097},{&quot;x&quot;:1.4993,&quot;y&quot;:1.49627,&quot;z&quot;:-1.48036},{&quot;x&quot;:1.48627,&quot;y&quot;:1.48579,&quot;z&quot;:-1.49689},{&quot;x&quot;:1.49221,&quot;y&quot;:1.49495,&quot;z&quot;:-1.51772},{&quot;x&quot;:1.5,&quot;y&quot;:1.5,&quot;z&quot;:-1.5}], &quot;faces&quot;:[[0,2,1],[0,3,2],[0,4,3],[0,5,4],[0,1,5],[1,2,7,6],[2,3,8,7],[3,4,9,8],[4,5,10,9],[5,1,6,10],[6,7,11],[7,8,11],[8,9,11],[9,10,11],[10,6,11]], &quot;color&quot;:&quot;#0000ff&quot;, &quot;opacity&quot;:1},{&quot;vertices&quot;:[{&quot;x&quot;:0.75,&quot;y&quot;:2.25,&quot;z&quot;:-1.38435},{&quot;x&quot;:0.903278,&quot;y&quot;:2.15672,&quot;z&quot;:-1.44604},{&quot;x&quot;:0.916419,&quot;y&quot;:2.15919,&quot;z&quot;:-1.37678},{&quot;x&quot;:0.874434,&quot;y&quot;:2.11229,&quot;z&quot;:-1.34495},{&quot;x&quot;:0.835345,&quot;y&quot;:2.08085,&quot;z&quot;:-1.39453},{&quot;x&quot;:0.853171,&quot;y&quot;:2.10831,&quot;z&quot;:-1.45701},{&quot;x&quot;:0.876529,&quot;y&quot;:2.12347,&quot;z&quot;:-1.40386}], &quot;faces&quot;:[[0,2,1],[0,3,2],[0,4,3],[0,5,4],[0,1,5],[1,2,6],[2,3,6],[3,4,6],[4,5,6],[5,1,6]], &quot;color&quot;:&quot;#0000ff&quot;, &quot;opacity&quot;:1},{&quot;vertices&quot;:[{&quot;x&quot;:0.865271,&quot;y&quot;:2.13473,&quot;z&quot;:-1.17027},{&quot;x&quot;:0.879511,&quot;y&quot;:2.14049,&quot;z&quot;:-1.18308},{&quot;x&quot;:0.875149,&quot;y&quot;:2.15005,&quot;z&quot;:-1.16205},{&quot;x&quot;:0.857135,&quot;y&quot;:2.13844,&quot;z&quot;:-1.15238},{&quot;x&quot;:0.850364,&quot;y&quot;:2.1217,&quot;z&quot;:-1.16744},{&quot;x&quot;:0.864193,&quot;y&quot;:2.12297,&quot;z&quot;:-1.18641},{&quot;x&quot;:1.51424,&quot;y&quot;:1.50576,&quot;z&quot;:-0.762808},{&quot;x&quot;:1.50988,&quot;y&quot;:1.51532,&quot;z&quot;:-0.741777},{&quot;x&quot;:1.49186,&quot;y&quot;:1.50371,&quot;z&quot;:-0.73211},{&quot;x&quot;:1.48509,&quot;y&quot;:1.48697,&quot;z&quot;:-0.747166},{&quot;x&quot;:1.49892,&quot;y&quot;:1.48824,&quot;z&quot;:-0.766139},{&quot;x&quot;:1.5,&quot;y&quot;:1.5,&quot;z&quot;:-0.75}], &quot;faces&quot;:[[0,2,1],[0,3,2],[0,4,3],[0,5,4],[0,1,5],[1,2,7,6],[2,3,8,7],[3,4,9,8],[4,5,10,9],[5,1,6,10],[6,7,11],[7,8,11],[8,9,11],[9,10,11],[10,6,11]], &quot;color&quot;:&quot;#0000ff&quot;, &quot;opacity&quot;:1},{&quot;vertices&quot;:[{&quot;x&quot;:0.75,&quot;y&quot;:2.25,&quot;z&quot;:-1.2466},{&quot;x&quot;:0.907991,&quot;y&quot;:2.15201,&quot;z&quot;:-1.2087},{&quot;x&quot;:0.894906,&quot;y&quot;:2.1807,&quot;z&quot;:-1.14561},{&quot;x&quot;:0.840865,&quot;y&quot;:2.14586,&quot;z&quot;:-1.1166},{&quot;x&quot;:0.820552,&quot;y&quot;:2.09564,&quot;z&quot;:-1.16177},{&quot;x&quot;:0.862038,&quot;y&quot;:2.09944,&quot;z&quot;:-1.21869},{&quot;x&quot;:0.865271,&quot;y&quot;:2.13473,&quot;z&quot;:-1.17027}], &quot;faces&quot;:[[0,2,1],[0,3,2],[0,4,3],[0,5,4],[0,1,5],[1,2,6],[2,3,6],[3,4,6],[4,5,6],[5,1,6]], &quot;color&quot;:&quot;#0000ff&quot;, &quot;opacity&quot;:1},{&quot;vertices&quot;:[{&quot;x&quot;:0.877279,&quot;y&quot;:2.12272,&quot;z&quot;:5.39249e-17},{&quot;x&quot;:0.887279,&quot;y&quot;:2.13272,&quot;z&quot;:-0.0141421},{&quot;x&quot;:0.88988,&quot;y&quot;:2.13532,&quot;z&quot;:0.00907981},{&quot;x&quot;:0.875067,&quot;y&quot;:2.12051,&quot;z&quot;:0.0197538},{&quot;x&quot;:0.863311,&quot;y&quot;:2.10875,&quot;z&quot;:0.00312869},{&quot;x&quot;:0.870859,&quot;y&quot;:2.1163,&quot;z&quot;:-0.0178201},{&quot;x&quot;:1.51,&quot;y&quot;:1.51,&quot;z&quot;:-0.0141421},{&quot;x&quot;:1.5126,&quot;y&quot;:1.5126,&quot;z&quot;:0.00907981},{&quot;x&quot;:1.49779,&quot;y&quot;:1.49779,&quot;z&quot;:0.0197538},{&quot;x&quot;:1.48603,&quot;y&quot;:1.48603,&quot;z&quot;:0.00312869},{&quot;x&quot;:1.49358,&quot;y&quot;:1.49358,&quot;z&quot;:-0.0178201},{&quot;x&quot;:1.5,&quot;y&quot;:1.5,&quot;z&quot;:0}], &quot;faces&quot;:[[0,2,1],[0,3,2],[0,4,3],[0,5,4],[0,1,5],[1,2,7,6],[2,3,8,7],[3,4,9,8],[4,5,10,9],[5,1,6,10],[6,7,11],[7,8,11],[8,9,11],[9,10,11],[10,6,11]], &quot;color&quot;:&quot;#0000ff&quot;, &quot;opacity&quot;:1},{&quot;vertices&quot;:[{&quot;x&quot;:0.75,&quot;y&quot;:2.25,&quot;z&quot;:6.49467e-17},{&quot;x&quot;:0.907279,&quot;y&quot;:2.15272,&quot;z&quot;:-0.0424264},{&quot;x&quot;:0.915081,&quot;y&quot;:2.16052,&quot;z&quot;:0.0272394},{&quot;x&quot;:0.870642,&quot;y&quot;:2.11608,&quot;z&quot;:0.0592613},{&quot;x&quot;:0.835375,&quot;y&quot;:2.08082,&quot;z&quot;:0.00938607},{&quot;x&quot;:0.858018,&quot;y&quot;:2.10346,&quot;z&quot;:-0.0534604},{&quot;x&quot;:0.877279,&quot;y&quot;:2.12272,&quot;z&quot;:5.39249e-17}], &quot;faces&quot;:[[0,2,1],[0,3,2],[0,4,3],[0,5,4],[0,1,5],[1,2,6],[2,3,6],[3,4,6],[4,5,6],[5,1,6]], &quot;color&quot;:&quot;#0000ff&quot;, &quot;opacity&quot;:1},{&quot;vertices&quot;:[{&quot;x&quot;:0.865271,&quot;y&quot;:2.13473,&quot;z&quot;:1.17027},{&quot;x&quot;:0.87103,&quot;y&quot;:2.14897,&quot;z&quot;:1.15747},{&quot;x&quot;:0.880594,&quot;y&quot;:2.14461,&quot;z&quot;:1.1785},{&quot;x&quot;:0.868981,&quot;y&quot;:2.12659,&quot;z&quot;:1.18816},{&quot;x&quot;:0.852241,&quot;y&quot;:2.11982,&quot;z&quot;:1.17311},{&quot;x&quot;:0.853507,&quot;y&quot;:2.13365,&quot;z&quot;:1.15414},{&quot;x&quot;:1.50576,&quot;y&quot;:1.51424,&quot;z&quot;:0.737192},{&quot;x&quot;:1.51532,&quot;y&quot;:1.50988,&quot;z&quot;:0.758223},{&quot;x&quot;:1.50371,&quot;y&quot;:1.49186,&quot;z&quot;:0.76789},{&quot;x&quot;:1.48697,&quot;y&quot;:1.48509,&quot;z&quot;:0.752834},{&quot;x&quot;:1.48824,&quot;y&quot;:1.49892,&quot;z&quot;:0.733861},{&quot;x&quot;:1.5,&quot;y&quot;:1.5,&quot;z&quot;:0.75}], &quot;faces&quot;:[[0,2,1],[0,3,2],[0,4,3],[0,5,4],[0,1,5],[1,2,7,6],[2,3,8,7],[3,4,9,8],[4,5,10,9],[5,1,6,10],[6,7,11],[7,8,11],[8,9,11],[9,10,11],[10,6,11]], &quot;color&quot;:&quot;#0000ff&quot;, &quot;opacity&quot;:1},{&quot;vertices&quot;:[{&quot;x&quot;:0.75,&quot;y&quot;:2.25,&quot;z&quot;:1.2466},{&quot;x&quot;:0.88255,&quot;y&quot;:2.17745,&quot;z&quot;:1.13185},{&quot;x&quot;:0.91124,&quot;y&quot;:2.16436,&quot;z&quot;:1.19494},{&quot;x&quot;:0.876402,&quot;y&quot;:2.11032,&quot;z&quot;:1.22394},{&quot;x&quot;:0.826181,&quot;y&quot;:2.09001,&quot;z&quot;:1.17878},{&quot;x&quot;:0.82998,&quot;y&quot;:2.1315,&quot;z&quot;:1.12186},{&quot;x&quot;:0.865271,&quot;y&quot;:2.13473,&quot;z&quot;:1.17027}], &quot;faces&quot;:[[0,2,1],[0,3,2],[0,4,3],[0,5,4],[0,1,5],[1,2,6],[2,3,6],[3,4,6],[4,5,6],[5,1,6]], &quot;color&quot;:&quot;#0000ff&quot;, &quot;opacity&quot;:1},{&quot;vertices&quot;:[{&quot;x&quot;:0.876529,&quot;y&quot;:2.12347,&quot;z&quot;:1.40386},{&quot;x&quot;:0.887613,&quot;y&quot;:2.13239,&quot;z&quot;:1.3898},{&quot;x&quot;:0.888434,&quot;y&quot;:2.13677,&quot;z&quot;:1.41289},{&quot;x&quot;:0.872803,&quot;y&quot;:2.12277,&quot;z&quot;:1.4235},{&quot;x&quot;:0.862322,&quot;y&quot;:2.10974,&quot;z&quot;:1.40697},{&quot;x&quot;:0.871475,&quot;y&quot;:2.11568,&quot;z&quot;:1.38615},{&quot;x&quot;:1.51108,&quot;y&quot;:1.50892,&quot;z&quot;:1.48594},{&quot;x&quot;:1.5119,&quot;y&quot;:1.5133,&quot;z&quot;:1.50903},{&quot;x&quot;:1.49627,&quot;y&quot;:1.4993,&quot;z&quot;:1.51964},{&quot;x&quot;:1.48579,&quot;y&quot;:1.48627,&quot;z&quot;:1.50311},{&quot;x&quot;:1.49495,&quot;y&quot;:1.49221,&quot;z&quot;:1.48228},{&quot;x&quot;:1.5,&quot;y&quot;:1.5,&quot;z&quot;:1.5}], &quot;faces&quot;:[[0,2,1],[0,3,2],[0,4,3],[0,5,4],[0,1,5],[1,2,7,6],[2,3,8,7],[3,4,9,8],[4,5,10,9],[5,1,6,10],[6,7,11],[7,8,11],[8,9,11],[9,10,11],[10,6,11]], &quot;color&quot;:&quot;#0000ff&quot;, &quot;opacity&quot;:1},{&quot;vertices&quot;:[{&quot;x&quot;:0.75,&quot;y&quot;:2.25,&quot;z&quot;:1.38435},{&quot;x&quot;:0.909781,&quot;y&quot;:2.15022,&quot;z&quot;:1.36169},{&quot;x&quot;:0.912244,&quot;y&quot;:2.16336,&quot;z&quot;:1.43094},{&quot;x&quot;:0.86535,&quot;y&quot;:2.12138,&quot;z&quot;:1.46278},{&quot;x&quot;:0.833906,&quot;y&quot;:2.08229,&quot;z&quot;:1.41319},{&quot;x&quot;:0.861366,&quot;y&quot;:2.10011,&quot;z&quot;:1.35072},{&quot;x&quot;:0.876529,&quot;y&quot;:2.12347,&quot;z&quot;:1.40386}], &quot;faces&quot;:[[0,2,1],[0,3,2],[0,4,3],[0,5,4],[0,1,5],[1,2,6],[2,3,6],[3,4,6],[4,5,6],[5,1,6]], &quot;color&quot;:&quot;#0000ff&quot;, &quot;opacity&quot;:1}];\n",
       "    for ( var i=0 ; i < surfaces.length ; i++ ) addSurface( surfaces[i] );\n",
       "\n",
       "    function addSurface( json ) {\n",
       "        var geometry = new THREE.Geometry();\n",
       "        for ( var i=0 ; i < json.vertices.length ; i++ ) {\n",
       "            var v = json.vertices[i];\n",
       "            geometry.vertices.push( new THREE.Vector3( a[0]*v.x, a[1]*v.y, a[2]*v.z ) );\n",
       "        }\n",
       "        for ( var i=0 ; i < json.faces.length ; i++ ) {\n",
       "            var f = json.faces[i];\n",
       "            for ( var j=0 ; j < f.length - 2 ; j++ ) {\n",
       "                geometry.faces.push( new THREE.Face3( f[0], f[j+1], f[j+2] ) );\n",
       "            }\n",
       "        }\n",
       "        geometry.computeVertexNormals();\n",
       "\n",
       "        var transparent = json.opacity < 1 ? true : false;\n",
       "        var material = new THREE.MeshPhongMaterial( {\n",
       "                                     color: json.color, side: THREE.DoubleSide,\n",
       "                                     transparent: transparent, opacity: json.opacity,\n",
       "                                     shininess: 20 } );\n",
       "\n",
       "        var c = geometry.center().multiplyScalar( -1 );\n",
       "        var mesh = new THREE.Mesh( geometry, material );\n",
       "        mesh.position.set( c.x, c.y, c.z );\n",
       "        scene.add( mesh );\n",
       "    }\n",
       "\n",
       "    var scratch = new THREE.Vector3();\n",
       "\n",
       "    function render() {\n",
       "\n",
       "        if ( animate ) requestAnimationFrame( render );\n",
       "        renderer.render( scene, camera );\n",
       "\n",
       "        for ( var i=0 ; i < scene.children.length ; i++ ) {\n",
       "            if ( scene.children[i].type === 'Sprite' ) {\n",
       "                var sprite = scene.children[i];\n",
       "                var adjust = scratch.addVectors( sprite.position, scene.position )\n",
       "                               .sub( camera.position ).length() / 5;\n",
       "                sprite.scale.set( adjust, .25*adjust ); // ratio of canvas width to height\n",
       "            }\n",
       "        }\n",
       "    }\n",
       "    \n",
       "    render();\n",
       "    controls.update();\n",
       "    if ( !animate ) render();\n",
       "\n",
       "</script>\n",
       "\n",
       "</body>\n",
       "</html>\" \n",
       "        width=\"100%\"\n",
       "        height=\"400\"\n",
       "        style=\"border: 0;\">\n",
       "</iframe>\n"
      ],
      "text/plain": [
       "Graphics3d Object"
      ]
     },
     "execution_count": 14,
     "metadata": {},
     "output_type": "execute_result"
    }
   ],
   "source": [
    "v.plot(max_range=1.5, scale=0.5, viewer='threejs')"
   ]
  },
  {
   "cell_type": "markdown",
   "metadata": {},
   "source": [
    "We may define a vector field with generic components:"
   ]
  },
  {
   "cell_type": "code",
   "execution_count": 15,
   "metadata": {},
   "outputs": [
    {
     "data": {
      "text/html": [
       "<html><script type=\"math/tex; mode=display\">\\newcommand{\\Bold}[1]{\\mathbf{#1}}u = u_{x}\\left(x, y, z\\right) e_{ x } + u_{y}\\left(x, y, z\\right) e_{ y } + u_{z}\\left(x, y, z\\right) e_{ z }</script></html>"
      ],
      "text/plain": [
       "u = u_x(x, y, z) e_x + u_y(x, y, z) e_y + u_z(x, y, z) e_z"
      ]
     },
     "execution_count": 15,
     "metadata": {},
     "output_type": "execute_result"
    }
   ],
   "source": [
    "u = E.vector_field(function('u_x')(x,y,z),\n",
    "                   function('u_y')(x,y,z),\n",
    "                   function('u_z')(x,y,z),\n",
    "                   name='u')\n",
    "u.display()"
   ]
  },
  {
   "cell_type": "code",
   "execution_count": 16,
   "metadata": {},
   "outputs": [
    {
     "data": {
      "text/html": [
       "<html><script type=\"math/tex; mode=display\">\\newcommand{\\Bold}[1]{\\mathbf{#1}}\\left[u_{x}\\left(x, y, z\\right), u_{y}\\left(x, y, z\\right), u_{z}\\left(x, y, z\\right)\\right]</script></html>"
      ],
      "text/plain": [
       "[u_x(x, y, z), u_y(x, y, z), u_z(x, y, z)]"
      ]
     },
     "execution_count": 16,
     "metadata": {},
     "output_type": "execute_result"
    }
   ],
   "source": [
    "u[:]"
   ]
  },
  {
   "cell_type": "code",
   "execution_count": 17,
   "metadata": {},
   "outputs": [
    {
     "data": {
      "text/html": [
       "<html><script type=\"math/tex; mode=display\">\\newcommand{\\Bold}[1]{\\mathbf{#1}}u = u_{x}\\left(3, -2, 1\\right) e_{ x } + u_{y}\\left(3, -2, 1\\right) e_{ y } + u_{z}\\left(3, -2, 1\\right) e_{ z }</script></html>"
      ],
      "text/plain": [
       "u = u_x(3, -2, 1) e_x + u_y(3, -2, 1) e_y + u_z(3, -2, 1) e_z"
      ]
     },
     "execution_count": 17,
     "metadata": {},
     "output_type": "execute_result"
    }
   ],
   "source": [
    "up = u.at(p)\n",
    "up.display()"
   ]
  },
  {
   "cell_type": "markdown",
   "metadata": {},
   "source": [
    "## Algebraic operations on vector fields\n",
    "\n",
    "### Dot product\n",
    "\n",
    "The dot (or scalar) product of the vector fields $u$ and $v$ is obtained by the method `dot_product`, which admits `dot` as a shortcut alias:"
   ]
  },
  {
   "cell_type": "code",
   "execution_count": 18,
   "metadata": {},
   "outputs": [
    {
     "data": {
      "text/html": [
       "<html><script type=\"math/tex; mode=display\">\\newcommand{\\Bold}[1]{\\mathbf{#1}}{u}\\cdot{v}</script></html>"
      ],
      "text/plain": [
       "Scalar field u.v on the Euclidean space E^3"
      ]
     },
     "execution_count": 18,
     "metadata": {},
     "output_type": "execute_result"
    }
   ],
   "source": [
    "s = u.dot(v)\n",
    "s"
   ]
  },
  {
   "cell_type": "code",
   "execution_count": 19,
   "metadata": {},
   "outputs": [
    {
     "name": "stdout",
     "output_type": "stream",
     "text": [
      "Scalar field u.v on the Euclidean space E^3\n"
     ]
    }
   ],
   "source": [
    "print(s)"
   ]
  },
  {
   "cell_type": "markdown",
   "metadata": {},
   "source": [
    "$s= u\\cdot v$ is a *scalar field*, i.e. a map $\\mathbb{E}^3 \\rightarrow \\mathbb{R}$:"
   ]
  },
  {
   "cell_type": "code",
   "execution_count": 20,
   "metadata": {},
   "outputs": [
    {
     "data": {
      "text/html": [
       "<html><script type=\"math/tex; mode=display\">\\newcommand{\\Bold}[1]{\\mathbf{#1}}\\begin{array}{llcl} {u}\\cdot{v}:& \\mathbb{E}^{3} & \\longrightarrow & \\mathbb{R} \\\\ & \\left(x, y, z\\right) & \\longmapsto & -y u_{x}\\left(x, y, z\\right) + x u_{y}\\left(x, y, z\\right) + \\sin\\left(x y z\\right) u_{z}\\left(x, y, z\\right) \\end{array}</script></html>"
      ],
      "text/plain": [
       "u.v: E^3 --> R\n",
       "   (x, y, z) |--> -y*u_x(x, y, z) + x*u_y(x, y, z) + sin(x*y*z)*u_z(x, y, z)"
      ]
     },
     "execution_count": 20,
     "metadata": {},
     "output_type": "execute_result"
    }
   ],
   "source": [
    "s.display()"
   ]
  },
  {
   "cell_type": "markdown",
   "metadata": {},
   "source": [
    "It maps point of $\\mathbb{E}^3$ to real numbers:"
   ]
  },
  {
   "cell_type": "code",
   "execution_count": 21,
   "metadata": {},
   "outputs": [
    {
     "data": {
      "text/html": [
       "<html><script type=\"math/tex; mode=display\">\\newcommand{\\Bold}[1]{\\mathbf{#1}}-\\sin\\left(6\\right) u_{z}\\left(3, -2, 1\\right) + 2 \\, u_{x}\\left(3, -2, 1\\right) + 3 \\, u_{y}\\left(3, -2, 1\\right)</script></html>"
      ],
      "text/plain": [
       "-sin(6)*u_z(3, -2, 1) + 2*u_x(3, -2, 1) + 3*u_y(3, -2, 1)"
      ]
     },
     "execution_count": 21,
     "metadata": {},
     "output_type": "execute_result"
    }
   ],
   "source": [
    "s(p)"
   ]
  },
  {
   "cell_type": "markdown",
   "metadata": {},
   "source": [
    "Its coordinate expression is"
   ]
  },
  {
   "cell_type": "code",
   "execution_count": 22,
   "metadata": {},
   "outputs": [
    {
     "data": {
      "text/html": [
       "<html><script type=\"math/tex; mode=display\">\\newcommand{\\Bold}[1]{\\mathbf{#1}}-y u_{x}\\left(x, y, z\\right) + x u_{y}\\left(x, y, z\\right) + \\sin\\left(x y z\\right) u_{z}\\left(x, y, z\\right)</script></html>"
      ],
      "text/plain": [
       "-y*u_x(x, y, z) + x*u_y(x, y, z) + sin(x*y*z)*u_z(x, y, z)"
      ]
     },
     "execution_count": 22,
     "metadata": {},
     "output_type": "execute_result"
    }
   ],
   "source": [
    "s.expr()"
   ]
  },
  {
   "cell_type": "markdown",
   "metadata": {},
   "source": [
    "### Norm\n",
    "\n",
    "The norm of a vector field is "
   ]
  },
  {
   "cell_type": "code",
   "execution_count": 23,
   "metadata": {},
   "outputs": [
    {
     "data": {
      "text/html": [
       "<html><script type=\"math/tex; mode=display\">\\newcommand{\\Bold}[1]{\\mathbf{#1}}\\left\\|u\\right\\|</script></html>"
      ],
      "text/plain": [
       "Scalar field |u| on the Euclidean space E^3"
      ]
     },
     "execution_count": 23,
     "metadata": {},
     "output_type": "execute_result"
    }
   ],
   "source": [
    "s = norm(u)\n",
    "s"
   ]
  },
  {
   "cell_type": "code",
   "execution_count": 24,
   "metadata": {},
   "outputs": [
    {
     "data": {
      "text/html": [
       "<html><script type=\"math/tex; mode=display\">\\newcommand{\\Bold}[1]{\\mathbf{#1}}\\begin{array}{llcl} \\left\\|u\\right\\|:& \\mathbb{E}^{3} & \\longrightarrow & \\mathbb{R} \\\\ & \\left(x, y, z\\right) & \\longmapsto & \\sqrt{u_{x}\\left(x, y, z\\right)^{2} + u_{y}\\left(x, y, z\\right)^{2} + u_{z}\\left(x, y, z\\right)^{2}} \\end{array}</script></html>"
      ],
      "text/plain": [
       "|u|: E^3 --> R\n",
       "   (x, y, z) |--> sqrt(u_x(x, y, z)^2 + u_y(x, y, z)^2 + u_z(x, y, z)^2)"
      ]
     },
     "execution_count": 24,
     "metadata": {},
     "output_type": "execute_result"
    }
   ],
   "source": [
    "s.display()"
   ]
  },
  {
   "cell_type": "code",
   "execution_count": 25,
   "metadata": {},
   "outputs": [
    {
     "data": {
      "text/html": [
       "<html><script type=\"math/tex; mode=display\">\\newcommand{\\Bold}[1]{\\mathbf{#1}}\\sqrt{u_{x}\\left(x, y, z\\right)^{2} + u_{y}\\left(x, y, z\\right)^{2} + u_{z}\\left(x, y, z\\right)^{2}}</script></html>"
      ],
      "text/plain": [
       "sqrt(u_x(x, y, z)^2 + u_y(x, y, z)^2 + u_z(x, y, z)^2)"
      ]
     },
     "execution_count": 25,
     "metadata": {},
     "output_type": "execute_result"
    }
   ],
   "source": [
    "s.expr()"
   ]
  },
  {
   "cell_type": "markdown",
   "metadata": {},
   "source": [
    "The norm is related to the dot product by $\\|u\\|^2 = u\\cdot u$, as we can check:"
   ]
  },
  {
   "cell_type": "code",
   "execution_count": 26,
   "metadata": {},
   "outputs": [
    {
     "data": {
      "text/html": [
       "<html><script type=\"math/tex; mode=display\">\\newcommand{\\Bold}[1]{\\mathbf{#1}}\\mathrm{True}</script></html>"
      ],
      "text/plain": [
       "True"
      ]
     },
     "execution_count": 26,
     "metadata": {},
     "output_type": "execute_result"
    }
   ],
   "source": [
    "norm(u)^2 == u.dot(u)"
   ]
  },
  {
   "cell_type": "markdown",
   "metadata": {},
   "source": [
    "For $v$, we have:"
   ]
  },
  {
   "cell_type": "code",
   "execution_count": 27,
   "metadata": {},
   "outputs": [
    {
     "data": {
      "text/html": [
       "<html><script type=\"math/tex; mode=display\">\\newcommand{\\Bold}[1]{\\mathbf{#1}}\\sqrt{x^{2} + y^{2} + \\sin\\left(x y z\\right)^{2}}</script></html>"
      ],
      "text/plain": [
       "sqrt(x^2 + y^2 + sin(x*y*z)^2)"
      ]
     },
     "execution_count": 27,
     "metadata": {},
     "output_type": "execute_result"
    }
   ],
   "source": [
    "norm(v).expr()"
   ]
  },
  {
   "cell_type": "markdown",
   "metadata": {},
   "source": [
    "### Cross product\n",
    "\n",
    "The cross product of $u$ by $v$ is obtained by the method `cross_product`, which admits `cross` as a shortcut alias:"
   ]
  },
  {
   "cell_type": "code",
   "execution_count": 28,
   "metadata": {},
   "outputs": [
    {
     "name": "stdout",
     "output_type": "stream",
     "text": [
      "Vector field u x v on the Euclidean space E^3\n"
     ]
    }
   ],
   "source": [
    "s = u.cross(v)\n",
    "print(s)"
   ]
  },
  {
   "cell_type": "code",
   "execution_count": 29,
   "metadata": {},
   "outputs": [
    {
     "data": {
      "text/html": [
       "<html><script type=\"math/tex; mode=display\">\\newcommand{\\Bold}[1]{\\mathbf{#1}}{u}\\times{v} = \\left( \\sin\\left(x y z\\right) u_{y}\\left(x, y, z\\right) - x u_{z}\\left(x, y, z\\right) \\right) e_{ x } + \\left( -\\sin\\left(x y z\\right) u_{x}\\left(x, y, z\\right) - y u_{z}\\left(x, y, z\\right) \\right) e_{ y } + \\left( x u_{x}\\left(x, y, z\\right) + y u_{y}\\left(x, y, z\\right) \\right) e_{ z }</script></html>"
      ],
      "text/plain": [
       "u x v = (sin(x*y*z)*u_y(x, y, z) - x*u_z(x, y, z)) e_x + (-sin(x*y*z)*u_x(x, y, z) - y*u_z(x, y, z)) e_y + (x*u_x(x, y, z) + y*u_y(x, y, z)) e_z"
      ]
     },
     "execution_count": 29,
     "metadata": {},
     "output_type": "execute_result"
    }
   ],
   "source": [
    "s.display()"
   ]
  },
  {
   "cell_type": "markdown",
   "metadata": {},
   "source": [
    "### Scalar triple product\n",
    "\n",
    "Let us introduce a third vector field. As a example, we do not pass the components as arguments of `vector_field`, as we did for $u$ and $v$; instead, we set them in a second stage, via the square bracket operator, any unset component being assumed to be zero:"
   ]
  },
  {
   "cell_type": "code",
   "execution_count": 30,
   "metadata": {},
   "outputs": [
    {
     "data": {
      "text/html": [
       "<html><script type=\"math/tex; mode=display\">\\newcommand{\\Bold}[1]{\\mathbf{#1}}w = x z e_{ x } + y z e_{ y }</script></html>"
      ],
      "text/plain": [
       "w = x*z e_x + y*z e_y"
      ]
     },
     "execution_count": 30,
     "metadata": {},
     "output_type": "execute_result"
    }
   ],
   "source": [
    "w = E.vector_field(name='w')\n",
    "w[1] = x*z\n",
    "w[2] = y*z\n",
    "w.display()"
   ]
  },
  {
   "cell_type": "markdown",
   "metadata": {},
   "source": [
    "The scalar triple product of the vector fields $u$, $v$ and $w$ is obtained as follows: "
   ]
  },
  {
   "cell_type": "code",
   "execution_count": 31,
   "metadata": {},
   "outputs": [
    {
     "name": "stdout",
     "output_type": "stream",
     "text": [
      "Scalar field epsilon(u,v,w) on the Euclidean space E^3\n"
     ]
    }
   ],
   "source": [
    "triple_product = E.scalar_triple_product()\n",
    "s = triple_product(u, v, w)\n",
    "print(s)"
   ]
  },
  {
   "cell_type": "code",
   "execution_count": 32,
   "metadata": {},
   "outputs": [
    {
     "data": {
      "text/html": [
       "<html><script type=\"math/tex; mode=display\">\\newcommand{\\Bold}[1]{\\mathbf{#1}}-{\\left(y u_{x}\\left(x, y, z\\right) - x u_{y}\\left(x, y, z\\right)\\right)} z \\sin\\left(x y z\\right) - {\\left(x^{2} u_{z}\\left(x, y, z\\right) + y^{2} u_{z}\\left(x, y, z\\right)\\right)} z</script></html>"
      ],
      "text/plain": [
       "-(y*u_x(x, y, z) - x*u_y(x, y, z))*z*sin(x*y*z) - (x^2*u_z(x, y, z) + y^2*u_z(x, y, z))*z"
      ]
     },
     "execution_count": 32,
     "metadata": {},
     "output_type": "execute_result"
    }
   ],
   "source": [
    "s.expr()"
   ]
  },
  {
   "cell_type": "markdown",
   "metadata": {},
   "source": [
    "Let us check that the scalar triple product of $u$, $v$ and $w$ is $u\\cdot(v\\times w)$:"
   ]
  },
  {
   "cell_type": "code",
   "execution_count": 33,
   "metadata": {},
   "outputs": [
    {
     "data": {
      "text/html": [
       "<html><script type=\"math/tex; mode=display\">\\newcommand{\\Bold}[1]{\\mathbf{#1}}\\mathrm{True}</script></html>"
      ],
      "text/plain": [
       "True"
      ]
     },
     "execution_count": 33,
     "metadata": {},
     "output_type": "execute_result"
    }
   ],
   "source": [
    "s == u.dot(v.cross(w))"
   ]
  },
  {
   "cell_type": "markdown",
   "metadata": {},
   "source": [
    "## Differential operators"
   ]
  },
  {
   "cell_type": "markdown",
   "metadata": {},
   "source": [
    "### Gradient of a scalar field\n",
    "\n",
    "We first introduce a scalar field, via its expression in terms of Cartesian coordinates; in this example, we consider a unspecified function of $(x,y,z)$:"
   ]
  },
  {
   "cell_type": "code",
   "execution_count": 34,
   "metadata": {},
   "outputs": [
    {
     "data": {
      "text/html": [
       "<html><script type=\"math/tex; mode=display\">\\newcommand{\\Bold}[1]{\\mathbf{#1}}\\begin{array}{llcl} F:& \\mathbb{E}^{3} & \\longrightarrow & \\mathbb{R} \\\\ & \\left(x, y, z\\right) & \\longmapsto & f\\left(x, y, z\\right) \\end{array}</script></html>"
      ],
      "text/plain": [
       "F: E^3 --> R\n",
       "   (x, y, z) |--> f(x, y, z)"
      ]
     },
     "execution_count": 34,
     "metadata": {},
     "output_type": "execute_result"
    }
   ],
   "source": [
    "F = E.scalar_field(function('f')(x,y,z), name='F')\n",
    "F.display()"
   ]
  },
  {
   "cell_type": "markdown",
   "metadata": {},
   "source": [
    "The value of $F$ at a point:"
   ]
  },
  {
   "cell_type": "code",
   "execution_count": 35,
   "metadata": {},
   "outputs": [
    {
     "data": {
      "text/html": [
       "<html><script type=\"math/tex; mode=display\">\\newcommand{\\Bold}[1]{\\mathbf{#1}}f\\left(3, -2, 1\\right)</script></html>"
      ],
      "text/plain": [
       "f(3, -2, 1)"
      ]
     },
     "execution_count": 35,
     "metadata": {},
     "output_type": "execute_result"
    }
   ],
   "source": [
    "F(p)"
   ]
  },
  {
   "cell_type": "markdown",
   "metadata": {},
   "source": [
    "The gradient of $F$:"
   ]
  },
  {
   "cell_type": "code",
   "execution_count": 36,
   "metadata": {},
   "outputs": [
    {
     "name": "stdout",
     "output_type": "stream",
     "text": [
      "Vector field grad(F) on the Euclidean space E^3\n"
     ]
    }
   ],
   "source": [
    "print(grad(F))"
   ]
  },
  {
   "cell_type": "code",
   "execution_count": 37,
   "metadata": {},
   "outputs": [
    {
     "data": {
      "text/html": [
       "<html><script type=\"math/tex; mode=display\">\\newcommand{\\Bold}[1]{\\mathbf{#1}}\\mathrm{grad}\\left(F\\right) = \\frac{\\partial\\,f}{\\partial x} e_{ x } + \\frac{\\partial\\,f}{\\partial y} e_{ y } + \\frac{\\partial\\,f}{\\partial z} e_{ z }</script></html>"
      ],
      "text/plain": [
       "grad(F) = d(f)/dx e_x + d(f)/dy e_y + d(f)/dz e_z"
      ]
     },
     "execution_count": 37,
     "metadata": {},
     "output_type": "execute_result"
    }
   ],
   "source": [
    "grad(F).display()"
   ]
  },
  {
   "cell_type": "code",
   "execution_count": 38,
   "metadata": {},
   "outputs": [
    {
     "data": {
      "text/html": [
       "<html><script type=\"math/tex; mode=display\">\\newcommand{\\Bold}[1]{\\mathbf{#1}}\\begin{array}{llcl} \\left\\|\\mathrm{grad}\\left(F\\right)\\right\\|:& \\mathbb{E}^{3} & \\longrightarrow & \\mathbb{R} \\\\ & \\left(x, y, z\\right) & \\longmapsto & \\sqrt{\\left(\\frac{\\partial\\,f}{\\partial x}\\right)^{2} + \\left(\\frac{\\partial\\,f}{\\partial y}\\right)^{2} + \\left(\\frac{\\partial\\,f}{\\partial z}\\right)^{2}} \\end{array}</script></html>"
      ],
      "text/plain": [
       "|grad(F)|: E^3 --> R\n",
       "   (x, y, z) |--> sqrt((d(f)/dx)^2 + (d(f)/dy)^2 + (d(f)/dz)^2)"
      ]
     },
     "execution_count": 38,
     "metadata": {},
     "output_type": "execute_result"
    }
   ],
   "source": [
    "norm(grad(F)).display()"
   ]
  },
  {
   "cell_type": "markdown",
   "metadata": {},
   "source": [
    "### Divergence \n",
    "\n",
    "The divergence of a vector field:"
   ]
  },
  {
   "cell_type": "code",
   "execution_count": 39,
   "metadata": {},
   "outputs": [
    {
     "data": {
      "text/html": [
       "<html><script type=\"math/tex; mode=display\">\\newcommand{\\Bold}[1]{\\mathbf{#1}}\\begin{array}{llcl} \\mathrm{div}\\left(u\\right):& \\mathbb{E}^{3} & \\longrightarrow & \\mathbb{R} \\\\ & \\left(x, y, z\\right) & \\longmapsto & \\frac{\\partial\\,u_{x}}{\\partial x} + \\frac{\\partial\\,u_{y}}{\\partial y} + \\frac{\\partial\\,u_{z}}{\\partial z} \\end{array}</script></html>"
      ],
      "text/plain": [
       "div(u): E^3 --> R\n",
       "   (x, y, z) |--> d(u_x)/dx + d(u_y)/dy + d(u_z)/dz"
      ]
     },
     "execution_count": 39,
     "metadata": {},
     "output_type": "execute_result"
    }
   ],
   "source": [
    "s = div(u)\n",
    "s.display()"
   ]
  },
  {
   "cell_type": "markdown",
   "metadata": {},
   "source": [
    "For $v$ and $w$, we have"
   ]
  },
  {
   "cell_type": "code",
   "execution_count": 40,
   "metadata": {},
   "outputs": [
    {
     "data": {
      "text/html": [
       "<html><script type=\"math/tex; mode=display\">\\newcommand{\\Bold}[1]{\\mathbf{#1}}x y \\cos\\left(x y z\\right)</script></html>"
      ],
      "text/plain": [
       "x*y*cos(x*y*z)"
      ]
     },
     "execution_count": 40,
     "metadata": {},
     "output_type": "execute_result"
    }
   ],
   "source": [
    "div(v).expr()"
   ]
  },
  {
   "cell_type": "code",
   "execution_count": 41,
   "metadata": {},
   "outputs": [
    {
     "data": {
      "text/html": [
       "<html><script type=\"math/tex; mode=display\">\\newcommand{\\Bold}[1]{\\mathbf{#1}}2 \\, z</script></html>"
      ],
      "text/plain": [
       "2*z"
      ]
     },
     "execution_count": 41,
     "metadata": {},
     "output_type": "execute_result"
    }
   ],
   "source": [
    "div(w).expr()"
   ]
  },
  {
   "cell_type": "markdown",
   "metadata": {},
   "source": [
    "An identity valid for any scalar field $F$ and any vector field $u$:"
   ]
  },
  {
   "cell_type": "code",
   "execution_count": 42,
   "metadata": {},
   "outputs": [
    {
     "data": {
      "text/html": [
       "<html><script type=\"math/tex; mode=display\">\\newcommand{\\Bold}[1]{\\mathbf{#1}}\\mathrm{True}</script></html>"
      ],
      "text/plain": [
       "True"
      ]
     },
     "execution_count": 42,
     "metadata": {},
     "output_type": "execute_result"
    }
   ],
   "source": [
    "div(F*u) == F*div(u) + u.dot(grad(F))"
   ]
  },
  {
   "cell_type": "markdown",
   "metadata": {},
   "source": [
    "### Curl\n",
    "\n",
    "The curl of a vector field:"
   ]
  },
  {
   "cell_type": "code",
   "execution_count": 43,
   "metadata": {},
   "outputs": [
    {
     "name": "stdout",
     "output_type": "stream",
     "text": [
      "Vector field curl(u) on the Euclidean space E^3\n"
     ]
    }
   ],
   "source": [
    "s = curl(u)\n",
    "print(s)"
   ]
  },
  {
   "cell_type": "code",
   "execution_count": 44,
   "metadata": {},
   "outputs": [
    {
     "data": {
      "text/html": [
       "<html><script type=\"math/tex; mode=display\">\\newcommand{\\Bold}[1]{\\mathbf{#1}}\\mathrm{curl}\\left(u\\right) = \\left( -\\frac{\\partial\\,u_{y}}{\\partial z} + \\frac{\\partial\\,u_{z}}{\\partial y} \\right) e_{ x } + \\left( \\frac{\\partial\\,u_{x}}{\\partial z} - \\frac{\\partial\\,u_{z}}{\\partial x} \\right) e_{ y } + \\left( -\\frac{\\partial\\,u_{x}}{\\partial y} + \\frac{\\partial\\,u_{y}}{\\partial x} \\right) e_{ z }</script></html>"
      ],
      "text/plain": [
       "curl(u) = (-d(u_y)/dz + d(u_z)/dy) e_x + (d(u_x)/dz - d(u_z)/dx) e_y + (-d(u_x)/dy + d(u_y)/dx) e_z"
      ]
     },
     "execution_count": 44,
     "metadata": {},
     "output_type": "execute_result"
    }
   ],
   "source": [
    "s.display()"
   ]
  },
  {
   "cell_type": "markdown",
   "metadata": {},
   "source": [
    "To use the notation `rot` instead of  `curl`, simply do"
   ]
  },
  {
   "cell_type": "code",
   "execution_count": 45,
   "metadata": {},
   "outputs": [],
   "source": [
    "rot = curl"
   ]
  },
  {
   "cell_type": "markdown",
   "metadata": {},
   "source": [
    "An alternative is"
   ]
  },
  {
   "cell_type": "code",
   "execution_count": 46,
   "metadata": {},
   "outputs": [],
   "source": [
    "from sage.manifolds.operators import curl as rot"
   ]
  },
  {
   "cell_type": "markdown",
   "metadata": {},
   "source": [
    "We have then"
   ]
  },
  {
   "cell_type": "code",
   "execution_count": 47,
   "metadata": {},
   "outputs": [
    {
     "data": {
      "text/html": [
       "<html><script type=\"math/tex; mode=display\">\\newcommand{\\Bold}[1]{\\mathbf{#1}}\\mathrm{curl}\\left(u\\right) = \\left( -\\frac{\\partial\\,u_{y}}{\\partial z} + \\frac{\\partial\\,u_{z}}{\\partial y} \\right) e_{ x } + \\left( \\frac{\\partial\\,u_{x}}{\\partial z} - \\frac{\\partial\\,u_{z}}{\\partial x} \\right) e_{ y } + \\left( -\\frac{\\partial\\,u_{x}}{\\partial y} + \\frac{\\partial\\,u_{y}}{\\partial x} \\right) e_{ z }</script></html>"
      ],
      "text/plain": [
       "curl(u) = (-d(u_y)/dz + d(u_z)/dy) e_x + (d(u_x)/dz - d(u_z)/dx) e_y + (-d(u_x)/dy + d(u_y)/dx) e_z"
      ]
     },
     "execution_count": 47,
     "metadata": {},
     "output_type": "execute_result"
    }
   ],
   "source": [
    "rot(u).display()"
   ]
  },
  {
   "cell_type": "code",
   "execution_count": 48,
   "metadata": {},
   "outputs": [
    {
     "data": {
      "text/html": [
       "<html><script type=\"math/tex; mode=display\">\\newcommand{\\Bold}[1]{\\mathbf{#1}}\\mathrm{True}</script></html>"
      ],
      "text/plain": [
       "True"
      ]
     },
     "execution_count": 48,
     "metadata": {},
     "output_type": "execute_result"
    }
   ],
   "source": [
    "rot(u) == curl(u)"
   ]
  },
  {
   "cell_type": "markdown",
   "metadata": {},
   "source": [
    "For $v$ and $w$, we have:"
   ]
  },
  {
   "cell_type": "code",
   "execution_count": 49,
   "metadata": {},
   "outputs": [
    {
     "data": {
      "text/html": [
       "<html><script type=\"math/tex; mode=display\">\\newcommand{\\Bold}[1]{\\mathbf{#1}}\\mathrm{curl}\\left(v\\right) = x z \\cos\\left(x y z\\right) e_{ x } -y z \\cos\\left(x y z\\right) e_{ y } + 2 e_{ z }</script></html>"
      ],
      "text/plain": [
       "curl(v) = x*z*cos(x*y*z) e_x - y*z*cos(x*y*z) e_y + 2 e_z"
      ]
     },
     "execution_count": 49,
     "metadata": {},
     "output_type": "execute_result"
    }
   ],
   "source": [
    "curl(v).display()"
   ]
  },
  {
   "cell_type": "code",
   "execution_count": 50,
   "metadata": {},
   "outputs": [
    {
     "data": {
      "text/html": [
       "<html><script type=\"math/tex; mode=display\">\\newcommand{\\Bold}[1]{\\mathbf{#1}}\\mathrm{curl}\\left(w\\right) = -y e_{ x } + x e_{ y }</script></html>"
      ],
      "text/plain": [
       "curl(w) = -y e_x + x e_y"
      ]
     },
     "execution_count": 50,
     "metadata": {},
     "output_type": "execute_result"
    }
   ],
   "source": [
    "curl(w).display()"
   ]
  },
  {
   "cell_type": "markdown",
   "metadata": {},
   "source": [
    "The curl of a gradient is always zero:"
   ]
  },
  {
   "cell_type": "code",
   "execution_count": 51,
   "metadata": {},
   "outputs": [
    {
     "data": {
      "text/html": [
       "<html><script type=\"math/tex; mode=display\">\\newcommand{\\Bold}[1]{\\mathbf{#1}}\\mathrm{curl}\\left(\\mathrm{grad}\\left(F\\right)\\right) = 0</script></html>"
      ],
      "text/plain": [
       "curl(grad(F)) = 0"
      ]
     },
     "execution_count": 51,
     "metadata": {},
     "output_type": "execute_result"
    }
   ],
   "source": [
    "curl(grad(F)).display()"
   ]
  },
  {
   "cell_type": "markdown",
   "metadata": {},
   "source": [
    "The divergence of a curl is always zero:"
   ]
  },
  {
   "cell_type": "code",
   "execution_count": 52,
   "metadata": {},
   "outputs": [
    {
     "data": {
      "text/html": [
       "<html><script type=\"math/tex; mode=display\">\\newcommand{\\Bold}[1]{\\mathbf{#1}}\\begin{array}{llcl} \\mathrm{div}\\left(\\mathrm{curl}\\left(u\\right)\\right):& \\mathbb{E}^{3} & \\longrightarrow & \\mathbb{R} \\\\ & \\left(x, y, z\\right) & \\longmapsto & 0 \\end{array}</script></html>"
      ],
      "text/plain": [
       "div(curl(u)): E^3 --> R\n",
       "   (x, y, z) |--> 0"
      ]
     },
     "execution_count": 52,
     "metadata": {},
     "output_type": "execute_result"
    }
   ],
   "source": [
    "div(curl(u)).display()"
   ]
  },
  {
   "cell_type": "markdown",
   "metadata": {},
   "source": [
    "An identity valid for any scalar field $F$ and any vector field $u$:"
   ]
  },
  {
   "cell_type": "code",
   "execution_count": 53,
   "metadata": {},
   "outputs": [
    {
     "data": {
      "text/html": [
       "<html><script type=\"math/tex; mode=display\">\\newcommand{\\Bold}[1]{\\mathbf{#1}}\\mathrm{True}</script></html>"
      ],
      "text/plain": [
       "True"
      ]
     },
     "execution_count": 53,
     "metadata": {},
     "output_type": "execute_result"
    }
   ],
   "source": [
    "curl(F*u) == grad(F).cross(u) + F*curl(u)"
   ]
  },
  {
   "cell_type": "markdown",
   "metadata": {},
   "source": [
    "### Laplacian"
   ]
  },
  {
   "cell_type": "markdown",
   "metadata": {},
   "source": [
    "The Laplacian of a scalar field:"
   ]
  },
  {
   "cell_type": "code",
   "execution_count": 54,
   "metadata": {},
   "outputs": [
    {
     "data": {
      "text/html": [
       "<html><script type=\"math/tex; mode=display\">\\newcommand{\\Bold}[1]{\\mathbf{#1}}\\begin{array}{llcl} \\Delta\\left(F\\right):& \\mathbb{E}^{3} & \\longrightarrow & \\mathbb{R} \\\\ & \\left(x, y, z\\right) & \\longmapsto & \\frac{\\partial^2\\,f}{\\partial x ^ 2} + \\frac{\\partial^2\\,f}{\\partial y ^ 2} + \\frac{\\partial^2\\,f}{\\partial z ^ 2} \\end{array}</script></html>"
      ],
      "text/plain": [
       "Delta(F): E^3 --> R\n",
       "   (x, y, z) |--> d^2(f)/dx^2 + d^2(f)/dy^2 + d^2(f)/dz^2"
      ]
     },
     "execution_count": 54,
     "metadata": {},
     "output_type": "execute_result"
    }
   ],
   "source": [
    "s = laplacian(F)\n",
    "s.display()"
   ]
  },
  {
   "cell_type": "markdown",
   "metadata": {},
   "source": [
    "For a scalar field, the Laplacian is nothing but the divergence of the gradient:"
   ]
  },
  {
   "cell_type": "code",
   "execution_count": 55,
   "metadata": {},
   "outputs": [
    {
     "data": {
      "text/html": [
       "<html><script type=\"math/tex; mode=display\">\\newcommand{\\Bold}[1]{\\mathbf{#1}}\\mathrm{True}</script></html>"
      ],
      "text/plain": [
       "True"
      ]
     },
     "execution_count": 55,
     "metadata": {},
     "output_type": "execute_result"
    }
   ],
   "source": [
    "laplacian(F) == div(grad(F))"
   ]
  },
  {
   "cell_type": "markdown",
   "metadata": {},
   "source": [
    "The Laplacian of a vector field:"
   ]
  },
  {
   "cell_type": "code",
   "execution_count": 56,
   "metadata": {},
   "outputs": [
    {
     "data": {
      "text/html": [
       "<html><script type=\"math/tex; mode=display\">\\newcommand{\\Bold}[1]{\\mathbf{#1}}\\Delta\\left(u\\right) = \\left( \\frac{\\partial^2\\,u_{x}}{\\partial x ^ 2} + \\frac{\\partial^2\\,u_{x}}{\\partial y ^ 2} + \\frac{\\partial^2\\,u_{x}}{\\partial z ^ 2} \\right) e_{ x } + \\left( \\frac{\\partial^2\\,u_{y}}{\\partial x ^ 2} + \\frac{\\partial^2\\,u_{y}}{\\partial y ^ 2} + \\frac{\\partial^2\\,u_{y}}{\\partial z ^ 2} \\right) e_{ y } + \\left( \\frac{\\partial^2\\,u_{z}}{\\partial x ^ 2} + \\frac{\\partial^2\\,u_{z}}{\\partial y ^ 2} + \\frac{\\partial^2\\,u_{z}}{\\partial z ^ 2} \\right) e_{ z }</script></html>"
      ],
      "text/plain": [
       "Delta(u) = (d^2(u_x)/dx^2 + d^2(u_x)/dy^2 + d^2(u_x)/dz^2) e_x + (d^2(u_y)/dx^2 + d^2(u_y)/dy^2 + d^2(u_y)/dz^2) e_y + (d^2(u_z)/dx^2 + d^2(u_z)/dy^2 + d^2(u_z)/dz^2) e_z"
      ]
     },
     "execution_count": 56,
     "metadata": {},
     "output_type": "execute_result"
    }
   ],
   "source": [
    "laplacian(u).display()"
   ]
  },
  {
   "cell_type": "markdown",
   "metadata": {},
   "source": [
    "In the Cartesian frame, the components of the Laplacian of a vector field are nothing but the Laplacians of the components of the vector field, as we can check:"
   ]
  },
  {
   "cell_type": "code",
   "execution_count": 57,
   "metadata": {},
   "outputs": [
    {
     "data": {
      "text/html": [
       "<html><script type=\"math/tex; mode=display\">\\newcommand{\\Bold}[1]{\\mathbf{#1}}\\mathrm{True}</script></html>"
      ],
      "text/plain": [
       "True"
      ]
     },
     "execution_count": 57,
     "metadata": {},
     "output_type": "execute_result"
    }
   ],
   "source": [
    "e = E.cartesian_frame()\n",
    "laplacian(u) == sum(laplacian(u[[i]])*e[i] for i in E.irange())"
   ]
  },
  {
   "cell_type": "markdown",
   "metadata": {},
   "source": [
    "In the above formula, `u[[i]]` return the $i$-th component of $u$ as a scalar field, while `u[i]` would have returned the coordinate expression of this scalar field; besides, `e` is the Cartesian frame:"
   ]
  },
  {
   "cell_type": "code",
   "execution_count": 58,
   "metadata": {},
   "outputs": [
    {
     "data": {
      "text/html": [
       "<html><script type=\"math/tex; mode=display\">\\newcommand{\\Bold}[1]{\\mathbf{#1}}\\left(e_{ x }, e_{ y }, e_{ z }\\right)</script></html>"
      ],
      "text/plain": [
       "(Vector field e_x on the Euclidean space E^3,\n",
       " Vector field e_y on the Euclidean space E^3,\n",
       " Vector field e_z on the Euclidean space E^3)"
      ]
     },
     "execution_count": 58,
     "metadata": {},
     "output_type": "execute_result"
    }
   ],
   "source": [
    "e[:]"
   ]
  },
  {
   "cell_type": "markdown",
   "metadata": {},
   "source": [
    "For $v$ and $w$, we have "
   ]
  },
  {
   "cell_type": "code",
   "execution_count": 59,
   "metadata": {},
   "outputs": [
    {
     "data": {
      "text/html": [
       "<html><script type=\"math/tex; mode=display\">\\newcommand{\\Bold}[1]{\\mathbf{#1}}\\Delta\\left(v\\right) = -{\\left(x^{2} y^{2} + {\\left(x^{2} + y^{2}\\right)} z^{2}\\right)} \\sin\\left(x y z\\right) e_{ z }</script></html>"
      ],
      "text/plain": [
       "Delta(v) = -(x^2*y^2 + (x^2 + y^2)*z^2)*sin(x*y*z) e_z"
      ]
     },
     "execution_count": 59,
     "metadata": {},
     "output_type": "execute_result"
    }
   ],
   "source": [
    "laplacian(v).display()"
   ]
  },
  {
   "cell_type": "code",
   "execution_count": 60,
   "metadata": {},
   "outputs": [
    {
     "data": {
      "text/html": [
       "<html><script type=\"math/tex; mode=display\">\\newcommand{\\Bold}[1]{\\mathbf{#1}}\\Delta\\left(w\\right) = 0</script></html>"
      ],
      "text/plain": [
       "Delta(w) = 0"
      ]
     },
     "execution_count": 60,
     "metadata": {},
     "output_type": "execute_result"
    }
   ],
   "source": [
    "laplacian(w).display()"
   ]
  },
  {
   "cell_type": "markdown",
   "metadata": {},
   "source": [
    "We have:"
   ]
  },
  {
   "cell_type": "code",
   "execution_count": 61,
   "metadata": {},
   "outputs": [
    {
     "data": {
      "text/html": [
       "<html><script type=\"math/tex; mode=display\">\\newcommand{\\Bold}[1]{\\mathbf{#1}}\\mathrm{curl}\\left(\\mathrm{curl}\\left(u\\right)\\right) = \\left( -\\frac{\\partial^2\\,u_{x}}{\\partial y ^ 2} - \\frac{\\partial^2\\,u_{x}}{\\partial z ^ 2} + \\frac{\\partial^2\\,u_{y}}{\\partial x\\partial y} + \\frac{\\partial^2\\,u_{z}}{\\partial x\\partial z} \\right) e_{ x } + \\left( \\frac{\\partial^2\\,u_{x}}{\\partial x\\partial y} - \\frac{\\partial^2\\,u_{y}}{\\partial x ^ 2} - \\frac{\\partial^2\\,u_{y}}{\\partial z ^ 2} + \\frac{\\partial^2\\,u_{z}}{\\partial y\\partial z} \\right) e_{ y } + \\left( \\frac{\\partial^2\\,u_{x}}{\\partial x\\partial z} + \\frac{\\partial^2\\,u_{y}}{\\partial y\\partial z} - \\frac{\\partial^2\\,u_{z}}{\\partial x ^ 2} - \\frac{\\partial^2\\,u_{z}}{\\partial y ^ 2} \\right) e_{ z }</script></html>"
      ],
      "text/plain": [
       "curl(curl(u)) = (-d^2(u_x)/dy^2 - d^2(u_x)/dz^2 + d^2(u_y)/dxdy + d^2(u_z)/dxdz) e_x + (d^2(u_x)/dxdy - d^2(u_y)/dx^2 - d^2(u_y)/dz^2 + d^2(u_z)/dydz) e_y + (d^2(u_x)/dxdz + d^2(u_y)/dydz - d^2(u_z)/dx^2 - d^2(u_z)/dy^2) e_z"
      ]
     },
     "execution_count": 61,
     "metadata": {},
     "output_type": "execute_result"
    }
   ],
   "source": [
    "curl(curl(u)).display()"
   ]
  },
  {
   "cell_type": "code",
   "execution_count": 62,
   "metadata": {},
   "outputs": [
    {
     "data": {
      "text/html": [
       "<html><script type=\"math/tex; mode=display\">\\newcommand{\\Bold}[1]{\\mathbf{#1}}\\mathrm{grad}\\left(\\mathrm{div}\\left(u\\right)\\right) = \\left( \\frac{\\partial^2\\,u_{x}}{\\partial x ^ 2} + \\frac{\\partial^2\\,u_{y}}{\\partial x\\partial y} + \\frac{\\partial^2\\,u_{z}}{\\partial x\\partial z} \\right) e_{ x } + \\left( \\frac{\\partial^2\\,u_{x}}{\\partial x\\partial y} + \\frac{\\partial^2\\,u_{y}}{\\partial y ^ 2} + \\frac{\\partial^2\\,u_{z}}{\\partial y\\partial z} \\right) e_{ y } + \\left( \\frac{\\partial^2\\,u_{x}}{\\partial x\\partial z} + \\frac{\\partial^2\\,u_{y}}{\\partial y\\partial z} + \\frac{\\partial^2\\,u_{z}}{\\partial z ^ 2} \\right) e_{ z }</script></html>"
      ],
      "text/plain": [
       "grad(div(u)) = (d^2(u_x)/dx^2 + d^2(u_y)/dxdy + d^2(u_z)/dxdz) e_x + (d^2(u_x)/dxdy + d^2(u_y)/dy^2 + d^2(u_z)/dydz) e_y + (d^2(u_x)/dxdz + d^2(u_y)/dydz + d^2(u_z)/dz^2) e_z"
      ]
     },
     "execution_count": 62,
     "metadata": {},
     "output_type": "execute_result"
    }
   ],
   "source": [
    "grad(div(u)).display()"
   ]
  },
  {
   "cell_type": "markdown",
   "metadata": {},
   "source": [
    "and we may check a famous identity:"
   ]
  },
  {
   "cell_type": "code",
   "execution_count": 63,
   "metadata": {},
   "outputs": [
    {
     "data": {
      "text/html": [
       "<html><script type=\"math/tex; mode=display\">\\newcommand{\\Bold}[1]{\\mathbf{#1}}\\mathrm{True}</script></html>"
      ],
      "text/plain": [
       "True"
      ]
     },
     "execution_count": 63,
     "metadata": {},
     "output_type": "execute_result"
    }
   ],
   "source": [
    "curl(curl(u)) == grad(div(u)) - laplacian(u)"
   ]
  },
  {
   "cell_type": "markdown",
   "metadata": {},
   "source": [
    "## Customizations\n",
    "\n",
    "### Customizing the symbols of the orthonormal frame vectors\n",
    "\n",
    "By default, the vectors of the orthonormal frame associated with Cartesian coordinates are denoted $(e_x,e_y,e_z)$:"
   ]
  },
  {
   "cell_type": "code",
   "execution_count": 64,
   "metadata": {},
   "outputs": [
    {
     "data": {
      "text/html": [
       "<html><script type=\"math/tex; mode=display\">\\newcommand{\\Bold}[1]{\\mathbf{#1}}\\left(\\mathbb{E}^{3}, \\left(e_{ x },e_{ y },e_{ z }\\right)\\right)</script></html>"
      ],
      "text/plain": [
       "Coordinate frame (E^3, (e_x,e_y,e_z))"
      ]
     },
     "execution_count": 64,
     "metadata": {},
     "output_type": "execute_result"
    }
   ],
   "source": [
    "frame = E.cartesian_frame()\n",
    "frame"
   ]
  },
  {
   "cell_type": "markdown",
   "metadata": {},
   "source": [
    "But this can be changed, thanks to the method `set_name`:"
   ]
  },
  {
   "cell_type": "code",
   "execution_count": 65,
   "metadata": {},
   "outputs": [
    {
     "data": {
      "text/html": [
       "<html><script type=\"math/tex; mode=display\">\\newcommand{\\Bold}[1]{\\mathbf{#1}}\\left(\\mathbb{E}^{3}, \\left(a_{x},a_{y},a_{z}\\right)\\right)</script></html>"
      ],
      "text/plain": [
       "Coordinate frame (E^3, (a_x,a_y,a_z))"
      ]
     },
     "execution_count": 65,
     "metadata": {},
     "output_type": "execute_result"
    }
   ],
   "source": [
    "frame.set_name('a', indices=('x', 'y', 'z'))\n",
    "frame"
   ]
  },
  {
   "cell_type": "code",
   "execution_count": 66,
   "metadata": {},
   "outputs": [
    {
     "data": {
      "text/html": [
       "<html><script type=\"math/tex; mode=display\">\\newcommand{\\Bold}[1]{\\mathbf{#1}}v = -y a_{x} + x a_{y} + \\sin\\left(x y z\\right) a_{z}</script></html>"
      ],
      "text/plain": [
       "v = -y a_x + x a_y + sin(x*y*z) a_z"
      ]
     },
     "execution_count": 66,
     "metadata": {},
     "output_type": "execute_result"
    }
   ],
   "source": [
    "v.display()"
   ]
  },
  {
   "cell_type": "code",
   "execution_count": 67,
   "metadata": {},
   "outputs": [
    {
     "data": {
      "text/html": [
       "<html><script type=\"math/tex; mode=display\">\\newcommand{\\Bold}[1]{\\mathbf{#1}}\\left(\\mathbb{E}^{3}, \\left(\\mathbf{\\hat{x}},\\mathbf{\\hat{y}},\\mathbf{\\hat{z}}\\right)\\right)</script></html>"
      ],
      "text/plain": [
       "Coordinate frame (E^3, (hx,hy,hz))"
      ]
     },
     "execution_count": 67,
     "metadata": {},
     "output_type": "execute_result"
    }
   ],
   "source": [
    "frame.set_name(('hx', 'hy', 'hz'), \n",
    "               latex_symbol=(r'\\mathbf{\\hat{x}}', r'\\mathbf{\\hat{y}}', \n",
    "                             r'\\mathbf{\\hat{z}}'))\n",
    "frame"
   ]
  },
  {
   "cell_type": "code",
   "execution_count": 68,
   "metadata": {},
   "outputs": [
    {
     "data": {
      "text/html": [
       "<html><script type=\"math/tex; mode=display\">\\newcommand{\\Bold}[1]{\\mathbf{#1}}v = -y \\mathbf{\\hat{x}} + x \\mathbf{\\hat{y}} + \\sin\\left(x y z\\right) \\mathbf{\\hat{z}}</script></html>"
      ],
      "text/plain": [
       "v = -y hx + x hy + sin(x*y*z) hz"
      ]
     },
     "execution_count": 68,
     "metadata": {},
     "output_type": "execute_result"
    }
   ],
   "source": [
    "v.display()"
   ]
  },
  {
   "cell_type": "markdown",
   "metadata": {},
   "source": [
    "### Customizing the coordinate symbols\n",
    "\n",
    "The coordinates symbols are defined within the angle brackets `<...>` at the construction of the Euclidean space. Above we did "
   ]
  },
  {
   "cell_type": "code",
   "execution_count": 69,
   "metadata": {},
   "outputs": [],
   "source": [
    "E.<x,y,z> = EuclideanSpace(3)"
   ]
  },
  {
   "cell_type": "markdown",
   "metadata": {},
   "source": [
    "which resulted in the coordinate symbols $(x,y,z)$ and in the corresponding Python variables `x`, `y` and `z` (SageMath symbolic expressions). To use other symbols, for instance $(X,Y,Z)$, it suffices to create `E` as"
   ]
  },
  {
   "cell_type": "code",
   "execution_count": 70,
   "metadata": {},
   "outputs": [],
   "source": [
    "E.<X,Y,Z> = EuclideanSpace(3)"
   ]
  },
  {
   "cell_type": "markdown",
   "metadata": {},
   "source": [
    "We have then:"
   ]
  },
  {
   "cell_type": "code",
   "execution_count": 71,
   "metadata": {},
   "outputs": [
    {
     "data": {
      "text/html": [
       "<html><script type=\"math/tex; mode=display\">\\newcommand{\\Bold}[1]{\\mathbf{#1}}\\left[\\left(\\mathbb{E}^{3},(X, Y, Z)\\right)\\right]</script></html>"
      ],
      "text/plain": [
       "[Chart (E^3, (X, Y, Z))]"
      ]
     },
     "execution_count": 71,
     "metadata": {},
     "output_type": "execute_result"
    }
   ],
   "source": [
    "E.atlas()"
   ]
  },
  {
   "cell_type": "code",
   "execution_count": 72,
   "metadata": {},
   "outputs": [
    {
     "data": {
      "text/html": [
       "<html><script type=\"math/tex; mode=display\">\\newcommand{\\Bold}[1]{\\mathbf{#1}}\\left(\\mathbb{E}^{3}, \\left(e_{ X },e_{ Y },e_{ Z }\\right)\\right)</script></html>"
      ],
      "text/plain": [
       "Coordinate frame (E^3, (e_X,e_Y,e_Z))"
      ]
     },
     "execution_count": 72,
     "metadata": {},
     "output_type": "execute_result"
    }
   ],
   "source": [
    "E.cartesian_frame()"
   ]
  },
  {
   "cell_type": "code",
   "execution_count": 73,
   "metadata": {},
   "outputs": [
    {
     "data": {
      "text/html": [
       "<html><script type=\"math/tex; mode=display\">\\newcommand{\\Bold}[1]{\\mathbf{#1}}v = -Y e_{ X } + X e_{ Y } + \\sin\\left(X Y Z\\right) e_{ Z }</script></html>"
      ],
      "text/plain": [
       "v = -Y e_X + X e_Y + sin(X*Y*Z) e_Z"
      ]
     },
     "execution_count": 73,
     "metadata": {},
     "output_type": "execute_result"
    }
   ],
   "source": [
    "v = E.vector_field(-Y, X, sin(X*Y*Z), name='v')\n",
    "v.display()"
   ]
  },
  {
   "cell_type": "markdown",
   "metadata": {},
   "source": [
    "By default the LaTeX symbols of the coordinate coincide with the letters given within the angle brackets. But this can be adjusted through the optional argument `symbols` of the function `EuclideanSpace`, which has to be a string, usually prefixed by r (for raw string, in order to allow for the backslash character of LaTeX expressions). This string contains the coordinate fields separated by a blank space; each field contains the coordinate’s text symbol and possibly the coordinate’s LaTeX symbol (when the latter is different from the text symbol), both symbols being separated by a colon (`:`):"
   ]
  },
  {
   "cell_type": "code",
   "execution_count": 74,
   "metadata": {},
   "outputs": [
    {
     "data": {
      "text/html": [
       "<html><script type=\"math/tex; mode=display\">\\newcommand{\\Bold}[1]{\\mathbf{#1}}\\left[\\left(\\mathbb{E}^{3},({\\xi}, {\\eta}, {\\zeta})\\right)\\right]</script></html>"
      ],
      "text/plain": [
       "[Chart (E^3, (xi, et, ze))]"
      ]
     },
     "execution_count": 74,
     "metadata": {},
     "output_type": "execute_result"
    }
   ],
   "source": [
    "E.<xi,et,ze> = EuclideanSpace(3, symbols=r\"xi:\\xi et:\\eta ze:\\zeta\")\n",
    "E.atlas()"
   ]
  },
  {
   "cell_type": "code",
   "execution_count": 75,
   "metadata": {},
   "outputs": [
    {
     "data": {
      "text/html": [
       "<html><script type=\"math/tex; mode=display\">\\newcommand{\\Bold}[1]{\\mathbf{#1}}v = -{\\eta} e_{ {\\xi} } + {\\xi} e_{ {\\eta} } + \\sin\\left({\\eta} {\\xi} {\\zeta}\\right) e_{ {\\zeta} }</script></html>"
      ],
      "text/plain": [
       "v = -et e_xi + xi e_et + sin(et*xi*ze) e_ze"
      ]
     },
     "execution_count": 75,
     "metadata": {},
     "output_type": "execute_result"
    }
   ],
   "source": [
    "v = E.vector_field(-et, xi, sin(xi*et*ze), name='v')\n",
    "v.display()"
   ]
  }
 ],
 "metadata": {
  "kernelspec": {
   "display_name": "SageMath 8.2.beta6",
   "language": "",
   "name": "sagemath"
  },
  "language_info": {
   "codemirror_mode": {
    "name": "ipython",
    "version": 2
   },
   "file_extension": ".py",
   "mimetype": "text/x-python",
   "name": "python",
   "nbconvert_exporter": "python",
   "pygments_lexer": "ipython2",
   "version": "2.7.14"
  }
 },
 "nbformat": 4,
 "nbformat_minor": 2
}
